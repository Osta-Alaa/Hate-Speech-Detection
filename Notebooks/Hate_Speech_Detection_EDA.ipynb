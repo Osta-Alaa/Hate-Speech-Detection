{
  "nbformat": 4,
  "nbformat_minor": 0,
  "metadata": {
    "colab": {
      "name": "Hate_Speech_Detection_EDA.ipynb",
      "provenance": [],
      "collapsed_sections": []
    },
    "kernelspec": {
      "name": "python3",
      "display_name": "Python 3"
    },
    "language_info": {
      "name": "python"
    },
    "widgets": {
      "application/vnd.jupyter.widget-state+json": {
        "c86c0fff761044d39e66dfbc3ac7ed7a": {
          "model_module": "@jupyter-widgets/controls",
          "model_name": "HBoxModel",
          "model_module_version": "1.5.0",
          "state": {
            "_view_name": "HBoxView",
            "_dom_classes": [],
            "_model_name": "HBoxModel",
            "_view_module": "@jupyter-widgets/controls",
            "_model_module_version": "1.5.0",
            "_view_count": null,
            "_view_module_version": "1.5.0",
            "box_style": "",
            "layout": "IPY_MODEL_3abd4ca5184f47eb8d48d30d1deb494b",
            "_model_module": "@jupyter-widgets/controls",
            "children": [
              "IPY_MODEL_323273afcde64cc39d225824cb2a1184",
              "IPY_MODEL_d46fc4accbab4dd7b7e7174800b363e9",
              "IPY_MODEL_225404538a90404f9c837c012b8245cf"
            ]
          }
        },
        "3abd4ca5184f47eb8d48d30d1deb494b": {
          "model_module": "@jupyter-widgets/base",
          "model_name": "LayoutModel",
          "model_module_version": "1.2.0",
          "state": {
            "_view_name": "LayoutView",
            "grid_template_rows": null,
            "right": null,
            "justify_content": null,
            "_view_module": "@jupyter-widgets/base",
            "overflow": null,
            "_model_module_version": "1.2.0",
            "_view_count": null,
            "flex_flow": null,
            "width": null,
            "min_width": null,
            "border": null,
            "align_items": null,
            "bottom": null,
            "_model_module": "@jupyter-widgets/base",
            "top": null,
            "grid_column": null,
            "overflow_y": null,
            "overflow_x": null,
            "grid_auto_flow": null,
            "grid_area": null,
            "grid_template_columns": null,
            "flex": null,
            "_model_name": "LayoutModel",
            "justify_items": null,
            "grid_row": null,
            "max_height": null,
            "align_content": null,
            "visibility": null,
            "align_self": null,
            "height": null,
            "min_height": null,
            "padding": null,
            "grid_auto_rows": null,
            "grid_gap": null,
            "max_width": null,
            "order": null,
            "_view_module_version": "1.2.0",
            "grid_template_areas": null,
            "object_position": null,
            "object_fit": null,
            "grid_auto_columns": null,
            "margin": null,
            "display": null,
            "left": null
          }
        },
        "323273afcde64cc39d225824cb2a1184": {
          "model_module": "@jupyter-widgets/controls",
          "model_name": "HTMLModel",
          "model_module_version": "1.5.0",
          "state": {
            "_view_name": "HTMLView",
            "style": "IPY_MODEL_f93133dd72824b5e9c34fb1dcf269280",
            "_dom_classes": [],
            "description": "",
            "_model_name": "HTMLModel",
            "placeholder": "​",
            "_view_module": "@jupyter-widgets/controls",
            "_model_module_version": "1.5.0",
            "value": "Downloading: 100%",
            "_view_count": null,
            "_view_module_version": "1.5.0",
            "description_tooltip": null,
            "_model_module": "@jupyter-widgets/controls",
            "layout": "IPY_MODEL_40320d143b0944eaa4259a06af69c69f"
          }
        },
        "d46fc4accbab4dd7b7e7174800b363e9": {
          "model_module": "@jupyter-widgets/controls",
          "model_name": "FloatProgressModel",
          "model_module_version": "1.5.0",
          "state": {
            "_view_name": "ProgressView",
            "style": "IPY_MODEL_fbb193ffd5c04f75b2cbd9ee9ef74b60",
            "_dom_classes": [],
            "description": "",
            "_model_name": "FloatProgressModel",
            "bar_style": "success",
            "max": 231508,
            "_view_module": "@jupyter-widgets/controls",
            "_model_module_version": "1.5.0",
            "value": 231508,
            "_view_count": null,
            "_view_module_version": "1.5.0",
            "orientation": "horizontal",
            "min": 0,
            "description_tooltip": null,
            "_model_module": "@jupyter-widgets/controls",
            "layout": "IPY_MODEL_09e87f5e34e0455f9de95e3bdd07b23c"
          }
        },
        "225404538a90404f9c837c012b8245cf": {
          "model_module": "@jupyter-widgets/controls",
          "model_name": "HTMLModel",
          "model_module_version": "1.5.0",
          "state": {
            "_view_name": "HTMLView",
            "style": "IPY_MODEL_34363e8172564950b734187d02fc7df0",
            "_dom_classes": [],
            "description": "",
            "_model_name": "HTMLModel",
            "placeholder": "​",
            "_view_module": "@jupyter-widgets/controls",
            "_model_module_version": "1.5.0",
            "value": " 232k/232k [00:00&lt;00:00, 678kB/s]",
            "_view_count": null,
            "_view_module_version": "1.5.0",
            "description_tooltip": null,
            "_model_module": "@jupyter-widgets/controls",
            "layout": "IPY_MODEL_ffb69dc87c1a4f81ae65ebe03fae20e0"
          }
        },
        "f93133dd72824b5e9c34fb1dcf269280": {
          "model_module": "@jupyter-widgets/controls",
          "model_name": "DescriptionStyleModel",
          "model_module_version": "1.5.0",
          "state": {
            "_view_name": "StyleView",
            "_model_name": "DescriptionStyleModel",
            "description_width": "",
            "_view_module": "@jupyter-widgets/base",
            "_model_module_version": "1.5.0",
            "_view_count": null,
            "_view_module_version": "1.2.0",
            "_model_module": "@jupyter-widgets/controls"
          }
        },
        "40320d143b0944eaa4259a06af69c69f": {
          "model_module": "@jupyter-widgets/base",
          "model_name": "LayoutModel",
          "model_module_version": "1.2.0",
          "state": {
            "_view_name": "LayoutView",
            "grid_template_rows": null,
            "right": null,
            "justify_content": null,
            "_view_module": "@jupyter-widgets/base",
            "overflow": null,
            "_model_module_version": "1.2.0",
            "_view_count": null,
            "flex_flow": null,
            "width": null,
            "min_width": null,
            "border": null,
            "align_items": null,
            "bottom": null,
            "_model_module": "@jupyter-widgets/base",
            "top": null,
            "grid_column": null,
            "overflow_y": null,
            "overflow_x": null,
            "grid_auto_flow": null,
            "grid_area": null,
            "grid_template_columns": null,
            "flex": null,
            "_model_name": "LayoutModel",
            "justify_items": null,
            "grid_row": null,
            "max_height": null,
            "align_content": null,
            "visibility": null,
            "align_self": null,
            "height": null,
            "min_height": null,
            "padding": null,
            "grid_auto_rows": null,
            "grid_gap": null,
            "max_width": null,
            "order": null,
            "_view_module_version": "1.2.0",
            "grid_template_areas": null,
            "object_position": null,
            "object_fit": null,
            "grid_auto_columns": null,
            "margin": null,
            "display": null,
            "left": null
          }
        },
        "fbb193ffd5c04f75b2cbd9ee9ef74b60": {
          "model_module": "@jupyter-widgets/controls",
          "model_name": "ProgressStyleModel",
          "model_module_version": "1.5.0",
          "state": {
            "_view_name": "StyleView",
            "_model_name": "ProgressStyleModel",
            "description_width": "",
            "_view_module": "@jupyter-widgets/base",
            "_model_module_version": "1.5.0",
            "_view_count": null,
            "_view_module_version": "1.2.0",
            "bar_color": null,
            "_model_module": "@jupyter-widgets/controls"
          }
        },
        "09e87f5e34e0455f9de95e3bdd07b23c": {
          "model_module": "@jupyter-widgets/base",
          "model_name": "LayoutModel",
          "model_module_version": "1.2.0",
          "state": {
            "_view_name": "LayoutView",
            "grid_template_rows": null,
            "right": null,
            "justify_content": null,
            "_view_module": "@jupyter-widgets/base",
            "overflow": null,
            "_model_module_version": "1.2.0",
            "_view_count": null,
            "flex_flow": null,
            "width": null,
            "min_width": null,
            "border": null,
            "align_items": null,
            "bottom": null,
            "_model_module": "@jupyter-widgets/base",
            "top": null,
            "grid_column": null,
            "overflow_y": null,
            "overflow_x": null,
            "grid_auto_flow": null,
            "grid_area": null,
            "grid_template_columns": null,
            "flex": null,
            "_model_name": "LayoutModel",
            "justify_items": null,
            "grid_row": null,
            "max_height": null,
            "align_content": null,
            "visibility": null,
            "align_self": null,
            "height": null,
            "min_height": null,
            "padding": null,
            "grid_auto_rows": null,
            "grid_gap": null,
            "max_width": null,
            "order": null,
            "_view_module_version": "1.2.0",
            "grid_template_areas": null,
            "object_position": null,
            "object_fit": null,
            "grid_auto_columns": null,
            "margin": null,
            "display": null,
            "left": null
          }
        },
        "34363e8172564950b734187d02fc7df0": {
          "model_module": "@jupyter-widgets/controls",
          "model_name": "DescriptionStyleModel",
          "model_module_version": "1.5.0",
          "state": {
            "_view_name": "StyleView",
            "_model_name": "DescriptionStyleModel",
            "description_width": "",
            "_view_module": "@jupyter-widgets/base",
            "_model_module_version": "1.5.0",
            "_view_count": null,
            "_view_module_version": "1.2.0",
            "_model_module": "@jupyter-widgets/controls"
          }
        },
        "ffb69dc87c1a4f81ae65ebe03fae20e0": {
          "model_module": "@jupyter-widgets/base",
          "model_name": "LayoutModel",
          "model_module_version": "1.2.0",
          "state": {
            "_view_name": "LayoutView",
            "grid_template_rows": null,
            "right": null,
            "justify_content": null,
            "_view_module": "@jupyter-widgets/base",
            "overflow": null,
            "_model_module_version": "1.2.0",
            "_view_count": null,
            "flex_flow": null,
            "width": null,
            "min_width": null,
            "border": null,
            "align_items": null,
            "bottom": null,
            "_model_module": "@jupyter-widgets/base",
            "top": null,
            "grid_column": null,
            "overflow_y": null,
            "overflow_x": null,
            "grid_auto_flow": null,
            "grid_area": null,
            "grid_template_columns": null,
            "flex": null,
            "_model_name": "LayoutModel",
            "justify_items": null,
            "grid_row": null,
            "max_height": null,
            "align_content": null,
            "visibility": null,
            "align_self": null,
            "height": null,
            "min_height": null,
            "padding": null,
            "grid_auto_rows": null,
            "grid_gap": null,
            "max_width": null,
            "order": null,
            "_view_module_version": "1.2.0",
            "grid_template_areas": null,
            "object_position": null,
            "object_fit": null,
            "grid_auto_columns": null,
            "margin": null,
            "display": null,
            "left": null
          }
        },
        "88fd0caa2762452bae301398a293e61e": {
          "model_module": "@jupyter-widgets/controls",
          "model_name": "HBoxModel",
          "model_module_version": "1.5.0",
          "state": {
            "_view_name": "HBoxView",
            "_dom_classes": [],
            "_model_name": "HBoxModel",
            "_view_module": "@jupyter-widgets/controls",
            "_model_module_version": "1.5.0",
            "_view_count": null,
            "_view_module_version": "1.5.0",
            "box_style": "",
            "layout": "IPY_MODEL_cdd506078e6f40f2bc2db9525bf2c4e4",
            "_model_module": "@jupyter-widgets/controls",
            "children": [
              "IPY_MODEL_a96af65baa5b4b43837895c8956c9e03",
              "IPY_MODEL_5b1fee1d91194eb4bb6f6f9d1a20e0eb",
              "IPY_MODEL_7020ca3d8931465eabe756e7b6f3d976"
            ]
          }
        },
        "cdd506078e6f40f2bc2db9525bf2c4e4": {
          "model_module": "@jupyter-widgets/base",
          "model_name": "LayoutModel",
          "model_module_version": "1.2.0",
          "state": {
            "_view_name": "LayoutView",
            "grid_template_rows": null,
            "right": null,
            "justify_content": null,
            "_view_module": "@jupyter-widgets/base",
            "overflow": null,
            "_model_module_version": "1.2.0",
            "_view_count": null,
            "flex_flow": null,
            "width": null,
            "min_width": null,
            "border": null,
            "align_items": null,
            "bottom": null,
            "_model_module": "@jupyter-widgets/base",
            "top": null,
            "grid_column": null,
            "overflow_y": null,
            "overflow_x": null,
            "grid_auto_flow": null,
            "grid_area": null,
            "grid_template_columns": null,
            "flex": null,
            "_model_name": "LayoutModel",
            "justify_items": null,
            "grid_row": null,
            "max_height": null,
            "align_content": null,
            "visibility": null,
            "align_self": null,
            "height": null,
            "min_height": null,
            "padding": null,
            "grid_auto_rows": null,
            "grid_gap": null,
            "max_width": null,
            "order": null,
            "_view_module_version": "1.2.0",
            "grid_template_areas": null,
            "object_position": null,
            "object_fit": null,
            "grid_auto_columns": null,
            "margin": null,
            "display": null,
            "left": null
          }
        },
        "a96af65baa5b4b43837895c8956c9e03": {
          "model_module": "@jupyter-widgets/controls",
          "model_name": "HTMLModel",
          "model_module_version": "1.5.0",
          "state": {
            "_view_name": "HTMLView",
            "style": "IPY_MODEL_54100a7740f241549652f001e3a897ea",
            "_dom_classes": [],
            "description": "",
            "_model_name": "HTMLModel",
            "placeholder": "​",
            "_view_module": "@jupyter-widgets/controls",
            "_model_module_version": "1.5.0",
            "value": "Downloading: 100%",
            "_view_count": null,
            "_view_module_version": "1.5.0",
            "description_tooltip": null,
            "_model_module": "@jupyter-widgets/controls",
            "layout": "IPY_MODEL_8bc5ecacc2e4490fa5501ee0f74362f1"
          }
        },
        "5b1fee1d91194eb4bb6f6f9d1a20e0eb": {
          "model_module": "@jupyter-widgets/controls",
          "model_name": "FloatProgressModel",
          "model_module_version": "1.5.0",
          "state": {
            "_view_name": "ProgressView",
            "style": "IPY_MODEL_dfeae45a4e2f4178b47cd78ea11baad4",
            "_dom_classes": [],
            "description": "",
            "_model_name": "FloatProgressModel",
            "bar_style": "success",
            "max": 466062,
            "_view_module": "@jupyter-widgets/controls",
            "_model_module_version": "1.5.0",
            "value": 466062,
            "_view_count": null,
            "_view_module_version": "1.5.0",
            "orientation": "horizontal",
            "min": 0,
            "description_tooltip": null,
            "_model_module": "@jupyter-widgets/controls",
            "layout": "IPY_MODEL_71b92d2e0d5b4e3792cbc013ed405e42"
          }
        },
        "7020ca3d8931465eabe756e7b6f3d976": {
          "model_module": "@jupyter-widgets/controls",
          "model_name": "HTMLModel",
          "model_module_version": "1.5.0",
          "state": {
            "_view_name": "HTMLView",
            "style": "IPY_MODEL_f461d8e846f0488c8e87acaf7c5eada1",
            "_dom_classes": [],
            "description": "",
            "_model_name": "HTMLModel",
            "placeholder": "​",
            "_view_module": "@jupyter-widgets/controls",
            "_model_module_version": "1.5.0",
            "value": " 466k/466k [00:00&lt;00:00, 863kB/s]",
            "_view_count": null,
            "_view_module_version": "1.5.0",
            "description_tooltip": null,
            "_model_module": "@jupyter-widgets/controls",
            "layout": "IPY_MODEL_69ca227820964ecd963b14511ca55e9f"
          }
        },
        "54100a7740f241549652f001e3a897ea": {
          "model_module": "@jupyter-widgets/controls",
          "model_name": "DescriptionStyleModel",
          "model_module_version": "1.5.0",
          "state": {
            "_view_name": "StyleView",
            "_model_name": "DescriptionStyleModel",
            "description_width": "",
            "_view_module": "@jupyter-widgets/base",
            "_model_module_version": "1.5.0",
            "_view_count": null,
            "_view_module_version": "1.2.0",
            "_model_module": "@jupyter-widgets/controls"
          }
        },
        "8bc5ecacc2e4490fa5501ee0f74362f1": {
          "model_module": "@jupyter-widgets/base",
          "model_name": "LayoutModel",
          "model_module_version": "1.2.0",
          "state": {
            "_view_name": "LayoutView",
            "grid_template_rows": null,
            "right": null,
            "justify_content": null,
            "_view_module": "@jupyter-widgets/base",
            "overflow": null,
            "_model_module_version": "1.2.0",
            "_view_count": null,
            "flex_flow": null,
            "width": null,
            "min_width": null,
            "border": null,
            "align_items": null,
            "bottom": null,
            "_model_module": "@jupyter-widgets/base",
            "top": null,
            "grid_column": null,
            "overflow_y": null,
            "overflow_x": null,
            "grid_auto_flow": null,
            "grid_area": null,
            "grid_template_columns": null,
            "flex": null,
            "_model_name": "LayoutModel",
            "justify_items": null,
            "grid_row": null,
            "max_height": null,
            "align_content": null,
            "visibility": null,
            "align_self": null,
            "height": null,
            "min_height": null,
            "padding": null,
            "grid_auto_rows": null,
            "grid_gap": null,
            "max_width": null,
            "order": null,
            "_view_module_version": "1.2.0",
            "grid_template_areas": null,
            "object_position": null,
            "object_fit": null,
            "grid_auto_columns": null,
            "margin": null,
            "display": null,
            "left": null
          }
        },
        "dfeae45a4e2f4178b47cd78ea11baad4": {
          "model_module": "@jupyter-widgets/controls",
          "model_name": "ProgressStyleModel",
          "model_module_version": "1.5.0",
          "state": {
            "_view_name": "StyleView",
            "_model_name": "ProgressStyleModel",
            "description_width": "",
            "_view_module": "@jupyter-widgets/base",
            "_model_module_version": "1.5.0",
            "_view_count": null,
            "_view_module_version": "1.2.0",
            "bar_color": null,
            "_model_module": "@jupyter-widgets/controls"
          }
        },
        "71b92d2e0d5b4e3792cbc013ed405e42": {
          "model_module": "@jupyter-widgets/base",
          "model_name": "LayoutModel",
          "model_module_version": "1.2.0",
          "state": {
            "_view_name": "LayoutView",
            "grid_template_rows": null,
            "right": null,
            "justify_content": null,
            "_view_module": "@jupyter-widgets/base",
            "overflow": null,
            "_model_module_version": "1.2.0",
            "_view_count": null,
            "flex_flow": null,
            "width": null,
            "min_width": null,
            "border": null,
            "align_items": null,
            "bottom": null,
            "_model_module": "@jupyter-widgets/base",
            "top": null,
            "grid_column": null,
            "overflow_y": null,
            "overflow_x": null,
            "grid_auto_flow": null,
            "grid_area": null,
            "grid_template_columns": null,
            "flex": null,
            "_model_name": "LayoutModel",
            "justify_items": null,
            "grid_row": null,
            "max_height": null,
            "align_content": null,
            "visibility": null,
            "align_self": null,
            "height": null,
            "min_height": null,
            "padding": null,
            "grid_auto_rows": null,
            "grid_gap": null,
            "max_width": null,
            "order": null,
            "_view_module_version": "1.2.0",
            "grid_template_areas": null,
            "object_position": null,
            "object_fit": null,
            "grid_auto_columns": null,
            "margin": null,
            "display": null,
            "left": null
          }
        },
        "f461d8e846f0488c8e87acaf7c5eada1": {
          "model_module": "@jupyter-widgets/controls",
          "model_name": "DescriptionStyleModel",
          "model_module_version": "1.5.0",
          "state": {
            "_view_name": "StyleView",
            "_model_name": "DescriptionStyleModel",
            "description_width": "",
            "_view_module": "@jupyter-widgets/base",
            "_model_module_version": "1.5.0",
            "_view_count": null,
            "_view_module_version": "1.2.0",
            "_model_module": "@jupyter-widgets/controls"
          }
        },
        "69ca227820964ecd963b14511ca55e9f": {
          "model_module": "@jupyter-widgets/base",
          "model_name": "LayoutModel",
          "model_module_version": "1.2.0",
          "state": {
            "_view_name": "LayoutView",
            "grid_template_rows": null,
            "right": null,
            "justify_content": null,
            "_view_module": "@jupyter-widgets/base",
            "overflow": null,
            "_model_module_version": "1.2.0",
            "_view_count": null,
            "flex_flow": null,
            "width": null,
            "min_width": null,
            "border": null,
            "align_items": null,
            "bottom": null,
            "_model_module": "@jupyter-widgets/base",
            "top": null,
            "grid_column": null,
            "overflow_y": null,
            "overflow_x": null,
            "grid_auto_flow": null,
            "grid_area": null,
            "grid_template_columns": null,
            "flex": null,
            "_model_name": "LayoutModel",
            "justify_items": null,
            "grid_row": null,
            "max_height": null,
            "align_content": null,
            "visibility": null,
            "align_self": null,
            "height": null,
            "min_height": null,
            "padding": null,
            "grid_auto_rows": null,
            "grid_gap": null,
            "max_width": null,
            "order": null,
            "_view_module_version": "1.2.0",
            "grid_template_areas": null,
            "object_position": null,
            "object_fit": null,
            "grid_auto_columns": null,
            "margin": null,
            "display": null,
            "left": null
          }
        },
        "0f1e434cde364891a3d150fbbe474849": {
          "model_module": "@jupyter-widgets/controls",
          "model_name": "HBoxModel",
          "model_module_version": "1.5.0",
          "state": {
            "_view_name": "HBoxView",
            "_dom_classes": [],
            "_model_name": "HBoxModel",
            "_view_module": "@jupyter-widgets/controls",
            "_model_module_version": "1.5.0",
            "_view_count": null,
            "_view_module_version": "1.5.0",
            "box_style": "",
            "layout": "IPY_MODEL_b13ced3065a043b68f435e7b4f27c738",
            "_model_module": "@jupyter-widgets/controls",
            "children": [
              "IPY_MODEL_32ae6a07f3a9457eb5ba623d381f6c0c",
              "IPY_MODEL_5b6682c31f9646de95436e276fc05608",
              "IPY_MODEL_4e0476dbe8a243cda0b1eab74f5145ee"
            ]
          }
        },
        "b13ced3065a043b68f435e7b4f27c738": {
          "model_module": "@jupyter-widgets/base",
          "model_name": "LayoutModel",
          "model_module_version": "1.2.0",
          "state": {
            "_view_name": "LayoutView",
            "grid_template_rows": null,
            "right": null,
            "justify_content": null,
            "_view_module": "@jupyter-widgets/base",
            "overflow": null,
            "_model_module_version": "1.2.0",
            "_view_count": null,
            "flex_flow": null,
            "width": null,
            "min_width": null,
            "border": null,
            "align_items": null,
            "bottom": null,
            "_model_module": "@jupyter-widgets/base",
            "top": null,
            "grid_column": null,
            "overflow_y": null,
            "overflow_x": null,
            "grid_auto_flow": null,
            "grid_area": null,
            "grid_template_columns": null,
            "flex": null,
            "_model_name": "LayoutModel",
            "justify_items": null,
            "grid_row": null,
            "max_height": null,
            "align_content": null,
            "visibility": null,
            "align_self": null,
            "height": null,
            "min_height": null,
            "padding": null,
            "grid_auto_rows": null,
            "grid_gap": null,
            "max_width": null,
            "order": null,
            "_view_module_version": "1.2.0",
            "grid_template_areas": null,
            "object_position": null,
            "object_fit": null,
            "grid_auto_columns": null,
            "margin": null,
            "display": null,
            "left": null
          }
        },
        "32ae6a07f3a9457eb5ba623d381f6c0c": {
          "model_module": "@jupyter-widgets/controls",
          "model_name": "HTMLModel",
          "model_module_version": "1.5.0",
          "state": {
            "_view_name": "HTMLView",
            "style": "IPY_MODEL_c7aad012db25456188fb063a7b55c209",
            "_dom_classes": [],
            "description": "",
            "_model_name": "HTMLModel",
            "placeholder": "​",
            "_view_module": "@jupyter-widgets/controls",
            "_model_module_version": "1.5.0",
            "value": "Downloading: 100%",
            "_view_count": null,
            "_view_module_version": "1.5.0",
            "description_tooltip": null,
            "_model_module": "@jupyter-widgets/controls",
            "layout": "IPY_MODEL_b10c302633964e0f901652071b40180a"
          }
        },
        "5b6682c31f9646de95436e276fc05608": {
          "model_module": "@jupyter-widgets/controls",
          "model_name": "FloatProgressModel",
          "model_module_version": "1.5.0",
          "state": {
            "_view_name": "ProgressView",
            "style": "IPY_MODEL_b9584fab34154f9f8e487b543017c8b3",
            "_dom_classes": [],
            "description": "",
            "_model_name": "FloatProgressModel",
            "bar_style": "success",
            "max": 28,
            "_view_module": "@jupyter-widgets/controls",
            "_model_module_version": "1.5.0",
            "value": 28,
            "_view_count": null,
            "_view_module_version": "1.5.0",
            "orientation": "horizontal",
            "min": 0,
            "description_tooltip": null,
            "_model_module": "@jupyter-widgets/controls",
            "layout": "IPY_MODEL_3a06586d6fb04f26b2c73e5715593fa1"
          }
        },
        "4e0476dbe8a243cda0b1eab74f5145ee": {
          "model_module": "@jupyter-widgets/controls",
          "model_name": "HTMLModel",
          "model_module_version": "1.5.0",
          "state": {
            "_view_name": "HTMLView",
            "style": "IPY_MODEL_129542f065ce486ca14b1480673e5292",
            "_dom_classes": [],
            "description": "",
            "_model_name": "HTMLModel",
            "placeholder": "​",
            "_view_module": "@jupyter-widgets/controls",
            "_model_module_version": "1.5.0",
            "value": " 28.0/28.0 [00:00&lt;00:00, 624B/s]",
            "_view_count": null,
            "_view_module_version": "1.5.0",
            "description_tooltip": null,
            "_model_module": "@jupyter-widgets/controls",
            "layout": "IPY_MODEL_5b4ea472284e4780bc99878e02e9afa0"
          }
        },
        "c7aad012db25456188fb063a7b55c209": {
          "model_module": "@jupyter-widgets/controls",
          "model_name": "DescriptionStyleModel",
          "model_module_version": "1.5.0",
          "state": {
            "_view_name": "StyleView",
            "_model_name": "DescriptionStyleModel",
            "description_width": "",
            "_view_module": "@jupyter-widgets/base",
            "_model_module_version": "1.5.0",
            "_view_count": null,
            "_view_module_version": "1.2.0",
            "_model_module": "@jupyter-widgets/controls"
          }
        },
        "b10c302633964e0f901652071b40180a": {
          "model_module": "@jupyter-widgets/base",
          "model_name": "LayoutModel",
          "model_module_version": "1.2.0",
          "state": {
            "_view_name": "LayoutView",
            "grid_template_rows": null,
            "right": null,
            "justify_content": null,
            "_view_module": "@jupyter-widgets/base",
            "overflow": null,
            "_model_module_version": "1.2.0",
            "_view_count": null,
            "flex_flow": null,
            "width": null,
            "min_width": null,
            "border": null,
            "align_items": null,
            "bottom": null,
            "_model_module": "@jupyter-widgets/base",
            "top": null,
            "grid_column": null,
            "overflow_y": null,
            "overflow_x": null,
            "grid_auto_flow": null,
            "grid_area": null,
            "grid_template_columns": null,
            "flex": null,
            "_model_name": "LayoutModel",
            "justify_items": null,
            "grid_row": null,
            "max_height": null,
            "align_content": null,
            "visibility": null,
            "align_self": null,
            "height": null,
            "min_height": null,
            "padding": null,
            "grid_auto_rows": null,
            "grid_gap": null,
            "max_width": null,
            "order": null,
            "_view_module_version": "1.2.0",
            "grid_template_areas": null,
            "object_position": null,
            "object_fit": null,
            "grid_auto_columns": null,
            "margin": null,
            "display": null,
            "left": null
          }
        },
        "b9584fab34154f9f8e487b543017c8b3": {
          "model_module": "@jupyter-widgets/controls",
          "model_name": "ProgressStyleModel",
          "model_module_version": "1.5.0",
          "state": {
            "_view_name": "StyleView",
            "_model_name": "ProgressStyleModel",
            "description_width": "",
            "_view_module": "@jupyter-widgets/base",
            "_model_module_version": "1.5.0",
            "_view_count": null,
            "_view_module_version": "1.2.0",
            "bar_color": null,
            "_model_module": "@jupyter-widgets/controls"
          }
        },
        "3a06586d6fb04f26b2c73e5715593fa1": {
          "model_module": "@jupyter-widgets/base",
          "model_name": "LayoutModel",
          "model_module_version": "1.2.0",
          "state": {
            "_view_name": "LayoutView",
            "grid_template_rows": null,
            "right": null,
            "justify_content": null,
            "_view_module": "@jupyter-widgets/base",
            "overflow": null,
            "_model_module_version": "1.2.0",
            "_view_count": null,
            "flex_flow": null,
            "width": null,
            "min_width": null,
            "border": null,
            "align_items": null,
            "bottom": null,
            "_model_module": "@jupyter-widgets/base",
            "top": null,
            "grid_column": null,
            "overflow_y": null,
            "overflow_x": null,
            "grid_auto_flow": null,
            "grid_area": null,
            "grid_template_columns": null,
            "flex": null,
            "_model_name": "LayoutModel",
            "justify_items": null,
            "grid_row": null,
            "max_height": null,
            "align_content": null,
            "visibility": null,
            "align_self": null,
            "height": null,
            "min_height": null,
            "padding": null,
            "grid_auto_rows": null,
            "grid_gap": null,
            "max_width": null,
            "order": null,
            "_view_module_version": "1.2.0",
            "grid_template_areas": null,
            "object_position": null,
            "object_fit": null,
            "grid_auto_columns": null,
            "margin": null,
            "display": null,
            "left": null
          }
        },
        "129542f065ce486ca14b1480673e5292": {
          "model_module": "@jupyter-widgets/controls",
          "model_name": "DescriptionStyleModel",
          "model_module_version": "1.5.0",
          "state": {
            "_view_name": "StyleView",
            "_model_name": "DescriptionStyleModel",
            "description_width": "",
            "_view_module": "@jupyter-widgets/base",
            "_model_module_version": "1.5.0",
            "_view_count": null,
            "_view_module_version": "1.2.0",
            "_model_module": "@jupyter-widgets/controls"
          }
        },
        "5b4ea472284e4780bc99878e02e9afa0": {
          "model_module": "@jupyter-widgets/base",
          "model_name": "LayoutModel",
          "model_module_version": "1.2.0",
          "state": {
            "_view_name": "LayoutView",
            "grid_template_rows": null,
            "right": null,
            "justify_content": null,
            "_view_module": "@jupyter-widgets/base",
            "overflow": null,
            "_model_module_version": "1.2.0",
            "_view_count": null,
            "flex_flow": null,
            "width": null,
            "min_width": null,
            "border": null,
            "align_items": null,
            "bottom": null,
            "_model_module": "@jupyter-widgets/base",
            "top": null,
            "grid_column": null,
            "overflow_y": null,
            "overflow_x": null,
            "grid_auto_flow": null,
            "grid_area": null,
            "grid_template_columns": null,
            "flex": null,
            "_model_name": "LayoutModel",
            "justify_items": null,
            "grid_row": null,
            "max_height": null,
            "align_content": null,
            "visibility": null,
            "align_self": null,
            "height": null,
            "min_height": null,
            "padding": null,
            "grid_auto_rows": null,
            "grid_gap": null,
            "max_width": null,
            "order": null,
            "_view_module_version": "1.2.0",
            "grid_template_areas": null,
            "object_position": null,
            "object_fit": null,
            "grid_auto_columns": null,
            "margin": null,
            "display": null,
            "left": null
          }
        },
        "e2f6ddf218144bca988b500501356e70": {
          "model_module": "@jupyter-widgets/controls",
          "model_name": "HBoxModel",
          "model_module_version": "1.5.0",
          "state": {
            "_view_name": "HBoxView",
            "_dom_classes": [],
            "_model_name": "HBoxModel",
            "_view_module": "@jupyter-widgets/controls",
            "_model_module_version": "1.5.0",
            "_view_count": null,
            "_view_module_version": "1.5.0",
            "box_style": "",
            "layout": "IPY_MODEL_7d3d61eca20145e3b157f84ba8613cd7",
            "_model_module": "@jupyter-widgets/controls",
            "children": [
              "IPY_MODEL_eaed3bd92564406c82ece0b77c59a31f",
              "IPY_MODEL_4151413859c34c9f8401ae3cfb16c622",
              "IPY_MODEL_8e28384673604c0abe0231a0c135ad8b"
            ]
          }
        },
        "7d3d61eca20145e3b157f84ba8613cd7": {
          "model_module": "@jupyter-widgets/base",
          "model_name": "LayoutModel",
          "model_module_version": "1.2.0",
          "state": {
            "_view_name": "LayoutView",
            "grid_template_rows": null,
            "right": null,
            "justify_content": null,
            "_view_module": "@jupyter-widgets/base",
            "overflow": null,
            "_model_module_version": "1.2.0",
            "_view_count": null,
            "flex_flow": null,
            "width": null,
            "min_width": null,
            "border": null,
            "align_items": null,
            "bottom": null,
            "_model_module": "@jupyter-widgets/base",
            "top": null,
            "grid_column": null,
            "overflow_y": null,
            "overflow_x": null,
            "grid_auto_flow": null,
            "grid_area": null,
            "grid_template_columns": null,
            "flex": null,
            "_model_name": "LayoutModel",
            "justify_items": null,
            "grid_row": null,
            "max_height": null,
            "align_content": null,
            "visibility": null,
            "align_self": null,
            "height": null,
            "min_height": null,
            "padding": null,
            "grid_auto_rows": null,
            "grid_gap": null,
            "max_width": null,
            "order": null,
            "_view_module_version": "1.2.0",
            "grid_template_areas": null,
            "object_position": null,
            "object_fit": null,
            "grid_auto_columns": null,
            "margin": null,
            "display": null,
            "left": null
          }
        },
        "eaed3bd92564406c82ece0b77c59a31f": {
          "model_module": "@jupyter-widgets/controls",
          "model_name": "HTMLModel",
          "model_module_version": "1.5.0",
          "state": {
            "_view_name": "HTMLView",
            "style": "IPY_MODEL_c115787023d74b3b974be35afaafcc28",
            "_dom_classes": [],
            "description": "",
            "_model_name": "HTMLModel",
            "placeholder": "​",
            "_view_module": "@jupyter-widgets/controls",
            "_model_module_version": "1.5.0",
            "value": "Downloading: 100%",
            "_view_count": null,
            "_view_module_version": "1.5.0",
            "description_tooltip": null,
            "_model_module": "@jupyter-widgets/controls",
            "layout": "IPY_MODEL_837e9090624843e9b89365357fa53b68"
          }
        },
        "4151413859c34c9f8401ae3cfb16c622": {
          "model_module": "@jupyter-widgets/controls",
          "model_name": "FloatProgressModel",
          "model_module_version": "1.5.0",
          "state": {
            "_view_name": "ProgressView",
            "style": "IPY_MODEL_1146dd4472fd479dba3e51e77bad1817",
            "_dom_classes": [],
            "description": "",
            "_model_name": "FloatProgressModel",
            "bar_style": "success",
            "max": 483,
            "_view_module": "@jupyter-widgets/controls",
            "_model_module_version": "1.5.0",
            "value": 483,
            "_view_count": null,
            "_view_module_version": "1.5.0",
            "orientation": "horizontal",
            "min": 0,
            "description_tooltip": null,
            "_model_module": "@jupyter-widgets/controls",
            "layout": "IPY_MODEL_65f236e314cc463b918f1b1643c2ee16"
          }
        },
        "8e28384673604c0abe0231a0c135ad8b": {
          "model_module": "@jupyter-widgets/controls",
          "model_name": "HTMLModel",
          "model_module_version": "1.5.0",
          "state": {
            "_view_name": "HTMLView",
            "style": "IPY_MODEL_7b7db2bed3ec4581ab27cb813025df37",
            "_dom_classes": [],
            "description": "",
            "_model_name": "HTMLModel",
            "placeholder": "​",
            "_view_module": "@jupyter-widgets/controls",
            "_model_module_version": "1.5.0",
            "value": " 483/483 [00:00&lt;00:00, 10.7kB/s]",
            "_view_count": null,
            "_view_module_version": "1.5.0",
            "description_tooltip": null,
            "_model_module": "@jupyter-widgets/controls",
            "layout": "IPY_MODEL_df0fe153f4f149efadf54fcf82c9d440"
          }
        },
        "c115787023d74b3b974be35afaafcc28": {
          "model_module": "@jupyter-widgets/controls",
          "model_name": "DescriptionStyleModel",
          "model_module_version": "1.5.0",
          "state": {
            "_view_name": "StyleView",
            "_model_name": "DescriptionStyleModel",
            "description_width": "",
            "_view_module": "@jupyter-widgets/base",
            "_model_module_version": "1.5.0",
            "_view_count": null,
            "_view_module_version": "1.2.0",
            "_model_module": "@jupyter-widgets/controls"
          }
        },
        "837e9090624843e9b89365357fa53b68": {
          "model_module": "@jupyter-widgets/base",
          "model_name": "LayoutModel",
          "model_module_version": "1.2.0",
          "state": {
            "_view_name": "LayoutView",
            "grid_template_rows": null,
            "right": null,
            "justify_content": null,
            "_view_module": "@jupyter-widgets/base",
            "overflow": null,
            "_model_module_version": "1.2.0",
            "_view_count": null,
            "flex_flow": null,
            "width": null,
            "min_width": null,
            "border": null,
            "align_items": null,
            "bottom": null,
            "_model_module": "@jupyter-widgets/base",
            "top": null,
            "grid_column": null,
            "overflow_y": null,
            "overflow_x": null,
            "grid_auto_flow": null,
            "grid_area": null,
            "grid_template_columns": null,
            "flex": null,
            "_model_name": "LayoutModel",
            "justify_items": null,
            "grid_row": null,
            "max_height": null,
            "align_content": null,
            "visibility": null,
            "align_self": null,
            "height": null,
            "min_height": null,
            "padding": null,
            "grid_auto_rows": null,
            "grid_gap": null,
            "max_width": null,
            "order": null,
            "_view_module_version": "1.2.0",
            "grid_template_areas": null,
            "object_position": null,
            "object_fit": null,
            "grid_auto_columns": null,
            "margin": null,
            "display": null,
            "left": null
          }
        },
        "1146dd4472fd479dba3e51e77bad1817": {
          "model_module": "@jupyter-widgets/controls",
          "model_name": "ProgressStyleModel",
          "model_module_version": "1.5.0",
          "state": {
            "_view_name": "StyleView",
            "_model_name": "ProgressStyleModel",
            "description_width": "",
            "_view_module": "@jupyter-widgets/base",
            "_model_module_version": "1.5.0",
            "_view_count": null,
            "_view_module_version": "1.2.0",
            "bar_color": null,
            "_model_module": "@jupyter-widgets/controls"
          }
        },
        "65f236e314cc463b918f1b1643c2ee16": {
          "model_module": "@jupyter-widgets/base",
          "model_name": "LayoutModel",
          "model_module_version": "1.2.0",
          "state": {
            "_view_name": "LayoutView",
            "grid_template_rows": null,
            "right": null,
            "justify_content": null,
            "_view_module": "@jupyter-widgets/base",
            "overflow": null,
            "_model_module_version": "1.2.0",
            "_view_count": null,
            "flex_flow": null,
            "width": null,
            "min_width": null,
            "border": null,
            "align_items": null,
            "bottom": null,
            "_model_module": "@jupyter-widgets/base",
            "top": null,
            "grid_column": null,
            "overflow_y": null,
            "overflow_x": null,
            "grid_auto_flow": null,
            "grid_area": null,
            "grid_template_columns": null,
            "flex": null,
            "_model_name": "LayoutModel",
            "justify_items": null,
            "grid_row": null,
            "max_height": null,
            "align_content": null,
            "visibility": null,
            "align_self": null,
            "height": null,
            "min_height": null,
            "padding": null,
            "grid_auto_rows": null,
            "grid_gap": null,
            "max_width": null,
            "order": null,
            "_view_module_version": "1.2.0",
            "grid_template_areas": null,
            "object_position": null,
            "object_fit": null,
            "grid_auto_columns": null,
            "margin": null,
            "display": null,
            "left": null
          }
        },
        "7b7db2bed3ec4581ab27cb813025df37": {
          "model_module": "@jupyter-widgets/controls",
          "model_name": "DescriptionStyleModel",
          "model_module_version": "1.5.0",
          "state": {
            "_view_name": "StyleView",
            "_model_name": "DescriptionStyleModel",
            "description_width": "",
            "_view_module": "@jupyter-widgets/base",
            "_model_module_version": "1.5.0",
            "_view_count": null,
            "_view_module_version": "1.2.0",
            "_model_module": "@jupyter-widgets/controls"
          }
        },
        "df0fe153f4f149efadf54fcf82c9d440": {
          "model_module": "@jupyter-widgets/base",
          "model_name": "LayoutModel",
          "model_module_version": "1.2.0",
          "state": {
            "_view_name": "LayoutView",
            "grid_template_rows": null,
            "right": null,
            "justify_content": null,
            "_view_module": "@jupyter-widgets/base",
            "overflow": null,
            "_model_module_version": "1.2.0",
            "_view_count": null,
            "flex_flow": null,
            "width": null,
            "min_width": null,
            "border": null,
            "align_items": null,
            "bottom": null,
            "_model_module": "@jupyter-widgets/base",
            "top": null,
            "grid_column": null,
            "overflow_y": null,
            "overflow_x": null,
            "grid_auto_flow": null,
            "grid_area": null,
            "grid_template_columns": null,
            "flex": null,
            "_model_name": "LayoutModel",
            "justify_items": null,
            "grid_row": null,
            "max_height": null,
            "align_content": null,
            "visibility": null,
            "align_self": null,
            "height": null,
            "min_height": null,
            "padding": null,
            "grid_auto_rows": null,
            "grid_gap": null,
            "max_width": null,
            "order": null,
            "_view_module_version": "1.2.0",
            "grid_template_areas": null,
            "object_position": null,
            "object_fit": null,
            "grid_auto_columns": null,
            "margin": null,
            "display": null,
            "left": null
          }
        },
        "f8ec3208a1744a5fb5769f924e22e187": {
          "model_module": "@jupyter-widgets/controls",
          "model_name": "HBoxModel",
          "model_module_version": "1.5.0",
          "state": {
            "_view_name": "HBoxView",
            "_dom_classes": [],
            "_model_name": "HBoxModel",
            "_view_module": "@jupyter-widgets/controls",
            "_model_module_version": "1.5.0",
            "_view_count": null,
            "_view_module_version": "1.5.0",
            "box_style": "",
            "layout": "IPY_MODEL_cab480ea8fa748348ae7847d789c9c93",
            "_model_module": "@jupyter-widgets/controls",
            "children": [
              "IPY_MODEL_9d6a3adbe5ff492eaa14cc25f922b9d7",
              "IPY_MODEL_c086d581300c4830a5c5cc8fb6796f5c",
              "IPY_MODEL_587adbf50d8247f185c89aea31a428e6"
            ]
          }
        },
        "cab480ea8fa748348ae7847d789c9c93": {
          "model_module": "@jupyter-widgets/base",
          "model_name": "LayoutModel",
          "model_module_version": "1.2.0",
          "state": {
            "_view_name": "LayoutView",
            "grid_template_rows": null,
            "right": null,
            "justify_content": null,
            "_view_module": "@jupyter-widgets/base",
            "overflow": null,
            "_model_module_version": "1.2.0",
            "_view_count": null,
            "flex_flow": null,
            "width": null,
            "min_width": null,
            "border": null,
            "align_items": null,
            "bottom": null,
            "_model_module": "@jupyter-widgets/base",
            "top": null,
            "grid_column": null,
            "overflow_y": null,
            "overflow_x": null,
            "grid_auto_flow": null,
            "grid_area": null,
            "grid_template_columns": null,
            "flex": null,
            "_model_name": "LayoutModel",
            "justify_items": null,
            "grid_row": null,
            "max_height": null,
            "align_content": null,
            "visibility": null,
            "align_self": null,
            "height": null,
            "min_height": null,
            "padding": null,
            "grid_auto_rows": null,
            "grid_gap": null,
            "max_width": null,
            "order": null,
            "_view_module_version": "1.2.0",
            "grid_template_areas": null,
            "object_position": null,
            "object_fit": null,
            "grid_auto_columns": null,
            "margin": null,
            "display": null,
            "left": null
          }
        },
        "9d6a3adbe5ff492eaa14cc25f922b9d7": {
          "model_module": "@jupyter-widgets/controls",
          "model_name": "HTMLModel",
          "model_module_version": "1.5.0",
          "state": {
            "_view_name": "HTMLView",
            "style": "IPY_MODEL_17e7fb1d1f564c22bca3e50c93863283",
            "_dom_classes": [],
            "description": "",
            "_model_name": "HTMLModel",
            "placeholder": "​",
            "_view_module": "@jupyter-widgets/controls",
            "_model_module_version": "1.5.0",
            "value": "Downloading: 100%",
            "_view_count": null,
            "_view_module_version": "1.5.0",
            "description_tooltip": null,
            "_model_module": "@jupyter-widgets/controls",
            "layout": "IPY_MODEL_a6580156129945f0a52549ac2472a66b"
          }
        },
        "c086d581300c4830a5c5cc8fb6796f5c": {
          "model_module": "@jupyter-widgets/controls",
          "model_name": "FloatProgressModel",
          "model_module_version": "1.5.0",
          "state": {
            "_view_name": "ProgressView",
            "style": "IPY_MODEL_23571f278afa46908ec4e00405eee89a",
            "_dom_classes": [],
            "description": "",
            "_model_name": "FloatProgressModel",
            "bar_style": "success",
            "max": 363423424,
            "_view_module": "@jupyter-widgets/controls",
            "_model_module_version": "1.5.0",
            "value": 363423424,
            "_view_count": null,
            "_view_module_version": "1.5.0",
            "orientation": "horizontal",
            "min": 0,
            "description_tooltip": null,
            "_model_module": "@jupyter-widgets/controls",
            "layout": "IPY_MODEL_6eee53de50434821bf788883078397a5"
          }
        },
        "587adbf50d8247f185c89aea31a428e6": {
          "model_module": "@jupyter-widgets/controls",
          "model_name": "HTMLModel",
          "model_module_version": "1.5.0",
          "state": {
            "_view_name": "HTMLView",
            "style": "IPY_MODEL_a668b9df628f42c3adcc176c4bc74bb1",
            "_dom_classes": [],
            "description": "",
            "_model_name": "HTMLModel",
            "placeholder": "​",
            "_view_module": "@jupyter-widgets/controls",
            "_model_module_version": "1.5.0",
            "value": " 363M/363M [00:12&lt;00:00, 26.5MB/s]",
            "_view_count": null,
            "_view_module_version": "1.5.0",
            "description_tooltip": null,
            "_model_module": "@jupyter-widgets/controls",
            "layout": "IPY_MODEL_cb9a24e7a34c43ec93c0a0d6f7b2c522"
          }
        },
        "17e7fb1d1f564c22bca3e50c93863283": {
          "model_module": "@jupyter-widgets/controls",
          "model_name": "DescriptionStyleModel",
          "model_module_version": "1.5.0",
          "state": {
            "_view_name": "StyleView",
            "_model_name": "DescriptionStyleModel",
            "description_width": "",
            "_view_module": "@jupyter-widgets/base",
            "_model_module_version": "1.5.0",
            "_view_count": null,
            "_view_module_version": "1.2.0",
            "_model_module": "@jupyter-widgets/controls"
          }
        },
        "a6580156129945f0a52549ac2472a66b": {
          "model_module": "@jupyter-widgets/base",
          "model_name": "LayoutModel",
          "model_module_version": "1.2.0",
          "state": {
            "_view_name": "LayoutView",
            "grid_template_rows": null,
            "right": null,
            "justify_content": null,
            "_view_module": "@jupyter-widgets/base",
            "overflow": null,
            "_model_module_version": "1.2.0",
            "_view_count": null,
            "flex_flow": null,
            "width": null,
            "min_width": null,
            "border": null,
            "align_items": null,
            "bottom": null,
            "_model_module": "@jupyter-widgets/base",
            "top": null,
            "grid_column": null,
            "overflow_y": null,
            "overflow_x": null,
            "grid_auto_flow": null,
            "grid_area": null,
            "grid_template_columns": null,
            "flex": null,
            "_model_name": "LayoutModel",
            "justify_items": null,
            "grid_row": null,
            "max_height": null,
            "align_content": null,
            "visibility": null,
            "align_self": null,
            "height": null,
            "min_height": null,
            "padding": null,
            "grid_auto_rows": null,
            "grid_gap": null,
            "max_width": null,
            "order": null,
            "_view_module_version": "1.2.0",
            "grid_template_areas": null,
            "object_position": null,
            "object_fit": null,
            "grid_auto_columns": null,
            "margin": null,
            "display": null,
            "left": null
          }
        },
        "23571f278afa46908ec4e00405eee89a": {
          "model_module": "@jupyter-widgets/controls",
          "model_name": "ProgressStyleModel",
          "model_module_version": "1.5.0",
          "state": {
            "_view_name": "StyleView",
            "_model_name": "ProgressStyleModel",
            "description_width": "",
            "_view_module": "@jupyter-widgets/base",
            "_model_module_version": "1.5.0",
            "_view_count": null,
            "_view_module_version": "1.2.0",
            "bar_color": null,
            "_model_module": "@jupyter-widgets/controls"
          }
        },
        "6eee53de50434821bf788883078397a5": {
          "model_module": "@jupyter-widgets/base",
          "model_name": "LayoutModel",
          "model_module_version": "1.2.0",
          "state": {
            "_view_name": "LayoutView",
            "grid_template_rows": null,
            "right": null,
            "justify_content": null,
            "_view_module": "@jupyter-widgets/base",
            "overflow": null,
            "_model_module_version": "1.2.0",
            "_view_count": null,
            "flex_flow": null,
            "width": null,
            "min_width": null,
            "border": null,
            "align_items": null,
            "bottom": null,
            "_model_module": "@jupyter-widgets/base",
            "top": null,
            "grid_column": null,
            "overflow_y": null,
            "overflow_x": null,
            "grid_auto_flow": null,
            "grid_area": null,
            "grid_template_columns": null,
            "flex": null,
            "_model_name": "LayoutModel",
            "justify_items": null,
            "grid_row": null,
            "max_height": null,
            "align_content": null,
            "visibility": null,
            "align_self": null,
            "height": null,
            "min_height": null,
            "padding": null,
            "grid_auto_rows": null,
            "grid_gap": null,
            "max_width": null,
            "order": null,
            "_view_module_version": "1.2.0",
            "grid_template_areas": null,
            "object_position": null,
            "object_fit": null,
            "grid_auto_columns": null,
            "margin": null,
            "display": null,
            "left": null
          }
        },
        "a668b9df628f42c3adcc176c4bc74bb1": {
          "model_module": "@jupyter-widgets/controls",
          "model_name": "DescriptionStyleModel",
          "model_module_version": "1.5.0",
          "state": {
            "_view_name": "StyleView",
            "_model_name": "DescriptionStyleModel",
            "description_width": "",
            "_view_module": "@jupyter-widgets/base",
            "_model_module_version": "1.5.0",
            "_view_count": null,
            "_view_module_version": "1.2.0",
            "_model_module": "@jupyter-widgets/controls"
          }
        },
        "cb9a24e7a34c43ec93c0a0d6f7b2c522": {
          "model_module": "@jupyter-widgets/base",
          "model_name": "LayoutModel",
          "model_module_version": "1.2.0",
          "state": {
            "_view_name": "LayoutView",
            "grid_template_rows": null,
            "right": null,
            "justify_content": null,
            "_view_module": "@jupyter-widgets/base",
            "overflow": null,
            "_model_module_version": "1.2.0",
            "_view_count": null,
            "flex_flow": null,
            "width": null,
            "min_width": null,
            "border": null,
            "align_items": null,
            "bottom": null,
            "_model_module": "@jupyter-widgets/base",
            "top": null,
            "grid_column": null,
            "overflow_y": null,
            "overflow_x": null,
            "grid_auto_flow": null,
            "grid_area": null,
            "grid_template_columns": null,
            "flex": null,
            "_model_name": "LayoutModel",
            "justify_items": null,
            "grid_row": null,
            "max_height": null,
            "align_content": null,
            "visibility": null,
            "align_self": null,
            "height": null,
            "min_height": null,
            "padding": null,
            "grid_auto_rows": null,
            "grid_gap": null,
            "max_width": null,
            "order": null,
            "_view_module_version": "1.2.0",
            "grid_template_areas": null,
            "object_position": null,
            "object_fit": null,
            "grid_auto_columns": null,
            "margin": null,
            "display": null,
            "left": null
          }
        }
      }
    },
    "accelerator": "GPU"
  },
  "cells": [
    {
      "cell_type": "markdown",
      "metadata": {
        "id": "tc2WH6ZtuJ1z"
      },
      "source": [
        "## Importing Modules"
      ]
    },
    {
      "cell_type": "code",
      "metadata": {
        "id": "CHxELl3-1caN"
      },
      "source": [
        "%%capture\n",
        "!pip install 'transformers == 4.6.0'"
      ],
      "execution_count": 1,
      "outputs": []
    },
    {
      "cell_type": "code",
      "metadata": {
        "id": "bcNiueXNisHY"
      },
      "source": [
        "import zipfile\n",
        "import pandas as pd \n",
        "import numpy as np\n",
        "import re\n",
        "import random \n",
        "import matplotlib.pyplot as plt \n",
        "from wordcloud import WordCloud\n",
        "import seaborn as sns\n",
        "from sklearn.feature_extraction import text\n",
        "from sklearn.model_selection import train_test_split\n",
        "from sklearn.metrics import f1_score, accuracy_score\n",
        "import xgboost as xgb\n",
        "import numpy as np\n",
        "import tensorflow_hub as hub\n",
        "import tensorflow as tf\n",
        "from sklearn.feature_extraction.text import TfidfVectorizer\n",
        "from sklearn.pipeline import Pipeline\n",
        "from sklearn.naive_bayes import MultinomialNB\n",
        "from sklearn.ensemble import RandomForestClassifier\n",
        "from sklearn.linear_model import LogisticRegression\n",
        "from sklearn.linear_model import SGDClassifier\n",
        "from tensorflow.keras import layers \n",
        "from sklearn.metrics import accuracy_score, precision_recall_fscore_support \n",
        "from sklearn.metrics import confusion_matrix\n",
        "from transformers import DistilBertTokenizerFast\n",
        "from transformers import TFDistilBertForSequenceClassification, TFTrainer, TFTrainingArguments"
      ],
      "execution_count": 2,
      "outputs": []
    },
    {
      "cell_type": "markdown",
      "metadata": {
        "id": "kPkavE31K9UY"
      },
      "source": [
        "## Loading Data"
      ]
    },
    {
      "cell_type": "code",
      "metadata": {
        "id": "rJ-ef_V5LcXa"
      },
      "source": [
        "zip_path= \"/content/drive/MyDrive/Hate Speech Detection Data/train_E6oV3lV.csv.zip\""
      ],
      "execution_count": 4,
      "outputs": []
    },
    {
      "cell_type": "code",
      "metadata": {
        "id": "CeToBwS8Mj_-"
      },
      "source": [
        "# Create function to unzip a zipfile into current working directory \n",
        "def unzip_data(filename):\n",
        "  \"\"\"\n",
        "  Unzips filename into the current working directory.\n",
        "\n",
        "  Args:\n",
        "    filename (str): a filepath to a target zip folder to be unzipped.\n",
        "  \"\"\"\n",
        "  zip_ref = zipfile.ZipFile(filename, \"r\")\n",
        "  zip_ref.extractall()\n",
        "  zip_ref.close()\n",
        "unzip_data(zip_path)\n"
      ],
      "execution_count": 5,
      "outputs": []
    },
    {
      "cell_type": "code",
      "metadata": {
        "id": "sd2hIu_yN8hD"
      },
      "source": [
        "# Read csv file\n",
        "df = pd.read_csv(\"/content/train_E6oV3lV.csv\")"
      ],
      "execution_count": 6,
      "outputs": []
    },
    {
      "cell_type": "markdown",
      "metadata": {
        "id": "ApFPnD9qR_XZ"
      },
      "source": [
        "## Exploring Data "
      ]
    },
    {
      "cell_type": "code",
      "metadata": {
        "colab": {
          "base_uri": "https://localhost:8080/",
          "height": 419
        },
        "id": "5xn8hjLLRXwS",
        "outputId": "d8b51d44-770f-49a3-8c95-0a0c201d0e18"
      },
      "source": [
        "# Check data\n",
        "df"
      ],
      "execution_count": 7,
      "outputs": [
        {
          "output_type": "execute_result",
          "data": {
            "text/html": [
              "<div>\n",
              "<style scoped>\n",
              "    .dataframe tbody tr th:only-of-type {\n",
              "        vertical-align: middle;\n",
              "    }\n",
              "\n",
              "    .dataframe tbody tr th {\n",
              "        vertical-align: top;\n",
              "    }\n",
              "\n",
              "    .dataframe thead th {\n",
              "        text-align: right;\n",
              "    }\n",
              "</style>\n",
              "<table border=\"1\" class=\"dataframe\">\n",
              "  <thead>\n",
              "    <tr style=\"text-align: right;\">\n",
              "      <th></th>\n",
              "      <th>id</th>\n",
              "      <th>label</th>\n",
              "      <th>tweet</th>\n",
              "    </tr>\n",
              "  </thead>\n",
              "  <tbody>\n",
              "    <tr>\n",
              "      <th>0</th>\n",
              "      <td>1</td>\n",
              "      <td>0</td>\n",
              "      <td>@user when a father is dysfunctional and is s...</td>\n",
              "    </tr>\n",
              "    <tr>\n",
              "      <th>1</th>\n",
              "      <td>2</td>\n",
              "      <td>0</td>\n",
              "      <td>@user @user thanks for #lyft credit i can't us...</td>\n",
              "    </tr>\n",
              "    <tr>\n",
              "      <th>2</th>\n",
              "      <td>3</td>\n",
              "      <td>0</td>\n",
              "      <td>bihday your majesty</td>\n",
              "    </tr>\n",
              "    <tr>\n",
              "      <th>3</th>\n",
              "      <td>4</td>\n",
              "      <td>0</td>\n",
              "      <td>#model   i love u take with u all the time in ...</td>\n",
              "    </tr>\n",
              "    <tr>\n",
              "      <th>4</th>\n",
              "      <td>5</td>\n",
              "      <td>0</td>\n",
              "      <td>factsguide: society now    #motivation</td>\n",
              "    </tr>\n",
              "    <tr>\n",
              "      <th>...</th>\n",
              "      <td>...</td>\n",
              "      <td>...</td>\n",
              "      <td>...</td>\n",
              "    </tr>\n",
              "    <tr>\n",
              "      <th>31957</th>\n",
              "      <td>31958</td>\n",
              "      <td>0</td>\n",
              "      <td>ate @user isz that youuu?ðððððð...</td>\n",
              "    </tr>\n",
              "    <tr>\n",
              "      <th>31958</th>\n",
              "      <td>31959</td>\n",
              "      <td>0</td>\n",
              "      <td>to see nina turner on the airwaves trying to...</td>\n",
              "    </tr>\n",
              "    <tr>\n",
              "      <th>31959</th>\n",
              "      <td>31960</td>\n",
              "      <td>0</td>\n",
              "      <td>listening to sad songs on a monday morning otw...</td>\n",
              "    </tr>\n",
              "    <tr>\n",
              "      <th>31960</th>\n",
              "      <td>31961</td>\n",
              "      <td>1</td>\n",
              "      <td>@user #sikh #temple vandalised in in #calgary,...</td>\n",
              "    </tr>\n",
              "    <tr>\n",
              "      <th>31961</th>\n",
              "      <td>31962</td>\n",
              "      <td>0</td>\n",
              "      <td>thank you @user for you follow</td>\n",
              "    </tr>\n",
              "  </tbody>\n",
              "</table>\n",
              "<p>31962 rows × 3 columns</p>\n",
              "</div>"
            ],
            "text/plain": [
              "          id  label                                              tweet\n",
              "0          1      0   @user when a father is dysfunctional and is s...\n",
              "1          2      0  @user @user thanks for #lyft credit i can't us...\n",
              "2          3      0                                bihday your majesty\n",
              "3          4      0  #model   i love u take with u all the time in ...\n",
              "4          5      0             factsguide: society now    #motivation\n",
              "...      ...    ...                                                ...\n",
              "31957  31958      0  ate @user isz that youuu?ðððððð...\n",
              "31958  31959      0    to see nina turner on the airwaves trying to...\n",
              "31959  31960      0  listening to sad songs on a monday morning otw...\n",
              "31960  31961      1  @user #sikh #temple vandalised in in #calgary,...\n",
              "31961  31962      0                   thank you @user for you follow  \n",
              "\n",
              "[31962 rows x 3 columns]"
            ]
          },
          "metadata": {},
          "execution_count": 7
        }
      ]
    },
    {
      "cell_type": "code",
      "metadata": {
        "colab": {
          "base_uri": "https://localhost:8080/"
        },
        "id": "WRimuDMpxdP5",
        "outputId": "5d962c95-4973-41d7-c2b6-e999cb34ea86"
      },
      "source": [
        "df.info()"
      ],
      "execution_count": null,
      "outputs": [
        {
          "output_type": "stream",
          "name": "stdout",
          "text": [
            "<class 'pandas.core.frame.DataFrame'>\n",
            "RangeIndex: 31962 entries, 0 to 31961\n",
            "Data columns (total 3 columns):\n",
            " #   Column  Non-Null Count  Dtype \n",
            "---  ------  --------------  ----- \n",
            " 0   id      31962 non-null  int64 \n",
            " 1   label   31962 non-null  int64 \n",
            " 2   tweet   31962 non-null  object\n",
            "dtypes: int64(2), object(1)\n",
            "memory usage: 749.2+ KB\n"
          ]
        }
      ]
    },
    {
      "cell_type": "code",
      "metadata": {
        "colab": {
          "base_uri": "https://localhost:8080/",
          "height": 204
        },
        "id": "w0U7YYfMSKbU",
        "outputId": "426ca868-e842-4827-a37b-b65e60fd4dc0"
      },
      "source": [
        "# Drop the id column\n",
        "df = df.drop('id',axis=1)\n",
        "df.head()"
      ],
      "execution_count": 8,
      "outputs": [
        {
          "output_type": "execute_result",
          "data": {
            "text/html": [
              "<div>\n",
              "<style scoped>\n",
              "    .dataframe tbody tr th:only-of-type {\n",
              "        vertical-align: middle;\n",
              "    }\n",
              "\n",
              "    .dataframe tbody tr th {\n",
              "        vertical-align: top;\n",
              "    }\n",
              "\n",
              "    .dataframe thead th {\n",
              "        text-align: right;\n",
              "    }\n",
              "</style>\n",
              "<table border=\"1\" class=\"dataframe\">\n",
              "  <thead>\n",
              "    <tr style=\"text-align: right;\">\n",
              "      <th></th>\n",
              "      <th>label</th>\n",
              "      <th>tweet</th>\n",
              "    </tr>\n",
              "  </thead>\n",
              "  <tbody>\n",
              "    <tr>\n",
              "      <th>0</th>\n",
              "      <td>0</td>\n",
              "      <td>@user when a father is dysfunctional and is s...</td>\n",
              "    </tr>\n",
              "    <tr>\n",
              "      <th>1</th>\n",
              "      <td>0</td>\n",
              "      <td>@user @user thanks for #lyft credit i can't us...</td>\n",
              "    </tr>\n",
              "    <tr>\n",
              "      <th>2</th>\n",
              "      <td>0</td>\n",
              "      <td>bihday your majesty</td>\n",
              "    </tr>\n",
              "    <tr>\n",
              "      <th>3</th>\n",
              "      <td>0</td>\n",
              "      <td>#model   i love u take with u all the time in ...</td>\n",
              "    </tr>\n",
              "    <tr>\n",
              "      <th>4</th>\n",
              "      <td>0</td>\n",
              "      <td>factsguide: society now    #motivation</td>\n",
              "    </tr>\n",
              "  </tbody>\n",
              "</table>\n",
              "</div>"
            ],
            "text/plain": [
              "   label                                              tweet\n",
              "0      0   @user when a father is dysfunctional and is s...\n",
              "1      0  @user @user thanks for #lyft credit i can't us...\n",
              "2      0                                bihday your majesty\n",
              "3      0  #model   i love u take with u all the time in ...\n",
              "4      0             factsguide: society now    #motivation"
            ]
          },
          "metadata": {},
          "execution_count": 8
        }
      ]
    },
    {
      "cell_type": "code",
      "metadata": {
        "colab": {
          "base_uri": "https://localhost:8080/"
        },
        "id": "0v6jKzOIRY50",
        "outputId": "74a8734c-f573-4941-e707-f1d5e7569723"
      },
      "source": [
        "# Check how many examples each class has\n",
        "df.label.value_counts()"
      ],
      "execution_count": null,
      "outputs": [
        {
          "output_type": "execute_result",
          "data": {
            "text/plain": [
              "0    29720\n",
              "1     2242\n",
              "Name: label, dtype: int64"
            ]
          },
          "metadata": {},
          "execution_count": 80
        }
      ]
    },
    {
      "cell_type": "code",
      "metadata": {
        "colab": {
          "base_uri": "https://localhost:8080/",
          "height": 111
        },
        "id": "9s0NdZT6ac_h",
        "outputId": "5a03d626-6d34-48a1-97b8-85df11ebbeb1"
      },
      "source": [
        "df_Stat=df[['label','tweet']].groupby('label').count().reset_index()\n",
        "df_Stat.columns=['label','count']\n",
        "df_Stat['percentage']=(df_Stat['count']/df_Stat['count'].sum())*100\n",
        "df_Stat"
      ],
      "execution_count": null,
      "outputs": [
        {
          "output_type": "execute_result",
          "data": {
            "text/html": [
              "<div>\n",
              "<style scoped>\n",
              "    .dataframe tbody tr th:only-of-type {\n",
              "        vertical-align: middle;\n",
              "    }\n",
              "\n",
              "    .dataframe tbody tr th {\n",
              "        vertical-align: top;\n",
              "    }\n",
              "\n",
              "    .dataframe thead th {\n",
              "        text-align: right;\n",
              "    }\n",
              "</style>\n",
              "<table border=\"1\" class=\"dataframe\">\n",
              "  <thead>\n",
              "    <tr style=\"text-align: right;\">\n",
              "      <th></th>\n",
              "      <th>label</th>\n",
              "      <th>count</th>\n",
              "      <th>percentage</th>\n",
              "    </tr>\n",
              "  </thead>\n",
              "  <tbody>\n",
              "    <tr>\n",
              "      <th>0</th>\n",
              "      <td>0</td>\n",
              "      <td>29720</td>\n",
              "      <td>92.98542</td>\n",
              "    </tr>\n",
              "    <tr>\n",
              "      <th>1</th>\n",
              "      <td>1</td>\n",
              "      <td>2242</td>\n",
              "      <td>7.01458</td>\n",
              "    </tr>\n",
              "  </tbody>\n",
              "</table>\n",
              "</div>"
            ],
            "text/plain": [
              "   label  count  percentage\n",
              "0      0  29720    92.98542\n",
              "1      1   2242     7.01458"
            ]
          },
          "metadata": {},
          "execution_count": 81
        }
      ]
    },
    {
      "cell_type": "code",
      "metadata": {
        "colab": {
          "base_uri": "https://localhost:8080/",
          "height": 204
        },
        "id": "1stjWMVBRpYW",
        "outputId": "d8fba414-57b2-4cca-aef0-3f5ae6f7d33a"
      },
      "source": [
        "# Shuffle the data \n",
        "df_shuffled = df.sample(frac=1, random_state=42)\n",
        "df_shuffled.head()"
      ],
      "execution_count": 11,
      "outputs": [
        {
          "output_type": "execute_result",
          "data": {
            "text/html": [
              "<div>\n",
              "<style scoped>\n",
              "    .dataframe tbody tr th:only-of-type {\n",
              "        vertical-align: middle;\n",
              "    }\n",
              "\n",
              "    .dataframe tbody tr th {\n",
              "        vertical-align: top;\n",
              "    }\n",
              "\n",
              "    .dataframe thead th {\n",
              "        text-align: right;\n",
              "    }\n",
              "</style>\n",
              "<table border=\"1\" class=\"dataframe\">\n",
              "  <thead>\n",
              "    <tr style=\"text-align: right;\">\n",
              "      <th></th>\n",
              "      <th>label</th>\n",
              "      <th>tweet</th>\n",
              "    </tr>\n",
              "  </thead>\n",
              "  <tbody>\n",
              "    <tr>\n",
              "      <th>12227</th>\n",
              "      <td>0</td>\n",
              "      <td>@user âmy mom says my smile is captivatingâ...</td>\n",
              "    </tr>\n",
              "    <tr>\n",
              "      <th>14709</th>\n",
              "      <td>0</td>\n",
              "      <td>in 3 days i will be meeting my sis-n-law, coun...</td>\n",
              "    </tr>\n",
              "    <tr>\n",
              "      <th>19319</th>\n",
              "      <td>0</td>\n",
              "      <td>hating the conservative homophobes using this ...</td>\n",
              "    </tr>\n",
              "    <tr>\n",
              "      <th>4308</th>\n",
              "      <td>0</td>\n",
              "      <td>awee if this doesn't  #scream   #friday #acewe...</td>\n",
              "    </tr>\n",
              "    <tr>\n",
              "      <th>24055</th>\n",
              "      <td>0</td>\n",
              "      <td>fathersday  #fatherÃ¢ÂÂs #day #god! #ÃÂ« #...</td>\n",
              "    </tr>\n",
              "  </tbody>\n",
              "</table>\n",
              "</div>"
            ],
            "text/plain": [
              "       label                                              tweet\n",
              "12227      0   @user âmy mom says my smile is captivatingâ...\n",
              "14709      0  in 3 days i will be meeting my sis-n-law, coun...\n",
              "19319      0  hating the conservative homophobes using this ...\n",
              "4308       0  awee if this doesn't  #scream   #friday #acewe...\n",
              "24055      0   fathersday  #fatherÃ¢ÂÂs #day #god! #ÃÂ« #..."
            ]
          },
          "metadata": {},
          "execution_count": 11
        }
      ]
    },
    {
      "cell_type": "code",
      "metadata": {
        "id": "pjVrD8LlxGDd"
      },
      "source": [
        "# Remove symbols from tweets and lower case all characters\n",
        "def process_tweet(tweet):\n",
        "    return \" \".join(re.sub(\"(@[A-Za-z0-9]+)|([^0-9A-Za-z \\t])\", \" \",tweet.lower()).split())"
      ],
      "execution_count": 9,
      "outputs": []
    },
    {
      "cell_type": "code",
      "metadata": {
        "colab": {
          "base_uri": "https://localhost:8080/",
          "height": 297
        },
        "id": "MmqNkrOcxe5k",
        "outputId": "9b12b865-b120-41d2-a6d2-c2e6467e9c4f"
      },
      "source": [
        "df_shuffled['processed_tweets'] = df_shuffled['tweet'].apply(process_tweet)\n",
        "df_shuffled.head(8)"
      ],
      "execution_count": 12,
      "outputs": [
        {
          "output_type": "execute_result",
          "data": {
            "text/html": [
              "<div>\n",
              "<style scoped>\n",
              "    .dataframe tbody tr th:only-of-type {\n",
              "        vertical-align: middle;\n",
              "    }\n",
              "\n",
              "    .dataframe tbody tr th {\n",
              "        vertical-align: top;\n",
              "    }\n",
              "\n",
              "    .dataframe thead th {\n",
              "        text-align: right;\n",
              "    }\n",
              "</style>\n",
              "<table border=\"1\" class=\"dataframe\">\n",
              "  <thead>\n",
              "    <tr style=\"text-align: right;\">\n",
              "      <th></th>\n",
              "      <th>label</th>\n",
              "      <th>tweet</th>\n",
              "      <th>processed_tweets</th>\n",
              "    </tr>\n",
              "  </thead>\n",
              "  <tbody>\n",
              "    <tr>\n",
              "      <th>12227</th>\n",
              "      <td>0</td>\n",
              "      <td>@user âmy mom says my smile is captivatingâ...</td>\n",
              "      <td>my mom says my smile is captivating i says hap...</td>\n",
              "    </tr>\n",
              "    <tr>\n",
              "      <th>14709</th>\n",
              "      <td>0</td>\n",
              "      <td>in 3 days i will be meeting my sis-n-law, coun...</td>\n",
              "      <td>in 3 days i will be meeting my sis n law coune...</td>\n",
              "    </tr>\n",
              "    <tr>\n",
              "      <th>19319</th>\n",
              "      <td>0</td>\n",
              "      <td>hating the conservative homophobes using this ...</td>\n",
              "      <td>hating the conservative homophobes using this ...</td>\n",
              "    </tr>\n",
              "    <tr>\n",
              "      <th>4308</th>\n",
              "      <td>0</td>\n",
              "      <td>awee if this doesn't  #scream   #friday #acewe...</td>\n",
              "      <td>awee if this doesn t scream friday acewellstuc...</td>\n",
              "    </tr>\n",
              "    <tr>\n",
              "      <th>24055</th>\n",
              "      <td>0</td>\n",
              "      <td>fathersday  #fatherÃ¢ÂÂs #day #god! #ÃÂ« #...</td>\n",
              "      <td>fathersday father s day god tony a smith buy t...</td>\n",
              "    </tr>\n",
              "    <tr>\n",
              "      <th>2275</th>\n",
              "      <td>0</td>\n",
              "      <td>grooving fuuuunn nightâ¨â¨â¨  #bangkok #las...</td>\n",
              "      <td>grooving fuuuunn night bangkok lastnight w tha...</td>\n",
              "    </tr>\n",
              "    <tr>\n",
              "      <th>22304</th>\n",
              "      <td>0</td>\n",
              "      <td>a very   #koala bear</td>\n",
              "      <td>a very koala bear</td>\n",
              "    </tr>\n",
              "    <tr>\n",
              "      <th>15297</th>\n",
              "      <td>0</td>\n",
              "      <td>treat people the way you want to be treated. #...</td>\n",
              "      <td>treat people the way you want to be treated be...</td>\n",
              "    </tr>\n",
              "  </tbody>\n",
              "</table>\n",
              "</div>"
            ],
            "text/plain": [
              "       label  ...                                   processed_tweets\n",
              "12227      0  ...  my mom says my smile is captivating i says hap...\n",
              "14709      0  ...  in 3 days i will be meeting my sis n law coune...\n",
              "19319      0  ...  hating the conservative homophobes using this ...\n",
              "4308       0  ...  awee if this doesn t scream friday acewellstuc...\n",
              "24055      0  ...  fathersday father s day god tony a smith buy t...\n",
              "2275       0  ...  grooving fuuuunn night bangkok lastnight w tha...\n",
              "22304      0  ...                                  a very koala bear\n",
              "15297      0  ...  treat people the way you want to be treated be...\n",
              "\n",
              "[8 rows x 3 columns]"
            ]
          },
          "metadata": {},
          "execution_count": 12
        }
      ]
    },
    {
      "cell_type": "code",
      "metadata": {
        "colab": {
          "base_uri": "https://localhost:8080/"
        },
        "id": "uGfbVP5Car5Y",
        "outputId": "69947e53-b3a7-46f6-ab0d-d68550f6500b"
      },
      "source": [
        "# Visualize some random examples \n",
        "random_index = random.randint(0, len(df_shuffled)-10) # create random indexes\n",
        "for row in df_shuffled[[\"processed_tweets\", \"label\"]][random_index:random_index+10].itertuples():\n",
        "  _, tweet, label = row\n",
        "  print(f\"Label: {label}\", \"(hate speech)\" if label > 0 else \"(normal speech)\")\n",
        "  print(f\"Tweet:\\n{tweet}\\n\")\n",
        "  print(\"---\\n\")"
      ],
      "execution_count": null,
      "outputs": [
        {
          "output_type": "stream",
          "name": "stdout",
          "text": [
            "Label: 0 (normal speech)\n",
            "Tweet:\n",
            "remember when used to lead on impoant social issues 29 years later they re afraid to even talk abt cannabis whathappened\n",
            "\n",
            "---\n",
            "\n",
            "Label: 0 (normal speech)\n",
            "Tweet:\n",
            "i think everything in my life right now is a leapoffaith and i m not scared im sta betting on yourself\n",
            "\n",
            "---\n",
            "\n",
            "Label: 1 (hate speech)\n",
            "Tweet:\n",
            "isn t it time we realized what we ve done hate exploitation read america s history\n",
            "\n",
            "---\n",
            "\n",
            "Label: 0 (normal speech)\n",
            "Tweet:\n",
            "thanks kidsrehab\n",
            "\n",
            "---\n",
            "\n",
            "Label: 0 (normal speech)\n",
            "Tweet:\n",
            "is that a jet engine in your pocket or are you just to see me via\n",
            "\n",
            "---\n",
            "\n",
            "Label: 0 (normal speech)\n",
            "Tweet:\n",
            "cause we lost\n",
            "\n",
            "---\n",
            "\n",
            "Label: 0 (normal speech)\n",
            "Tweet:\n",
            "ramadan to all mussulmanic twitter friends blesessing month n happy\n",
            "\n",
            "---\n",
            "\n",
            "Label: 0 (normal speech)\n",
            "Tweet:\n",
            "absolutely disgusted with andover kfc disgusting service the food was cold and horrible and over cooked very\n",
            "\n",
            "---\n",
            "\n",
            "Label: 0 (normal speech)\n",
            "Tweet:\n",
            "being ignored confused disappointed after so many years i can t see a change sadly i tried to trust\n",
            "\n",
            "---\n",
            "\n",
            "Label: 0 (normal speech)\n",
            "Tweet:\n",
            "luth nurses begin indefinite strike\n",
            "\n",
            "---\n",
            "\n"
          ]
        }
      ]
    },
    {
      "cell_type": "code",
      "metadata": {
        "colab": {
          "base_uri": "https://localhost:8080/",
          "height": 466
        },
        "id": "8mwRJaGhTC-E",
        "outputId": "751fd423-f044-46c1-e9c8-426caf25f69d"
      },
      "source": [
        "# Visualize the most frequent words in normal tweets\n",
        "normal_words = ' '.join([word for word in df_shuffled['processed_tweets'][df_shuffled['label'] == 0]])\n",
        "wordcloud = WordCloud(width = 800, height = 500, max_font_size = 110,max_words = 100).generate(normal_words)\n",
        "print('Normal speech words')\n",
        "plt.figure(figsize= (12,8))\n",
        "plt.imshow(wordcloud, interpolation = 'bilinear',cmap='viridis')\n",
        "plt.axis('off');"
      ],
      "execution_count": null,
      "outputs": [
        {
          "output_type": "stream",
          "name": "stdout",
          "text": [
            "Normal speech words\n"
          ]
        },
        {
          "output_type": "display_data",
          "data": {
            "image/png": "[encoded data removed]",
            "text/plain": [
              "<Figure size 864x576 with 1 Axes>"
            ]
          },
          "metadata": {
            "needs_background": "light"
          }
        }
      ]
    },
    {
      "cell_type": "code",
      "metadata": {
        "colab": {
          "base_uri": "https://localhost:8080/",
          "height": 466
        },
        "id": "2FPOZ83xTrtm",
        "outputId": "09051ee2-e6fe-4e91-d6d3-e11491b5dc11"
      },
      "source": [
        "# Visualize the most frequent words in hate tweets\n",
        "normal_words = ' '.join([word for word in df_shuffled['processed_tweets'][df_shuffled['label'] == 1]])\n",
        "wordcloud = WordCloud(width = 800, height = 500, max_font_size = 110,max_words = 100).generate(normal_words)\n",
        "print('Hate speech words')\n",
        "plt.figure(figsize= (12,8))\n",
        "plt.imshow(wordcloud, interpolation = 'bilinear',cmap='viridis')\n",
        "plt.axis('off');"
      ],
      "execution_count": null,
      "outputs": [
        {
          "output_type": "stream",
          "name": "stdout",
          "text": [
            "Hate speech words\n"
          ]
        },
        {
          "output_type": "display_data",
          "data": {
            "image/png": "[encoded data removed]",
            "text/plain": [
              "<Figure size 864x576 with 1 Axes>"
            ]
          },
          "metadata": {
            "needs_background": "light"
          }
        }
      ]
    },
    {
      "cell_type": "code",
      "metadata": {
        "colab": {
          "base_uri": "https://localhost:8080/"
        },
        "id": "9_yr2AzJWL3q",
        "outputId": "b76a8bdf-4b86-42f3-a5b1-3b51b62f6f3a"
      },
      "source": [
        "# Import stopwords with scikit-learn\n",
        "stopwords = text.ENGLISH_STOP_WORDS\n",
        "# Get the top used words from normal tweets excluding stopwords, numbers, and strings with length of one character\n",
        "normal_words = pd.Series(' '.join(df_shuffled['processed_tweets'][df_shuffled['label'] == 0].apply(lambda x: ' '.join(item for item in str(x).split() if item not in stopwords and not item.isdigit() and len(item)>1))).split()).value_counts()[:30]\n",
        "normal_words"
      ],
      "execution_count": null,
      "outputs": [
        {
          "output_type": "execute_result",
          "data": {
            "text/plain": [
              "love         2796\n",
              "day          2346\n",
              "happy        1694\n",
              "amp          1476\n",
              "just         1288\n",
              "life         1163\n",
              "time         1127\n",
              "today        1080\n",
              "thankful      952\n",
              "positive      934\n",
              "new           931\n",
              "like          920\n",
              "bihday        872\n",
              "good          841\n",
              "people        792\n",
              "smile         745\n",
              "father        650\n",
              "want          626\n",
              "don           616\n",
              "fun           614\n",
              "healthy       609\n",
              "weekend       604\n",
              "work          604\n",
              "summer        571\n",
              "family        536\n",
              "make          532\n",
              "friday        530\n",
              "beautiful     523\n",
              "friends       517\n",
              "best          513\n",
              "dtype: int64"
            ]
          },
          "metadata": {},
          "execution_count": 18
        }
      ]
    },
    {
      "cell_type": "code",
      "metadata": {
        "colab": {
          "base_uri": "https://localhost:8080/"
        },
        "id": "Nn23c1TI9Bcr",
        "outputId": "3a222b9f-cfa6-4358-d360-26977d10de90"
      },
      "source": [
        "# Get the top used words from hate tweets excluding stopwords, numbers, and strings with length of one character\n",
        "hate_words = pd.Series(' '.join(df_shuffled['processed_tweets'][df_shuffled['label'] == 1].apply(lambda x: ' '.join(item for item in str(x).split() if item not in stopwords and not item.isdigit() and len(item)>1))).split()).value_counts()[:30]\n",
        "hate_words"
      ],
      "execution_count": null,
      "outputs": [
        {
          "output_type": "execute_result",
          "data": {
            "text/plain": [
              "amp          300\n",
              "trump        213\n",
              "libtard      149\n",
              "white        140\n",
              "like         139\n",
              "black        134\n",
              "racist       108\n",
              "politics      97\n",
              "people        95\n",
              "allahsoil     92\n",
              "liberal       82\n",
              "just          79\n",
              "women         78\n",
              "sjw           74\n",
              "new           72\n",
              "obama         72\n",
              "hate          72\n",
              "retweet       67\n",
              "racism        66\n",
              "don           63\n",
              "feel          59\n",
              "listen        57\n",
              "america       54\n",
              "stomping      48\n",
              "right         48\n",
              "race          47\n",
              "men           46\n",
              "miami         46\n",
              "woman         43\n",
              "comments      39\n",
              "dtype: int64"
            ]
          },
          "metadata": {},
          "execution_count": 19
        }
      ]
    },
    {
      "cell_type": "code",
      "metadata": {
        "colab": {
          "base_uri": "https://localhost:8080/",
          "height": 979
        },
        "id": "dCrYJzrANUuF",
        "outputId": "e9e10993-bb90-4a51-f864-5c4831961d11"
      },
      "source": [
        "# Creating a dataframe to represent top 30 normal and hate used words\n",
        "d1 = pd.DataFrame(normal_words.index,columns = ['Normal_Words'])\n",
        "d2 = pd.DataFrame(normal_words.values,columns = ['Normal_Count'])\n",
        "d3 = pd.DataFrame(hate_words.index,columns = ['Hate_Words'])\n",
        "d4 = pd.DataFrame(hate_words.values,columns = ['Hate_Count'])\n",
        "word_freq_df = pd.concat([d1,d2,d3,d4], axis = 1)\n",
        "word_freq_df"
      ],
      "execution_count": null,
      "outputs": [
        {
          "output_type": "execute_result",
          "data": {
            "text/html": [
              "<div>\n",
              "<style scoped>\n",
              "    .dataframe tbody tr th:only-of-type {\n",
              "        vertical-align: middle;\n",
              "    }\n",
              "\n",
              "    .dataframe tbody tr th {\n",
              "        vertical-align: top;\n",
              "    }\n",
              "\n",
              "    .dataframe thead th {\n",
              "        text-align: right;\n",
              "    }\n",
              "</style>\n",
              "<table border=\"1\" class=\"dataframe\">\n",
              "  <thead>\n",
              "    <tr style=\"text-align: right;\">\n",
              "      <th></th>\n",
              "      <th>Normal_Words</th>\n",
              "      <th>Normal_Count</th>\n",
              "      <th>Hate_Words</th>\n",
              "      <th>Hate_Count</th>\n",
              "    </tr>\n",
              "  </thead>\n",
              "  <tbody>\n",
              "    <tr>\n",
              "      <th>0</th>\n",
              "      <td>love</td>\n",
              "      <td>2796</td>\n",
              "      <td>amp</td>\n",
              "      <td>300</td>\n",
              "    </tr>\n",
              "    <tr>\n",
              "      <th>1</th>\n",
              "      <td>day</td>\n",
              "      <td>2346</td>\n",
              "      <td>trump</td>\n",
              "      <td>213</td>\n",
              "    </tr>\n",
              "    <tr>\n",
              "      <th>2</th>\n",
              "      <td>happy</td>\n",
              "      <td>1694</td>\n",
              "      <td>libtard</td>\n",
              "      <td>149</td>\n",
              "    </tr>\n",
              "    <tr>\n",
              "      <th>3</th>\n",
              "      <td>amp</td>\n",
              "      <td>1476</td>\n",
              "      <td>white</td>\n",
              "      <td>140</td>\n",
              "    </tr>\n",
              "    <tr>\n",
              "      <th>4</th>\n",
              "      <td>just</td>\n",
              "      <td>1288</td>\n",
              "      <td>like</td>\n",
              "      <td>139</td>\n",
              "    </tr>\n",
              "    <tr>\n",
              "      <th>5</th>\n",
              "      <td>life</td>\n",
              "      <td>1163</td>\n",
              "      <td>black</td>\n",
              "      <td>134</td>\n",
              "    </tr>\n",
              "    <tr>\n",
              "      <th>6</th>\n",
              "      <td>time</td>\n",
              "      <td>1127</td>\n",
              "      <td>racist</td>\n",
              "      <td>108</td>\n",
              "    </tr>\n",
              "    <tr>\n",
              "      <th>7</th>\n",
              "      <td>today</td>\n",
              "      <td>1080</td>\n",
              "      <td>politics</td>\n",
              "      <td>97</td>\n",
              "    </tr>\n",
              "    <tr>\n",
              "      <th>8</th>\n",
              "      <td>thankful</td>\n",
              "      <td>952</td>\n",
              "      <td>people</td>\n",
              "      <td>95</td>\n",
              "    </tr>\n",
              "    <tr>\n",
              "      <th>9</th>\n",
              "      <td>positive</td>\n",
              "      <td>934</td>\n",
              "      <td>allahsoil</td>\n",
              "      <td>92</td>\n",
              "    </tr>\n",
              "    <tr>\n",
              "      <th>10</th>\n",
              "      <td>new</td>\n",
              "      <td>931</td>\n",
              "      <td>liberal</td>\n",
              "      <td>82</td>\n",
              "    </tr>\n",
              "    <tr>\n",
              "      <th>11</th>\n",
              "      <td>like</td>\n",
              "      <td>920</td>\n",
              "      <td>just</td>\n",
              "      <td>79</td>\n",
              "    </tr>\n",
              "    <tr>\n",
              "      <th>12</th>\n",
              "      <td>bihday</td>\n",
              "      <td>872</td>\n",
              "      <td>women</td>\n",
              "      <td>78</td>\n",
              "    </tr>\n",
              "    <tr>\n",
              "      <th>13</th>\n",
              "      <td>good</td>\n",
              "      <td>841</td>\n",
              "      <td>sjw</td>\n",
              "      <td>74</td>\n",
              "    </tr>\n",
              "    <tr>\n",
              "      <th>14</th>\n",
              "      <td>people</td>\n",
              "      <td>792</td>\n",
              "      <td>new</td>\n",
              "      <td>72</td>\n",
              "    </tr>\n",
              "    <tr>\n",
              "      <th>15</th>\n",
              "      <td>smile</td>\n",
              "      <td>745</td>\n",
              "      <td>obama</td>\n",
              "      <td>72</td>\n",
              "    </tr>\n",
              "    <tr>\n",
              "      <th>16</th>\n",
              "      <td>father</td>\n",
              "      <td>650</td>\n",
              "      <td>hate</td>\n",
              "      <td>72</td>\n",
              "    </tr>\n",
              "    <tr>\n",
              "      <th>17</th>\n",
              "      <td>want</td>\n",
              "      <td>626</td>\n",
              "      <td>retweet</td>\n",
              "      <td>67</td>\n",
              "    </tr>\n",
              "    <tr>\n",
              "      <th>18</th>\n",
              "      <td>don</td>\n",
              "      <td>616</td>\n",
              "      <td>racism</td>\n",
              "      <td>66</td>\n",
              "    </tr>\n",
              "    <tr>\n",
              "      <th>19</th>\n",
              "      <td>fun</td>\n",
              "      <td>614</td>\n",
              "      <td>don</td>\n",
              "      <td>63</td>\n",
              "    </tr>\n",
              "    <tr>\n",
              "      <th>20</th>\n",
              "      <td>healthy</td>\n",
              "      <td>609</td>\n",
              "      <td>feel</td>\n",
              "      <td>59</td>\n",
              "    </tr>\n",
              "    <tr>\n",
              "      <th>21</th>\n",
              "      <td>weekend</td>\n",
              "      <td>604</td>\n",
              "      <td>listen</td>\n",
              "      <td>57</td>\n",
              "    </tr>\n",
              "    <tr>\n",
              "      <th>22</th>\n",
              "      <td>work</td>\n",
              "      <td>604</td>\n",
              "      <td>america</td>\n",
              "      <td>54</td>\n",
              "    </tr>\n",
              "    <tr>\n",
              "      <th>23</th>\n",
              "      <td>summer</td>\n",
              "      <td>571</td>\n",
              "      <td>stomping</td>\n",
              "      <td>48</td>\n",
              "    </tr>\n",
              "    <tr>\n",
              "      <th>24</th>\n",
              "      <td>family</td>\n",
              "      <td>536</td>\n",
              "      <td>right</td>\n",
              "      <td>48</td>\n",
              "    </tr>\n",
              "    <tr>\n",
              "      <th>25</th>\n",
              "      <td>make</td>\n",
              "      <td>532</td>\n",
              "      <td>race</td>\n",
              "      <td>47</td>\n",
              "    </tr>\n",
              "    <tr>\n",
              "      <th>26</th>\n",
              "      <td>friday</td>\n",
              "      <td>530</td>\n",
              "      <td>men</td>\n",
              "      <td>46</td>\n",
              "    </tr>\n",
              "    <tr>\n",
              "      <th>27</th>\n",
              "      <td>beautiful</td>\n",
              "      <td>523</td>\n",
              "      <td>miami</td>\n",
              "      <td>46</td>\n",
              "    </tr>\n",
              "    <tr>\n",
              "      <th>28</th>\n",
              "      <td>friends</td>\n",
              "      <td>517</td>\n",
              "      <td>woman</td>\n",
              "      <td>43</td>\n",
              "    </tr>\n",
              "    <tr>\n",
              "      <th>29</th>\n",
              "      <td>best</td>\n",
              "      <td>513</td>\n",
              "      <td>comments</td>\n",
              "      <td>39</td>\n",
              "    </tr>\n",
              "  </tbody>\n",
              "</table>\n",
              "</div>"
            ],
            "text/plain": [
              "   Normal_Words  Normal_Count Hate_Words  Hate_Count\n",
              "0          love          2796        amp         300\n",
              "1           day          2346      trump         213\n",
              "2         happy          1694    libtard         149\n",
              "3           amp          1476      white         140\n",
              "4          just          1288       like         139\n",
              "5          life          1163      black         134\n",
              "6          time          1127     racist         108\n",
              "7         today          1080   politics          97\n",
              "8      thankful           952     people          95\n",
              "9      positive           934  allahsoil          92\n",
              "10          new           931    liberal          82\n",
              "11         like           920       just          79\n",
              "12       bihday           872      women          78\n",
              "13         good           841        sjw          74\n",
              "14       people           792        new          72\n",
              "15        smile           745      obama          72\n",
              "16       father           650       hate          72\n",
              "17         want           626    retweet          67\n",
              "18          don           616     racism          66\n",
              "19          fun           614        don          63\n",
              "20      healthy           609       feel          59\n",
              "21      weekend           604     listen          57\n",
              "22         work           604    america          54\n",
              "23       summer           571   stomping          48\n",
              "24       family           536      right          48\n",
              "25         make           532       race          47\n",
              "26       friday           530        men          46\n",
              "27    beautiful           523      miami          46\n",
              "28      friends           517      woman          43\n",
              "29         best           513   comments          39"
            ]
          },
          "metadata": {},
          "execution_count": 22
        }
      ]
    },
    {
      "cell_type": "markdown",
      "metadata": {
        "id": "aQaCNFzB3Qz3"
      },
      "source": [
        "## Splitting Data into Training and Validation Sets"
      ]
    },
    {
      "cell_type": "code",
      "metadata": {
        "id": "iM7ZZGP63WuD"
      },
      "source": [
        "# Use train_test_split to split training data into training and validation sets \n",
        "train_sentences, val_sentences, train_labels, val_labels = train_test_split(list(df_shuffled[\"processed_tweets\"]),\n",
        "                                                                           list(df_shuffled[\"label\"]),\n",
        "                                                                           test_size=0.2, # use 10% of training data for validation\n",
        "                                                                           random_state=42)"
      ],
      "execution_count": 13,
      "outputs": []
    },
    {
      "cell_type": "code",
      "metadata": {
        "colab": {
          "base_uri": "https://localhost:8080/"
        },
        "id": "rfiz2J-mdpf3",
        "outputId": "08be3cfa-3d4c-43e8-aa3c-5a19fa6abea6"
      },
      "source": [
        "# Find the average number of tokens (words) in the training and validation tweets \n",
        "round (sum([len(i.split()) for i in train_sentences])/len(train_sentences)), round (sum([len(i.split()) for i in val_sentences])/len(val_sentences))"
      ],
      "execution_count": null,
      "outputs": [
        {
          "output_type": "execute_result",
          "data": {
            "text/plain": [
              "(13, 13)"
            ]
          },
          "metadata": {},
          "execution_count": 18
        }
      ]
    },
    {
      "cell_type": "markdown",
      "metadata": {
        "id": "UgytwQsCSPP9"
      },
      "source": [
        "## Running a Series of Modeling Experiments"
      ]
    },
    {
      "cell_type": "code",
      "metadata": {
        "colab": {
          "base_uri": "https://localhost:8080/"
        },
        "id": "6vn-6yjImMjt",
        "outputId": "221cf86e-83c7-40e5-fcea-92200a7b4475"
      },
      "source": [
        "# Create tokenization and modeling pipeline \n",
        "\n",
        "\n",
        "# XGBClassifier\n",
        "pipeline_xgb = Pipeline([\n",
        "    ('tfidf', TfidfVectorizer()),\n",
        "    ('model', xgb.XGBClassifier(use_label =False)),])\n",
        "\n",
        "model_0 = pipeline_xgb.fit(train_sentences, train_labels)\n",
        "\n",
        "model_0_score = model_0.score(val_sentences, val_labels)\n",
        "\n",
        "print(f\"Our model_0 (XGBClassifier) achieves an accuracy of:{model_0_score*100:.2f}%\")\n",
        "\n",
        "\n",
        "# MultinomialNB\n",
        "model_1 = Pipeline([\n",
        "                    (\"tfidf\", TfidfVectorizer()), # Convert words to numbers using tfidf \n",
        "                    (\"clf\", MultinomialNB()) # model the text\n",
        "])\n",
        "\n",
        "model_1.fit(train_sentences, train_labels)\n",
        "score_1 = model_1.score(val_sentences, val_labels)\n",
        "print(f\"Our model_1 (MultinomialNB) achieves an accuracy of:{score_1*100:.2f}%\")\n",
        "\n",
        "\n",
        "# RandomForestClassifier\n",
        "model_2 = Pipeline([\n",
        "                    (\"tfidf\", TfidfVectorizer()), # Convert words to numbers using tfidf \n",
        "                    (\"clf\", RandomForestClassifier()) # model the text\n",
        "])\n",
        "\n",
        "model_2.fit(train_sentences, train_labels)\n",
        "score_2 = model_2.score(val_sentences, val_labels)\n",
        "print(f\"Our model_2 (RandomForestClassifier) achieves an accuracy of:{score_2*100:.2f}%\")\n",
        "\n",
        "\n",
        "# LogisticRegression\n",
        "model_3 = Pipeline([\n",
        "                    (\"tfidf\", TfidfVectorizer()), # Convert words to numbers using tfidf \n",
        "                    (\"clf\", LogisticRegression()) # model the text\n",
        "])\n",
        "\n",
        "model_3.fit(train_sentences, train_labels)\n",
        "score_3 = model_3.score(val_sentences, val_labels)\n",
        "print(f\"Our model_3 (LogisticRegression) achieves an accuracy of:{score_3*100:.2f}%\")\n",
        "\n",
        "\n",
        "# SGDClassifier\n",
        "model_4 = Pipeline([\n",
        "                    (\"tfidf\", TfidfVectorizer()), # Convert words to numbers using tfidf \n",
        "                    (\"clf\", SGDClassifier()) # model the text\n",
        "])\n",
        "\n",
        "model_4.fit(train_sentences, train_labels)\n",
        "score_4 = model_4.score(val_sentences, val_labels)\n",
        "print(f\"Our model_4 (SGDClassifier) achieves an accuracy of:{score_4*100:.2f}%\")"
      ],
      "execution_count": 14,
      "outputs": [
        {
          "output_type": "stream",
          "name": "stdout",
          "text": [
            "Our model_0 (XGBClassifier) achieves an accuracy of:94.17%\n",
            "Our model_1 (MultinomialNB) achieves an accuracy of:93.52%\n",
            "Our model_2 (RandomForestClassifier) achieves an accuracy of:96.15%\n",
            "Our model_3 (LogisticRegression) achieves an accuracy of:94.81%\n",
            "Our model_4 (SGDClassifier) achieves an accuracy of:95.12%\n"
          ]
        }
      ]
    },
    {
      "cell_type": "code",
      "metadata": {
        "colab": {
          "base_uri": "https://localhost:8080/"
        },
        "id": "UH-IVn1V7otm",
        "outputId": "781f3661-ce23-4ce3-934d-ccc22278114f"
      },
      "source": [
        "# Create a Keras Layer using the USE pretrained layer from tensorflow hub \n",
        "sentence_encoder_layer = hub.KerasLayer(\"https://tfhub.dev/google/universal-sentence-encoder/4\",\n",
        "                                        input_shape=[],\n",
        "                                        dtype=tf.string,\n",
        "                                        trainable=False,\n",
        "                                        name=\"USE\"\n",
        "                                        )\n",
        "# Create model using the Sequential API \n",
        "model_5 = tf.keras.Sequential([\n",
        "  sentence_encoder_layer,\n",
        "  layers.Dense(64, activation=\"relu\"),\n",
        "  layers.Dense(1, activation=\"sigmoid\")\n",
        "], name = \"model_5_USE\")\n",
        "\n",
        "# Compile \n",
        "model_5.compile(loss=\"binary_crossentropy\",\n",
        "                optimizer=tf.keras.optimizers.Adam(),\n",
        "                metrics=[\"accuracy\"])\n",
        "model_5.summary()"
      ],
      "execution_count": 15,
      "outputs": [
        {
          "output_type": "stream",
          "name": "stderr",
          "text": [
            "INFO:absl:Using /tmp/tfhub_modules to cache modules.\n",
            "INFO:absl:Downloading TF-Hub Module 'https://tfhub.dev/google/universal-sentence-encoder/4'.\n",
            "INFO:absl:Downloaded https://tfhub.dev/google/universal-sentence-encoder/4, Total size: 987.47MB\n",
            "INFO:absl:Downloaded TF-Hub Module 'https://tfhub.dev/google/universal-sentence-encoder/4'.\n"
          ]
        },
        {
          "output_type": "stream",
          "name": "stdout",
          "text": [
            "Model: \"model_5_USE\"\n",
            "_________________________________________________________________\n",
            " Layer (type)                Output Shape              Param #   \n",
            "=================================================================\n",
            " USE (KerasLayer)            (None, 512)               256797824 \n",
            "                                                                 \n",
            " dense (Dense)               (None, 64)                32832     \n",
            "                                                                 \n",
            " dense_1 (Dense)             (None, 1)                 65        \n",
            "                                                                 \n",
            "=================================================================\n",
            "Total params: 256,830,721\n",
            "Trainable params: 32,897\n",
            "Non-trainable params: 256,797,824\n",
            "_________________________________________________________________\n"
          ]
        }
      ]
    },
    {
      "cell_type": "code",
      "metadata": {
        "colab": {
          "base_uri": "https://localhost:8080/"
        },
        "id": "STlQckNK-gOe",
        "outputId": "a579971e-a53c-47ad-9693-c50765101c6a"
      },
      "source": [
        "# Train a classifier on top of USE pretrained embeddings \n",
        "model_5_history = model_5.fit(train_sentences,\n",
        "                              train_labels,\n",
        "                              epochs=15,\n",
        "                              validation_data=(val_sentences, val_labels)\n",
        "                              )"
      ],
      "execution_count": 16,
      "outputs": [
        {
          "output_type": "stream",
          "name": "stdout",
          "text": [
            "Epoch 1/15\n",
            "800/800 [==============================] - 23s 23ms/step - loss: 0.1763 - accuracy: 0.9434 - val_loss: 0.1366 - val_accuracy: 0.9479\n",
            "Epoch 2/15\n",
            "800/800 [==============================] - 18s 22ms/step - loss: 0.1225 - accuracy: 0.9564 - val_loss: 0.1289 - val_accuracy: 0.9514\n",
            "Epoch 3/15\n",
            "800/800 [==============================] - 18s 22ms/step - loss: 0.1119 - accuracy: 0.9598 - val_loss: 0.1226 - val_accuracy: 0.9550\n",
            "Epoch 4/15\n",
            "800/800 [==============================] - 18s 23ms/step - loss: 0.1017 - accuracy: 0.9628 - val_loss: 0.1195 - val_accuracy: 0.9554\n",
            "Epoch 5/15\n",
            "800/800 [==============================] - 18s 23ms/step - loss: 0.0928 - accuracy: 0.9671 - val_loss: 0.1164 - val_accuracy: 0.9578\n",
            "Epoch 6/15\n",
            "800/800 [==============================] - 19s 23ms/step - loss: 0.0851 - accuracy: 0.9691 - val_loss: 0.1132 - val_accuracy: 0.9576\n",
            "Epoch 7/15\n",
            "800/800 [==============================] - 18s 22ms/step - loss: 0.0785 - accuracy: 0.9711 - val_loss: 0.1130 - val_accuracy: 0.9573\n",
            "Epoch 8/15\n",
            "800/800 [==============================] - 18s 22ms/step - loss: 0.0715 - accuracy: 0.9745 - val_loss: 0.1129 - val_accuracy: 0.9589\n",
            "Epoch 9/15\n",
            "800/800 [==============================] - 18s 23ms/step - loss: 0.0656 - accuracy: 0.9763 - val_loss: 0.1131 - val_accuracy: 0.9578\n",
            "Epoch 10/15\n",
            "800/800 [==============================] - 18s 22ms/step - loss: 0.0602 - accuracy: 0.9797 - val_loss: 0.1131 - val_accuracy: 0.9576\n",
            "Epoch 11/15\n",
            "800/800 [==============================] - 18s 22ms/step - loss: 0.0547 - accuracy: 0.9820 - val_loss: 0.1126 - val_accuracy: 0.9598\n",
            "Epoch 12/15\n",
            "800/800 [==============================] - 17s 22ms/step - loss: 0.0493 - accuracy: 0.9846 - val_loss: 0.1110 - val_accuracy: 0.9600\n",
            "Epoch 13/15\n",
            "800/800 [==============================] - 18s 22ms/step - loss: 0.0445 - accuracy: 0.9863 - val_loss: 0.1148 - val_accuracy: 0.9614\n",
            "Epoch 14/15\n",
            "800/800 [==============================] - 18s 22ms/step - loss: 0.0396 - accuracy: 0.9889 - val_loss: 0.1176 - val_accuracy: 0.9598\n",
            "Epoch 15/15\n",
            "800/800 [==============================] - 18s 22ms/step - loss: 0.0353 - accuracy: 0.9906 - val_loss: 0.1202 - val_accuracy: 0.9598\n"
          ]
        }
      ]
    },
    {
      "cell_type": "code",
      "metadata": {
        "id": "o-cPTnGK7z85"
      },
      "source": [
        "# Make predictions with USE TF Hub Model\n",
        "model_5_pred_probs = model_5.predict(val_sentences)"
      ],
      "execution_count": 17,
      "outputs": []
    },
    {
      "cell_type": "code",
      "metadata": {
        "id": "cNs_vpFurexI"
      },
      "source": [
        "# Making predictions on validation data \n",
        "y0_predict = model_0.predict(val_sentences)\n",
        "y1_predict = model_1.predict(val_sentences)\n",
        "y2_predict = model_2.predict(val_sentences)\n",
        "y3_predict = model_3.predict(val_sentences)\n",
        "y4_predict = model_4.predict(val_sentences)\n",
        "y5_predict = tf.squeeze(tf.round(model_5_pred_probs))"
      ],
      "execution_count": 18,
      "outputs": []
    },
    {
      "cell_type": "markdown",
      "metadata": {
        "id": "_6ygGyCZxlvG"
      },
      "source": [
        "## Creating an Evaluation Function for Model Experiments"
      ]
    },
    {
      "cell_type": "code",
      "metadata": {
        "id": "TvgKvIEoSAxn"
      },
      "source": [
        "# Function to evaluate: accuracy, precision, recall, f1-score\n",
        "def calculate_results(y_true,y_pred):\n",
        "  \"\"\"\n",
        "  Calculates model accuracy, precision, recall and f1 score of a binary classification model \n",
        "  \"\"\"\n",
        "  # Calculate model accuracy \n",
        "  model_accuracy = accuracy_score(y_true, y_pred) * 100\n",
        "  # Calculate model precision, recall and f1-score using \"weighted\" average \n",
        "  model_precision, model_recall, model_f1, _ = precision_recall_fscore_support(y_true, y_pred, average=\"weighted\")\n",
        "  model_results = {\"accuracy\": model_accuracy,\n",
        "                  \"precision\": model_precision,\n",
        "                  \"recall\": model_recall,\n",
        "                  \"f1\": model_f1}\n",
        "  return model_results\n"
      ],
      "execution_count": 19,
      "outputs": []
    },
    {
      "cell_type": "code",
      "metadata": {
        "colab": {
          "base_uri": "https://localhost:8080/"
        },
        "id": "UEHl38jNsPJ6",
        "outputId": "ffb379d9-f704-4364-e1d5-17a75eeab767"
      },
      "source": [
        "# Get baseline results \n",
        "model_0_results = calculate_results(y_true=val_labels,\n",
        "                                     y_pred= y0_predict)\n",
        "model_0_results"
      ],
      "execution_count": 20,
      "outputs": [
        {
          "output_type": "execute_result",
          "data": {
            "text/plain": [
              "{'accuracy': 94.16549350852495,\n",
              " 'f1': 0.9240085458148133,\n",
              " 'precision': 0.9416924045330635,\n",
              " 'recall': 0.9416549350852494}"
            ]
          },
          "metadata": {},
          "execution_count": 20
        }
      ]
    },
    {
      "cell_type": "code",
      "metadata": {
        "colab": {
          "base_uri": "https://localhost:8080/"
        },
        "id": "kBHza1F5veTB",
        "outputId": "8b72e086-0082-495d-be2b-a1496f29a777"
      },
      "source": [
        "# Get model_1 results \n",
        "model_1_results = calculate_results(y_true=val_labels,\n",
        "                                     y_pred= y1_predict)\n",
        "model_1_results"
      ],
      "execution_count": 21,
      "outputs": [
        {
          "output_type": "execute_result",
          "data": {
            "text/plain": [
              "{'accuracy': 93.52416705771938,\n",
              " 'f1': 0.9103555383590493,\n",
              " 'precision': 0.9394690355064025,\n",
              " 'recall': 0.9352416705771938}"
            ]
          },
          "metadata": {},
          "execution_count": 21
        }
      ]
    },
    {
      "cell_type": "code",
      "metadata": {
        "colab": {
          "base_uri": "https://localhost:8080/"
        },
        "id": "Djepe_ea3nqi",
        "outputId": "7fa7ccb3-a820-474c-f4fe-8b5ab63bf77e"
      },
      "source": [
        "# Get model_2 results \n",
        "model_2_results = calculate_results(y_true=val_labels,\n",
        "                                     y_pred= y2_predict)\n",
        "model_2_results"
      ],
      "execution_count": 22,
      "outputs": [
        {
          "output_type": "execute_result",
          "data": {
            "text/plain": [
              "{'accuracy': 96.15204129516658,\n",
              " 'f1': 0.9559769580284785,\n",
              " 'precision': 0.9608748344734512,\n",
              " 'recall': 0.9615204129516659}"
            ]
          },
          "metadata": {},
          "execution_count": 22
        }
      ]
    },
    {
      "cell_type": "code",
      "metadata": {
        "colab": {
          "base_uri": "https://localhost:8080/"
        },
        "id": "3btXdttLYe1p",
        "outputId": "4cdf1f5c-e6e0-456c-9571-1275237cec82"
      },
      "source": [
        "# Get model_3 results \n",
        "model_3_results = calculate_results(y_true=val_labels,\n",
        "                                     y_pred= y3_predict)\n",
        "model_3_results"
      ],
      "execution_count": 23,
      "outputs": [
        {
          "output_type": "execute_result",
          "data": {
            "text/plain": [
              "{'accuracy': 94.80681995933051,\n",
              " 'f1': 0.9359882323688977,\n",
              " 'precision': 0.9466040133565261,\n",
              " 'recall': 0.9480681995933051}"
            ]
          },
          "metadata": {},
          "execution_count": 23
        }
      ]
    },
    {
      "cell_type": "code",
      "metadata": {
        "colab": {
          "base_uri": "https://localhost:8080/"
        },
        "id": "icJotQ7HYi7D",
        "outputId": "e415b68b-7933-4799-a5c4-158de20c04ed"
      },
      "source": [
        "# Get model_4 results \n",
        "model_4_results = calculate_results(y_true=val_labels,\n",
        "                                     y_pred= y4_predict)\n",
        "model_4_results"
      ],
      "execution_count": 24,
      "outputs": [
        {
          "output_type": "execute_result",
          "data": {
            "text/plain": [
              "{'accuracy': 95.11966213045518,\n",
              " 'f1': 0.9403984140096124,\n",
              " 'precision': 0.9512663458826891,\n",
              " 'recall': 0.9511966213045518}"
            ]
          },
          "metadata": {},
          "execution_count": 24
        }
      ]
    },
    {
      "cell_type": "code",
      "metadata": {
        "colab": {
          "base_uri": "https://localhost:8080/"
        },
        "id": "FIYj0isc_koN",
        "outputId": "45369ef3-efd0-4afa-91e7-7569fc87b739"
      },
      "source": [
        "# Get model_5 results \n",
        "model_5_results = calculate_results(y_true = val_labels,\n",
        "                                    y_pred = y5_predict)\n",
        "model_5_results"
      ],
      "execution_count": 25,
      "outputs": [
        {
          "output_type": "execute_result",
          "data": {
            "text/plain": [
              "{'accuracy': 95.97997810104802,\n",
              " 'f1': 0.9573663028453151,\n",
              " 'precision': 0.9567981608471928,\n",
              " 'recall': 0.9597997810104802}"
            ]
          },
          "metadata": {},
          "execution_count": 25
        }
      ]
    },
    {
      "cell_type": "markdown",
      "metadata": {
        "id": "HpdS7yDPweWo"
      },
      "source": [
        "## Comparing the Performance of the Models"
      ]
    },
    {
      "cell_type": "code",
      "metadata": {
        "colab": {
          "base_uri": "https://localhost:8080/",
          "height": 235
        },
        "id": "88q6UNm0TI01",
        "outputId": "2630545a-e114-4d3e-a07c-ba3b38f3e96d"
      },
      "source": [
        "models_results_df = pd.DataFrame(data={'model_0 (XGBClassifier)': model_0_results,\n",
        "                                       'model_1 (MultinomialNB)': model_1_results,\n",
        "                                       'model_2 (RandomForestClassifier)' : model_2_results,\n",
        "                                       'model_3 (LogisticRegression)': model_3_results,\n",
        "                                       'model_4 (SGDClassifier)' : model_4_results,\n",
        "                                       'model_5 (TFhub_USE_Encoder)' : model_5_results}).transpose()\n",
        "models_results_df"
      ],
      "execution_count": 26,
      "outputs": [
        {
          "output_type": "execute_result",
          "data": {
            "text/html": [
              "<div>\n",
              "<style scoped>\n",
              "    .dataframe tbody tr th:only-of-type {\n",
              "        vertical-align: middle;\n",
              "    }\n",
              "\n",
              "    .dataframe tbody tr th {\n",
              "        vertical-align: top;\n",
              "    }\n",
              "\n",
              "    .dataframe thead th {\n",
              "        text-align: right;\n",
              "    }\n",
              "</style>\n",
              "<table border=\"1\" class=\"dataframe\">\n",
              "  <thead>\n",
              "    <tr style=\"text-align: right;\">\n",
              "      <th></th>\n",
              "      <th>accuracy</th>\n",
              "      <th>precision</th>\n",
              "      <th>recall</th>\n",
              "      <th>f1</th>\n",
              "    </tr>\n",
              "  </thead>\n",
              "  <tbody>\n",
              "    <tr>\n",
              "      <th>model_0 (XGBClassifier)</th>\n",
              "      <td>94.165494</td>\n",
              "      <td>0.941692</td>\n",
              "      <td>0.941655</td>\n",
              "      <td>0.924009</td>\n",
              "    </tr>\n",
              "    <tr>\n",
              "      <th>model_1 (MultinomialNB)</th>\n",
              "      <td>93.524167</td>\n",
              "      <td>0.939469</td>\n",
              "      <td>0.935242</td>\n",
              "      <td>0.910356</td>\n",
              "    </tr>\n",
              "    <tr>\n",
              "      <th>model_2 (RandomForestClassifier)</th>\n",
              "      <td>96.152041</td>\n",
              "      <td>0.960875</td>\n",
              "      <td>0.961520</td>\n",
              "      <td>0.955977</td>\n",
              "    </tr>\n",
              "    <tr>\n",
              "      <th>model_3 (LogisticRegression)</th>\n",
              "      <td>94.806820</td>\n",
              "      <td>0.946604</td>\n",
              "      <td>0.948068</td>\n",
              "      <td>0.935988</td>\n",
              "    </tr>\n",
              "    <tr>\n",
              "      <th>model_4 (SGDClassifier)</th>\n",
              "      <td>95.119662</td>\n",
              "      <td>0.951266</td>\n",
              "      <td>0.951197</td>\n",
              "      <td>0.940398</td>\n",
              "    </tr>\n",
              "    <tr>\n",
              "      <th>model_5 (TFhub_USE_Encoder)</th>\n",
              "      <td>95.979978</td>\n",
              "      <td>0.956798</td>\n",
              "      <td>0.959800</td>\n",
              "      <td>0.957366</td>\n",
              "    </tr>\n",
              "  </tbody>\n",
              "</table>\n",
              "</div>"
            ],
            "text/plain": [
              "                                   accuracy  precision    recall        f1\n",
              "model_0 (XGBClassifier)           94.165494   0.941692  0.941655  0.924009\n",
              "model_1 (MultinomialNB)           93.524167   0.939469  0.935242  0.910356\n",
              "model_2 (RandomForestClassifier)  96.152041   0.960875  0.961520  0.955977\n",
              "model_3 (LogisticRegression)      94.806820   0.946604  0.948068  0.935988\n",
              "model_4 (SGDClassifier)           95.119662   0.951266  0.951197  0.940398\n",
              "model_5 (TFhub_USE_Encoder)       95.979978   0.956798  0.959800  0.957366"
            ]
          },
          "metadata": {},
          "execution_count": 26
        }
      ]
    },
    {
      "cell_type": "code",
      "metadata": {
        "id": "XfqqTZqVu94L"
      },
      "source": [
        "# Reduce the accuracy to the same scale as other metrics \n",
        "models_results_df[\"accuracy\"]= models_results_df[\"accuracy\"]/100"
      ],
      "execution_count": 27,
      "outputs": []
    },
    {
      "cell_type": "code",
      "metadata": {
        "colab": {
          "base_uri": "https://localhost:8080/",
          "height": 707
        },
        "id": "oohavLdcuhXf",
        "outputId": "75dfc940-c8ad-48b1-bd16-739a358e2e3f"
      },
      "source": [
        "# Plot and compare all of the model results\n",
        "models_results_df.plot(kind=\"bar\", figsize=(10,7)).legend(bbox_to_anchor=(1.0,1.0));"
      ],
      "execution_count": 43,
      "outputs": [
        {
          "output_type": "display_data",
          "data": {
            "image/png": "[encoded data removed]",
            "text/plain": [
              "<Figure size 720x504 with 1 Axes>"
            ]
          },
          "metadata": {}
        }
      ]
    },
    {
      "cell_type": "code",
      "metadata": {
        "colab": {
          "base_uri": "https://localhost:8080/",
          "height": 708
        },
        "id": "B7smt138OwkI",
        "outputId": "e8da187f-1efc-48a5-9c38-f0a8d5ccdec5"
      },
      "source": [
        "# Sort model results by f1-score\n",
        "models_results_df.sort_values(\"f1\", ascending=False)[\"f1\"].plot(kind=\"bar\", figsize=(10, 7));"
      ],
      "execution_count": 44,
      "outputs": [
        {
          "output_type": "display_data",
          "data": {
            "image/png": "[encoded data removed]",
            "text/plain": [
              "<Figure size 720x504 with 1 Axes>"
            ]
          },
          "metadata": {}
        }
      ]
    },
    {
      "cell_type": "code",
      "metadata": {
        "colab": {
          "base_uri": "https://localhost:8080/"
        },
        "id": "6DITuyAvn46Y",
        "outputId": "64b0e7a5-259a-4789-89ea-db0bc0fddb03"
      },
      "source": [
        "# Confusion matrix\n",
        "cm_0 = confusion_matrix(val_labels, y0_predict)\n",
        "cm_0"
      ],
      "execution_count": 30,
      "outputs": [
        {
          "output_type": "execute_result",
          "data": {
            "text/plain": [
              "array([[5922,    6],\n",
              "       [ 367,   98]])"
            ]
          },
          "metadata": {},
          "execution_count": 30
        }
      ]
    },
    {
      "cell_type": "code",
      "metadata": {
        "colab": {
          "base_uri": "https://localhost:8080/"
        },
        "id": "erjVzRmEoSjY",
        "outputId": "06311750-bd98-471a-94dc-387af3d41e4e"
      },
      "source": [
        "cm_1 = confusion_matrix(val_labels, y1_predict)\n",
        "cm_1"
      ],
      "execution_count": 31,
      "outputs": [
        {
          "output_type": "execute_result",
          "data": {
            "text/plain": [
              "array([[5928,    0],\n",
              "       [ 414,   51]])"
            ]
          },
          "metadata": {},
          "execution_count": 31
        }
      ]
    },
    {
      "cell_type": "code",
      "metadata": {
        "colab": {
          "base_uri": "https://localhost:8080/"
        },
        "id": "khPTxZe33rqF",
        "outputId": "ddda8428-350a-40b5-b427-50a06deec3d7"
      },
      "source": [
        "cm_2 = confusion_matrix(val_labels, y2_predict)\n",
        "cm_2"
      ],
      "execution_count": 32,
      "outputs": [
        {
          "output_type": "execute_result",
          "data": {
            "text/plain": [
              "array([[5914,   14],\n",
              "       [ 232,  233]])"
            ]
          },
          "metadata": {},
          "execution_count": 32
        }
      ]
    },
    {
      "cell_type": "code",
      "metadata": {
        "colab": {
          "base_uri": "https://localhost:8080/"
        },
        "id": "IHJWOOLEYov2",
        "outputId": "2c8bbc5a-abf0-4bc1-d05b-ad7bd95d1a28"
      },
      "source": [
        "cm_3 = confusion_matrix(val_labels, y3_predict)\n",
        "cm_3"
      ],
      "execution_count": 33,
      "outputs": [
        {
          "output_type": "execute_result",
          "data": {
            "text/plain": [
              "array([[5915,   13],\n",
              "       [ 319,  146]])"
            ]
          },
          "metadata": {},
          "execution_count": 33
        }
      ]
    },
    {
      "cell_type": "code",
      "metadata": {
        "colab": {
          "base_uri": "https://localhost:8080/"
        },
        "id": "Xjp7aZ5rYr8b",
        "outputId": "5c7ab94f-1123-4cd2-fa9f-feda247fab7f"
      },
      "source": [
        "cm_4 = confusion_matrix(val_labels, y4_predict)\n",
        "cm_4"
      ],
      "execution_count": 34,
      "outputs": [
        {
          "output_type": "execute_result",
          "data": {
            "text/plain": [
              "array([[5920,    8],\n",
              "       [ 304,  161]])"
            ]
          },
          "metadata": {},
          "execution_count": 34
        }
      ]
    },
    {
      "cell_type": "code",
      "metadata": {
        "colab": {
          "base_uri": "https://localhost:8080/"
        },
        "id": "YBBrLqW5Bvt2",
        "outputId": "20c1dc0a-bdca-4707-ea13-bccc3e328409"
      },
      "source": [
        "cm_5 = confusion_matrix(val_labels, y5_predict)\n",
        "cm_5"
      ],
      "execution_count": 35,
      "outputs": [
        {
          "output_type": "execute_result",
          "data": {
            "text/plain": [
              "array([[5853,   75],\n",
              "       [ 182,  283]])"
            ]
          },
          "metadata": {},
          "execution_count": 35
        }
      ]
    },
    {
      "cell_type": "code",
      "metadata": {
        "colab": {
          "base_uri": "https://localhost:8080/",
          "height": 1000
        },
        "id": "NHOIf_k5wzG_",
        "outputId": "131a6088-e9df-4682-b940-bf850dc5f368"
      },
      "source": [
        "sns.set(font_scale=1.5)\n",
        "# Plot the confusion matrix for each model\n",
        "fig, axs = plt.subplots(3, 2,figsize=(10, 14))\n",
        "sns.heatmap(confusion_matrix(val_labels, y0_predict),\n",
        "                  annot=True,\n",
        "                  cbar=False,\n",
        "                  fmt='d',\n",
        "                  ax=axs[0, 0],\n",
        "                  cmap= 'Purples'\n",
        "                     )\n",
        "axs[0, 0].set_title('model_0 (XGBClassifier)')\n",
        "axs[0, 0].set_xlabel(\"True label\")\n",
        "axs[0, 0].set_ylabel(\"Predicted label\")\n",
        "\n",
        "sns.heatmap(confusion_matrix(val_labels, y1_predict),\n",
        "                  annot=True,\n",
        "                  cbar=False,\n",
        "                  fmt='d',\n",
        "                  ax=axs[0, 1],\n",
        "                  cmap='PuRd'\n",
        "                     )\n",
        "axs[0, 1].set_title('model_1 (MultinomialNB)')\n",
        "axs[0, 1].set_xlabel(\"True label\")\n",
        "axs[0, 1].set_ylabel(\"Predicted label\")\n",
        "\n",
        "\n",
        "sns.heatmap(confusion_matrix(val_labels, y2_predict),\n",
        "                  annot=True,\n",
        "                  cbar=False,\n",
        "                  fmt='d',\n",
        "                  ax=axs[1, 0],\n",
        "                  cmap='Reds'\n",
        "                     )\n",
        "axs[1, 0].set_title('model_2 (RandomForestClassifier)')\n",
        "axs[1, 0].set_xlabel(\"True label\")\n",
        "axs[1, 0].set_ylabel(\"Predicted label\")\n",
        "\n",
        "\n",
        "sns.heatmap(confusion_matrix(val_labels, y3_predict),\n",
        "                  annot=True,\n",
        "                  cbar=False,\n",
        "                  fmt='d',\n",
        "                  ax=axs[1, 1],\n",
        "                  cmap='Greens'\n",
        "                     )\n",
        "axs[1, 1].set_title('model_3 (LogisticRegression)')\n",
        "axs[1, 1].set_xlabel(\"True label\")\n",
        "axs[1, 1].set_ylabel(\"Predicted label\")\n",
        "\n",
        "\n",
        "\n",
        "sns.heatmap(confusion_matrix(val_labels, y4_predict),\n",
        "                  annot=True,\n",
        "                  cbar=False,\n",
        "                  fmt='d',\n",
        "                  ax=axs[2, 0],\n",
        "                  cmap='Oranges'\n",
        "                     )\n",
        "axs[2, 0].set_title('model_4 (SGDClassifier)')\n",
        "axs[2, 0].set_xlabel(\"True label\")\n",
        "axs[2, 0].set_ylabel(\"Predicted label\")\n",
        "\n",
        "\n",
        "sns.heatmap(confusion_matrix(val_labels, y5_predict),\n",
        "                  annot=True,\n",
        "                  cbar=False,\n",
        "                  fmt='d',\n",
        "                  ax=axs[2, 1],\n",
        "                  cmap='Blues'\n",
        "                     )\n",
        "axs[2, 1].set_title('model_5 (TFhub_USE_Encoder)')\n",
        "axs[2, 1].set_xlabel(\"True label\")\n",
        "axs[2, 1].set_ylabel(\"Predicted label\")\n",
        "plt.tight_layout(); "
      ],
      "execution_count": 36,
      "outputs": [
        {
          "output_type": "display_data",
          "data": {
            "image/png": "[encoded data removed]",
            "text/plain": [
              "<Figure size 720x1008 with 6 Axes>"
            ]
          },
          "metadata": {}
        }
      ]
    },
    {
      "cell_type": "code",
      "metadata": {
        "id": "CEf8Z_PiIFRw"
      },
      "source": [
        "# Save the best model\n",
        "model_5.save('tfhub_use_encoder.h5')"
      ],
      "execution_count": null,
      "outputs": []
    },
    {
      "cell_type": "markdown",
      "metadata": {
        "id": "Wpw7Hk_buyca"
      },
      "source": [
        "## Finding the Most Wrong Examples"
      ]
    },
    {
      "cell_type": "code",
      "metadata": {
        "id": "RCEF-_4Mu4Gy",
        "colab": {
          "base_uri": "https://localhost:8080/",
          "height": 204
        },
        "outputId": "49c40cb2-cb2d-49d5-eb87-72391ef7a7ce"
      },
      "source": [
        "# Create DataFrame with validation sentences and best performing model prediction labels + probabilities  \n",
        "val_df = pd.DataFrame({\"text\": val_sentences,\n",
        "                       \"target\": val_labels,\n",
        "                       \"pred\": y5_predict,\n",
        "                       \"pred_prob\": tf.squeeze(model_5_pred_probs)})\n",
        "val_df.head()"
      ],
      "execution_count": 37,
      "outputs": [
        {
          "output_type": "execute_result",
          "data": {
            "text/html": [
              "<div>\n",
              "<style scoped>\n",
              "    .dataframe tbody tr th:only-of-type {\n",
              "        vertical-align: middle;\n",
              "    }\n",
              "\n",
              "    .dataframe tbody tr th {\n",
              "        vertical-align: top;\n",
              "    }\n",
              "\n",
              "    .dataframe thead th {\n",
              "        text-align: right;\n",
              "    }\n",
              "</style>\n",
              "<table border=\"1\" class=\"dataframe\">\n",
              "  <thead>\n",
              "    <tr style=\"text-align: right;\">\n",
              "      <th></th>\n",
              "      <th>text</th>\n",
              "      <th>target</th>\n",
              "      <th>pred</th>\n",
              "      <th>pred_prob</th>\n",
              "    </tr>\n",
              "  </thead>\n",
              "  <tbody>\n",
              "    <tr>\n",
              "      <th>0</th>\n",
              "      <td>turn it in abc for 20 20 sobering</td>\n",
              "      <td>0</td>\n",
              "      <td>0.0</td>\n",
              "      <td>0.020925</td>\n",
              "    </tr>\n",
              "    <tr>\n",
              "      <th>1</th>\n",
              "      <td>oh no thursdays is noodle day what have you do...</td>\n",
              "      <td>0</td>\n",
              "      <td>0.0</td>\n",
              "      <td>0.000044</td>\n",
              "    </tr>\n",
              "    <tr>\n",
              "      <th>2</th>\n",
              "      <td>here we go let s do this people icrs2016</td>\n",
              "      <td>0</td>\n",
              "      <td>0.0</td>\n",
              "      <td>0.046971</td>\n",
              "    </tr>\n",
              "    <tr>\n",
              "      <th>3</th>\n",
              "      <td>water in me and around me sam sierra michael b...</td>\n",
              "      <td>0</td>\n",
              "      <td>0.0</td>\n",
              "      <td>0.000387</td>\n",
              "    </tr>\n",
              "    <tr>\n",
              "      <th>4</th>\n",
              "      <td>awesome beginner gopro mounts super to use</td>\n",
              "      <td>0</td>\n",
              "      <td>0.0</td>\n",
              "      <td>0.000004</td>\n",
              "    </tr>\n",
              "  </tbody>\n",
              "</table>\n",
              "</div>"
            ],
            "text/plain": [
              "                                                text  target  pred  pred_prob\n",
              "0                  turn it in abc for 20 20 sobering       0   0.0   0.020925\n",
              "1  oh no thursdays is noodle day what have you do...       0   0.0   0.000044\n",
              "2           here we go let s do this people icrs2016       0   0.0   0.046971\n",
              "3  water in me and around me sam sierra michael b...       0   0.0   0.000387\n",
              "4         awesome beginner gopro mounts super to use       0   0.0   0.000004"
            ]
          },
          "metadata": {},
          "execution_count": 37
        }
      ]
    },
    {
      "cell_type": "code",
      "metadata": {
        "colab": {
          "base_uri": "https://localhost:8080/",
          "height": 419
        },
        "id": "OkOR_sgeLCgW",
        "outputId": "f93655de-d6d5-40e8-eda7-19f1cfe2a49c"
      },
      "source": [
        "# Find the wrong predictions and sort by prediction probabilities \n",
        "most_wrong = val_df[val_df[\"target\"] !=val_df[\"pred\"]].sort_values(\"pred_prob\", ascending=False)\n",
        "most_wrong"
      ],
      "execution_count": 38,
      "outputs": [
        {
          "output_type": "execute_result",
          "data": {
            "text/html": [
              "<div>\n",
              "<style scoped>\n",
              "    .dataframe tbody tr th:only-of-type {\n",
              "        vertical-align: middle;\n",
              "    }\n",
              "\n",
              "    .dataframe tbody tr th {\n",
              "        vertical-align: top;\n",
              "    }\n",
              "\n",
              "    .dataframe thead th {\n",
              "        text-align: right;\n",
              "    }\n",
              "</style>\n",
              "<table border=\"1\" class=\"dataframe\">\n",
              "  <thead>\n",
              "    <tr style=\"text-align: right;\">\n",
              "      <th></th>\n",
              "      <th>text</th>\n",
              "      <th>target</th>\n",
              "      <th>pred</th>\n",
              "      <th>pred_prob</th>\n",
              "    </tr>\n",
              "  </thead>\n",
              "  <tbody>\n",
              "    <tr>\n",
              "      <th>4272</th>\n",
              "      <td>lgbtqhatestrumppay but luvs homophobic misogyn...</td>\n",
              "      <td>0</td>\n",
              "      <td>1.0</td>\n",
              "      <td>0.998476</td>\n",
              "    </tr>\n",
              "    <tr>\n",
              "      <th>6184</th>\n",
              "      <td>south sudan unrest exacerbated by conflict amo...</td>\n",
              "      <td>0</td>\n",
              "      <td>1.0</td>\n",
              "      <td>0.996114</td>\n",
              "    </tr>\n",
              "    <tr>\n",
              "      <th>558</th>\n",
              "      <td>what lies these dt suppoers are spreading look...</td>\n",
              "      <td>0</td>\n",
              "      <td>1.0</td>\n",
              "      <td>0.995952</td>\n",
              "    </tr>\n",
              "    <tr>\n",
              "      <th>6054</th>\n",
              "      <td>i award thee most cucked tweet in history prep...</td>\n",
              "      <td>0</td>\n",
              "      <td>1.0</td>\n",
              "      <td>0.993068</td>\n",
              "    </tr>\n",
              "    <tr>\n",
              "      <th>1344</th>\n",
              "      <td>ali spoke the truth about white folks period f...</td>\n",
              "      <td>0</td>\n",
              "      <td>1.0</td>\n",
              "      <td>0.983793</td>\n",
              "    </tr>\n",
              "    <tr>\n",
              "      <th>...</th>\n",
              "      <td>...</td>\n",
              "      <td>...</td>\n",
              "      <td>...</td>\n",
              "      <td>...</td>\n",
              "    </tr>\n",
              "    <tr>\n",
              "      <th>5222</th>\n",
              "      <td>2 99 2016release ebook book the summer that me...</td>\n",
              "      <td>1</td>\n",
              "      <td>0.0</td>\n",
              "      <td>0.000210</td>\n",
              "    </tr>\n",
              "    <tr>\n",
              "      <th>3620</th>\n",
              "      <td>now ask yourself if you really want to follow ...</td>\n",
              "      <td>1</td>\n",
              "      <td>0.0</td>\n",
              "      <td>0.000082</td>\n",
              "    </tr>\n",
              "    <tr>\n",
              "      <th>5568</th>\n",
              "      <td>good afternoon sweety send me letter</td>\n",
              "      <td>1</td>\n",
              "      <td>0.0</td>\n",
              "      <td>0.000046</td>\n",
              "    </tr>\n",
              "    <tr>\n",
              "      <th>1063</th>\n",
              "      <td>funny can t get rid of 7 1stammendment so many...</td>\n",
              "      <td>1</td>\n",
              "      <td>0.0</td>\n",
              "      <td>0.000031</td>\n",
              "    </tr>\n",
              "    <tr>\n",
              "      <th>1153</th>\n",
              "      <td>i m blessedt iconic lovebeingalegend</td>\n",
              "      <td>1</td>\n",
              "      <td>0.0</td>\n",
              "      <td>0.000002</td>\n",
              "    </tr>\n",
              "  </tbody>\n",
              "</table>\n",
              "<p>257 rows × 4 columns</p>\n",
              "</div>"
            ],
            "text/plain": [
              "                                                   text  ...  pred_prob\n",
              "4272  lgbtqhatestrumppay but luvs homophobic misogyn...  ...   0.998476\n",
              "6184  south sudan unrest exacerbated by conflict amo...  ...   0.996114\n",
              "558   what lies these dt suppoers are spreading look...  ...   0.995952\n",
              "6054  i award thee most cucked tweet in history prep...  ...   0.993068\n",
              "1344  ali spoke the truth about white folks period f...  ...   0.983793\n",
              "...                                                 ...  ...        ...\n",
              "5222  2 99 2016release ebook book the summer that me...  ...   0.000210\n",
              "3620  now ask yourself if you really want to follow ...  ...   0.000082\n",
              "5568               good afternoon sweety send me letter  ...   0.000046\n",
              "1063  funny can t get rid of 7 1stammendment so many...  ...   0.000031\n",
              "1153               i m blessedt iconic lovebeingalegend  ...   0.000002\n",
              "\n",
              "[257 rows x 4 columns]"
            ]
          },
          "metadata": {},
          "execution_count": 38
        }
      ]
    },
    {
      "cell_type": "code",
      "metadata": {
        "colab": {
          "base_uri": "https://localhost:8080/",
          "height": 204
        },
        "id": "SyfhuibHLUo8",
        "outputId": "740b049a-9f2d-4e8b-eaab-3c394775dfb1"
      },
      "source": [
        "# False positives\n",
        "most_wrong.head()"
      ],
      "execution_count": 39,
      "outputs": [
        {
          "output_type": "execute_result",
          "data": {
            "text/html": [
              "<div>\n",
              "<style scoped>\n",
              "    .dataframe tbody tr th:only-of-type {\n",
              "        vertical-align: middle;\n",
              "    }\n",
              "\n",
              "    .dataframe tbody tr th {\n",
              "        vertical-align: top;\n",
              "    }\n",
              "\n",
              "    .dataframe thead th {\n",
              "        text-align: right;\n",
              "    }\n",
              "</style>\n",
              "<table border=\"1\" class=\"dataframe\">\n",
              "  <thead>\n",
              "    <tr style=\"text-align: right;\">\n",
              "      <th></th>\n",
              "      <th>text</th>\n",
              "      <th>target</th>\n",
              "      <th>pred</th>\n",
              "      <th>pred_prob</th>\n",
              "    </tr>\n",
              "  </thead>\n",
              "  <tbody>\n",
              "    <tr>\n",
              "      <th>4272</th>\n",
              "      <td>lgbtqhatestrumppay but luvs homophobic misogyn...</td>\n",
              "      <td>0</td>\n",
              "      <td>1.0</td>\n",
              "      <td>0.998476</td>\n",
              "    </tr>\n",
              "    <tr>\n",
              "      <th>6184</th>\n",
              "      <td>south sudan unrest exacerbated by conflict amo...</td>\n",
              "      <td>0</td>\n",
              "      <td>1.0</td>\n",
              "      <td>0.996114</td>\n",
              "    </tr>\n",
              "    <tr>\n",
              "      <th>558</th>\n",
              "      <td>what lies these dt suppoers are spreading look...</td>\n",
              "      <td>0</td>\n",
              "      <td>1.0</td>\n",
              "      <td>0.995952</td>\n",
              "    </tr>\n",
              "    <tr>\n",
              "      <th>6054</th>\n",
              "      <td>i award thee most cucked tweet in history prep...</td>\n",
              "      <td>0</td>\n",
              "      <td>1.0</td>\n",
              "      <td>0.993068</td>\n",
              "    </tr>\n",
              "    <tr>\n",
              "      <th>1344</th>\n",
              "      <td>ali spoke the truth about white folks period f...</td>\n",
              "      <td>0</td>\n",
              "      <td>1.0</td>\n",
              "      <td>0.983793</td>\n",
              "    </tr>\n",
              "  </tbody>\n",
              "</table>\n",
              "</div>"
            ],
            "text/plain": [
              "                                                   text  ...  pred_prob\n",
              "4272  lgbtqhatestrumppay but luvs homophobic misogyn...  ...   0.998476\n",
              "6184  south sudan unrest exacerbated by conflict amo...  ...   0.996114\n",
              "558   what lies these dt suppoers are spreading look...  ...   0.995952\n",
              "6054  i award thee most cucked tweet in history prep...  ...   0.993068\n",
              "1344  ali spoke the truth about white folks period f...  ...   0.983793\n",
              "\n",
              "[5 rows x 4 columns]"
            ]
          },
          "metadata": {},
          "execution_count": 39
        }
      ]
    },
    {
      "cell_type": "code",
      "metadata": {
        "colab": {
          "base_uri": "https://localhost:8080/",
          "height": 204
        },
        "id": "233gXpHQLcAs",
        "outputId": "41d2d3bc-8dd7-4d69-ad90-95291662d19a"
      },
      "source": [
        "# False negative\n",
        "most_wrong.tail()"
      ],
      "execution_count": 40,
      "outputs": [
        {
          "output_type": "execute_result",
          "data": {
            "text/html": [
              "<div>\n",
              "<style scoped>\n",
              "    .dataframe tbody tr th:only-of-type {\n",
              "        vertical-align: middle;\n",
              "    }\n",
              "\n",
              "    .dataframe tbody tr th {\n",
              "        vertical-align: top;\n",
              "    }\n",
              "\n",
              "    .dataframe thead th {\n",
              "        text-align: right;\n",
              "    }\n",
              "</style>\n",
              "<table border=\"1\" class=\"dataframe\">\n",
              "  <thead>\n",
              "    <tr style=\"text-align: right;\">\n",
              "      <th></th>\n",
              "      <th>text</th>\n",
              "      <th>target</th>\n",
              "      <th>pred</th>\n",
              "      <th>pred_prob</th>\n",
              "    </tr>\n",
              "  </thead>\n",
              "  <tbody>\n",
              "    <tr>\n",
              "      <th>5222</th>\n",
              "      <td>2 99 2016release ebook book the summer that me...</td>\n",
              "      <td>1</td>\n",
              "      <td>0.0</td>\n",
              "      <td>0.000210</td>\n",
              "    </tr>\n",
              "    <tr>\n",
              "      <th>3620</th>\n",
              "      <td>now ask yourself if you really want to follow ...</td>\n",
              "      <td>1</td>\n",
              "      <td>0.0</td>\n",
              "      <td>0.000082</td>\n",
              "    </tr>\n",
              "    <tr>\n",
              "      <th>5568</th>\n",
              "      <td>good afternoon sweety send me letter</td>\n",
              "      <td>1</td>\n",
              "      <td>0.0</td>\n",
              "      <td>0.000046</td>\n",
              "    </tr>\n",
              "    <tr>\n",
              "      <th>1063</th>\n",
              "      <td>funny can t get rid of 7 1stammendment so many...</td>\n",
              "      <td>1</td>\n",
              "      <td>0.0</td>\n",
              "      <td>0.000031</td>\n",
              "    </tr>\n",
              "    <tr>\n",
              "      <th>1153</th>\n",
              "      <td>i m blessedt iconic lovebeingalegend</td>\n",
              "      <td>1</td>\n",
              "      <td>0.0</td>\n",
              "      <td>0.000002</td>\n",
              "    </tr>\n",
              "  </tbody>\n",
              "</table>\n",
              "</div>"
            ],
            "text/plain": [
              "                                                   text  ...  pred_prob\n",
              "5222  2 99 2016release ebook book the summer that me...  ...   0.000210\n",
              "3620  now ask yourself if you really want to follow ...  ...   0.000082\n",
              "5568               good afternoon sweety send me letter  ...   0.000046\n",
              "1063  funny can t get rid of 7 1stammendment so many...  ...   0.000031\n",
              "1153               i m blessedt iconic lovebeingalegend  ...   0.000002\n",
              "\n",
              "[5 rows x 4 columns]"
            ]
          },
          "metadata": {},
          "execution_count": 40
        }
      ]
    },
    {
      "cell_type": "code",
      "metadata": {
        "colab": {
          "base_uri": "https://localhost:8080/"
        },
        "id": "RERe9HsOTSnC",
        "outputId": "6f27fcb6-ae30-4faf-c322-1392d1afc00b"
      },
      "source": [
        "# Check the false positives (model predicted 1 when should've been 0)\n",
        "for row in most_wrong[:10].itertuples():\n",
        "  _, text, target, pred, pred_prob = row \n",
        "  print(f\"Target: {target}, Pred: {pred}, Prob: {pred_prob}\")\n",
        "  print(f\"Text:\\n{text}\\n\")\n",
        "  print(\"---\\n\")"
      ],
      "execution_count": 41,
      "outputs": [
        {
          "output_type": "stream",
          "name": "stdout",
          "text": [
            "Target: 0, Pred: 1.0, Prob: 0.9984763264656067\n",
            "Text:\n",
            "lgbtqhatestrumppay but luvs homophobic misogynist antisemitic death cult masquerading as a religion\n",
            "\n",
            "---\n",
            "\n",
            "Target: 0, Pred: 1.0, Prob: 0.9961138963699341\n",
            "Text:\n",
            "south sudan unrest exacerbated by conflict among cattle herders global development the guardian oil\n",
            "\n",
            "---\n",
            "\n",
            "Target: 0, Pred: 1.0, Prob: 0.995951771736145\n",
            "Text:\n",
            "what lies these dt suppoers are spreading looks like propaganda from the 1930s\n",
            "\n",
            "---\n",
            "\n",
            "Target: 0, Pred: 1.0, Prob: 0.9930675029754639\n",
            "Text:\n",
            "i award thee most cucked tweet in history prep the bull you insufferable faggot sbc16\n",
            "\n",
            "---\n",
            "\n",
            "Target: 0, Pred: 1.0, Prob: 0.983792781829834\n",
            "Text:\n",
            "ali spoke the truth about white folks period facts idiot moron theverycoreofamerica\n",
            "\n",
            "---\n",
            "\n",
            "Target: 0, Pred: 1.0, Prob: 0.9787778854370117\n",
            "Text:\n",
            "reason 638 on why i don t suppo modern day feminism it s no longer about women s rights in america\n",
            "\n",
            "---\n",
            "\n",
            "Target: 0, Pred: 1.0, Prob: 0.9772565364837646\n",
            "Text:\n",
            "epic video blm zombie vs trump kids youcanalwaystelldemocraticvoterstheyrloud amp neverhavecorrectfactsthisolderblackmanispitiful\n",
            "\n",
            "---\n",
            "\n",
            "Target: 0, Pred: 1.0, Prob: 0.9729635715484619\n",
            "Text:\n",
            "the makes the trump candidacy wohwhile donaldtrumphastinyhands tinydancerfoinyhands\n",
            "\n",
            "---\n",
            "\n",
            "Target: 0, Pred: 1.0, Prob: 0.9443554282188416\n",
            "Text:\n",
            "trump s ignorance has clearly trickled down to the rest of the pay\n",
            "\n",
            "---\n",
            "\n",
            "Target: 0, Pred: 1.0, Prob: 0.937630295753479\n",
            "Text:\n",
            "just herd you re podcast no man deserves to be called a man after he rapes a women scumofthreah\n",
            "\n",
            "---\n",
            "\n"
          ]
        }
      ]
    },
    {
      "cell_type": "code",
      "metadata": {
        "colab": {
          "base_uri": "https://localhost:8080/"
        },
        "id": "Lwl_Ls-3TetF",
        "outputId": "859c3abd-73f1-4797-ebf2-737125b58ecd"
      },
      "source": [
        "# Check the false negatives (model predicted 0 when should've been 1)\n",
        "for row in most_wrong[-10:].itertuples():\n",
        "  _, text, target, pred, pred_prob = row \n",
        "  print(f\"Target: {target}, Pred: {pred}, Prob: {pred_prob}\")\n",
        "  print(f\"Text:\\n{text}\\n\")\n",
        "  print(\"---\\n\")"
      ],
      "execution_count": 42,
      "outputs": [
        {
          "output_type": "stream",
          "name": "stdout",
          "text": [
            "Target: 1, Pred: 0.0, Prob: 0.0022815479896962643\n",
            "Text:\n",
            "great aicle of truth about trc needs comments back up why it s needed indignenous via\n",
            "\n",
            "---\n",
            "\n",
            "Target: 1, Pred: 0.0, Prob: 0.001935787033289671\n",
            "Text:\n",
            "sunbury pennsylvania fliers posted outside mosque muslim usa\n",
            "\n",
            "---\n",
            "\n",
            "Target: 1, Pred: 0.0, Prob: 0.0017301107291132212\n",
            "Text:\n",
            "this newyearseve may our resolutions b 2 end problems like amp domesticviolence by turning 2 god of love\n",
            "\n",
            "---\n",
            "\n",
            "Target: 1, Pred: 0.0, Prob: 0.0014063128037378192\n",
            "Text:\n",
            "ouuh fuck it bustymilf\n",
            "\n",
            "---\n",
            "\n",
            "Target: 1, Pred: 0.0, Prob: 0.0002943870786111802\n",
            "Text:\n",
            "note i was just able to pop this zit on my neck that s been there for days i ve beensqueezing it for days\n",
            "\n",
            "---\n",
            "\n",
            "Target: 1, Pred: 0.0, Prob: 0.00020982566638849676\n",
            "Text:\n",
            "2 99 2016release ebook book the summer that melted everything a novel by tiffany mcdaniel via\n",
            "\n",
            "---\n",
            "\n",
            "Target: 1, Pred: 0.0, Prob: 8.237099973484874e-05\n",
            "Text:\n",
            "now ask yourself if you really want to follow i m done\n",
            "\n",
            "---\n",
            "\n",
            "Target: 1, Pred: 0.0, Prob: 4.60704650322441e-05\n",
            "Text:\n",
            "good afternoon sweety send me letter\n",
            "\n",
            "---\n",
            "\n",
            "Target: 1, Pred: 0.0, Prob: 3.09860406559892e-05\n",
            "Text:\n",
            "funny can t get rid of 7 1stammendment so many distractions and lousy qb maybe next year probab\n",
            "\n",
            "---\n",
            "\n",
            "Target: 1, Pred: 0.0, Prob: 1.910276751004858e-06\n",
            "Text:\n",
            "i m blessedt iconic lovebeingalegend\n",
            "\n",
            "---\n",
            "\n"
          ]
        }
      ]
    },
    {
      "cell_type": "markdown",
      "metadata": {
        "id": "OoYGv6by2RqK"
      },
      "source": [
        "## Another Option: Using DistilBertTokenizerFast"
      ]
    },
    {
      "cell_type": "code",
      "metadata": {
        "id": "fn5IWf4zhd9Z",
        "colab": {
          "base_uri": "https://localhost:8080/",
          "height": 113,
          "referenced_widgets": [
            "c86c0fff761044d39e66dfbc3ac7ed7a",
            "3abd4ca5184f47eb8d48d30d1deb494b",
            "323273afcde64cc39d225824cb2a1184",
            "d46fc4accbab4dd7b7e7174800b363e9",
            "225404538a90404f9c837c012b8245cf",
            "f93133dd72824b5e9c34fb1dcf269280",
            "40320d143b0944eaa4259a06af69c69f",
            "fbb193ffd5c04f75b2cbd9ee9ef74b60",
            "09e87f5e34e0455f9de95e3bdd07b23c",
            "34363e8172564950b734187d02fc7df0",
            "ffb69dc87c1a4f81ae65ebe03fae20e0",
            "88fd0caa2762452bae301398a293e61e",
            "cdd506078e6f40f2bc2db9525bf2c4e4",
            "a96af65baa5b4b43837895c8956c9e03",
            "5b1fee1d91194eb4bb6f6f9d1a20e0eb",
            "7020ca3d8931465eabe756e7b6f3d976",
            "54100a7740f241549652f001e3a897ea",
            "8bc5ecacc2e4490fa5501ee0f74362f1",
            "dfeae45a4e2f4178b47cd78ea11baad4",
            "71b92d2e0d5b4e3792cbc013ed405e42",
            "f461d8e846f0488c8e87acaf7c5eada1",
            "69ca227820964ecd963b14511ca55e9f",
            "0f1e434cde364891a3d150fbbe474849",
            "b13ced3065a043b68f435e7b4f27c738",
            "32ae6a07f3a9457eb5ba623d381f6c0c",
            "5b6682c31f9646de95436e276fc05608",
            "4e0476dbe8a243cda0b1eab74f5145ee",
            "c7aad012db25456188fb063a7b55c209",
            "b10c302633964e0f901652071b40180a",
            "b9584fab34154f9f8e487b543017c8b3",
            "3a06586d6fb04f26b2c73e5715593fa1",
            "129542f065ce486ca14b1480673e5292",
            "5b4ea472284e4780bc99878e02e9afa0"
          ]
        },
        "outputId": "13e5a450-d438-4e62-df8e-2e454c4cb387"
      },
      "source": [
        "tokenizer = DistilBertTokenizerFast.from_pretrained('distilbert-base-uncased')"
      ],
      "execution_count": null,
      "outputs": [
        {
          "output_type": "display_data",
          "data": {
            "application/vnd.jupyter.widget-view+json": {
              "model_id": "c86c0fff761044d39e66dfbc3ac7ed7a",
              "version_minor": 0,
              "version_major": 2
            },
            "text/plain": [
              "Downloading:   0%|          | 0.00/232k [00:00<?, ?B/s]"
            ]
          },
          "metadata": {}
        },
        {
          "output_type": "display_data",
          "data": {
            "application/vnd.jupyter.widget-view+json": {
              "model_id": "88fd0caa2762452bae301398a293e61e",
              "version_minor": 0,
              "version_major": 2
            },
            "text/plain": [
              "Downloading:   0%|          | 0.00/466k [00:00<?, ?B/s]"
            ]
          },
          "metadata": {}
        },
        {
          "output_type": "display_data",
          "data": {
            "application/vnd.jupyter.widget-view+json": {
              "model_id": "0f1e434cde364891a3d150fbbe474849",
              "version_minor": 0,
              "version_major": 2
            },
            "text/plain": [
              "Downloading:   0%|          | 0.00/28.0 [00:00<?, ?B/s]"
            ]
          },
          "metadata": {}
        }
      ]
    },
    {
      "cell_type": "code",
      "metadata": {
        "id": "8TpESMJOhjMY"
      },
      "source": [
        "train_encodings = tokenizer(train_sentences, truncation=True, padding=True)\n",
        "val_encodings = tokenizer(val_sentences, truncation=True, padding=True)"
      ],
      "execution_count": null,
      "outputs": []
    },
    {
      "cell_type": "code",
      "metadata": {
        "id": "Vu5oqVtViRqV"
      },
      "source": [
        "train_dataset = tf.data.Dataset.from_tensor_slices((\n",
        "    dict(train_encodings),\n",
        "    train_labels\n",
        "))\n",
        "val_dataset = tf.data.Dataset.from_tensor_slices((\n",
        "    dict(val_encodings),\n",
        "    val_labels\n",
        "))"
      ],
      "execution_count": null,
      "outputs": []
    },
    {
      "cell_type": "code",
      "metadata": {
        "colab": {
          "base_uri": "https://localhost:8080/"
        },
        "id": "YTyeUn2aLXSt",
        "outputId": "95d2d028-8528-40da-d0b8-e638546de4f2"
      },
      "source": [
        "train_dataset"
      ],
      "execution_count": null,
      "outputs": [
        {
          "output_type": "execute_result",
          "data": {
            "text/plain": [
              "<TensorSliceDataset shapes: ({input_ids: (46,), attention_mask: (46,)}, ()), types: ({input_ids: tf.int32, attention_mask: tf.int32}, tf.int32)>"
            ]
          },
          "metadata": {},
          "execution_count": 17
        }
      ]
    },
    {
      "cell_type": "code",
      "metadata": {
        "colab": {
          "base_uri": "https://localhost:8080/"
        },
        "id": "A7edVwKQmJrt",
        "outputId": "d923dabd-5bb5-4272-c047-b3de2d475262"
      },
      "source": [
        "len(val_labels)"
      ],
      "execution_count": null,
      "outputs": [
        {
          "output_type": "execute_result",
          "data": {
            "text/plain": [
              "6393"
            ]
          },
          "metadata": {},
          "execution_count": 18
        }
      ]
    },
    {
      "cell_type": "code",
      "metadata": {
        "colab": {
          "base_uri": "https://localhost:8080/",
          "height": 492,
          "referenced_widgets": [
            "e2f6ddf218144bca988b500501356e70",
            "7d3d61eca20145e3b157f84ba8613cd7",
            "eaed3bd92564406c82ece0b77c59a31f",
            "4151413859c34c9f8401ae3cfb16c622",
            "8e28384673604c0abe0231a0c135ad8b",
            "c115787023d74b3b974be35afaafcc28",
            "837e9090624843e9b89365357fa53b68",
            "1146dd4472fd479dba3e51e77bad1817",
            "65f236e314cc463b918f1b1643c2ee16",
            "7b7db2bed3ec4581ab27cb813025df37",
            "df0fe153f4f149efadf54fcf82c9d440",
            "f8ec3208a1744a5fb5769f924e22e187",
            "cab480ea8fa748348ae7847d789c9c93",
            "9d6a3adbe5ff492eaa14cc25f922b9d7",
            "c086d581300c4830a5c5cc8fb6796f5c",
            "587adbf50d8247f185c89aea31a428e6",
            "17e7fb1d1f564c22bca3e50c93863283",
            "a6580156129945f0a52549ac2472a66b",
            "23571f278afa46908ec4e00405eee89a",
            "6eee53de50434821bf788883078397a5",
            "a668b9df628f42c3adcc176c4bc74bb1",
            "cb9a24e7a34c43ec93c0a0d6f7b2c522"
          ]
        },
        "id": "McUocuVhakK2",
        "outputId": "e3dec13b-a93d-4061-9545-26c127ffc40e"
      },
      "source": [
        "training_args = TFTrainingArguments(\n",
        "    output_dir='./results',          # output directory\n",
        "    num_train_epochs=3,              # total number of training epochs\n",
        "    per_device_train_batch_size=16,  # batch size per device during training\n",
        "    per_device_eval_batch_size=64,   # batch size for evaluation\n",
        "    warmup_steps=500,                # number of warmup steps for learning rate scheduler\n",
        "    weight_decay=0.01,               # strength of weight decay\n",
        "    logging_dir='./logs',            # directory for storing logs\n",
        "    logging_steps=10,\n",
        ")\n",
        "\n",
        "with training_args.strategy.scope():\n",
        "    model_6 = TFDistilBertForSequenceClassification.from_pretrained(\"distilbert-base-uncased\")\n",
        "\n",
        "trainer = TFTrainer(\n",
        "    model=model_6,                       # the instantiated 🤗 Transformers model to be trained\n",
        "    args=training_args,                  # training arguments, defined above\n",
        "    train_dataset=train_dataset,         # training dataset\n",
        "    eval_dataset=val_dataset             # evaluation dataset\n",
        ")\n",
        "\n",
        "trainer.train()"
      ],
      "execution_count": null,
      "outputs": [
        {
          "output_type": "display_data",
          "data": {
            "application/vnd.jupyter.widget-view+json": {
              "model_id": "e2f6ddf218144bca988b500501356e70",
              "version_minor": 0,
              "version_major": 2
            },
            "text/plain": [
              "Downloading:   0%|          | 0.00/483 [00:00<?, ?B/s]"
            ]
          },
          "metadata": {}
        },
        {
          "output_type": "display_data",
          "data": {
            "application/vnd.jupyter.widget-view+json": {
              "model_id": "f8ec3208a1744a5fb5769f924e22e187",
              "version_minor": 0,
              "version_major": 2
            },
            "text/plain": [
              "Downloading:   0%|          | 0.00/363M [00:00<?, ?B/s]"
            ]
          },
          "metadata": {}
        },
        {
          "output_type": "stream",
          "name": "stderr",
          "text": [
            "Some layers from the model checkpoint at distilbert-base-uncased were not used when initializing TFDistilBertForSequenceClassification: ['vocab_projector', 'activation_13', 'vocab_layer_norm', 'vocab_transform']\n",
            "- This IS expected if you are initializing TFDistilBertForSequenceClassification from the checkpoint of a model trained on another task or with another architecture (e.g. initializing a BertForSequenceClassification model from a BertForPreTraining model).\n",
            "- This IS NOT expected if you are initializing TFDistilBertForSequenceClassification from the checkpoint of a model that you expect to be exactly identical (initializing a BertForSequenceClassification model from a BertForSequenceClassification model).\n",
            "Some layers of TFDistilBertForSequenceClassification were not initialized from the model checkpoint at distilbert-base-uncased and are newly initialized: ['dropout_19', 'classifier', 'pre_classifier']\n",
            "You should probably TRAIN this model on a down-stream task to be able to use it for predictions and inference.\n"
          ]
        },
        {
          "output_type": "stream",
          "name": "stdout",
          "text": [
            "WARNING:tensorflow:The parameters `output_attentions`, `output_hidden_states` and `use_cache` cannot be updated when calling a model.They have to be set to True/False in the config object (i.e.: `config=XConfig.from_pretrained('name', output_attentions=True)`).\n",
            "WARNING:tensorflow:AutoGraph could not transform <bound method Socket.send of <zmq.Socket(zmq.PUSH) at 0x7fded049a910>> and will run it as-is.\n",
            "Please report this to the TensorFlow team. When filing the bug, set the verbosity to 10 (on Linux, `export AUTOGRAPH_VERBOSITY=10`) and attach the full output.\n",
            "Cause: module, class, method, function, traceback, frame, or code object was expected, got cython_function_or_method\n",
            "To silence this warning, decorate the function with @tf.autograph.experimental.do_not_convert\n",
            "WARNING: AutoGraph could not transform <bound method Socket.send of <zmq.Socket(zmq.PUSH) at 0x7fded049a910>> and will run it as-is.\n",
            "Please report this to the TensorFlow team. When filing the bug, set the verbosity to 10 (on Linux, `export AUTOGRAPH_VERBOSITY=10`) and attach the full output.\n",
            "Cause: module, class, method, function, traceback, frame, or code object was expected, got cython_function_or_method\n",
            "To silence this warning, decorate the function with @tf.autograph.experimental.do_not_convert\n",
            "WARNING:tensorflow:AutoGraph could not transform <function wrap at 0x7fdeeb784c20> and will run it as-is.\n",
            "Cause: while/else statement not yet supported\n",
            "To silence this warning, decorate the function with @tf.autograph.experimental.do_not_convert\n",
            "WARNING: AutoGraph could not transform <function wrap at 0x7fdeeb784c20> and will run it as-is.\n",
            "Cause: while/else statement not yet supported\n",
            "To silence this warning, decorate the function with @tf.autograph.experimental.do_not_convert\n",
            "WARNING:tensorflow:The parameter `return_dict` cannot be set in graph mode and will always be set to `True`.\n",
            "WARNING:tensorflow:The parameters `output_attentions`, `output_hidden_states` and `use_cache` cannot be updated when calling a model.They have to be set to True/False in the config object (i.e.: `config=XConfig.from_pretrained('name', output_attentions=True)`).\n",
            "WARNING:tensorflow:The parameter `return_dict` cannot be set in graph mode and will always be set to `True`.\n"
          ]
        }
      ]
    },
    {
      "cell_type": "code",
      "metadata": {
        "colab": {
          "base_uri": "https://localhost:8080/"
        },
        "id": "DXNWyhQ-naGR",
        "outputId": "4b4f37db-9cef-44b3-ac2c-fda9e6cc0bdd"
      },
      "source": [
        "score_6 = trainer.evaluate(val_dataset)\n",
        "score_6"
      ],
      "execution_count": null,
      "outputs": [
        {
          "output_type": "stream",
          "name": "stdout",
          "text": [
            "WARNING:tensorflow:The parameters `output_attentions`, `output_hidden_states` and `use_cache` cannot be updated when calling a model.They have to be set to True/False in the config object (i.e.: `config=XConfig.from_pretrained('name', output_attentions=True)`).\n",
            "WARNING:tensorflow:The parameter `return_dict` cannot be set in graph mode and will always be set to `True`.\n"
          ]
        },
        {
          "output_type": "execute_result",
          "data": {
            "text/plain": [
              "{'eval_loss': 0.1283090591430664}"
            ]
          },
          "metadata": {},
          "execution_count": 20
        }
      ]
    },
    {
      "cell_type": "code",
      "metadata": {
        "colab": {
          "base_uri": "https://localhost:8080/"
        },
        "id": "Vh75iT-vpBlu",
        "outputId": "a571a06e-ff42-4193-aeb4-a74d93742bf2"
      },
      "source": [
        "trainer.predict(val_dataset)"
      ],
      "execution_count": null,
      "outputs": [
        {
          "output_type": "execute_result",
          "data": {
            "text/plain": [
              "PredictionOutput(predictions=array([[ 4.082168 , -3.6003118],\n",
              "       [ 4.376106 , -3.9224284],\n",
              "       [ 4.383813 , -3.8916414],\n",
              "       ...,\n",
              "       [ 4.5240517, -4.052749 ],\n",
              "       [ 4.6098285, -4.105955 ],\n",
              "       [ 4.4747515, -4.06271  ]], dtype=float32), label_ids=array([0, 0, 0, ..., 0, 0, 0], dtype=int32), metrics={'eval_loss': 0.1273474597930908})"
            ]
          },
          "metadata": {},
          "execution_count": 33
        }
      ]
    },
    {
      "cell_type": "code",
      "metadata": {
        "id": "ZRvjGM2nxMJZ"
      },
      "source": [
        "y6_predict_proba=trainer.predict(val_dataset)[0] \n",
        "\n",
        "y6_predict=np.argmax(y6_predict_proba,axis=-1)"
      ],
      "execution_count": null,
      "outputs": []
    },
    {
      "cell_type": "code",
      "metadata": {
        "id": "YIwoc8aYv22M",
        "colab": {
          "base_uri": "https://localhost:8080/"
        },
        "outputId": "9c315d77-2fc6-4b85-c38e-d2ea361eb3dc"
      },
      "source": [
        "# Get model_6 results \n",
        "model_6_results = calculate_results(y_true=val_labels,\n",
        "                                    y_pred= y6_predict)\n",
        "model_6_results"
      ],
      "execution_count": null,
      "outputs": [
        {
          "output_type": "execute_result",
          "data": {
            "text/plain": [
              "{'accuracy': 96.5274519005162,\n",
              " 'f1': 0.9644764593802877,\n",
              " 'precision': 0.9639728208229673,\n",
              " 'recall': 0.9652745190051619}"
            ]
          },
          "metadata": {},
          "execution_count": 26
        }
      ]
    },
    {
      "cell_type": "code",
      "metadata": {
        "id": "Gi3LyAFjw0NC",
        "colab": {
          "base_uri": "https://localhost:8080/",
          "height": 80
        },
        "outputId": "3e558fd1-d2c6-48be-9e37-47cafdfcfe40"
      },
      "source": [
        "model_6_results_df=pd.DataFrame(data={'model_6 (DistilBertTokenizerFast)': model_6_results}).transpose()\n",
        "model_6_results_df"
      ],
      "execution_count": null,
      "outputs": [
        {
          "output_type": "execute_result",
          "data": {
            "text/html": [
              "<div>\n",
              "<style scoped>\n",
              "    .dataframe tbody tr th:only-of-type {\n",
              "        vertical-align: middle;\n",
              "    }\n",
              "\n",
              "    .dataframe tbody tr th {\n",
              "        vertical-align: top;\n",
              "    }\n",
              "\n",
              "    .dataframe thead th {\n",
              "        text-align: right;\n",
              "    }\n",
              "</style>\n",
              "<table border=\"1\" class=\"dataframe\">\n",
              "  <thead>\n",
              "    <tr style=\"text-align: right;\">\n",
              "      <th></th>\n",
              "      <th>accuracy</th>\n",
              "      <th>f1</th>\n",
              "      <th>precision</th>\n",
              "      <th>recall</th>\n",
              "    </tr>\n",
              "  </thead>\n",
              "  <tbody>\n",
              "    <tr>\n",
              "      <th>model_6 (DistilBertTokenizerFast)</th>\n",
              "      <td>96.527452</td>\n",
              "      <td>0.964476</td>\n",
              "      <td>0.963973</td>\n",
              "      <td>0.965275</td>\n",
              "    </tr>\n",
              "  </tbody>\n",
              "</table>\n",
              "</div>"
            ],
            "text/plain": [
              "                                    accuracy        f1  precision    recall\n",
              "model_6 (DistilBertTokenizerFast)  96.527452  0.964476   0.963973  0.965275"
            ]
          },
          "metadata": {},
          "execution_count": 35
        }
      ]
    },
    {
      "cell_type": "code",
      "metadata": {
        "colab": {
          "base_uri": "https://localhost:8080/",
          "height": 441
        },
        "id": "jjDdMe9YkuTJ",
        "outputId": "4a2b4f50-afae-4b66-a947-24c3c5d8b9dc"
      },
      "source": [
        "# Reduce the accuracy to the same scale as other metrics \n",
        "model_6_results_df[\"accuracy\"]= model_6_results_df[\"accuracy\"]/100\n",
        "model_6_results_df.plot(kind=\"bar\", figsize=(10, 7))\n",
        "plt.xticks(rotation='horizontal');"
      ],
      "execution_count": null,
      "outputs": [
        {
          "output_type": "display_data",
          "data": {
            "image/png": "[encoded data removed]",
            "text/plain": [
              "<Figure size 720x504 with 1 Axes>"
            ]
          },
          "metadata": {}
        }
      ]
    },
    {
      "cell_type": "code",
      "metadata": {
        "colab": {
          "base_uri": "https://localhost:8080/"
        },
        "id": "hrvZFV27xiE6",
        "outputId": "1ee455ab-a794-4ece-a0d9-923250c5009c"
      },
      "source": [
        "np.unique(val_labels,return_counts=True)"
      ],
      "execution_count": null,
      "outputs": [
        {
          "output_type": "execute_result",
          "data": {
            "text/plain": [
              "(array([0, 1]), array([5928,  465]))"
            ]
          },
          "metadata": {},
          "execution_count": 30
        }
      ]
    },
    {
      "cell_type": "code",
      "metadata": {
        "id": "lskqC3bZoYBw",
        "colab": {
          "base_uri": "https://localhost:8080/"
        },
        "outputId": "003c52c6-1a6b-41ad-b198-053d712ff9d8"
      },
      "source": [
        "cm_6 = confusion_matrix(val_labels, y6_predict)\n",
        "cm_6"
      ],
      "execution_count": null,
      "outputs": [
        {
          "output_type": "execute_result",
          "data": {
            "text/plain": [
              "array([[5839,   89],\n",
              "       [ 133,  332]])"
            ]
          },
          "metadata": {},
          "execution_count": 31
        }
      ]
    },
    {
      "cell_type": "code",
      "metadata": {
        "colab": {
          "base_uri": "https://localhost:8080/",
          "height": 427
        },
        "id": "Qm-P7JfHZdBx",
        "outputId": "d44628b1-4563-4690-f21f-c4f96e6cbaeb"
      },
      "source": [
        "# Plot the confusion matrix for model_6\n",
        "plt.figure(figsize=(6,6))\n",
        "sns.heatmap(confusion_matrix(val_labels, y6_predict),\n",
        "                  annot=True,\n",
        "                  cbar=False,\n",
        "                  fmt='d',\n",
        "                  cmap='Blues'\n",
        "                     )\n",
        "plt.title('model_6 (DistilBertTokenizerFast)')\n",
        "plt.xlabel('True label')\n",
        "plt.ylabel('Predicted label'); "
      ],
      "execution_count": null,
      "outputs": [
        {
          "output_type": "display_data",
          "data": {
            "image/png": "[encoded data removed]",
            "text/plain": [
              "<Figure size 432x432 with 1 Axes>"
            ]
          },
          "metadata": {}
        }
      ]
    },
    {
      "cell_type": "code",
      "metadata": {
        "id": "sT4XrmpeooUS"
      },
      "source": [
        "trainer.save_model(\"distilbert_model\")"
      ],
      "execution_count": null,
      "outputs": []
    }
  ]
}