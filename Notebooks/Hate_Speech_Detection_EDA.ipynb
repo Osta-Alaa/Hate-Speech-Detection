{
  "nbformat": 4,
  "nbformat_minor": 0,
  "metadata": {
    "colab": {
      "name": "Hate_Speech_Detection_EDA.ipynb",
      "provenance": [],
      "collapsed_sections": []
    },
    "kernelspec": {
      "name": "python3",
      "display_name": "Python 3"
    },
    "language_info": {
      "name": "python"
    },
    "widgets": {
      "application/vnd.jupyter.widget-state+json": {
        "512b6f4e4d164993bf0567bcad567620": {
          "model_module": "@jupyter-widgets/controls",
          "model_name": "HBoxModel",
          "model_module_version": "1.5.0",
          "state": {
            "_view_name": "HBoxView",
            "_dom_classes": [],
            "_model_name": "HBoxModel",
            "_view_module": "@jupyter-widgets/controls",
            "_model_module_version": "1.5.0",
            "_view_count": null,
            "_view_module_version": "1.5.0",
            "box_style": "",
            "layout": "IPY_MODEL_89273ab82c6242a6b82c1c09490cc34f",
            "_model_module": "@jupyter-widgets/controls",
            "children": [
              "IPY_MODEL_ec133b9f6c29470b9d1ed15d9fa71c35",
              "IPY_MODEL_d2405cd685e04919871509b548e5852f",
              "IPY_MODEL_eb4a9e772341493c9fe0aef1b9bdbafc"
            ]
          }
        },
        "89273ab82c6242a6b82c1c09490cc34f": {
          "model_module": "@jupyter-widgets/base",
          "model_name": "LayoutModel",
          "model_module_version": "1.2.0",
          "state": {
            "_view_name": "LayoutView",
            "grid_template_rows": null,
            "right": null,
            "justify_content": null,
            "_view_module": "@jupyter-widgets/base",
            "overflow": null,
            "_model_module_version": "1.2.0",
            "_view_count": null,
            "flex_flow": null,
            "width": null,
            "min_width": null,
            "border": null,
            "align_items": null,
            "bottom": null,
            "_model_module": "@jupyter-widgets/base",
            "top": null,
            "grid_column": null,
            "overflow_y": null,
            "overflow_x": null,
            "grid_auto_flow": null,
            "grid_area": null,
            "grid_template_columns": null,
            "flex": null,
            "_model_name": "LayoutModel",
            "justify_items": null,
            "grid_row": null,
            "max_height": null,
            "align_content": null,
            "visibility": null,
            "align_self": null,
            "height": null,
            "min_height": null,
            "padding": null,
            "grid_auto_rows": null,
            "grid_gap": null,
            "max_width": null,
            "order": null,
            "_view_module_version": "1.2.0",
            "grid_template_areas": null,
            "object_position": null,
            "object_fit": null,
            "grid_auto_columns": null,
            "margin": null,
            "display": null,
            "left": null
          }
        },
        "ec133b9f6c29470b9d1ed15d9fa71c35": {
          "model_module": "@jupyter-widgets/controls",
          "model_name": "HTMLModel",
          "model_module_version": "1.5.0",
          "state": {
            "_view_name": "HTMLView",
            "style": "IPY_MODEL_0a108a888d4f4e778ebcf98cc8f6dcd7",
            "_dom_classes": [],
            "description": "",
            "_model_name": "HTMLModel",
            "placeholder": "​",
            "_view_module": "@jupyter-widgets/controls",
            "_model_module_version": "1.5.0",
            "value": "Downloading: 100%",
            "_view_count": null,
            "_view_module_version": "1.5.0",
            "description_tooltip": null,
            "_model_module": "@jupyter-widgets/controls",
            "layout": "IPY_MODEL_82910bfa865b495c892ab896fa0ee234"
          }
        },
        "d2405cd685e04919871509b548e5852f": {
          "model_module": "@jupyter-widgets/controls",
          "model_name": "FloatProgressModel",
          "model_module_version": "1.5.0",
          "state": {
            "_view_name": "ProgressView",
            "style": "IPY_MODEL_cee18fd5b6794731b5a3ff0fcb20f5e5",
            "_dom_classes": [],
            "description": "",
            "_model_name": "FloatProgressModel",
            "bar_style": "success",
            "max": 231508,
            "_view_module": "@jupyter-widgets/controls",
            "_model_module_version": "1.5.0",
            "value": 231508,
            "_view_count": null,
            "_view_module_version": "1.5.0",
            "orientation": "horizontal",
            "min": 0,
            "description_tooltip": null,
            "_model_module": "@jupyter-widgets/controls",
            "layout": "IPY_MODEL_63c54273b008484692716c059cd6e4ae"
          }
        },
        "eb4a9e772341493c9fe0aef1b9bdbafc": {
          "model_module": "@jupyter-widgets/controls",
          "model_name": "HTMLModel",
          "model_module_version": "1.5.0",
          "state": {
            "_view_name": "HTMLView",
            "style": "IPY_MODEL_e71ae4f0172a4b5499bf34c25e418bba",
            "_dom_classes": [],
            "description": "",
            "_model_name": "HTMLModel",
            "placeholder": "​",
            "_view_module": "@jupyter-widgets/controls",
            "_model_module_version": "1.5.0",
            "value": " 232k/232k [00:00&lt;00:00, 934kB/s]",
            "_view_count": null,
            "_view_module_version": "1.5.0",
            "description_tooltip": null,
            "_model_module": "@jupyter-widgets/controls",
            "layout": "IPY_MODEL_a4cf600d5bfc4bbbaddc839c5e356faa"
          }
        },
        "0a108a888d4f4e778ebcf98cc8f6dcd7": {
          "model_module": "@jupyter-widgets/controls",
          "model_name": "DescriptionStyleModel",
          "model_module_version": "1.5.0",
          "state": {
            "_view_name": "StyleView",
            "_model_name": "DescriptionStyleModel",
            "description_width": "",
            "_view_module": "@jupyter-widgets/base",
            "_model_module_version": "1.5.0",
            "_view_count": null,
            "_view_module_version": "1.2.0",
            "_model_module": "@jupyter-widgets/controls"
          }
        },
        "82910bfa865b495c892ab896fa0ee234": {
          "model_module": "@jupyter-widgets/base",
          "model_name": "LayoutModel",
          "model_module_version": "1.2.0",
          "state": {
            "_view_name": "LayoutView",
            "grid_template_rows": null,
            "right": null,
            "justify_content": null,
            "_view_module": "@jupyter-widgets/base",
            "overflow": null,
            "_model_module_version": "1.2.0",
            "_view_count": null,
            "flex_flow": null,
            "width": null,
            "min_width": null,
            "border": null,
            "align_items": null,
            "bottom": null,
            "_model_module": "@jupyter-widgets/base",
            "top": null,
            "grid_column": null,
            "overflow_y": null,
            "overflow_x": null,
            "grid_auto_flow": null,
            "grid_area": null,
            "grid_template_columns": null,
            "flex": null,
            "_model_name": "LayoutModel",
            "justify_items": null,
            "grid_row": null,
            "max_height": null,
            "align_content": null,
            "visibility": null,
            "align_self": null,
            "height": null,
            "min_height": null,
            "padding": null,
            "grid_auto_rows": null,
            "grid_gap": null,
            "max_width": null,
            "order": null,
            "_view_module_version": "1.2.0",
            "grid_template_areas": null,
            "object_position": null,
            "object_fit": null,
            "grid_auto_columns": null,
            "margin": null,
            "display": null,
            "left": null
          }
        },
        "cee18fd5b6794731b5a3ff0fcb20f5e5": {
          "model_module": "@jupyter-widgets/controls",
          "model_name": "ProgressStyleModel",
          "model_module_version": "1.5.0",
          "state": {
            "_view_name": "StyleView",
            "_model_name": "ProgressStyleModel",
            "description_width": "",
            "_view_module": "@jupyter-widgets/base",
            "_model_module_version": "1.5.0",
            "_view_count": null,
            "_view_module_version": "1.2.0",
            "bar_color": null,
            "_model_module": "@jupyter-widgets/controls"
          }
        },
        "63c54273b008484692716c059cd6e4ae": {
          "model_module": "@jupyter-widgets/base",
          "model_name": "LayoutModel",
          "model_module_version": "1.2.0",
          "state": {
            "_view_name": "LayoutView",
            "grid_template_rows": null,
            "right": null,
            "justify_content": null,
            "_view_module": "@jupyter-widgets/base",
            "overflow": null,
            "_model_module_version": "1.2.0",
            "_view_count": null,
            "flex_flow": null,
            "width": null,
            "min_width": null,
            "border": null,
            "align_items": null,
            "bottom": null,
            "_model_module": "@jupyter-widgets/base",
            "top": null,
            "grid_column": null,
            "overflow_y": null,
            "overflow_x": null,
            "grid_auto_flow": null,
            "grid_area": null,
            "grid_template_columns": null,
            "flex": null,
            "_model_name": "LayoutModel",
            "justify_items": null,
            "grid_row": null,
            "max_height": null,
            "align_content": null,
            "visibility": null,
            "align_self": null,
            "height": null,
            "min_height": null,
            "padding": null,
            "grid_auto_rows": null,
            "grid_gap": null,
            "max_width": null,
            "order": null,
            "_view_module_version": "1.2.0",
            "grid_template_areas": null,
            "object_position": null,
            "object_fit": null,
            "grid_auto_columns": null,
            "margin": null,
            "display": null,
            "left": null
          }
        },
        "e71ae4f0172a4b5499bf34c25e418bba": {
          "model_module": "@jupyter-widgets/controls",
          "model_name": "DescriptionStyleModel",
          "model_module_version": "1.5.0",
          "state": {
            "_view_name": "StyleView",
            "_model_name": "DescriptionStyleModel",
            "description_width": "",
            "_view_module": "@jupyter-widgets/base",
            "_model_module_version": "1.5.0",
            "_view_count": null,
            "_view_module_version": "1.2.0",
            "_model_module": "@jupyter-widgets/controls"
          }
        },
        "a4cf600d5bfc4bbbaddc839c5e356faa": {
          "model_module": "@jupyter-widgets/base",
          "model_name": "LayoutModel",
          "model_module_version": "1.2.0",
          "state": {
            "_view_name": "LayoutView",
            "grid_template_rows": null,
            "right": null,
            "justify_content": null,
            "_view_module": "@jupyter-widgets/base",
            "overflow": null,
            "_model_module_version": "1.2.0",
            "_view_count": null,
            "flex_flow": null,
            "width": null,
            "min_width": null,
            "border": null,
            "align_items": null,
            "bottom": null,
            "_model_module": "@jupyter-widgets/base",
            "top": null,
            "grid_column": null,
            "overflow_y": null,
            "overflow_x": null,
            "grid_auto_flow": null,
            "grid_area": null,
            "grid_template_columns": null,
            "flex": null,
            "_model_name": "LayoutModel",
            "justify_items": null,
            "grid_row": null,
            "max_height": null,
            "align_content": null,
            "visibility": null,
            "align_self": null,
            "height": null,
            "min_height": null,
            "padding": null,
            "grid_auto_rows": null,
            "grid_gap": null,
            "max_width": null,
            "order": null,
            "_view_module_version": "1.2.0",
            "grid_template_areas": null,
            "object_position": null,
            "object_fit": null,
            "grid_auto_columns": null,
            "margin": null,
            "display": null,
            "left": null
          }
        },
        "1f09d90db1b2405788034c6b07788ebe": {
          "model_module": "@jupyter-widgets/controls",
          "model_name": "HBoxModel",
          "model_module_version": "1.5.0",
          "state": {
            "_view_name": "HBoxView",
            "_dom_classes": [],
            "_model_name": "HBoxModel",
            "_view_module": "@jupyter-widgets/controls",
            "_model_module_version": "1.5.0",
            "_view_count": null,
            "_view_module_version": "1.5.0",
            "box_style": "",
            "layout": "IPY_MODEL_a6ab44cb4bf448b5b44476a1664a0362",
            "_model_module": "@jupyter-widgets/controls",
            "children": [
              "IPY_MODEL_bc3b729030814438a4f0d5698fe3c1ef",
              "IPY_MODEL_37f1e36b3b204279bf9e437b949f4090",
              "IPY_MODEL_5516b5e56f0c46d8a5c4380801d0764c"
            ]
          }
        },
        "a6ab44cb4bf448b5b44476a1664a0362": {
          "model_module": "@jupyter-widgets/base",
          "model_name": "LayoutModel",
          "model_module_version": "1.2.0",
          "state": {
            "_view_name": "LayoutView",
            "grid_template_rows": null,
            "right": null,
            "justify_content": null,
            "_view_module": "@jupyter-widgets/base",
            "overflow": null,
            "_model_module_version": "1.2.0",
            "_view_count": null,
            "flex_flow": null,
            "width": null,
            "min_width": null,
            "border": null,
            "align_items": null,
            "bottom": null,
            "_model_module": "@jupyter-widgets/base",
            "top": null,
            "grid_column": null,
            "overflow_y": null,
            "overflow_x": null,
            "grid_auto_flow": null,
            "grid_area": null,
            "grid_template_columns": null,
            "flex": null,
            "_model_name": "LayoutModel",
            "justify_items": null,
            "grid_row": null,
            "max_height": null,
            "align_content": null,
            "visibility": null,
            "align_self": null,
            "height": null,
            "min_height": null,
            "padding": null,
            "grid_auto_rows": null,
            "grid_gap": null,
            "max_width": null,
            "order": null,
            "_view_module_version": "1.2.0",
            "grid_template_areas": null,
            "object_position": null,
            "object_fit": null,
            "grid_auto_columns": null,
            "margin": null,
            "display": null,
            "left": null
          }
        },
        "bc3b729030814438a4f0d5698fe3c1ef": {
          "model_module": "@jupyter-widgets/controls",
          "model_name": "HTMLModel",
          "model_module_version": "1.5.0",
          "state": {
            "_view_name": "HTMLView",
            "style": "IPY_MODEL_99bd02094a4f4a22b971a06fcc1c0579",
            "_dom_classes": [],
            "description": "",
            "_model_name": "HTMLModel",
            "placeholder": "​",
            "_view_module": "@jupyter-widgets/controls",
            "_model_module_version": "1.5.0",
            "value": "Downloading: 100%",
            "_view_count": null,
            "_view_module_version": "1.5.0",
            "description_tooltip": null,
            "_model_module": "@jupyter-widgets/controls",
            "layout": "IPY_MODEL_4fe616557c33422eae0d6cb5aaf9d281"
          }
        },
        "37f1e36b3b204279bf9e437b949f4090": {
          "model_module": "@jupyter-widgets/controls",
          "model_name": "FloatProgressModel",
          "model_module_version": "1.5.0",
          "state": {
            "_view_name": "ProgressView",
            "style": "IPY_MODEL_eba8d7ce80f84aa28e97b3942e7cf8a5",
            "_dom_classes": [],
            "description": "",
            "_model_name": "FloatProgressModel",
            "bar_style": "success",
            "max": 466062,
            "_view_module": "@jupyter-widgets/controls",
            "_model_module_version": "1.5.0",
            "value": 466062,
            "_view_count": null,
            "_view_module_version": "1.5.0",
            "orientation": "horizontal",
            "min": 0,
            "description_tooltip": null,
            "_model_module": "@jupyter-widgets/controls",
            "layout": "IPY_MODEL_d41dba09023b48ffac0dba4cf3dc6368"
          }
        },
        "5516b5e56f0c46d8a5c4380801d0764c": {
          "model_module": "@jupyter-widgets/controls",
          "model_name": "HTMLModel",
          "model_module_version": "1.5.0",
          "state": {
            "_view_name": "HTMLView",
            "style": "IPY_MODEL_0058372e906042d293d215051a4b3e9b",
            "_dom_classes": [],
            "description": "",
            "_model_name": "HTMLModel",
            "placeholder": "​",
            "_view_module": "@jupyter-widgets/controls",
            "_model_module_version": "1.5.0",
            "value": " 466k/466k [00:00&lt;00:00, 816kB/s]",
            "_view_count": null,
            "_view_module_version": "1.5.0",
            "description_tooltip": null,
            "_model_module": "@jupyter-widgets/controls",
            "layout": "IPY_MODEL_12ae13e52700485aa036bc408dd4c534"
          }
        },
        "99bd02094a4f4a22b971a06fcc1c0579": {
          "model_module": "@jupyter-widgets/controls",
          "model_name": "DescriptionStyleModel",
          "model_module_version": "1.5.0",
          "state": {
            "_view_name": "StyleView",
            "_model_name": "DescriptionStyleModel",
            "description_width": "",
            "_view_module": "@jupyter-widgets/base",
            "_model_module_version": "1.5.0",
            "_view_count": null,
            "_view_module_version": "1.2.0",
            "_model_module": "@jupyter-widgets/controls"
          }
        },
        "4fe616557c33422eae0d6cb5aaf9d281": {
          "model_module": "@jupyter-widgets/base",
          "model_name": "LayoutModel",
          "model_module_version": "1.2.0",
          "state": {
            "_view_name": "LayoutView",
            "grid_template_rows": null,
            "right": null,
            "justify_content": null,
            "_view_module": "@jupyter-widgets/base",
            "overflow": null,
            "_model_module_version": "1.2.0",
            "_view_count": null,
            "flex_flow": null,
            "width": null,
            "min_width": null,
            "border": null,
            "align_items": null,
            "bottom": null,
            "_model_module": "@jupyter-widgets/base",
            "top": null,
            "grid_column": null,
            "overflow_y": null,
            "overflow_x": null,
            "grid_auto_flow": null,
            "grid_area": null,
            "grid_template_columns": null,
            "flex": null,
            "_model_name": "LayoutModel",
            "justify_items": null,
            "grid_row": null,
            "max_height": null,
            "align_content": null,
            "visibility": null,
            "align_self": null,
            "height": null,
            "min_height": null,
            "padding": null,
            "grid_auto_rows": null,
            "grid_gap": null,
            "max_width": null,
            "order": null,
            "_view_module_version": "1.2.0",
            "grid_template_areas": null,
            "object_position": null,
            "object_fit": null,
            "grid_auto_columns": null,
            "margin": null,
            "display": null,
            "left": null
          }
        },
        "eba8d7ce80f84aa28e97b3942e7cf8a5": {
          "model_module": "@jupyter-widgets/controls",
          "model_name": "ProgressStyleModel",
          "model_module_version": "1.5.0",
          "state": {
            "_view_name": "StyleView",
            "_model_name": "ProgressStyleModel",
            "description_width": "",
            "_view_module": "@jupyter-widgets/base",
            "_model_module_version": "1.5.0",
            "_view_count": null,
            "_view_module_version": "1.2.0",
            "bar_color": null,
            "_model_module": "@jupyter-widgets/controls"
          }
        },
        "d41dba09023b48ffac0dba4cf3dc6368": {
          "model_module": "@jupyter-widgets/base",
          "model_name": "LayoutModel",
          "model_module_version": "1.2.0",
          "state": {
            "_view_name": "LayoutView",
            "grid_template_rows": null,
            "right": null,
            "justify_content": null,
            "_view_module": "@jupyter-widgets/base",
            "overflow": null,
            "_model_module_version": "1.2.0",
            "_view_count": null,
            "flex_flow": null,
            "width": null,
            "min_width": null,
            "border": null,
            "align_items": null,
            "bottom": null,
            "_model_module": "@jupyter-widgets/base",
            "top": null,
            "grid_column": null,
            "overflow_y": null,
            "overflow_x": null,
            "grid_auto_flow": null,
            "grid_area": null,
            "grid_template_columns": null,
            "flex": null,
            "_model_name": "LayoutModel",
            "justify_items": null,
            "grid_row": null,
            "max_height": null,
            "align_content": null,
            "visibility": null,
            "align_self": null,
            "height": null,
            "min_height": null,
            "padding": null,
            "grid_auto_rows": null,
            "grid_gap": null,
            "max_width": null,
            "order": null,
            "_view_module_version": "1.2.0",
            "grid_template_areas": null,
            "object_position": null,
            "object_fit": null,
            "grid_auto_columns": null,
            "margin": null,
            "display": null,
            "left": null
          }
        },
        "0058372e906042d293d215051a4b3e9b": {
          "model_module": "@jupyter-widgets/controls",
          "model_name": "DescriptionStyleModel",
          "model_module_version": "1.5.0",
          "state": {
            "_view_name": "StyleView",
            "_model_name": "DescriptionStyleModel",
            "description_width": "",
            "_view_module": "@jupyter-widgets/base",
            "_model_module_version": "1.5.0",
            "_view_count": null,
            "_view_module_version": "1.2.0",
            "_model_module": "@jupyter-widgets/controls"
          }
        },
        "12ae13e52700485aa036bc408dd4c534": {
          "model_module": "@jupyter-widgets/base",
          "model_name": "LayoutModel",
          "model_module_version": "1.2.0",
          "state": {
            "_view_name": "LayoutView",
            "grid_template_rows": null,
            "right": null,
            "justify_content": null,
            "_view_module": "@jupyter-widgets/base",
            "overflow": null,
            "_model_module_version": "1.2.0",
            "_view_count": null,
            "flex_flow": null,
            "width": null,
            "min_width": null,
            "border": null,
            "align_items": null,
            "bottom": null,
            "_model_module": "@jupyter-widgets/base",
            "top": null,
            "grid_column": null,
            "overflow_y": null,
            "overflow_x": null,
            "grid_auto_flow": null,
            "grid_area": null,
            "grid_template_columns": null,
            "flex": null,
            "_model_name": "LayoutModel",
            "justify_items": null,
            "grid_row": null,
            "max_height": null,
            "align_content": null,
            "visibility": null,
            "align_self": null,
            "height": null,
            "min_height": null,
            "padding": null,
            "grid_auto_rows": null,
            "grid_gap": null,
            "max_width": null,
            "order": null,
            "_view_module_version": "1.2.0",
            "grid_template_areas": null,
            "object_position": null,
            "object_fit": null,
            "grid_auto_columns": null,
            "margin": null,
            "display": null,
            "left": null
          }
        },
        "696aa81adadf4a8b921bc055f9b70cb8": {
          "model_module": "@jupyter-widgets/controls",
          "model_name": "HBoxModel",
          "model_module_version": "1.5.0",
          "state": {
            "_view_name": "HBoxView",
            "_dom_classes": [],
            "_model_name": "HBoxModel",
            "_view_module": "@jupyter-widgets/controls",
            "_model_module_version": "1.5.0",
            "_view_count": null,
            "_view_module_version": "1.5.0",
            "box_style": "",
            "layout": "IPY_MODEL_142e0ac2e19c4aef94cf72e49211f05b",
            "_model_module": "@jupyter-widgets/controls",
            "children": [
              "IPY_MODEL_d90089c5b1884f7a82f31cdcca384589",
              "IPY_MODEL_c6f3a70e9103421ba99a28efee04f434",
              "IPY_MODEL_5f020320ccd444329f8b9a5b8e3d684f"
            ]
          }
        },
        "142e0ac2e19c4aef94cf72e49211f05b": {
          "model_module": "@jupyter-widgets/base",
          "model_name": "LayoutModel",
          "model_module_version": "1.2.0",
          "state": {
            "_view_name": "LayoutView",
            "grid_template_rows": null,
            "right": null,
            "justify_content": null,
            "_view_module": "@jupyter-widgets/base",
            "overflow": null,
            "_model_module_version": "1.2.0",
            "_view_count": null,
            "flex_flow": null,
            "width": null,
            "min_width": null,
            "border": null,
            "align_items": null,
            "bottom": null,
            "_model_module": "@jupyter-widgets/base",
            "top": null,
            "grid_column": null,
            "overflow_y": null,
            "overflow_x": null,
            "grid_auto_flow": null,
            "grid_area": null,
            "grid_template_columns": null,
            "flex": null,
            "_model_name": "LayoutModel",
            "justify_items": null,
            "grid_row": null,
            "max_height": null,
            "align_content": null,
            "visibility": null,
            "align_self": null,
            "height": null,
            "min_height": null,
            "padding": null,
            "grid_auto_rows": null,
            "grid_gap": null,
            "max_width": null,
            "order": null,
            "_view_module_version": "1.2.0",
            "grid_template_areas": null,
            "object_position": null,
            "object_fit": null,
            "grid_auto_columns": null,
            "margin": null,
            "display": null,
            "left": null
          }
        },
        "d90089c5b1884f7a82f31cdcca384589": {
          "model_module": "@jupyter-widgets/controls",
          "model_name": "HTMLModel",
          "model_module_version": "1.5.0",
          "state": {
            "_view_name": "HTMLView",
            "style": "IPY_MODEL_f613e8ddd8564811ba27c424ef4cd6a6",
            "_dom_classes": [],
            "description": "",
            "_model_name": "HTMLModel",
            "placeholder": "​",
            "_view_module": "@jupyter-widgets/controls",
            "_model_module_version": "1.5.0",
            "value": "Downloading: 100%",
            "_view_count": null,
            "_view_module_version": "1.5.0",
            "description_tooltip": null,
            "_model_module": "@jupyter-widgets/controls",
            "layout": "IPY_MODEL_8cda33dcc51f4403827c1b4852f26c7e"
          }
        },
        "c6f3a70e9103421ba99a28efee04f434": {
          "model_module": "@jupyter-widgets/controls",
          "model_name": "FloatProgressModel",
          "model_module_version": "1.5.0",
          "state": {
            "_view_name": "ProgressView",
            "style": "IPY_MODEL_dcded68e924e4ec2b8c52f13b9013d2c",
            "_dom_classes": [],
            "description": "",
            "_model_name": "FloatProgressModel",
            "bar_style": "success",
            "max": 28,
            "_view_module": "@jupyter-widgets/controls",
            "_model_module_version": "1.5.0",
            "value": 28,
            "_view_count": null,
            "_view_module_version": "1.5.0",
            "orientation": "horizontal",
            "min": 0,
            "description_tooltip": null,
            "_model_module": "@jupyter-widgets/controls",
            "layout": "IPY_MODEL_aeb26c96cced49018e39720d8d74ede6"
          }
        },
        "5f020320ccd444329f8b9a5b8e3d684f": {
          "model_module": "@jupyter-widgets/controls",
          "model_name": "HTMLModel",
          "model_module_version": "1.5.0",
          "state": {
            "_view_name": "HTMLView",
            "style": "IPY_MODEL_0eee604a18d549bab265d99247a1ab12",
            "_dom_classes": [],
            "description": "",
            "_model_name": "HTMLModel",
            "placeholder": "​",
            "_view_module": "@jupyter-widgets/controls",
            "_model_module_version": "1.5.0",
            "value": " 28.0/28.0 [00:00&lt;00:00, 655B/s]",
            "_view_count": null,
            "_view_module_version": "1.5.0",
            "description_tooltip": null,
            "_model_module": "@jupyter-widgets/controls",
            "layout": "IPY_MODEL_8f9e57a1d21b46a79de04409017f1618"
          }
        },
        "f613e8ddd8564811ba27c424ef4cd6a6": {
          "model_module": "@jupyter-widgets/controls",
          "model_name": "DescriptionStyleModel",
          "model_module_version": "1.5.0",
          "state": {
            "_view_name": "StyleView",
            "_model_name": "DescriptionStyleModel",
            "description_width": "",
            "_view_module": "@jupyter-widgets/base",
            "_model_module_version": "1.5.0",
            "_view_count": null,
            "_view_module_version": "1.2.0",
            "_model_module": "@jupyter-widgets/controls"
          }
        },
        "8cda33dcc51f4403827c1b4852f26c7e": {
          "model_module": "@jupyter-widgets/base",
          "model_name": "LayoutModel",
          "model_module_version": "1.2.0",
          "state": {
            "_view_name": "LayoutView",
            "grid_template_rows": null,
            "right": null,
            "justify_content": null,
            "_view_module": "@jupyter-widgets/base",
            "overflow": null,
            "_model_module_version": "1.2.0",
            "_view_count": null,
            "flex_flow": null,
            "width": null,
            "min_width": null,
            "border": null,
            "align_items": null,
            "bottom": null,
            "_model_module": "@jupyter-widgets/base",
            "top": null,
            "grid_column": null,
            "overflow_y": null,
            "overflow_x": null,
            "grid_auto_flow": null,
            "grid_area": null,
            "grid_template_columns": null,
            "flex": null,
            "_model_name": "LayoutModel",
            "justify_items": null,
            "grid_row": null,
            "max_height": null,
            "align_content": null,
            "visibility": null,
            "align_self": null,
            "height": null,
            "min_height": null,
            "padding": null,
            "grid_auto_rows": null,
            "grid_gap": null,
            "max_width": null,
            "order": null,
            "_view_module_version": "1.2.0",
            "grid_template_areas": null,
            "object_position": null,
            "object_fit": null,
            "grid_auto_columns": null,
            "margin": null,
            "display": null,
            "left": null
          }
        },
        "dcded68e924e4ec2b8c52f13b9013d2c": {
          "model_module": "@jupyter-widgets/controls",
          "model_name": "ProgressStyleModel",
          "model_module_version": "1.5.0",
          "state": {
            "_view_name": "StyleView",
            "_model_name": "ProgressStyleModel",
            "description_width": "",
            "_view_module": "@jupyter-widgets/base",
            "_model_module_version": "1.5.0",
            "_view_count": null,
            "_view_module_version": "1.2.0",
            "bar_color": null,
            "_model_module": "@jupyter-widgets/controls"
          }
        },
        "aeb26c96cced49018e39720d8d74ede6": {
          "model_module": "@jupyter-widgets/base",
          "model_name": "LayoutModel",
          "model_module_version": "1.2.0",
          "state": {
            "_view_name": "LayoutView",
            "grid_template_rows": null,
            "right": null,
            "justify_content": null,
            "_view_module": "@jupyter-widgets/base",
            "overflow": null,
            "_model_module_version": "1.2.0",
            "_view_count": null,
            "flex_flow": null,
            "width": null,
            "min_width": null,
            "border": null,
            "align_items": null,
            "bottom": null,
            "_model_module": "@jupyter-widgets/base",
            "top": null,
            "grid_column": null,
            "overflow_y": null,
            "overflow_x": null,
            "grid_auto_flow": null,
            "grid_area": null,
            "grid_template_columns": null,
            "flex": null,
            "_model_name": "LayoutModel",
            "justify_items": null,
            "grid_row": null,
            "max_height": null,
            "align_content": null,
            "visibility": null,
            "align_self": null,
            "height": null,
            "min_height": null,
            "padding": null,
            "grid_auto_rows": null,
            "grid_gap": null,
            "max_width": null,
            "order": null,
            "_view_module_version": "1.2.0",
            "grid_template_areas": null,
            "object_position": null,
            "object_fit": null,
            "grid_auto_columns": null,
            "margin": null,
            "display": null,
            "left": null
          }
        },
        "0eee604a18d549bab265d99247a1ab12": {
          "model_module": "@jupyter-widgets/controls",
          "model_name": "DescriptionStyleModel",
          "model_module_version": "1.5.0",
          "state": {
            "_view_name": "StyleView",
            "_model_name": "DescriptionStyleModel",
            "description_width": "",
            "_view_module": "@jupyter-widgets/base",
            "_model_module_version": "1.5.0",
            "_view_count": null,
            "_view_module_version": "1.2.0",
            "_model_module": "@jupyter-widgets/controls"
          }
        },
        "8f9e57a1d21b46a79de04409017f1618": {
          "model_module": "@jupyter-widgets/base",
          "model_name": "LayoutModel",
          "model_module_version": "1.2.0",
          "state": {
            "_view_name": "LayoutView",
            "grid_template_rows": null,
            "right": null,
            "justify_content": null,
            "_view_module": "@jupyter-widgets/base",
            "overflow": null,
            "_model_module_version": "1.2.0",
            "_view_count": null,
            "flex_flow": null,
            "width": null,
            "min_width": null,
            "border": null,
            "align_items": null,
            "bottom": null,
            "_model_module": "@jupyter-widgets/base",
            "top": null,
            "grid_column": null,
            "overflow_y": null,
            "overflow_x": null,
            "grid_auto_flow": null,
            "grid_area": null,
            "grid_template_columns": null,
            "flex": null,
            "_model_name": "LayoutModel",
            "justify_items": null,
            "grid_row": null,
            "max_height": null,
            "align_content": null,
            "visibility": null,
            "align_self": null,
            "height": null,
            "min_height": null,
            "padding": null,
            "grid_auto_rows": null,
            "grid_gap": null,
            "max_width": null,
            "order": null,
            "_view_module_version": "1.2.0",
            "grid_template_areas": null,
            "object_position": null,
            "object_fit": null,
            "grid_auto_columns": null,
            "margin": null,
            "display": null,
            "left": null
          }
        },
        "5922babf2cec4562ad4a4d9624ab7c65": {
          "model_module": "@jupyter-widgets/controls",
          "model_name": "HBoxModel",
          "model_module_version": "1.5.0",
          "state": {
            "_view_name": "HBoxView",
            "_dom_classes": [],
            "_model_name": "HBoxModel",
            "_view_module": "@jupyter-widgets/controls",
            "_model_module_version": "1.5.0",
            "_view_count": null,
            "_view_module_version": "1.5.0",
            "box_style": "",
            "layout": "IPY_MODEL_b11d64f5301241a7a8bdde4ac39432c3",
            "_model_module": "@jupyter-widgets/controls",
            "children": [
              "IPY_MODEL_605c5bf2275b458ea422650fb0f48b10",
              "IPY_MODEL_84b9b82099764c71a15a16ef93303c74",
              "IPY_MODEL_cbdce107cfd8457eb8709cfe0e3e4b66"
            ]
          }
        },
        "b11d64f5301241a7a8bdde4ac39432c3": {
          "model_module": "@jupyter-widgets/base",
          "model_name": "LayoutModel",
          "model_module_version": "1.2.0",
          "state": {
            "_view_name": "LayoutView",
            "grid_template_rows": null,
            "right": null,
            "justify_content": null,
            "_view_module": "@jupyter-widgets/base",
            "overflow": null,
            "_model_module_version": "1.2.0",
            "_view_count": null,
            "flex_flow": null,
            "width": null,
            "min_width": null,
            "border": null,
            "align_items": null,
            "bottom": null,
            "_model_module": "@jupyter-widgets/base",
            "top": null,
            "grid_column": null,
            "overflow_y": null,
            "overflow_x": null,
            "grid_auto_flow": null,
            "grid_area": null,
            "grid_template_columns": null,
            "flex": null,
            "_model_name": "LayoutModel",
            "justify_items": null,
            "grid_row": null,
            "max_height": null,
            "align_content": null,
            "visibility": null,
            "align_self": null,
            "height": null,
            "min_height": null,
            "padding": null,
            "grid_auto_rows": null,
            "grid_gap": null,
            "max_width": null,
            "order": null,
            "_view_module_version": "1.2.0",
            "grid_template_areas": null,
            "object_position": null,
            "object_fit": null,
            "grid_auto_columns": null,
            "margin": null,
            "display": null,
            "left": null
          }
        },
        "605c5bf2275b458ea422650fb0f48b10": {
          "model_module": "@jupyter-widgets/controls",
          "model_name": "HTMLModel",
          "model_module_version": "1.5.0",
          "state": {
            "_view_name": "HTMLView",
            "style": "IPY_MODEL_bfbfb1b280e848c6b6d43bf710f4027e",
            "_dom_classes": [],
            "description": "",
            "_model_name": "HTMLModel",
            "placeholder": "​",
            "_view_module": "@jupyter-widgets/controls",
            "_model_module_version": "1.5.0",
            "value": "Downloading: 100%",
            "_view_count": null,
            "_view_module_version": "1.5.0",
            "description_tooltip": null,
            "_model_module": "@jupyter-widgets/controls",
            "layout": "IPY_MODEL_45534070c9ce444eb907115db8862c66"
          }
        },
        "84b9b82099764c71a15a16ef93303c74": {
          "model_module": "@jupyter-widgets/controls",
          "model_name": "FloatProgressModel",
          "model_module_version": "1.5.0",
          "state": {
            "_view_name": "ProgressView",
            "style": "IPY_MODEL_e6bae191d96f47938447fde3b0f4e019",
            "_dom_classes": [],
            "description": "",
            "_model_name": "FloatProgressModel",
            "bar_style": "success",
            "max": 483,
            "_view_module": "@jupyter-widgets/controls",
            "_model_module_version": "1.5.0",
            "value": 483,
            "_view_count": null,
            "_view_module_version": "1.5.0",
            "orientation": "horizontal",
            "min": 0,
            "description_tooltip": null,
            "_model_module": "@jupyter-widgets/controls",
            "layout": "IPY_MODEL_2facd4b37ac746cd8fc3a0a7d44caf8f"
          }
        },
        "cbdce107cfd8457eb8709cfe0e3e4b66": {
          "model_module": "@jupyter-widgets/controls",
          "model_name": "HTMLModel",
          "model_module_version": "1.5.0",
          "state": {
            "_view_name": "HTMLView",
            "style": "IPY_MODEL_45e2758e25eb4a37a2034566fc308144",
            "_dom_classes": [],
            "description": "",
            "_model_name": "HTMLModel",
            "placeholder": "​",
            "_view_module": "@jupyter-widgets/controls",
            "_model_module_version": "1.5.0",
            "value": " 483/483 [00:00&lt;00:00, 10.7kB/s]",
            "_view_count": null,
            "_view_module_version": "1.5.0",
            "description_tooltip": null,
            "_model_module": "@jupyter-widgets/controls",
            "layout": "IPY_MODEL_fb136f5981864332b1ae4cde4017cb89"
          }
        },
        "bfbfb1b280e848c6b6d43bf710f4027e": {
          "model_module": "@jupyter-widgets/controls",
          "model_name": "DescriptionStyleModel",
          "model_module_version": "1.5.0",
          "state": {
            "_view_name": "StyleView",
            "_model_name": "DescriptionStyleModel",
            "description_width": "",
            "_view_module": "@jupyter-widgets/base",
            "_model_module_version": "1.5.0",
            "_view_count": null,
            "_view_module_version": "1.2.0",
            "_model_module": "@jupyter-widgets/controls"
          }
        },
        "45534070c9ce444eb907115db8862c66": {
          "model_module": "@jupyter-widgets/base",
          "model_name": "LayoutModel",
          "model_module_version": "1.2.0",
          "state": {
            "_view_name": "LayoutView",
            "grid_template_rows": null,
            "right": null,
            "justify_content": null,
            "_view_module": "@jupyter-widgets/base",
            "overflow": null,
            "_model_module_version": "1.2.0",
            "_view_count": null,
            "flex_flow": null,
            "width": null,
            "min_width": null,
            "border": null,
            "align_items": null,
            "bottom": null,
            "_model_module": "@jupyter-widgets/base",
            "top": null,
            "grid_column": null,
            "overflow_y": null,
            "overflow_x": null,
            "grid_auto_flow": null,
            "grid_area": null,
            "grid_template_columns": null,
            "flex": null,
            "_model_name": "LayoutModel",
            "justify_items": null,
            "grid_row": null,
            "max_height": null,
            "align_content": null,
            "visibility": null,
            "align_self": null,
            "height": null,
            "min_height": null,
            "padding": null,
            "grid_auto_rows": null,
            "grid_gap": null,
            "max_width": null,
            "order": null,
            "_view_module_version": "1.2.0",
            "grid_template_areas": null,
            "object_position": null,
            "object_fit": null,
            "grid_auto_columns": null,
            "margin": null,
            "display": null,
            "left": null
          }
        },
        "e6bae191d96f47938447fde3b0f4e019": {
          "model_module": "@jupyter-widgets/controls",
          "model_name": "ProgressStyleModel",
          "model_module_version": "1.5.0",
          "state": {
            "_view_name": "StyleView",
            "_model_name": "ProgressStyleModel",
            "description_width": "",
            "_view_module": "@jupyter-widgets/base",
            "_model_module_version": "1.5.0",
            "_view_count": null,
            "_view_module_version": "1.2.0",
            "bar_color": null,
            "_model_module": "@jupyter-widgets/controls"
          }
        },
        "2facd4b37ac746cd8fc3a0a7d44caf8f": {
          "model_module": "@jupyter-widgets/base",
          "model_name": "LayoutModel",
          "model_module_version": "1.2.0",
          "state": {
            "_view_name": "LayoutView",
            "grid_template_rows": null,
            "right": null,
            "justify_content": null,
            "_view_module": "@jupyter-widgets/base",
            "overflow": null,
            "_model_module_version": "1.2.0",
            "_view_count": null,
            "flex_flow": null,
            "width": null,
            "min_width": null,
            "border": null,
            "align_items": null,
            "bottom": null,
            "_model_module": "@jupyter-widgets/base",
            "top": null,
            "grid_column": null,
            "overflow_y": null,
            "overflow_x": null,
            "grid_auto_flow": null,
            "grid_area": null,
            "grid_template_columns": null,
            "flex": null,
            "_model_name": "LayoutModel",
            "justify_items": null,
            "grid_row": null,
            "max_height": null,
            "align_content": null,
            "visibility": null,
            "align_self": null,
            "height": null,
            "min_height": null,
            "padding": null,
            "grid_auto_rows": null,
            "grid_gap": null,
            "max_width": null,
            "order": null,
            "_view_module_version": "1.2.0",
            "grid_template_areas": null,
            "object_position": null,
            "object_fit": null,
            "grid_auto_columns": null,
            "margin": null,
            "display": null,
            "left": null
          }
        },
        "45e2758e25eb4a37a2034566fc308144": {
          "model_module": "@jupyter-widgets/controls",
          "model_name": "DescriptionStyleModel",
          "model_module_version": "1.5.0",
          "state": {
            "_view_name": "StyleView",
            "_model_name": "DescriptionStyleModel",
            "description_width": "",
            "_view_module": "@jupyter-widgets/base",
            "_model_module_version": "1.5.0",
            "_view_count": null,
            "_view_module_version": "1.2.0",
            "_model_module": "@jupyter-widgets/controls"
          }
        },
        "fb136f5981864332b1ae4cde4017cb89": {
          "model_module": "@jupyter-widgets/base",
          "model_name": "LayoutModel",
          "model_module_version": "1.2.0",
          "state": {
            "_view_name": "LayoutView",
            "grid_template_rows": null,
            "right": null,
            "justify_content": null,
            "_view_module": "@jupyter-widgets/base",
            "overflow": null,
            "_model_module_version": "1.2.0",
            "_view_count": null,
            "flex_flow": null,
            "width": null,
            "min_width": null,
            "border": null,
            "align_items": null,
            "bottom": null,
            "_model_module": "@jupyter-widgets/base",
            "top": null,
            "grid_column": null,
            "overflow_y": null,
            "overflow_x": null,
            "grid_auto_flow": null,
            "grid_area": null,
            "grid_template_columns": null,
            "flex": null,
            "_model_name": "LayoutModel",
            "justify_items": null,
            "grid_row": null,
            "max_height": null,
            "align_content": null,
            "visibility": null,
            "align_self": null,
            "height": null,
            "min_height": null,
            "padding": null,
            "grid_auto_rows": null,
            "grid_gap": null,
            "max_width": null,
            "order": null,
            "_view_module_version": "1.2.0",
            "grid_template_areas": null,
            "object_position": null,
            "object_fit": null,
            "grid_auto_columns": null,
            "margin": null,
            "display": null,
            "left": null
          }
        },
        "1ef445343a1f4f79885991440e1f5fb5": {
          "model_module": "@jupyter-widgets/controls",
          "model_name": "HBoxModel",
          "model_module_version": "1.5.0",
          "state": {
            "_view_name": "HBoxView",
            "_dom_classes": [],
            "_model_name": "HBoxModel",
            "_view_module": "@jupyter-widgets/controls",
            "_model_module_version": "1.5.0",
            "_view_count": null,
            "_view_module_version": "1.5.0",
            "box_style": "",
            "layout": "IPY_MODEL_bfec43ec30d3423495de28a113521ba9",
            "_model_module": "@jupyter-widgets/controls",
            "children": [
              "IPY_MODEL_e2f5aa5c4fbc45ea954dd43a2e663d7c",
              "IPY_MODEL_e1f54280bb364f809fbbee9543552131",
              "IPY_MODEL_6ce76bebd322443f84bd89183aaf09a1"
            ]
          }
        },
        "bfec43ec30d3423495de28a113521ba9": {
          "model_module": "@jupyter-widgets/base",
          "model_name": "LayoutModel",
          "model_module_version": "1.2.0",
          "state": {
            "_view_name": "LayoutView",
            "grid_template_rows": null,
            "right": null,
            "justify_content": null,
            "_view_module": "@jupyter-widgets/base",
            "overflow": null,
            "_model_module_version": "1.2.0",
            "_view_count": null,
            "flex_flow": null,
            "width": null,
            "min_width": null,
            "border": null,
            "align_items": null,
            "bottom": null,
            "_model_module": "@jupyter-widgets/base",
            "top": null,
            "grid_column": null,
            "overflow_y": null,
            "overflow_x": null,
            "grid_auto_flow": null,
            "grid_area": null,
            "grid_template_columns": null,
            "flex": null,
            "_model_name": "LayoutModel",
            "justify_items": null,
            "grid_row": null,
            "max_height": null,
            "align_content": null,
            "visibility": null,
            "align_self": null,
            "height": null,
            "min_height": null,
            "padding": null,
            "grid_auto_rows": null,
            "grid_gap": null,
            "max_width": null,
            "order": null,
            "_view_module_version": "1.2.0",
            "grid_template_areas": null,
            "object_position": null,
            "object_fit": null,
            "grid_auto_columns": null,
            "margin": null,
            "display": null,
            "left": null
          }
        },
        "e2f5aa5c4fbc45ea954dd43a2e663d7c": {
          "model_module": "@jupyter-widgets/controls",
          "model_name": "HTMLModel",
          "model_module_version": "1.5.0",
          "state": {
            "_view_name": "HTMLView",
            "style": "IPY_MODEL_dd2da62af9ba402f9e1613e36f11898b",
            "_dom_classes": [],
            "description": "",
            "_model_name": "HTMLModel",
            "placeholder": "​",
            "_view_module": "@jupyter-widgets/controls",
            "_model_module_version": "1.5.0",
            "value": "Downloading: 100%",
            "_view_count": null,
            "_view_module_version": "1.5.0",
            "description_tooltip": null,
            "_model_module": "@jupyter-widgets/controls",
            "layout": "IPY_MODEL_06fb744dc5ca4f7d863ecc25accca442"
          }
        },
        "e1f54280bb364f809fbbee9543552131": {
          "model_module": "@jupyter-widgets/controls",
          "model_name": "FloatProgressModel",
          "model_module_version": "1.5.0",
          "state": {
            "_view_name": "ProgressView",
            "style": "IPY_MODEL_1e0f94a05dd5405da00830ebbe78eea8",
            "_dom_classes": [],
            "description": "",
            "_model_name": "FloatProgressModel",
            "bar_style": "success",
            "max": 363423424,
            "_view_module": "@jupyter-widgets/controls",
            "_model_module_version": "1.5.0",
            "value": 363423424,
            "_view_count": null,
            "_view_module_version": "1.5.0",
            "orientation": "horizontal",
            "min": 0,
            "description_tooltip": null,
            "_model_module": "@jupyter-widgets/controls",
            "layout": "IPY_MODEL_9ed6bd3462884d679557133792fe0b66"
          }
        },
        "6ce76bebd322443f84bd89183aaf09a1": {
          "model_module": "@jupyter-widgets/controls",
          "model_name": "HTMLModel",
          "model_module_version": "1.5.0",
          "state": {
            "_view_name": "HTMLView",
            "style": "IPY_MODEL_eb168dbe366741ee982f32a887aacf59",
            "_dom_classes": [],
            "description": "",
            "_model_name": "HTMLModel",
            "placeholder": "​",
            "_view_module": "@jupyter-widgets/controls",
            "_model_module_version": "1.5.0",
            "value": " 363M/363M [00:12&lt;00:00, 27.6MB/s]",
            "_view_count": null,
            "_view_module_version": "1.5.0",
            "description_tooltip": null,
            "_model_module": "@jupyter-widgets/controls",
            "layout": "IPY_MODEL_cd62bfcf2e0a48d69756e69da236fe45"
          }
        },
        "dd2da62af9ba402f9e1613e36f11898b": {
          "model_module": "@jupyter-widgets/controls",
          "model_name": "DescriptionStyleModel",
          "model_module_version": "1.5.0",
          "state": {
            "_view_name": "StyleView",
            "_model_name": "DescriptionStyleModel",
            "description_width": "",
            "_view_module": "@jupyter-widgets/base",
            "_model_module_version": "1.5.0",
            "_view_count": null,
            "_view_module_version": "1.2.0",
            "_model_module": "@jupyter-widgets/controls"
          }
        },
        "06fb744dc5ca4f7d863ecc25accca442": {
          "model_module": "@jupyter-widgets/base",
          "model_name": "LayoutModel",
          "model_module_version": "1.2.0",
          "state": {
            "_view_name": "LayoutView",
            "grid_template_rows": null,
            "right": null,
            "justify_content": null,
            "_view_module": "@jupyter-widgets/base",
            "overflow": null,
            "_model_module_version": "1.2.0",
            "_view_count": null,
            "flex_flow": null,
            "width": null,
            "min_width": null,
            "border": null,
            "align_items": null,
            "bottom": null,
            "_model_module": "@jupyter-widgets/base",
            "top": null,
            "grid_column": null,
            "overflow_y": null,
            "overflow_x": null,
            "grid_auto_flow": null,
            "grid_area": null,
            "grid_template_columns": null,
            "flex": null,
            "_model_name": "LayoutModel",
            "justify_items": null,
            "grid_row": null,
            "max_height": null,
            "align_content": null,
            "visibility": null,
            "align_self": null,
            "height": null,
            "min_height": null,
            "padding": null,
            "grid_auto_rows": null,
            "grid_gap": null,
            "max_width": null,
            "order": null,
            "_view_module_version": "1.2.0",
            "grid_template_areas": null,
            "object_position": null,
            "object_fit": null,
            "grid_auto_columns": null,
            "margin": null,
            "display": null,
            "left": null
          }
        },
        "1e0f94a05dd5405da00830ebbe78eea8": {
          "model_module": "@jupyter-widgets/controls",
          "model_name": "ProgressStyleModel",
          "model_module_version": "1.5.0",
          "state": {
            "_view_name": "StyleView",
            "_model_name": "ProgressStyleModel",
            "description_width": "",
            "_view_module": "@jupyter-widgets/base",
            "_model_module_version": "1.5.0",
            "_view_count": null,
            "_view_module_version": "1.2.0",
            "bar_color": null,
            "_model_module": "@jupyter-widgets/controls"
          }
        },
        "9ed6bd3462884d679557133792fe0b66": {
          "model_module": "@jupyter-widgets/base",
          "model_name": "LayoutModel",
          "model_module_version": "1.2.0",
          "state": {
            "_view_name": "LayoutView",
            "grid_template_rows": null,
            "right": null,
            "justify_content": null,
            "_view_module": "@jupyter-widgets/base",
            "overflow": null,
            "_model_module_version": "1.2.0",
            "_view_count": null,
            "flex_flow": null,
            "width": null,
            "min_width": null,
            "border": null,
            "align_items": null,
            "bottom": null,
            "_model_module": "@jupyter-widgets/base",
            "top": null,
            "grid_column": null,
            "overflow_y": null,
            "overflow_x": null,
            "grid_auto_flow": null,
            "grid_area": null,
            "grid_template_columns": null,
            "flex": null,
            "_model_name": "LayoutModel",
            "justify_items": null,
            "grid_row": null,
            "max_height": null,
            "align_content": null,
            "visibility": null,
            "align_self": null,
            "height": null,
            "min_height": null,
            "padding": null,
            "grid_auto_rows": null,
            "grid_gap": null,
            "max_width": null,
            "order": null,
            "_view_module_version": "1.2.0",
            "grid_template_areas": null,
            "object_position": null,
            "object_fit": null,
            "grid_auto_columns": null,
            "margin": null,
            "display": null,
            "left": null
          }
        },
        "eb168dbe366741ee982f32a887aacf59": {
          "model_module": "@jupyter-widgets/controls",
          "model_name": "DescriptionStyleModel",
          "model_module_version": "1.5.0",
          "state": {
            "_view_name": "StyleView",
            "_model_name": "DescriptionStyleModel",
            "description_width": "",
            "_view_module": "@jupyter-widgets/base",
            "_model_module_version": "1.5.0",
            "_view_count": null,
            "_view_module_version": "1.2.0",
            "_model_module": "@jupyter-widgets/controls"
          }
        },
        "cd62bfcf2e0a48d69756e69da236fe45": {
          "model_module": "@jupyter-widgets/base",
          "model_name": "LayoutModel",
          "model_module_version": "1.2.0",
          "state": {
            "_view_name": "LayoutView",
            "grid_template_rows": null,
            "right": null,
            "justify_content": null,
            "_view_module": "@jupyter-widgets/base",
            "overflow": null,
            "_model_module_version": "1.2.0",
            "_view_count": null,
            "flex_flow": null,
            "width": null,
            "min_width": null,
            "border": null,
            "align_items": null,
            "bottom": null,
            "_model_module": "@jupyter-widgets/base",
            "top": null,
            "grid_column": null,
            "overflow_y": null,
            "overflow_x": null,
            "grid_auto_flow": null,
            "grid_area": null,
            "grid_template_columns": null,
            "flex": null,
            "_model_name": "LayoutModel",
            "justify_items": null,
            "grid_row": null,
            "max_height": null,
            "align_content": null,
            "visibility": null,
            "align_self": null,
            "height": null,
            "min_height": null,
            "padding": null,
            "grid_auto_rows": null,
            "grid_gap": null,
            "max_width": null,
            "order": null,
            "_view_module_version": "1.2.0",
            "grid_template_areas": null,
            "object_position": null,
            "object_fit": null,
            "grid_auto_columns": null,
            "margin": null,
            "display": null,
            "left": null
          }
        }
      }
    },
    "accelerator": "GPU"
  },
  "cells": [
    {
      "cell_type": "markdown",
      "metadata": {
        "id": "tc2WH6ZtuJ1z"
      },
      "source": [
        "## Importing Modules"
      ]
    },
    {
      "cell_type": "code",
      "metadata": {
        "id": "CHxELl3-1caN"
      },
      "source": [
        "%%capture\n",
        "!pip install 'transformers == 4.6.0'"
      ],
      "execution_count": 72,
      "outputs": []
    },
    {
      "cell_type": "code",
      "metadata": {
        "id": "bcNiueXNisHY"
      },
      "source": [
        "import zipfile\n",
        "import pandas as pd \n",
        "import numpy as np\n",
        "import re\n",
        "import random \n",
        "import matplotlib.pyplot as plt \n",
        "from wordcloud import WordCloud\n",
        "import seaborn as sns\n",
        "from sklearn.feature_extraction import text\n",
        "from sklearn.model_selection import train_test_split\n",
        "from sklearn.metrics import f1_score, accuracy_score\n",
        "import xgboost as xgb\n",
        "import numpy as np\n",
        "import tensorflow_hub as hub\n",
        "import tensorflow as tf\n",
        "from sklearn.feature_extraction.text import TfidfVectorizer\n",
        "from sklearn.pipeline import Pipeline\n",
        "from sklearn.naive_bayes import MultinomialNB\n",
        "from sklearn.ensemble import RandomForestClassifier\n",
        "from sklearn.linear_model import LogisticRegression\n",
        "from sklearn.linear_model import SGDClassifier\n",
        "from tensorflow.keras import layers \n",
        "from sklearn.metrics import accuracy_score, precision_recall_fscore_support \n",
        "from sklearn.metrics import confusion_matrix\n",
        "from transformers import DistilBertTokenizerFast\n",
        "from transformers import TFDistilBertForSequenceClassification, TFTrainer, TFTrainingArguments"
      ],
      "execution_count": 73,
      "outputs": []
    },
    {
      "cell_type": "markdown",
      "metadata": {
        "id": "kPkavE31K9UY"
      },
      "source": [
        "## Loading Data"
      ]
    },
    {
      "cell_type": "code",
      "metadata": {
        "id": "rJ-ef_V5LcXa"
      },
      "source": [
        "zip_path= \"/content/drive/MyDrive/Hate Speech Detection Data/train_E6oV3lV.csv.zip\""
      ],
      "execution_count": 74,
      "outputs": []
    },
    {
      "cell_type": "code",
      "metadata": {
        "id": "CeToBwS8Mj_-"
      },
      "source": [
        "# Create function to unzip a zipfile into current working directory \n",
        "def unzip_data(filename):\n",
        "  \"\"\"\n",
        "  Unzips filename into the current working directory.\n",
        "\n",
        "  Args:\n",
        "    filename (str): a filepath to a target zip folder to be unzipped.\n",
        "  \"\"\"\n",
        "  zip_ref = zipfile.ZipFile(filename, \"r\")\n",
        "  zip_ref.extractall()\n",
        "  zip_ref.close()\n",
        "unzip_data(zip_path)\n"
      ],
      "execution_count": 75,
      "outputs": []
    },
    {
      "cell_type": "code",
      "metadata": {
        "id": "sd2hIu_yN8hD"
      },
      "source": [
        "# Read csv file\n",
        "df = pd.read_csv(\"/content/train_E6oV3lV.csv\")"
      ],
      "execution_count": 76,
      "outputs": []
    },
    {
      "cell_type": "markdown",
      "metadata": {
        "id": "ApFPnD9qR_XZ"
      },
      "source": [
        "## Exploring Data "
      ]
    },
    {
      "cell_type": "code",
      "metadata": {
        "colab": {
          "base_uri": "https://localhost:8080/",
          "height": 419
        },
        "id": "5xn8hjLLRXwS",
        "outputId": "b790a07c-8c99-4d84-883f-0b53261ef6e6"
      },
      "source": [
        "# Check data\n",
        "df"
      ],
      "execution_count": 77,
      "outputs": [
        {
          "output_type": "execute_result",
          "data": {
            "text/html": [
              "<div>\n",
              "<style scoped>\n",
              "    .dataframe tbody tr th:only-of-type {\n",
              "        vertical-align: middle;\n",
              "    }\n",
              "\n",
              "    .dataframe tbody tr th {\n",
              "        vertical-align: top;\n",
              "    }\n",
              "\n",
              "    .dataframe thead th {\n",
              "        text-align: right;\n",
              "    }\n",
              "</style>\n",
              "<table border=\"1\" class=\"dataframe\">\n",
              "  <thead>\n",
              "    <tr style=\"text-align: right;\">\n",
              "      <th></th>\n",
              "      <th>id</th>\n",
              "      <th>label</th>\n",
              "      <th>tweet</th>\n",
              "    </tr>\n",
              "  </thead>\n",
              "  <tbody>\n",
              "    <tr>\n",
              "      <th>0</th>\n",
              "      <td>1</td>\n",
              "      <td>0</td>\n",
              "      <td>@user when a father is dysfunctional and is s...</td>\n",
              "    </tr>\n",
              "    <tr>\n",
              "      <th>1</th>\n",
              "      <td>2</td>\n",
              "      <td>0</td>\n",
              "      <td>@user @user thanks for #lyft credit i can't us...</td>\n",
              "    </tr>\n",
              "    <tr>\n",
              "      <th>2</th>\n",
              "      <td>3</td>\n",
              "      <td>0</td>\n",
              "      <td>bihday your majesty</td>\n",
              "    </tr>\n",
              "    <tr>\n",
              "      <th>3</th>\n",
              "      <td>4</td>\n",
              "      <td>0</td>\n",
              "      <td>#model   i love u take with u all the time in ...</td>\n",
              "    </tr>\n",
              "    <tr>\n",
              "      <th>4</th>\n",
              "      <td>5</td>\n",
              "      <td>0</td>\n",
              "      <td>factsguide: society now    #motivation</td>\n",
              "    </tr>\n",
              "    <tr>\n",
              "      <th>...</th>\n",
              "      <td>...</td>\n",
              "      <td>...</td>\n",
              "      <td>...</td>\n",
              "    </tr>\n",
              "    <tr>\n",
              "      <th>31957</th>\n",
              "      <td>31958</td>\n",
              "      <td>0</td>\n",
              "      <td>ate @user isz that youuu?ðððððð...</td>\n",
              "    </tr>\n",
              "    <tr>\n",
              "      <th>31958</th>\n",
              "      <td>31959</td>\n",
              "      <td>0</td>\n",
              "      <td>to see nina turner on the airwaves trying to...</td>\n",
              "    </tr>\n",
              "    <tr>\n",
              "      <th>31959</th>\n",
              "      <td>31960</td>\n",
              "      <td>0</td>\n",
              "      <td>listening to sad songs on a monday morning otw...</td>\n",
              "    </tr>\n",
              "    <tr>\n",
              "      <th>31960</th>\n",
              "      <td>31961</td>\n",
              "      <td>1</td>\n",
              "      <td>@user #sikh #temple vandalised in in #calgary,...</td>\n",
              "    </tr>\n",
              "    <tr>\n",
              "      <th>31961</th>\n",
              "      <td>31962</td>\n",
              "      <td>0</td>\n",
              "      <td>thank you @user for you follow</td>\n",
              "    </tr>\n",
              "  </tbody>\n",
              "</table>\n",
              "<p>31962 rows × 3 columns</p>\n",
              "</div>"
            ],
            "text/plain": [
              "          id  label                                              tweet\n",
              "0          1      0   @user when a father is dysfunctional and is s...\n",
              "1          2      0  @user @user thanks for #lyft credit i can't us...\n",
              "2          3      0                                bihday your majesty\n",
              "3          4      0  #model   i love u take with u all the time in ...\n",
              "4          5      0             factsguide: society now    #motivation\n",
              "...      ...    ...                                                ...\n",
              "31957  31958      0  ate @user isz that youuu?ðððððð...\n",
              "31958  31959      0    to see nina turner on the airwaves trying to...\n",
              "31959  31960      0  listening to sad songs on a monday morning otw...\n",
              "31960  31961      1  @user #sikh #temple vandalised in in #calgary,...\n",
              "31961  31962      0                   thank you @user for you follow  \n",
              "\n",
              "[31962 rows x 3 columns]"
            ]
          },
          "metadata": {},
          "execution_count": 77
        }
      ]
    },
    {
      "cell_type": "code",
      "metadata": {
        "colab": {
          "base_uri": "https://localhost:8080/"
        },
        "id": "WRimuDMpxdP5",
        "outputId": "35b3d0da-0c01-4cf6-fcc8-082c0cccbf1b"
      },
      "source": [
        "df.info()"
      ],
      "execution_count": 78,
      "outputs": [
        {
          "output_type": "stream",
          "name": "stdout",
          "text": [
            "<class 'pandas.core.frame.DataFrame'>\n",
            "RangeIndex: 31962 entries, 0 to 31961\n",
            "Data columns (total 3 columns):\n",
            " #   Column  Non-Null Count  Dtype \n",
            "---  ------  --------------  ----- \n",
            " 0   id      31962 non-null  int64 \n",
            " 1   label   31962 non-null  int64 \n",
            " 2   tweet   31962 non-null  object\n",
            "dtypes: int64(2), object(1)\n",
            "memory usage: 749.2+ KB\n"
          ]
        }
      ]
    },
    {
      "cell_type": "code",
      "metadata": {
        "colab": {
          "base_uri": "https://localhost:8080/",
          "height": 204
        },
        "id": "w0U7YYfMSKbU",
        "outputId": "5c1b8166-9931-4e87-9d99-10fc874be52a"
      },
      "source": [
        "# Drop the id column\n",
        "df = df.drop('id',axis=1)\n",
        "df.head()"
      ],
      "execution_count": 79,
      "outputs": [
        {
          "output_type": "execute_result",
          "data": {
            "text/html": [
              "<div>\n",
              "<style scoped>\n",
              "    .dataframe tbody tr th:only-of-type {\n",
              "        vertical-align: middle;\n",
              "    }\n",
              "\n",
              "    .dataframe tbody tr th {\n",
              "        vertical-align: top;\n",
              "    }\n",
              "\n",
              "    .dataframe thead th {\n",
              "        text-align: right;\n",
              "    }\n",
              "</style>\n",
              "<table border=\"1\" class=\"dataframe\">\n",
              "  <thead>\n",
              "    <tr style=\"text-align: right;\">\n",
              "      <th></th>\n",
              "      <th>label</th>\n",
              "      <th>tweet</th>\n",
              "    </tr>\n",
              "  </thead>\n",
              "  <tbody>\n",
              "    <tr>\n",
              "      <th>0</th>\n",
              "      <td>0</td>\n",
              "      <td>@user when a father is dysfunctional and is s...</td>\n",
              "    </tr>\n",
              "    <tr>\n",
              "      <th>1</th>\n",
              "      <td>0</td>\n",
              "      <td>@user @user thanks for #lyft credit i can't us...</td>\n",
              "    </tr>\n",
              "    <tr>\n",
              "      <th>2</th>\n",
              "      <td>0</td>\n",
              "      <td>bihday your majesty</td>\n",
              "    </tr>\n",
              "    <tr>\n",
              "      <th>3</th>\n",
              "      <td>0</td>\n",
              "      <td>#model   i love u take with u all the time in ...</td>\n",
              "    </tr>\n",
              "    <tr>\n",
              "      <th>4</th>\n",
              "      <td>0</td>\n",
              "      <td>factsguide: society now    #motivation</td>\n",
              "    </tr>\n",
              "  </tbody>\n",
              "</table>\n",
              "</div>"
            ],
            "text/plain": [
              "   label                                              tweet\n",
              "0      0   @user when a father is dysfunctional and is s...\n",
              "1      0  @user @user thanks for #lyft credit i can't us...\n",
              "2      0                                bihday your majesty\n",
              "3      0  #model   i love u take with u all the time in ...\n",
              "4      0             factsguide: society now    #motivation"
            ]
          },
          "metadata": {},
          "execution_count": 79
        }
      ]
    },
    {
      "cell_type": "code",
      "metadata": {
        "colab": {
          "base_uri": "https://localhost:8080/"
        },
        "id": "0v6jKzOIRY50",
        "outputId": "74a8734c-f573-4941-e707-f1d5e7569723"
      },
      "source": [
        "# Check how many examples each class has\n",
        "df.label.value_counts()"
      ],
      "execution_count": 80,
      "outputs": [
        {
          "output_type": "execute_result",
          "data": {
            "text/plain": [
              "0    29720\n",
              "1     2242\n",
              "Name: label, dtype: int64"
            ]
          },
          "metadata": {},
          "execution_count": 80
        }
      ]
    },
    {
      "cell_type": "code",
      "metadata": {
        "colab": {
          "base_uri": "https://localhost:8080/",
          "height": 111
        },
        "id": "9s0NdZT6ac_h",
        "outputId": "5a03d626-6d34-48a1-97b8-85df11ebbeb1"
      },
      "source": [
        "df_Stat=df[['label','tweet']].groupby('label').count().reset_index()\n",
        "df_Stat.columns=['label','count']\n",
        "df_Stat['percentage']=(df_Stat['count']/df_Stat['count'].sum())*100\n",
        "df_Stat"
      ],
      "execution_count": 81,
      "outputs": [
        {
          "output_type": "execute_result",
          "data": {
            "text/html": [
              "<div>\n",
              "<style scoped>\n",
              "    .dataframe tbody tr th:only-of-type {\n",
              "        vertical-align: middle;\n",
              "    }\n",
              "\n",
              "    .dataframe tbody tr th {\n",
              "        vertical-align: top;\n",
              "    }\n",
              "\n",
              "    .dataframe thead th {\n",
              "        text-align: right;\n",
              "    }\n",
              "</style>\n",
              "<table border=\"1\" class=\"dataframe\">\n",
              "  <thead>\n",
              "    <tr style=\"text-align: right;\">\n",
              "      <th></th>\n",
              "      <th>label</th>\n",
              "      <th>count</th>\n",
              "      <th>percentage</th>\n",
              "    </tr>\n",
              "  </thead>\n",
              "  <tbody>\n",
              "    <tr>\n",
              "      <th>0</th>\n",
              "      <td>0</td>\n",
              "      <td>29720</td>\n",
              "      <td>92.98542</td>\n",
              "    </tr>\n",
              "    <tr>\n",
              "      <th>1</th>\n",
              "      <td>1</td>\n",
              "      <td>2242</td>\n",
              "      <td>7.01458</td>\n",
              "    </tr>\n",
              "  </tbody>\n",
              "</table>\n",
              "</div>"
            ],
            "text/plain": [
              "   label  count  percentage\n",
              "0      0  29720    92.98542\n",
              "1      1   2242     7.01458"
            ]
          },
          "metadata": {},
          "execution_count": 81
        }
      ]
    },
    {
      "cell_type": "code",
      "metadata": {
        "colab": {
          "base_uri": "https://localhost:8080/",
          "height": 204
        },
        "id": "1stjWMVBRpYW",
        "outputId": "12ccee99-e204-4ced-99d5-e097f4f272a7"
      },
      "source": [
        "# Shuffle the data \n",
        "df_shuffled = df.sample(frac=1, random_state=42)\n",
        "df_shuffled.head()"
      ],
      "execution_count": 82,
      "outputs": [
        {
          "output_type": "execute_result",
          "data": {
            "text/html": [
              "<div>\n",
              "<style scoped>\n",
              "    .dataframe tbody tr th:only-of-type {\n",
              "        vertical-align: middle;\n",
              "    }\n",
              "\n",
              "    .dataframe tbody tr th {\n",
              "        vertical-align: top;\n",
              "    }\n",
              "\n",
              "    .dataframe thead th {\n",
              "        text-align: right;\n",
              "    }\n",
              "</style>\n",
              "<table border=\"1\" class=\"dataframe\">\n",
              "  <thead>\n",
              "    <tr style=\"text-align: right;\">\n",
              "      <th></th>\n",
              "      <th>label</th>\n",
              "      <th>tweet</th>\n",
              "    </tr>\n",
              "  </thead>\n",
              "  <tbody>\n",
              "    <tr>\n",
              "      <th>12227</th>\n",
              "      <td>0</td>\n",
              "      <td>@user âmy mom says my smile is captivatingâ...</td>\n",
              "    </tr>\n",
              "    <tr>\n",
              "      <th>14709</th>\n",
              "      <td>0</td>\n",
              "      <td>in 3 days i will be meeting my sis-n-law, coun...</td>\n",
              "    </tr>\n",
              "    <tr>\n",
              "      <th>19319</th>\n",
              "      <td>0</td>\n",
              "      <td>hating the conservative homophobes using this ...</td>\n",
              "    </tr>\n",
              "    <tr>\n",
              "      <th>4308</th>\n",
              "      <td>0</td>\n",
              "      <td>awee if this doesn't  #scream   #friday #acewe...</td>\n",
              "    </tr>\n",
              "    <tr>\n",
              "      <th>24055</th>\n",
              "      <td>0</td>\n",
              "      <td>fathersday  #fatherÃ¢ÂÂs #day #god! #ÃÂ« #...</td>\n",
              "    </tr>\n",
              "  </tbody>\n",
              "</table>\n",
              "</div>"
            ],
            "text/plain": [
              "       label                                              tweet\n",
              "12227      0   @user âmy mom says my smile is captivatingâ...\n",
              "14709      0  in 3 days i will be meeting my sis-n-law, coun...\n",
              "19319      0  hating the conservative homophobes using this ...\n",
              "4308       0  awee if this doesn't  #scream   #friday #acewe...\n",
              "24055      0   fathersday  #fatherÃ¢ÂÂs #day #god! #ÃÂ« #..."
            ]
          },
          "metadata": {},
          "execution_count": 82
        }
      ]
    },
    {
      "cell_type": "code",
      "metadata": {
        "id": "pjVrD8LlxGDd"
      },
      "source": [
        "# Remove symbols from tweets and lower case all characters\n",
        "def process_tweet(tweet):\n",
        "    return \" \".join(re.sub(\"(@[A-Za-z0-9]+)|([^0-9A-Za-z \\t])\", \" \",tweet.lower()).split())"
      ],
      "execution_count": 83,
      "outputs": []
    },
    {
      "cell_type": "code",
      "metadata": {
        "colab": {
          "base_uri": "https://localhost:8080/",
          "height": 204
        },
        "id": "MmqNkrOcxe5k",
        "outputId": "52c0cebd-c131-4329-89bd-c60cc85b1553"
      },
      "source": [
        "df_shuffled['processed_tweets'] = df_shuffled['tweet'].apply(process_tweet)\n",
        "df_shuffled.head()"
      ],
      "execution_count": 84,
      "outputs": [
        {
          "output_type": "execute_result",
          "data": {
            "text/html": [
              "<div>\n",
              "<style scoped>\n",
              "    .dataframe tbody tr th:only-of-type {\n",
              "        vertical-align: middle;\n",
              "    }\n",
              "\n",
              "    .dataframe tbody tr th {\n",
              "        vertical-align: top;\n",
              "    }\n",
              "\n",
              "    .dataframe thead th {\n",
              "        text-align: right;\n",
              "    }\n",
              "</style>\n",
              "<table border=\"1\" class=\"dataframe\">\n",
              "  <thead>\n",
              "    <tr style=\"text-align: right;\">\n",
              "      <th></th>\n",
              "      <th>label</th>\n",
              "      <th>tweet</th>\n",
              "      <th>processed_tweets</th>\n",
              "    </tr>\n",
              "  </thead>\n",
              "  <tbody>\n",
              "    <tr>\n",
              "      <th>12227</th>\n",
              "      <td>0</td>\n",
              "      <td>@user âmy mom says my smile is captivatingâ...</td>\n",
              "      <td>my mom says my smile is captivating i says hap...</td>\n",
              "    </tr>\n",
              "    <tr>\n",
              "      <th>14709</th>\n",
              "      <td>0</td>\n",
              "      <td>in 3 days i will be meeting my sis-n-law, coun...</td>\n",
              "      <td>in 3 days i will be meeting my sis n law coune...</td>\n",
              "    </tr>\n",
              "    <tr>\n",
              "      <th>19319</th>\n",
              "      <td>0</td>\n",
              "      <td>hating the conservative homophobes using this ...</td>\n",
              "      <td>hating the conservative homophobes using this ...</td>\n",
              "    </tr>\n",
              "    <tr>\n",
              "      <th>4308</th>\n",
              "      <td>0</td>\n",
              "      <td>awee if this doesn't  #scream   #friday #acewe...</td>\n",
              "      <td>awee if this doesn t scream friday acewellstuc...</td>\n",
              "    </tr>\n",
              "    <tr>\n",
              "      <th>24055</th>\n",
              "      <td>0</td>\n",
              "      <td>fathersday  #fatherÃ¢ÂÂs #day #god! #ÃÂ« #...</td>\n",
              "      <td>fathersday father s day god tony a smith buy t...</td>\n",
              "    </tr>\n",
              "  </tbody>\n",
              "</table>\n",
              "</div>"
            ],
            "text/plain": [
              "       label  ...                                   processed_tweets\n",
              "12227      0  ...  my mom says my smile is captivating i says hap...\n",
              "14709      0  ...  in 3 days i will be meeting my sis n law coune...\n",
              "19319      0  ...  hating the conservative homophobes using this ...\n",
              "4308       0  ...  awee if this doesn t scream friday acewellstuc...\n",
              "24055      0  ...  fathersday father s day god tony a smith buy t...\n",
              "\n",
              "[5 rows x 3 columns]"
            ]
          },
          "metadata": {},
          "execution_count": 84
        }
      ]
    },
    {
      "cell_type": "code",
      "metadata": {
        "colab": {
          "base_uri": "https://localhost:8080/"
        },
        "id": "uGfbVP5Car5Y",
        "outputId": "69947e53-b3a7-46f6-ab0d-d68550f6500b"
      },
      "source": [
        "# Visualize some random examples \n",
        "random_index = random.randint(0, len(df_shuffled)-10) # create random indexes\n",
        "for row in df_shuffled[[\"processed_tweets\", \"label\"]][random_index:random_index+10].itertuples():\n",
        "  _, tweet, label = row\n",
        "  print(f\"Label: {label}\", \"(hate speech)\" if label > 0 else \"(normal speech)\")\n",
        "  print(f\"Tweet:\\n{tweet}\\n\")\n",
        "  print(\"---\\n\")"
      ],
      "execution_count": null,
      "outputs": [
        {
          "output_type": "stream",
          "name": "stdout",
          "text": [
            "Label: 0 (normal speech)\n",
            "Tweet:\n",
            "remember when used to lead on impoant social issues 29 years later they re afraid to even talk abt cannabis whathappened\n",
            "\n",
            "---\n",
            "\n",
            "Label: 0 (normal speech)\n",
            "Tweet:\n",
            "i think everything in my life right now is a leapoffaith and i m not scared im sta betting on yourself\n",
            "\n",
            "---\n",
            "\n",
            "Label: 1 (hate speech)\n",
            "Tweet:\n",
            "isn t it time we realized what we ve done hate exploitation read america s history\n",
            "\n",
            "---\n",
            "\n",
            "Label: 0 (normal speech)\n",
            "Tweet:\n",
            "thanks kidsrehab\n",
            "\n",
            "---\n",
            "\n",
            "Label: 0 (normal speech)\n",
            "Tweet:\n",
            "is that a jet engine in your pocket or are you just to see me via\n",
            "\n",
            "---\n",
            "\n",
            "Label: 0 (normal speech)\n",
            "Tweet:\n",
            "cause we lost\n",
            "\n",
            "---\n",
            "\n",
            "Label: 0 (normal speech)\n",
            "Tweet:\n",
            "ramadan to all mussulmanic twitter friends blesessing month n happy\n",
            "\n",
            "---\n",
            "\n",
            "Label: 0 (normal speech)\n",
            "Tweet:\n",
            "absolutely disgusted with andover kfc disgusting service the food was cold and horrible and over cooked very\n",
            "\n",
            "---\n",
            "\n",
            "Label: 0 (normal speech)\n",
            "Tweet:\n",
            "being ignored confused disappointed after so many years i can t see a change sadly i tried to trust\n",
            "\n",
            "---\n",
            "\n",
            "Label: 0 (normal speech)\n",
            "Tweet:\n",
            "luth nurses begin indefinite strike\n",
            "\n",
            "---\n",
            "\n"
          ]
        }
      ]
    },
    {
      "cell_type": "code",
      "metadata": {
        "colab": {
          "base_uri": "https://localhost:8080/",
          "height": 466
        },
        "id": "8mwRJaGhTC-E",
        "outputId": "751fd423-f044-46c1-e9c8-426caf25f69d"
      },
      "source": [
        "# Visualize the most frequent words in normal tweets\n",
        "normal_words = ' '.join([word for word in df_shuffled['processed_tweets'][df_shuffled['label'] == 0]])\n",
        "wordcloud = WordCloud(width = 800, height = 500, max_font_size = 110,max_words = 100).generate(normal_words)\n",
        "print('Normal speech words')\n",
        "plt.figure(figsize= (12,8))\n",
        "plt.imshow(wordcloud, interpolation = 'bilinear',cmap='viridis')\n",
        "plt.axis('off');"
      ],
      "execution_count": null,
      "outputs": [
        {
          "output_type": "stream",
          "name": "stdout",
          "text": [
            "Normal speech words\n"
          ]
        },
        {
          "output_type": "display_data",
          "data": {
            "image/png": "[encoded data removed]",
            "text/plain": [
              "<Figure size 864x576 with 1 Axes>"
            ]
          },
          "metadata": {
            "needs_background": "light"
          }
        }
      ]
    },
    {
      "cell_type": "code",
      "metadata": {
        "colab": {
          "base_uri": "https://localhost:8080/",
          "height": 466
        },
        "id": "2FPOZ83xTrtm",
        "outputId": "09051ee2-e6fe-4e91-d6d3-e11491b5dc11"
      },
      "source": [
        "# Visualize the most frequent words in hate tweets\n",
        "normal_words = ' '.join([word for word in df_shuffled['processed_tweets'][df_shuffled['label'] == 1]])\n",
        "wordcloud = WordCloud(width = 800, height = 500, max_font_size = 110,max_words = 100).generate(normal_words)\n",
        "print('Hate speech words')\n",
        "plt.figure(figsize= (12,8))\n",
        "plt.imshow(wordcloud, interpolation = 'bilinear',cmap='viridis')\n",
        "plt.axis('off');"
      ],
      "execution_count": null,
      "outputs": [
        {
          "output_type": "stream",
          "name": "stdout",
          "text": [
            "Hate speech words\n"
          ]
        },
        {
          "output_type": "display_data",
          "data": {
            "image/png": "[encoded data removed]",
            "text/plain": [
              "<Figure size 864x576 with 1 Axes>"
            ]
          },
          "metadata": {
            "needs_background": "light"
          }
        }
      ]
    },
    {
      "cell_type": "code",
      "metadata": {
        "colab": {
          "base_uri": "https://localhost:8080/"
        },
        "id": "9_yr2AzJWL3q",
        "outputId": "b76a8bdf-4b86-42f3-a5b1-3b51b62f6f3a"
      },
      "source": [
        "# Import stopwords with scikit-learn\n",
        "stopwords = text.ENGLISH_STOP_WORDS\n",
        "# Get the top used words from normal tweets excluding stopwords, numbers, and strings with length of one character\n",
        "normal_words = pd.Series(' '.join(df_shuffled['processed_tweets'][df_shuffled['label'] == 0].apply(lambda x: ' '.join(item for item in str(x).split() if item not in stopwords and not item.isdigit() and len(item)>1))).split()).value_counts()[:30]\n",
        "normal_words"
      ],
      "execution_count": null,
      "outputs": [
        {
          "output_type": "execute_result",
          "data": {
            "text/plain": [
              "love         2796\n",
              "day          2346\n",
              "happy        1694\n",
              "amp          1476\n",
              "just         1288\n",
              "life         1163\n",
              "time         1127\n",
              "today        1080\n",
              "thankful      952\n",
              "positive      934\n",
              "new           931\n",
              "like          920\n",
              "bihday        872\n",
              "good          841\n",
              "people        792\n",
              "smile         745\n",
              "father        650\n",
              "want          626\n",
              "don           616\n",
              "fun           614\n",
              "healthy       609\n",
              "weekend       604\n",
              "work          604\n",
              "summer        571\n",
              "family        536\n",
              "make          532\n",
              "friday        530\n",
              "beautiful     523\n",
              "friends       517\n",
              "best          513\n",
              "dtype: int64"
            ]
          },
          "metadata": {},
          "execution_count": 18
        }
      ]
    },
    {
      "cell_type": "code",
      "metadata": {
        "colab": {
          "base_uri": "https://localhost:8080/"
        },
        "id": "Nn23c1TI9Bcr",
        "outputId": "3a222b9f-cfa6-4358-d360-26977d10de90"
      },
      "source": [
        "# Get the top used words from hate tweets excluding stopwords, numbers, and strings with length of one character\n",
        "hate_words = pd.Series(' '.join(df_shuffled['processed_tweets'][df_shuffled['label'] == 1].apply(lambda x: ' '.join(item for item in str(x).split() if item not in stopwords and not item.isdigit() and len(item)>1))).split()).value_counts()[:30]\n",
        "hate_words"
      ],
      "execution_count": null,
      "outputs": [
        {
          "output_type": "execute_result",
          "data": {
            "text/plain": [
              "amp          300\n",
              "trump        213\n",
              "libtard      149\n",
              "white        140\n",
              "like         139\n",
              "black        134\n",
              "racist       108\n",
              "politics      97\n",
              "people        95\n",
              "allahsoil     92\n",
              "liberal       82\n",
              "just          79\n",
              "women         78\n",
              "sjw           74\n",
              "new           72\n",
              "obama         72\n",
              "hate          72\n",
              "retweet       67\n",
              "racism        66\n",
              "don           63\n",
              "feel          59\n",
              "listen        57\n",
              "america       54\n",
              "stomping      48\n",
              "right         48\n",
              "race          47\n",
              "men           46\n",
              "miami         46\n",
              "woman         43\n",
              "comments      39\n",
              "dtype: int64"
            ]
          },
          "metadata": {},
          "execution_count": 19
        }
      ]
    },
    {
      "cell_type": "code",
      "metadata": {
        "colab": {
          "base_uri": "https://localhost:8080/",
          "height": 979
        },
        "id": "dCrYJzrANUuF",
        "outputId": "e9e10993-bb90-4a51-f864-5c4831961d11"
      },
      "source": [
        "# Creating a dataframe to represent top 30 normal and hate used words\n",
        "d1 = pd.DataFrame(normal_words.index,columns = ['Normal_Words'])\n",
        "d2 = pd.DataFrame(normal_words.values,columns = ['Normal_Count'])\n",
        "d3 = pd.DataFrame(hate_words.index,columns = ['Hate_Words'])\n",
        "d4 = pd.DataFrame(hate_words.values,columns = ['Hate_Count'])\n",
        "word_freq_df = pd.concat([d1,d2,d3,d4], axis = 1)\n",
        "word_freq_df"
      ],
      "execution_count": null,
      "outputs": [
        {
          "output_type": "execute_result",
          "data": {
            "text/html": [
              "<div>\n",
              "<style scoped>\n",
              "    .dataframe tbody tr th:only-of-type {\n",
              "        vertical-align: middle;\n",
              "    }\n",
              "\n",
              "    .dataframe tbody tr th {\n",
              "        vertical-align: top;\n",
              "    }\n",
              "\n",
              "    .dataframe thead th {\n",
              "        text-align: right;\n",
              "    }\n",
              "</style>\n",
              "<table border=\"1\" class=\"dataframe\">\n",
              "  <thead>\n",
              "    <tr style=\"text-align: right;\">\n",
              "      <th></th>\n",
              "      <th>Normal_Words</th>\n",
              "      <th>Normal_Count</th>\n",
              "      <th>Hate_Words</th>\n",
              "      <th>Hate_Count</th>\n",
              "    </tr>\n",
              "  </thead>\n",
              "  <tbody>\n",
              "    <tr>\n",
              "      <th>0</th>\n",
              "      <td>love</td>\n",
              "      <td>2796</td>\n",
              "      <td>amp</td>\n",
              "      <td>300</td>\n",
              "    </tr>\n",
              "    <tr>\n",
              "      <th>1</th>\n",
              "      <td>day</td>\n",
              "      <td>2346</td>\n",
              "      <td>trump</td>\n",
              "      <td>213</td>\n",
              "    </tr>\n",
              "    <tr>\n",
              "      <th>2</th>\n",
              "      <td>happy</td>\n",
              "      <td>1694</td>\n",
              "      <td>libtard</td>\n",
              "      <td>149</td>\n",
              "    </tr>\n",
              "    <tr>\n",
              "      <th>3</th>\n",
              "      <td>amp</td>\n",
              "      <td>1476</td>\n",
              "      <td>white</td>\n",
              "      <td>140</td>\n",
              "    </tr>\n",
              "    <tr>\n",
              "      <th>4</th>\n",
              "      <td>just</td>\n",
              "      <td>1288</td>\n",
              "      <td>like</td>\n",
              "      <td>139</td>\n",
              "    </tr>\n",
              "    <tr>\n",
              "      <th>5</th>\n",
              "      <td>life</td>\n",
              "      <td>1163</td>\n",
              "      <td>black</td>\n",
              "      <td>134</td>\n",
              "    </tr>\n",
              "    <tr>\n",
              "      <th>6</th>\n",
              "      <td>time</td>\n",
              "      <td>1127</td>\n",
              "      <td>racist</td>\n",
              "      <td>108</td>\n",
              "    </tr>\n",
              "    <tr>\n",
              "      <th>7</th>\n",
              "      <td>today</td>\n",
              "      <td>1080</td>\n",
              "      <td>politics</td>\n",
              "      <td>97</td>\n",
              "    </tr>\n",
              "    <tr>\n",
              "      <th>8</th>\n",
              "      <td>thankful</td>\n",
              "      <td>952</td>\n",
              "      <td>people</td>\n",
              "      <td>95</td>\n",
              "    </tr>\n",
              "    <tr>\n",
              "      <th>9</th>\n",
              "      <td>positive</td>\n",
              "      <td>934</td>\n",
              "      <td>allahsoil</td>\n",
              "      <td>92</td>\n",
              "    </tr>\n",
              "    <tr>\n",
              "      <th>10</th>\n",
              "      <td>new</td>\n",
              "      <td>931</td>\n",
              "      <td>liberal</td>\n",
              "      <td>82</td>\n",
              "    </tr>\n",
              "    <tr>\n",
              "      <th>11</th>\n",
              "      <td>like</td>\n",
              "      <td>920</td>\n",
              "      <td>just</td>\n",
              "      <td>79</td>\n",
              "    </tr>\n",
              "    <tr>\n",
              "      <th>12</th>\n",
              "      <td>bihday</td>\n",
              "      <td>872</td>\n",
              "      <td>women</td>\n",
              "      <td>78</td>\n",
              "    </tr>\n",
              "    <tr>\n",
              "      <th>13</th>\n",
              "      <td>good</td>\n",
              "      <td>841</td>\n",
              "      <td>sjw</td>\n",
              "      <td>74</td>\n",
              "    </tr>\n",
              "    <tr>\n",
              "      <th>14</th>\n",
              "      <td>people</td>\n",
              "      <td>792</td>\n",
              "      <td>new</td>\n",
              "      <td>72</td>\n",
              "    </tr>\n",
              "    <tr>\n",
              "      <th>15</th>\n",
              "      <td>smile</td>\n",
              "      <td>745</td>\n",
              "      <td>obama</td>\n",
              "      <td>72</td>\n",
              "    </tr>\n",
              "    <tr>\n",
              "      <th>16</th>\n",
              "      <td>father</td>\n",
              "      <td>650</td>\n",
              "      <td>hate</td>\n",
              "      <td>72</td>\n",
              "    </tr>\n",
              "    <tr>\n",
              "      <th>17</th>\n",
              "      <td>want</td>\n",
              "      <td>626</td>\n",
              "      <td>retweet</td>\n",
              "      <td>67</td>\n",
              "    </tr>\n",
              "    <tr>\n",
              "      <th>18</th>\n",
              "      <td>don</td>\n",
              "      <td>616</td>\n",
              "      <td>racism</td>\n",
              "      <td>66</td>\n",
              "    </tr>\n",
              "    <tr>\n",
              "      <th>19</th>\n",
              "      <td>fun</td>\n",
              "      <td>614</td>\n",
              "      <td>don</td>\n",
              "      <td>63</td>\n",
              "    </tr>\n",
              "    <tr>\n",
              "      <th>20</th>\n",
              "      <td>healthy</td>\n",
              "      <td>609</td>\n",
              "      <td>feel</td>\n",
              "      <td>59</td>\n",
              "    </tr>\n",
              "    <tr>\n",
              "      <th>21</th>\n",
              "      <td>weekend</td>\n",
              "      <td>604</td>\n",
              "      <td>listen</td>\n",
              "      <td>57</td>\n",
              "    </tr>\n",
              "    <tr>\n",
              "      <th>22</th>\n",
              "      <td>work</td>\n",
              "      <td>604</td>\n",
              "      <td>america</td>\n",
              "      <td>54</td>\n",
              "    </tr>\n",
              "    <tr>\n",
              "      <th>23</th>\n",
              "      <td>summer</td>\n",
              "      <td>571</td>\n",
              "      <td>stomping</td>\n",
              "      <td>48</td>\n",
              "    </tr>\n",
              "    <tr>\n",
              "      <th>24</th>\n",
              "      <td>family</td>\n",
              "      <td>536</td>\n",
              "      <td>right</td>\n",
              "      <td>48</td>\n",
              "    </tr>\n",
              "    <tr>\n",
              "      <th>25</th>\n",
              "      <td>make</td>\n",
              "      <td>532</td>\n",
              "      <td>race</td>\n",
              "      <td>47</td>\n",
              "    </tr>\n",
              "    <tr>\n",
              "      <th>26</th>\n",
              "      <td>friday</td>\n",
              "      <td>530</td>\n",
              "      <td>men</td>\n",
              "      <td>46</td>\n",
              "    </tr>\n",
              "    <tr>\n",
              "      <th>27</th>\n",
              "      <td>beautiful</td>\n",
              "      <td>523</td>\n",
              "      <td>miami</td>\n",
              "      <td>46</td>\n",
              "    </tr>\n",
              "    <tr>\n",
              "      <th>28</th>\n",
              "      <td>friends</td>\n",
              "      <td>517</td>\n",
              "      <td>woman</td>\n",
              "      <td>43</td>\n",
              "    </tr>\n",
              "    <tr>\n",
              "      <th>29</th>\n",
              "      <td>best</td>\n",
              "      <td>513</td>\n",
              "      <td>comments</td>\n",
              "      <td>39</td>\n",
              "    </tr>\n",
              "  </tbody>\n",
              "</table>\n",
              "</div>"
            ],
            "text/plain": [
              "   Normal_Words  Normal_Count Hate_Words  Hate_Count\n",
              "0          love          2796        amp         300\n",
              "1           day          2346      trump         213\n",
              "2         happy          1694    libtard         149\n",
              "3           amp          1476      white         140\n",
              "4          just          1288       like         139\n",
              "5          life          1163      black         134\n",
              "6          time          1127     racist         108\n",
              "7         today          1080   politics          97\n",
              "8      thankful           952     people          95\n",
              "9      positive           934  allahsoil          92\n",
              "10          new           931    liberal          82\n",
              "11         like           920       just          79\n",
              "12       bihday           872      women          78\n",
              "13         good           841        sjw          74\n",
              "14       people           792        new          72\n",
              "15        smile           745      obama          72\n",
              "16       father           650       hate          72\n",
              "17         want           626    retweet          67\n",
              "18          don           616     racism          66\n",
              "19          fun           614        don          63\n",
              "20      healthy           609       feel          59\n",
              "21      weekend           604     listen          57\n",
              "22         work           604    america          54\n",
              "23       summer           571   stomping          48\n",
              "24       family           536      right          48\n",
              "25         make           532       race          47\n",
              "26       friday           530        men          46\n",
              "27    beautiful           523      miami          46\n",
              "28      friends           517      woman          43\n",
              "29         best           513   comments          39"
            ]
          },
          "metadata": {},
          "execution_count": 22
        }
      ]
    },
    {
      "cell_type": "markdown",
      "metadata": {
        "id": "aQaCNFzB3Qz3"
      },
      "source": [
        "## Splitting Data into Training and Validation Sets"
      ]
    },
    {
      "cell_type": "code",
      "metadata": {
        "id": "iM7ZZGP63WuD"
      },
      "source": [
        "# Use train_test_split to split training data into training and validation sets \n",
        "train_sentences, val_sentences, train_labels, val_labels = train_test_split(list(df_shuffled[\"processed_tweets\"]),\n",
        "                                                                           list(df_shuffled[\"label\"]),\n",
        "                                                                           test_size=0.2, # use 10% of training data for validation\n",
        "                                                                           random_state=42)"
      ],
      "execution_count": 85,
      "outputs": []
    },
    {
      "cell_type": "code",
      "metadata": {
        "colab": {
          "base_uri": "https://localhost:8080/"
        },
        "id": "rfiz2J-mdpf3",
        "outputId": "08be3cfa-3d4c-43e8-aa3c-5a19fa6abea6"
      },
      "source": [
        "# Find the average number of tokens (words) in the training and validation tweets \n",
        "round (sum([len(i.split()) for i in train_sentences])/len(train_sentences)), round (sum([len(i.split()) for i in val_sentences])/len(val_sentences))"
      ],
      "execution_count": null,
      "outputs": [
        {
          "output_type": "execute_result",
          "data": {
            "text/plain": [
              "(13, 13)"
            ]
          },
          "metadata": {},
          "execution_count": 18
        }
      ]
    },
    {
      "cell_type": "markdown",
      "metadata": {
        "id": "UgytwQsCSPP9"
      },
      "source": [
        "## Running a Series of Modeling Experiments"
      ]
    },
    {
      "cell_type": "code",
      "metadata": {
        "colab": {
          "base_uri": "https://localhost:8080/"
        },
        "id": "6vn-6yjImMjt",
        "outputId": "38249e42-4d48-45a5-9152-e8c74888a830"
      },
      "source": [
        "# Create tokenization and modeling pipeline \n",
        "\n",
        "\n",
        "# XGBClassifier\n",
        "pipeline_xgb = Pipeline([\n",
        "    ('tfidf', TfidfVectorizer()),\n",
        "    ('model', xgb.XGBClassifier(use_label =False)),])\n",
        "\n",
        "model_0 = pipeline_xgb.fit(train_sentences, train_labels)\n",
        "\n",
        "model_0_score = model_0.score(val_sentences, val_labels)\n",
        "\n",
        "print(f\"Our model_0 (XGBClassifier) achieves an accuracy of:{model_0_score*100:.2f}%\")\n",
        "\n",
        "\n",
        "# MultinomialNB\n",
        "model_1 = Pipeline([\n",
        "                    (\"tfidf\", TfidfVectorizer()), # Convert words to numbers using tfidf \n",
        "                    (\"clf\", MultinomialNB()) # model the text\n",
        "])\n",
        "\n",
        "model_1.fit(train_sentences, train_labels)\n",
        "score_1 = model_1.score(val_sentences, val_labels)\n",
        "print(f\"Our model_1 (MultinomialNB) achieves an accuracy of:{score_1*100:.2f}%\")\n",
        "\n",
        "\n",
        "# RandomForestClassifier\n",
        "model_2 = Pipeline([\n",
        "                    (\"tfidf\", TfidfVectorizer()), # Convert words to numbers using tfidf \n",
        "                    (\"clf\", RandomForestClassifier()) # model the text\n",
        "])\n",
        "\n",
        "model_2.fit(train_sentences, train_labels)\n",
        "score_2 = model_2.score(val_sentences, val_labels)\n",
        "print(f\"Our model_2 (RandomForestClassifier) achieves an accuracy of:{score_2*100:.2f}%\")\n",
        "\n",
        "\n",
        "# LogisticRegression\n",
        "model_3 = Pipeline([\n",
        "                    (\"tfidf\", TfidfVectorizer()), # Convert words to numbers using tfidf \n",
        "                    (\"clf\", LogisticRegression()) # model the text\n",
        "])\n",
        "\n",
        "model_3.fit(train_sentences, train_labels)\n",
        "score_3 = model_3.score(val_sentences, val_labels)\n",
        "print(f\"Our model_3 (LogisticRegression) achieves an accuracy of:{score_3*100:.2f}%\")\n",
        "\n",
        "\n",
        "# SGDClassifier\n",
        "model_4 = Pipeline([\n",
        "                    (\"tfidf\", TfidfVectorizer()), # Convert words to numbers using tfidf \n",
        "                    (\"clf\", SGDClassifier()) # model the text\n",
        "])\n",
        "\n",
        "model_4.fit(train_sentences, train_labels)\n",
        "score_4 = model_4.score(val_sentences, val_labels)\n",
        "print(f\"Our model_4 (SGDClassifier) achieves an accuracy of:{score_4*100:.2f}%\")"
      ],
      "execution_count": 14,
      "outputs": [
        {
          "output_type": "stream",
          "name": "stdout",
          "text": [
            "Our model_0 (XGBClassifier) achieves an accuracy of:94.17%\n",
            "Our model_1 (MultinomialNB) achieves an accuracy of:93.52%\n",
            "Our model_2 (RandomForestClassifier) achieves an accuracy of:96.15%\n",
            "Our model_3 (LogisticRegression) achieves an accuracy of:94.81%\n",
            "Our model_4 (SGDClassifier) achieves an accuracy of:95.10%\n"
          ]
        }
      ]
    },
    {
      "cell_type": "code",
      "metadata": {
        "colab": {
          "base_uri": "https://localhost:8080/"
        },
        "id": "UH-IVn1V7otm",
        "outputId": "b1fb561e-e980-490d-cdbd-840677653a8e"
      },
      "source": [
        "# Create a Keras Layer using the USE pretrained layer from tensorflow hub \n",
        "sentence_encoder_layer = hub.KerasLayer(\"https://tfhub.dev/google/universal-sentence-encoder/4\",\n",
        "                                        input_shape=[],\n",
        "                                        dtype=tf.string,\n",
        "                                        trainable=False,\n",
        "                                        name=\"USE\"\n",
        "                                        )\n",
        "# Create model using the Sequential API \n",
        "model_5 = tf.keras.Sequential([\n",
        "  sentence_encoder_layer,\n",
        "  layers.Dense(64, activation=\"relu\"),\n",
        "  layers.Dense(1, activation=\"sigmoid\")\n",
        "], name = \"model_5_USE\")\n",
        "\n",
        "# Compile \n",
        "model_5.compile(loss=\"binary_crossentropy\",\n",
        "                optimizer=tf.keras.optimizers.Adam(),\n",
        "                metrics=[\"accuracy\"])\n",
        "model_5.summary()"
      ],
      "execution_count": 86,
      "outputs": [
        {
          "output_type": "stream",
          "name": "stdout",
          "text": [
            "Model: \"model_5_USE\"\n",
            "_________________________________________________________________\n",
            " Layer (type)                Output Shape              Param #   \n",
            "=================================================================\n",
            " USE (KerasLayer)            (None, 512)               256797824 \n",
            "                                                                 \n",
            " dense_2 (Dense)             (None, 64)                32832     \n",
            "                                                                 \n",
            " dense_3 (Dense)             (None, 1)                 65        \n",
            "                                                                 \n",
            "=================================================================\n",
            "Total params: 256,830,721\n",
            "Trainable params: 32,897\n",
            "Non-trainable params: 256,797,824\n",
            "_________________________________________________________________\n"
          ]
        }
      ]
    },
    {
      "cell_type": "code",
      "metadata": {
        "colab": {
          "base_uri": "https://localhost:8080/"
        },
        "id": "STlQckNK-gOe",
        "outputId": "194956aa-0066-4cec-bcc7-cf82181ab029"
      },
      "source": [
        "# Train a classifier on top of USE pretrained embeddings \n",
        "model_5_history = model_5.fit(train_sentences,\n",
        "                              train_labels,\n",
        "                              epochs=15,\n",
        "                              validation_data=(val_sentences, val_labels)\n",
        "                              )"
      ],
      "execution_count": 87,
      "outputs": [
        {
          "output_type": "stream",
          "name": "stdout",
          "text": [
            "Epoch 1/15\n",
            "800/800 [==============================] - 21s 23ms/step - loss: 0.1770 - accuracy: 0.9437 - val_loss: 0.1368 - val_accuracy: 0.9487\n",
            "Epoch 2/15\n",
            "800/800 [==============================] - 18s 22ms/step - loss: 0.1223 - accuracy: 0.9565 - val_loss: 0.1302 - val_accuracy: 0.9504\n",
            "Epoch 3/15\n",
            "800/800 [==============================] - 17s 22ms/step - loss: 0.1118 - accuracy: 0.9594 - val_loss: 0.1246 - val_accuracy: 0.9529\n",
            "Epoch 4/15\n",
            "800/800 [==============================] - 17s 22ms/step - loss: 0.1023 - accuracy: 0.9623 - val_loss: 0.1192 - val_accuracy: 0.9564\n",
            "Epoch 5/15\n",
            "800/800 [==============================] - 17s 22ms/step - loss: 0.0936 - accuracy: 0.9659 - val_loss: 0.1152 - val_accuracy: 0.9570\n",
            "Epoch 6/15\n",
            "800/800 [==============================] - 17s 22ms/step - loss: 0.0852 - accuracy: 0.9689 - val_loss: 0.1137 - val_accuracy: 0.9587\n",
            "Epoch 7/15\n",
            "800/800 [==============================] - 17s 21ms/step - loss: 0.0777 - accuracy: 0.9719 - val_loss: 0.1118 - val_accuracy: 0.9592\n",
            "Epoch 8/15\n",
            "800/800 [==============================] - 17s 22ms/step - loss: 0.0713 - accuracy: 0.9741 - val_loss: 0.1102 - val_accuracy: 0.9598\n",
            "Epoch 9/15\n",
            "800/800 [==============================] - 17s 22ms/step - loss: 0.0649 - accuracy: 0.9777 - val_loss: 0.1108 - val_accuracy: 0.9592\n",
            "Epoch 10/15\n",
            "800/800 [==============================] - 17s 21ms/step - loss: 0.0589 - accuracy: 0.9804 - val_loss: 0.1123 - val_accuracy: 0.9598\n",
            "Epoch 11/15\n",
            "800/800 [==============================] - 17s 22ms/step - loss: 0.0534 - accuracy: 0.9824 - val_loss: 0.1144 - val_accuracy: 0.9606\n",
            "Epoch 12/15\n",
            "800/800 [==============================] - 17s 21ms/step - loss: 0.0479 - accuracy: 0.9850 - val_loss: 0.1143 - val_accuracy: 0.9601\n",
            "Epoch 13/15\n",
            "800/800 [==============================] - 17s 21ms/step - loss: 0.0431 - accuracy: 0.9863 - val_loss: 0.1151 - val_accuracy: 0.9592\n",
            "Epoch 14/15\n",
            "800/800 [==============================] - 17s 21ms/step - loss: 0.0381 - accuracy: 0.9893 - val_loss: 0.1171 - val_accuracy: 0.9612\n",
            "Epoch 15/15\n",
            "800/800 [==============================] - 17s 21ms/step - loss: 0.0340 - accuracy: 0.9906 - val_loss: 0.1214 - val_accuracy: 0.9615\n"
          ]
        }
      ]
    },
    {
      "cell_type": "code",
      "metadata": {
        "id": "o-cPTnGK7z85"
      },
      "source": [
        "# Make predictions with USE TF Hub Model\n",
        "model_5_pred_probs = model_5.predict(val_sentences)"
      ],
      "execution_count": 88,
      "outputs": []
    },
    {
      "cell_type": "code",
      "metadata": {
        "id": "cNs_vpFurexI"
      },
      "source": [
        "# Making predictions on validation data \n",
        "y0_predict = model_0.predict(val_sentences)\n",
        "y1_predict = model_1.predict(val_sentences)\n",
        "y2_predict = model_2.predict(val_sentences)\n",
        "y3_predict = model_3.predict(val_sentences)\n",
        "y4_predict = model_4.predict(val_sentences)\n",
        "y5_predict = tf.squeeze(tf.round(model_5_pred_probs))"
      ],
      "execution_count": 89,
      "outputs": []
    },
    {
      "cell_type": "markdown",
      "metadata": {
        "id": "_6ygGyCZxlvG"
      },
      "source": [
        "## Creating an Evaluation Function for Model Experiments"
      ]
    },
    {
      "cell_type": "code",
      "metadata": {
        "id": "TvgKvIEoSAxn"
      },
      "source": [
        "# Function to evaluate: accuracy, precision, recall, f1-score\n",
        "def calculate_results(y_true,y_pred):\n",
        "  \"\"\"\n",
        "  Calculates model accuracy, precision, recall and f1 score of a binary classification model \n",
        "  \"\"\"\n",
        "  # Calculate model accuracy \n",
        "  model_accuracy = accuracy_score(y_true, y_pred) * 100\n",
        "  # Calculate model precision, recall and f1-score using \"weighted\" average \n",
        "  model_precision, model_recall, model_f1, _ = precision_recall_fscore_support(y_true, y_pred, average=\"weighted\")\n",
        "  model_results = {\"accuracy\": model_accuracy,\n",
        "                  \"precision\": model_precision,\n",
        "                  \"recall\": model_recall,\n",
        "                  \"f1\": model_f1}\n",
        "  return model_results\n"
      ],
      "execution_count": 19,
      "outputs": []
    },
    {
      "cell_type": "code",
      "metadata": {
        "colab": {
          "base_uri": "https://localhost:8080/"
        },
        "id": "UEHl38jNsPJ6",
        "outputId": "f710dcd4-3603-4322-dea2-3ede35fafc04"
      },
      "source": [
        "# Get baseline results \n",
        "model_0_results = calculate_results(y_true=val_labels,\n",
        "                                     y_pred= y0_predict)\n",
        "model_0_results"
      ],
      "execution_count": 90,
      "outputs": [
        {
          "output_type": "execute_result",
          "data": {
            "text/plain": [
              "{'accuracy': 94.16549350852495,\n",
              " 'f1': 0.9240085458148133,\n",
              " 'precision': 0.9416924045330635,\n",
              " 'recall': 0.9416549350852494}"
            ]
          },
          "metadata": {},
          "execution_count": 90
        }
      ]
    },
    {
      "cell_type": "code",
      "metadata": {
        "colab": {
          "base_uri": "https://localhost:8080/"
        },
        "id": "kBHza1F5veTB",
        "outputId": "cb4a8295-d47e-4b83-a0e5-4223bd4ff0c1"
      },
      "source": [
        "# Get model_1 results \n",
        "model_1_results = calculate_results(y_true=val_labels,\n",
        "                                     y_pred= y1_predict)\n",
        "model_1_results"
      ],
      "execution_count": 91,
      "outputs": [
        {
          "output_type": "execute_result",
          "data": {
            "text/plain": [
              "{'accuracy': 93.52416705771938,\n",
              " 'f1': 0.9103555383590493,\n",
              " 'precision': 0.9394690355064025,\n",
              " 'recall': 0.9352416705771938}"
            ]
          },
          "metadata": {},
          "execution_count": 91
        }
      ]
    },
    {
      "cell_type": "code",
      "metadata": {
        "colab": {
          "base_uri": "https://localhost:8080/"
        },
        "id": "Djepe_ea3nqi",
        "outputId": "d793f8f2-cd28-4277-e721-467b8b9b4e81"
      },
      "source": [
        "# Get model_2 results \n",
        "model_2_results = calculate_results(y_true=val_labels,\n",
        "                                     y_pred= y2_predict)\n",
        "model_2_results"
      ],
      "execution_count": 92,
      "outputs": [
        {
          "output_type": "execute_result",
          "data": {
            "text/plain": [
              "{'accuracy': 96.15204129516658,\n",
              " 'f1': 0.9560442219920248,\n",
              " 'precision': 0.9607553645482917,\n",
              " 'recall': 0.9615204129516659}"
            ]
          },
          "metadata": {},
          "execution_count": 92
        }
      ]
    },
    {
      "cell_type": "code",
      "metadata": {
        "colab": {
          "base_uri": "https://localhost:8080/"
        },
        "id": "3btXdttLYe1p",
        "outputId": "f324aa25-9c97-4e48-9be7-1bb1e6ef1975"
      },
      "source": [
        "# Get model_3 results \n",
        "model_3_results = calculate_results(y_true=val_labels,\n",
        "                                     y_pred= y3_predict)\n",
        "model_3_results"
      ],
      "execution_count": 93,
      "outputs": [
        {
          "output_type": "execute_result",
          "data": {
            "text/plain": [
              "{'accuracy': 94.80681995933051,\n",
              " 'f1': 0.9359882323688977,\n",
              " 'precision': 0.9466040133565261,\n",
              " 'recall': 0.9480681995933051}"
            ]
          },
          "metadata": {},
          "execution_count": 93
        }
      ]
    },
    {
      "cell_type": "code",
      "metadata": {
        "colab": {
          "base_uri": "https://localhost:8080/"
        },
        "id": "icJotQ7HYi7D",
        "outputId": "b6b87a4e-719b-4fc0-b2ae-1e641907fd9b"
      },
      "source": [
        "# Get model_4 results \n",
        "model_4_results = calculate_results(y_true=val_labels,\n",
        "                                     y_pred= y4_predict)\n",
        "model_4_results"
      ],
      "execution_count": 94,
      "outputs": [
        {
          "output_type": "execute_result",
          "data": {
            "text/plain": [
              "{'accuracy': 95.10402002189895,\n",
              " 'f1': 0.9401526202494138,\n",
              " 'precision': 0.9511041686353916,\n",
              " 'recall': 0.9510402002189895}"
            ]
          },
          "metadata": {},
          "execution_count": 94
        }
      ]
    },
    {
      "cell_type": "code",
      "metadata": {
        "colab": {
          "base_uri": "https://localhost:8080/"
        },
        "id": "FIYj0isc_koN",
        "outputId": "db9f45e6-f41f-4718-8064-8703da78b784"
      },
      "source": [
        "# Get model_5 results \n",
        "model_5_results = calculate_results(y_true = val_labels,\n",
        "                                    y_pred = y5_predict)\n",
        "model_5_results"
      ],
      "execution_count": 95,
      "outputs": [
        {
          "output_type": "execute_result",
          "data": {
            "text/plain": [
              "{'accuracy': 96.15204129516658,\n",
              " 'f1': 0.9595563153708081,\n",
              " 'precision': 0.9589536629357007,\n",
              " 'recall': 0.9615204129516659}"
            ]
          },
          "metadata": {},
          "execution_count": 95
        }
      ]
    },
    {
      "cell_type": "markdown",
      "metadata": {
        "id": "HpdS7yDPweWo"
      },
      "source": [
        "## Comparing the Performance of the Models"
      ]
    },
    {
      "cell_type": "code",
      "metadata": {
        "colab": {
          "base_uri": "https://localhost:8080/",
          "height": 235
        },
        "id": "88q6UNm0TI01",
        "outputId": "887dd43a-e76b-4c64-a53d-00a5c2727241"
      },
      "source": [
        "models_results_df = pd.DataFrame(data={'model_0 (XGBClassifier)': model_0_results,\n",
        "                                       'model_1 (MultinomialNB)': model_1_results,\n",
        "                                       'model_2 (RandomForestClassifier)' : model_2_results,\n",
        "                                       'model_3 (LogisticRegression)': model_3_results,\n",
        "                                       'model_4 (SGDClassifier)' : model_4_results,\n",
        "                                       'model_5 (TFhub_USE_Encoder)' : model_5_results}).transpose()\n",
        "models_results_df"
      ],
      "execution_count": 96,
      "outputs": [
        {
          "output_type": "execute_result",
          "data": {
            "text/html": [
              "<div>\n",
              "<style scoped>\n",
              "    .dataframe tbody tr th:only-of-type {\n",
              "        vertical-align: middle;\n",
              "    }\n",
              "\n",
              "    .dataframe tbody tr th {\n",
              "        vertical-align: top;\n",
              "    }\n",
              "\n",
              "    .dataframe thead th {\n",
              "        text-align: right;\n",
              "    }\n",
              "</style>\n",
              "<table border=\"1\" class=\"dataframe\">\n",
              "  <thead>\n",
              "    <tr style=\"text-align: right;\">\n",
              "      <th></th>\n",
              "      <th>accuracy</th>\n",
              "      <th>precision</th>\n",
              "      <th>recall</th>\n",
              "      <th>f1</th>\n",
              "    </tr>\n",
              "  </thead>\n",
              "  <tbody>\n",
              "    <tr>\n",
              "      <th>model_0 (XGBClassifier)</th>\n",
              "      <td>94.165494</td>\n",
              "      <td>0.941692</td>\n",
              "      <td>0.941655</td>\n",
              "      <td>0.924009</td>\n",
              "    </tr>\n",
              "    <tr>\n",
              "      <th>model_1 (MultinomialNB)</th>\n",
              "      <td>93.524167</td>\n",
              "      <td>0.939469</td>\n",
              "      <td>0.935242</td>\n",
              "      <td>0.910356</td>\n",
              "    </tr>\n",
              "    <tr>\n",
              "      <th>model_2 (RandomForestClassifier)</th>\n",
              "      <td>96.152041</td>\n",
              "      <td>0.960755</td>\n",
              "      <td>0.961520</td>\n",
              "      <td>0.956044</td>\n",
              "    </tr>\n",
              "    <tr>\n",
              "      <th>model_3 (LogisticRegression)</th>\n",
              "      <td>94.806820</td>\n",
              "      <td>0.946604</td>\n",
              "      <td>0.948068</td>\n",
              "      <td>0.935988</td>\n",
              "    </tr>\n",
              "    <tr>\n",
              "      <th>model_4 (SGDClassifier)</th>\n",
              "      <td>95.104020</td>\n",
              "      <td>0.951104</td>\n",
              "      <td>0.951040</td>\n",
              "      <td>0.940153</td>\n",
              "    </tr>\n",
              "    <tr>\n",
              "      <th>model_5 (TFhub_USE_Encoder)</th>\n",
              "      <td>96.152041</td>\n",
              "      <td>0.958954</td>\n",
              "      <td>0.961520</td>\n",
              "      <td>0.959556</td>\n",
              "    </tr>\n",
              "  </tbody>\n",
              "</table>\n",
              "</div>"
            ],
            "text/plain": [
              "                                   accuracy  precision    recall        f1\n",
              "model_0 (XGBClassifier)           94.165494   0.941692  0.941655  0.924009\n",
              "model_1 (MultinomialNB)           93.524167   0.939469  0.935242  0.910356\n",
              "model_2 (RandomForestClassifier)  96.152041   0.960755  0.961520  0.956044\n",
              "model_3 (LogisticRegression)      94.806820   0.946604  0.948068  0.935988\n",
              "model_4 (SGDClassifier)           95.104020   0.951104  0.951040  0.940153\n",
              "model_5 (TFhub_USE_Encoder)       96.152041   0.958954  0.961520  0.959556"
            ]
          },
          "metadata": {},
          "execution_count": 96
        }
      ]
    },
    {
      "cell_type": "code",
      "metadata": {
        "id": "XfqqTZqVu94L"
      },
      "source": [
        "# Reduce the accuracy to the same scale as other metrics \n",
        "models_results_df[\"accuracy\"]= models_results_df[\"accuracy\"]/100"
      ],
      "execution_count": 97,
      "outputs": []
    },
    {
      "cell_type": "code",
      "metadata": {
        "colab": {
          "base_uri": "https://localhost:8080/",
          "height": 707
        },
        "id": "oohavLdcuhXf",
        "outputId": "a045d637-2c33-4507-925f-f17adf539627"
      },
      "source": [
        "# Plot and compare all of the model results\n",
        "models_results_df.plot(kind=\"bar\", figsize=(10,7)).legend(bbox_to_anchor=(1.0,1.0));"
      ],
      "execution_count": 98,
      "outputs": [
        {
          "output_type": "display_data",
          "data": {
            "image/png": "[encoded data removed]",
            "text/plain": [
              "<Figure size 720x504 with 1 Axes>"
            ]
          },
          "metadata": {}
        }
      ]
    },
    {
      "cell_type": "code",
      "metadata": {
        "colab": {
          "base_uri": "https://localhost:8080/",
          "height": 707
        },
        "id": "B7smt138OwkI",
        "outputId": "3e2a3576-41a2-4ede-eb4a-a08bfa4265d9"
      },
      "source": [
        "# Sort model results by f1-score\n",
        "models_results_df.sort_values(\"f1\", ascending=False)[\"f1\"].plot(kind=\"bar\", figsize=(10, 7));"
      ],
      "execution_count": 99,
      "outputs": [
        {
          "output_type": "display_data",
          "data": {
            "image/png": "[encoded data removed]",
            "text/plain": [
              "<Figure size 720x504 with 1 Axes>"
            ]
          },
          "metadata": {}
        }
      ]
    },
    {
      "cell_type": "code",
      "metadata": {
        "colab": {
          "base_uri": "https://localhost:8080/"
        },
        "id": "6DITuyAvn46Y",
        "outputId": "f2de63ec-3e44-44c4-d48e-38cfe1cf8a67"
      },
      "source": [
        "# Confusion matrix\n",
        "cm_0 = confusion_matrix(val_labels, y0_predict)\n",
        "cm_0"
      ],
      "execution_count": 100,
      "outputs": [
        {
          "output_type": "execute_result",
          "data": {
            "text/plain": [
              "array([[5922,    6],\n",
              "       [ 367,   98]])"
            ]
          },
          "metadata": {},
          "execution_count": 100
        }
      ]
    },
    {
      "cell_type": "code",
      "metadata": {
        "colab": {
          "base_uri": "https://localhost:8080/"
        },
        "id": "erjVzRmEoSjY",
        "outputId": "5b73321e-4235-4d4e-80cb-fe493e3c6304"
      },
      "source": [
        "cm_1 = confusion_matrix(val_labels, y1_predict)\n",
        "cm_1"
      ],
      "execution_count": 101,
      "outputs": [
        {
          "output_type": "execute_result",
          "data": {
            "text/plain": [
              "array([[5928,    0],\n",
              "       [ 414,   51]])"
            ]
          },
          "metadata": {},
          "execution_count": 101
        }
      ]
    },
    {
      "cell_type": "code",
      "metadata": {
        "colab": {
          "base_uri": "https://localhost:8080/"
        },
        "id": "khPTxZe33rqF",
        "outputId": "bb7a5dd7-1bfb-4852-88f6-ecc4310a3451"
      },
      "source": [
        "cm_2 = confusion_matrix(val_labels, y2_predict)\n",
        "cm_2"
      ],
      "execution_count": 102,
      "outputs": [
        {
          "output_type": "execute_result",
          "data": {
            "text/plain": [
              "array([[5913,   15],\n",
              "       [ 231,  234]])"
            ]
          },
          "metadata": {},
          "execution_count": 102
        }
      ]
    },
    {
      "cell_type": "code",
      "metadata": {
        "colab": {
          "base_uri": "https://localhost:8080/"
        },
        "id": "IHJWOOLEYov2",
        "outputId": "f90b69b0-1627-4acf-8488-f2e2137bb936"
      },
      "source": [
        "cm_3 = confusion_matrix(val_labels, y3_predict)\n",
        "cm_3"
      ],
      "execution_count": 103,
      "outputs": [
        {
          "output_type": "execute_result",
          "data": {
            "text/plain": [
              "array([[5915,   13],\n",
              "       [ 319,  146]])"
            ]
          },
          "metadata": {},
          "execution_count": 103
        }
      ]
    },
    {
      "cell_type": "code",
      "metadata": {
        "colab": {
          "base_uri": "https://localhost:8080/"
        },
        "id": "Xjp7aZ5rYr8b",
        "outputId": "c8b593b6-527a-4d7c-a15c-28dd921d9b23"
      },
      "source": [
        "cm_4 = confusion_matrix(val_labels, y4_predict)\n",
        "cm_4"
      ],
      "execution_count": 104,
      "outputs": [
        {
          "output_type": "execute_result",
          "data": {
            "text/plain": [
              "array([[5920,    8],\n",
              "       [ 305,  160]])"
            ]
          },
          "metadata": {},
          "execution_count": 104
        }
      ]
    },
    {
      "cell_type": "code",
      "metadata": {
        "colab": {
          "base_uri": "https://localhost:8080/"
        },
        "id": "YBBrLqW5Bvt2",
        "outputId": "b7525a90-8168-45fd-9d18-271837333145"
      },
      "source": [
        "cm_5 = confusion_matrix(val_labels, y5_predict)\n",
        "cm_5"
      ],
      "execution_count": 105,
      "outputs": [
        {
          "output_type": "execute_result",
          "data": {
            "text/plain": [
              "array([[5851,   77],\n",
              "       [ 169,  296]])"
            ]
          },
          "metadata": {},
          "execution_count": 105
        }
      ]
    },
    {
      "cell_type": "code",
      "metadata": {
        "colab": {
          "base_uri": "https://localhost:8080/",
          "height": 1000
        },
        "id": "NHOIf_k5wzG_",
        "outputId": "7d549c8d-b1fa-4d18-e967-7b3d6dc14e80"
      },
      "source": [
        "sns.set(font_scale=1.5)\n",
        "# Plot the confusion matrix for each model\n",
        "fig, axs = plt.subplots(3, 2,figsize=(10, 14))\n",
        "sns.heatmap(confusion_matrix(val_labels, y0_predict),\n",
        "                  annot=True,\n",
        "                  cbar=False,\n",
        "                  fmt='d',\n",
        "                  ax=axs[0, 0],\n",
        "                  cmap= 'Purples'\n",
        "                     )\n",
        "axs[0, 0].set_title('model_0 (XGBClassifier)')\n",
        "axs[0, 0].set_xlabel(\"True label\")\n",
        "axs[0, 0].set_ylabel(\"Predicted label\")\n",
        "\n",
        "sns.heatmap(confusion_matrix(val_labels, y1_predict),\n",
        "                  annot=True,\n",
        "                  cbar=False,\n",
        "                  fmt='d',\n",
        "                  ax=axs[0, 1],\n",
        "                  cmap='PuRd'\n",
        "                     )\n",
        "axs[0, 1].set_title('model_1 (MultinomialNB)')\n",
        "axs[0, 1].set_xlabel(\"True label\")\n",
        "axs[0, 1].set_ylabel(\"Predicted label\")\n",
        "\n",
        "\n",
        "sns.heatmap(confusion_matrix(val_labels, y2_predict),\n",
        "                  annot=True,\n",
        "                  cbar=False,\n",
        "                  fmt='d',\n",
        "                  ax=axs[1, 0],\n",
        "                  cmap='Reds'\n",
        "                     )\n",
        "axs[1, 0].set_title('model_2 (RandomForestClassifier)')\n",
        "axs[1, 0].set_xlabel(\"True label\")\n",
        "axs[1, 0].set_ylabel(\"Predicted label\")\n",
        "\n",
        "\n",
        "sns.heatmap(confusion_matrix(val_labels, y3_predict),\n",
        "                  annot=True,\n",
        "                  cbar=False,\n",
        "                  fmt='d',\n",
        "                  ax=axs[1, 1],\n",
        "                  cmap='Greens'\n",
        "                     )\n",
        "axs[1, 1].set_title('model_3 (LogisticRegression)')\n",
        "axs[1, 1].set_xlabel(\"True label\")\n",
        "axs[1, 1].set_ylabel(\"Predicted label\")\n",
        "\n",
        "\n",
        "\n",
        "sns.heatmap(confusion_matrix(val_labels, y4_predict),\n",
        "                  annot=True,\n",
        "                  cbar=False,\n",
        "                  fmt='d',\n",
        "                  ax=axs[2, 0],\n",
        "                  cmap='Oranges'\n",
        "                     )\n",
        "axs[2, 0].set_title('model_4 (SGDClassifier)')\n",
        "axs[2, 0].set_xlabel(\"True label\")\n",
        "axs[2, 0].set_ylabel(\"Predicted label\")\n",
        "\n",
        "\n",
        "sns.heatmap(confusion_matrix(val_labels, y5_predict),\n",
        "                  annot=True,\n",
        "                  cbar=False,\n",
        "                  fmt='d',\n",
        "                  ax=axs[2, 1],\n",
        "                  cmap='Blues'\n",
        "                     )\n",
        "axs[2, 1].set_title('model_5 (TFhub_USE_Encoder)')\n",
        "axs[2, 1].set_xlabel(\"True label\")\n",
        "axs[2, 1].set_ylabel(\"Predicted label\")\n",
        "plt.tight_layout(); "
      ],
      "execution_count": 106,
      "outputs": [
        {
          "output_type": "display_data",
          "data": {
            "image/png": "[encoded data removed]",
            "text/plain": [
              "<Figure size 720x1008 with 6 Axes>"
            ]
          },
          "metadata": {}
        }
      ]
    },
    {
      "cell_type": "code",
      "metadata": {
        "id": "CEf8Z_PiIFRw"
      },
      "source": [
        "# Save the best model\n",
        "model_5.save('tfhub_use_encoder.h5')"
      ],
      "execution_count": 108,
      "outputs": []
    },
    {
      "cell_type": "markdown",
      "metadata": {
        "id": "Wpw7Hk_buyca"
      },
      "source": [
        "## Finding the Most Wrong Examples"
      ]
    },
    {
      "cell_type": "code",
      "metadata": {
        "id": "RCEF-_4Mu4Gy",
        "colab": {
          "base_uri": "https://localhost:8080/",
          "height": 204
        },
        "outputId": "76c888a5-d6fa-4a35-95de-3fb1a8657b9d"
      },
      "source": [
        "# Create DataFrame with validation sentences and best performing model prediction labels + probabilities  \n",
        "val_df = pd.DataFrame({\"text\": val_sentences,\n",
        "                       \"target\": val_labels,\n",
        "                       \"pred\": y5_predict,\n",
        "                       \"pred_prob\": tf.squeeze(model_5_pred_probs)})\n",
        "val_df.head()"
      ],
      "execution_count": 107,
      "outputs": [
        {
          "output_type": "execute_result",
          "data": {
            "text/html": [
              "<div>\n",
              "<style scoped>\n",
              "    .dataframe tbody tr th:only-of-type {\n",
              "        vertical-align: middle;\n",
              "    }\n",
              "\n",
              "    .dataframe tbody tr th {\n",
              "        vertical-align: top;\n",
              "    }\n",
              "\n",
              "    .dataframe thead th {\n",
              "        text-align: right;\n",
              "    }\n",
              "</style>\n",
              "<table border=\"1\" class=\"dataframe\">\n",
              "  <thead>\n",
              "    <tr style=\"text-align: right;\">\n",
              "      <th></th>\n",
              "      <th>text</th>\n",
              "      <th>target</th>\n",
              "      <th>pred</th>\n",
              "      <th>pred_prob</th>\n",
              "    </tr>\n",
              "  </thead>\n",
              "  <tbody>\n",
              "    <tr>\n",
              "      <th>0</th>\n",
              "      <td>turn it in abc for 20 20 sobering</td>\n",
              "      <td>0</td>\n",
              "      <td>0.0</td>\n",
              "      <td>5.430939e-02</td>\n",
              "    </tr>\n",
              "    <tr>\n",
              "      <th>1</th>\n",
              "      <td>oh no thursdays is noodle day what have you do...</td>\n",
              "      <td>0</td>\n",
              "      <td>0.0</td>\n",
              "      <td>7.533444e-05</td>\n",
              "    </tr>\n",
              "    <tr>\n",
              "      <th>2</th>\n",
              "      <td>here we go let s do this people icrs2016</td>\n",
              "      <td>0</td>\n",
              "      <td>0.0</td>\n",
              "      <td>5.501849e-03</td>\n",
              "    </tr>\n",
              "    <tr>\n",
              "      <th>3</th>\n",
              "      <td>water in me and around me sam sierra michael b...</td>\n",
              "      <td>0</td>\n",
              "      <td>0.0</td>\n",
              "      <td>2.714794e-05</td>\n",
              "    </tr>\n",
              "    <tr>\n",
              "      <th>4</th>\n",
              "      <td>awesome beginner gopro mounts super to use</td>\n",
              "      <td>0</td>\n",
              "      <td>0.0</td>\n",
              "      <td>9.277188e-07</td>\n",
              "    </tr>\n",
              "  </tbody>\n",
              "</table>\n",
              "</div>"
            ],
            "text/plain": [
              "                                                text  ...     pred_prob\n",
              "0                  turn it in abc for 20 20 sobering  ...  5.430939e-02\n",
              "1  oh no thursdays is noodle day what have you do...  ...  7.533444e-05\n",
              "2           here we go let s do this people icrs2016  ...  5.501849e-03\n",
              "3  water in me and around me sam sierra michael b...  ...  2.714794e-05\n",
              "4         awesome beginner gopro mounts super to use  ...  9.277188e-07\n",
              "\n",
              "[5 rows x 4 columns]"
            ]
          },
          "metadata": {},
          "execution_count": 107
        }
      ]
    },
    {
      "cell_type": "code",
      "metadata": {
        "colab": {
          "base_uri": "https://localhost:8080/",
          "height": 419
        },
        "id": "OkOR_sgeLCgW",
        "outputId": "925bae1e-6cc9-4125-d2a2-5baa7a0f41c1"
      },
      "source": [
        "# Find the wrong predictions and sort by predictio probabilities \n",
        "most_wrong = val_df[val_df[\"target\"] !=val_df[\"pred\"]].sort_values(\"pred_prob\", ascending=False)\n",
        "most_wrong"
      ],
      "execution_count": 109,
      "outputs": [
        {
          "output_type": "execute_result",
          "data": {
            "text/html": [
              "<div>\n",
              "<style scoped>\n",
              "    .dataframe tbody tr th:only-of-type {\n",
              "        vertical-align: middle;\n",
              "    }\n",
              "\n",
              "    .dataframe tbody tr th {\n",
              "        vertical-align: top;\n",
              "    }\n",
              "\n",
              "    .dataframe thead th {\n",
              "        text-align: right;\n",
              "    }\n",
              "</style>\n",
              "<table border=\"1\" class=\"dataframe\">\n",
              "  <thead>\n",
              "    <tr style=\"text-align: right;\">\n",
              "      <th></th>\n",
              "      <th>text</th>\n",
              "      <th>target</th>\n",
              "      <th>pred</th>\n",
              "      <th>pred_prob</th>\n",
              "    </tr>\n",
              "  </thead>\n",
              "  <tbody>\n",
              "    <tr>\n",
              "      <th>4272</th>\n",
              "      <td>lgbtqhatestrumppay but luvs homophobic misogyn...</td>\n",
              "      <td>0</td>\n",
              "      <td>1.0</td>\n",
              "      <td>0.998966</td>\n",
              "    </tr>\n",
              "    <tr>\n",
              "      <th>4506</th>\n",
              "      <td>the makes the trump candidacy wohwhile donaldt...</td>\n",
              "      <td>0</td>\n",
              "      <td>1.0</td>\n",
              "      <td>0.994312</td>\n",
              "    </tr>\n",
              "    <tr>\n",
              "      <th>558</th>\n",
              "      <td>what lies these dt suppoers are spreading look...</td>\n",
              "      <td>0</td>\n",
              "      <td>1.0</td>\n",
              "      <td>0.992918</td>\n",
              "    </tr>\n",
              "    <tr>\n",
              "      <th>1344</th>\n",
              "      <td>ali spoke the truth about white folks period f...</td>\n",
              "      <td>0</td>\n",
              "      <td>1.0</td>\n",
              "      <td>0.992009</td>\n",
              "    </tr>\n",
              "    <tr>\n",
              "      <th>6054</th>\n",
              "      <td>i award thee most cucked tweet in history prep...</td>\n",
              "      <td>0</td>\n",
              "      <td>1.0</td>\n",
              "      <td>0.991659</td>\n",
              "    </tr>\n",
              "    <tr>\n",
              "      <th>...</th>\n",
              "      <td>...</td>\n",
              "      <td>...</td>\n",
              "      <td>...</td>\n",
              "      <td>...</td>\n",
              "    </tr>\n",
              "    <tr>\n",
              "      <th>2382</th>\n",
              "      <td>this newyearseve may our resolutions b 2 end p...</td>\n",
              "      <td>1</td>\n",
              "      <td>0.0</td>\n",
              "      <td>0.000192</td>\n",
              "    </tr>\n",
              "    <tr>\n",
              "      <th>5222</th>\n",
              "      <td>2 99 2016release ebook book the summer that me...</td>\n",
              "      <td>1</td>\n",
              "      <td>0.0</td>\n",
              "      <td>0.000079</td>\n",
              "    </tr>\n",
              "    <tr>\n",
              "      <th>1063</th>\n",
              "      <td>funny can t get rid of 7 1stammendment so many...</td>\n",
              "      <td>1</td>\n",
              "      <td>0.0</td>\n",
              "      <td>0.000040</td>\n",
              "    </tr>\n",
              "    <tr>\n",
              "      <th>5568</th>\n",
              "      <td>good afternoon sweety send me letter</td>\n",
              "      <td>1</td>\n",
              "      <td>0.0</td>\n",
              "      <td>0.000026</td>\n",
              "    </tr>\n",
              "    <tr>\n",
              "      <th>1153</th>\n",
              "      <td>i m blessedt iconic lovebeingalegend</td>\n",
              "      <td>1</td>\n",
              "      <td>0.0</td>\n",
              "      <td>0.000001</td>\n",
              "    </tr>\n",
              "  </tbody>\n",
              "</table>\n",
              "<p>246 rows × 4 columns</p>\n",
              "</div>"
            ],
            "text/plain": [
              "                                                   text  ...  pred_prob\n",
              "4272  lgbtqhatestrumppay but luvs homophobic misogyn...  ...   0.998966\n",
              "4506  the makes the trump candidacy wohwhile donaldt...  ...   0.994312\n",
              "558   what lies these dt suppoers are spreading look...  ...   0.992918\n",
              "1344  ali spoke the truth about white folks period f...  ...   0.992009\n",
              "6054  i award thee most cucked tweet in history prep...  ...   0.991659\n",
              "...                                                 ...  ...        ...\n",
              "2382  this newyearseve may our resolutions b 2 end p...  ...   0.000192\n",
              "5222  2 99 2016release ebook book the summer that me...  ...   0.000079\n",
              "1063  funny can t get rid of 7 1stammendment so many...  ...   0.000040\n",
              "5568               good afternoon sweety send me letter  ...   0.000026\n",
              "1153               i m blessedt iconic lovebeingalegend  ...   0.000001\n",
              "\n",
              "[246 rows x 4 columns]"
            ]
          },
          "metadata": {},
          "execution_count": 109
        }
      ]
    },
    {
      "cell_type": "code",
      "metadata": {
        "colab": {
          "base_uri": "https://localhost:8080/",
          "height": 204
        },
        "id": "SyfhuibHLUo8",
        "outputId": "b5826226-4340-49a5-cdb0-8674ab515415"
      },
      "source": [
        "# False positives\n",
        "most_wrong.head()"
      ],
      "execution_count": 110,
      "outputs": [
        {
          "output_type": "execute_result",
          "data": {
            "text/html": [
              "<div>\n",
              "<style scoped>\n",
              "    .dataframe tbody tr th:only-of-type {\n",
              "        vertical-align: middle;\n",
              "    }\n",
              "\n",
              "    .dataframe tbody tr th {\n",
              "        vertical-align: top;\n",
              "    }\n",
              "\n",
              "    .dataframe thead th {\n",
              "        text-align: right;\n",
              "    }\n",
              "</style>\n",
              "<table border=\"1\" class=\"dataframe\">\n",
              "  <thead>\n",
              "    <tr style=\"text-align: right;\">\n",
              "      <th></th>\n",
              "      <th>text</th>\n",
              "      <th>target</th>\n",
              "      <th>pred</th>\n",
              "      <th>pred_prob</th>\n",
              "    </tr>\n",
              "  </thead>\n",
              "  <tbody>\n",
              "    <tr>\n",
              "      <th>4272</th>\n",
              "      <td>lgbtqhatestrumppay but luvs homophobic misogyn...</td>\n",
              "      <td>0</td>\n",
              "      <td>1.0</td>\n",
              "      <td>0.998966</td>\n",
              "    </tr>\n",
              "    <tr>\n",
              "      <th>4506</th>\n",
              "      <td>the makes the trump candidacy wohwhile donaldt...</td>\n",
              "      <td>0</td>\n",
              "      <td>1.0</td>\n",
              "      <td>0.994312</td>\n",
              "    </tr>\n",
              "    <tr>\n",
              "      <th>558</th>\n",
              "      <td>what lies these dt suppoers are spreading look...</td>\n",
              "      <td>0</td>\n",
              "      <td>1.0</td>\n",
              "      <td>0.992918</td>\n",
              "    </tr>\n",
              "    <tr>\n",
              "      <th>1344</th>\n",
              "      <td>ali spoke the truth about white folks period f...</td>\n",
              "      <td>0</td>\n",
              "      <td>1.0</td>\n",
              "      <td>0.992009</td>\n",
              "    </tr>\n",
              "    <tr>\n",
              "      <th>6054</th>\n",
              "      <td>i award thee most cucked tweet in history prep...</td>\n",
              "      <td>0</td>\n",
              "      <td>1.0</td>\n",
              "      <td>0.991659</td>\n",
              "    </tr>\n",
              "  </tbody>\n",
              "</table>\n",
              "</div>"
            ],
            "text/plain": [
              "                                                   text  ...  pred_prob\n",
              "4272  lgbtqhatestrumppay but luvs homophobic misogyn...  ...   0.998966\n",
              "4506  the makes the trump candidacy wohwhile donaldt...  ...   0.994312\n",
              "558   what lies these dt suppoers are spreading look...  ...   0.992918\n",
              "1344  ali spoke the truth about white folks period f...  ...   0.992009\n",
              "6054  i award thee most cucked tweet in history prep...  ...   0.991659\n",
              "\n",
              "[5 rows x 4 columns]"
            ]
          },
          "metadata": {},
          "execution_count": 110
        }
      ]
    },
    {
      "cell_type": "code",
      "metadata": {
        "colab": {
          "base_uri": "https://localhost:8080/",
          "height": 204
        },
        "id": "233gXpHQLcAs",
        "outputId": "e360cc20-0888-48a5-e70f-1ffc5caf5c47"
      },
      "source": [
        "# False negative\n",
        "most_wrong.tail()"
      ],
      "execution_count": 111,
      "outputs": [
        {
          "output_type": "execute_result",
          "data": {
            "text/html": [
              "<div>\n",
              "<style scoped>\n",
              "    .dataframe tbody tr th:only-of-type {\n",
              "        vertical-align: middle;\n",
              "    }\n",
              "\n",
              "    .dataframe tbody tr th {\n",
              "        vertical-align: top;\n",
              "    }\n",
              "\n",
              "    .dataframe thead th {\n",
              "        text-align: right;\n",
              "    }\n",
              "</style>\n",
              "<table border=\"1\" class=\"dataframe\">\n",
              "  <thead>\n",
              "    <tr style=\"text-align: right;\">\n",
              "      <th></th>\n",
              "      <th>text</th>\n",
              "      <th>target</th>\n",
              "      <th>pred</th>\n",
              "      <th>pred_prob</th>\n",
              "    </tr>\n",
              "  </thead>\n",
              "  <tbody>\n",
              "    <tr>\n",
              "      <th>2382</th>\n",
              "      <td>this newyearseve may our resolutions b 2 end p...</td>\n",
              "      <td>1</td>\n",
              "      <td>0.0</td>\n",
              "      <td>0.000192</td>\n",
              "    </tr>\n",
              "    <tr>\n",
              "      <th>5222</th>\n",
              "      <td>2 99 2016release ebook book the summer that me...</td>\n",
              "      <td>1</td>\n",
              "      <td>0.0</td>\n",
              "      <td>0.000079</td>\n",
              "    </tr>\n",
              "    <tr>\n",
              "      <th>1063</th>\n",
              "      <td>funny can t get rid of 7 1stammendment so many...</td>\n",
              "      <td>1</td>\n",
              "      <td>0.0</td>\n",
              "      <td>0.000040</td>\n",
              "    </tr>\n",
              "    <tr>\n",
              "      <th>5568</th>\n",
              "      <td>good afternoon sweety send me letter</td>\n",
              "      <td>1</td>\n",
              "      <td>0.0</td>\n",
              "      <td>0.000026</td>\n",
              "    </tr>\n",
              "    <tr>\n",
              "      <th>1153</th>\n",
              "      <td>i m blessedt iconic lovebeingalegend</td>\n",
              "      <td>1</td>\n",
              "      <td>0.0</td>\n",
              "      <td>0.000001</td>\n",
              "    </tr>\n",
              "  </tbody>\n",
              "</table>\n",
              "</div>"
            ],
            "text/plain": [
              "                                                   text  ...  pred_prob\n",
              "2382  this newyearseve may our resolutions b 2 end p...  ...   0.000192\n",
              "5222  2 99 2016release ebook book the summer that me...  ...   0.000079\n",
              "1063  funny can t get rid of 7 1stammendment so many...  ...   0.000040\n",
              "5568               good afternoon sweety send me letter  ...   0.000026\n",
              "1153               i m blessedt iconic lovebeingalegend  ...   0.000001\n",
              "\n",
              "[5 rows x 4 columns]"
            ]
          },
          "metadata": {},
          "execution_count": 111
        }
      ]
    },
    {
      "cell_type": "code",
      "metadata": {
        "colab": {
          "base_uri": "https://localhost:8080/"
        },
        "id": "RERe9HsOTSnC",
        "outputId": "d02d357f-befa-4df3-adde-12d802534f1c"
      },
      "source": [
        "# Check the false positives (model predicted 1 when should've been 0)\n",
        "for row in most_wrong[:10].itertuples():\n",
        "  _, text, target, pred, pred_prob = row \n",
        "  print(f\"Target: {target}, Pred: {pred}, Prob: {pred_prob}\")\n",
        "  print(f\"Text:\\n{text}\\n\")\n",
        "  print(\"---\\n\")"
      ],
      "execution_count": 112,
      "outputs": [
        {
          "output_type": "stream",
          "name": "stdout",
          "text": [
            "Target: 0, Pred: 1.0, Prob: 0.998965859413147\n",
            "Text:\n",
            "lgbtqhatestrumppay but luvs homophobic misogynist antisemitic death cult masquerading as a religion\n",
            "\n",
            "---\n",
            "\n",
            "Target: 0, Pred: 1.0, Prob: 0.9943115711212158\n",
            "Text:\n",
            "the makes the trump candidacy wohwhile donaldtrumphastinyhands tinydancerfoinyhands\n",
            "\n",
            "---\n",
            "\n",
            "Target: 0, Pred: 1.0, Prob: 0.9929178357124329\n",
            "Text:\n",
            "what lies these dt suppoers are spreading looks like propaganda from the 1930s\n",
            "\n",
            "---\n",
            "\n",
            "Target: 0, Pred: 1.0, Prob: 0.9920094013214111\n",
            "Text:\n",
            "ali spoke the truth about white folks period facts idiot moron theverycoreofamerica\n",
            "\n",
            "---\n",
            "\n",
            "Target: 0, Pred: 1.0, Prob: 0.9916594624519348\n",
            "Text:\n",
            "i award thee most cucked tweet in history prep the bull you insufferable faggot sbc16\n",
            "\n",
            "---\n",
            "\n",
            "Target: 0, Pred: 1.0, Prob: 0.9753319621086121\n",
            "Text:\n",
            "straight white men are viciously under attack they are often the real victims\n",
            "\n",
            "---\n",
            "\n",
            "Target: 0, Pred: 1.0, Prob: 0.9751490950584412\n",
            "Text:\n",
            "reason 638 on why i don t suppo modern day feminism it s no longer about women s rights in america\n",
            "\n",
            "---\n",
            "\n",
            "Target: 0, Pred: 1.0, Prob: 0.9630975127220154\n",
            "Text:\n",
            "i can t believe any american would vote for her so many scandals\n",
            "\n",
            "---\n",
            "\n",
            "Target: 0, Pred: 1.0, Prob: 0.9623082876205444\n",
            "Text:\n",
            "prayfororlando can we show love amp not hate by clifton w 0\n",
            "\n",
            "---\n",
            "\n",
            "Target: 0, Pred: 1.0, Prob: 0.9607369899749756\n",
            "Text:\n",
            "just herd you re podcast no man deserves to be called a man after he rapes a women scumofthreah\n",
            "\n",
            "---\n",
            "\n"
          ]
        }
      ]
    },
    {
      "cell_type": "code",
      "metadata": {
        "colab": {
          "base_uri": "https://localhost:8080/"
        },
        "id": "Lwl_Ls-3TetF",
        "outputId": "11baad36-0ec0-48bc-c041-03ce57bbddd3"
      },
      "source": [
        "# Check the false negatives (model predicted 0 when should've been 1)\n",
        "for row in most_wrong[-10:].itertuples():\n",
        "  _, text, target, pred, pred_prob = row \n",
        "  print(f\"Target: {target}, Pred: {pred}, Prob: {pred_prob}\")\n",
        "  print(f\"Text:\\n{text}\\n\")\n",
        "  print(\"---\\n\")"
      ],
      "execution_count": 113,
      "outputs": [
        {
          "output_type": "stream",
          "name": "stdout",
          "text": [
            "Target: 1, Pred: 0.0, Prob: 0.001167581183835864\n",
            "Text:\n",
            "great aicle of truth about trc needs comments back up why it s needed indignenous via\n",
            "\n",
            "---\n",
            "\n",
            "Target: 1, Pred: 0.0, Prob: 0.0008611972443759441\n",
            "Text:\n",
            "now ask yourself if you really want to follow i m done\n",
            "\n",
            "---\n",
            "\n",
            "Target: 1, Pred: 0.0, Prob: 0.000704584876075387\n",
            "Text:\n",
            "ouuh fuck it bustymilf\n",
            "\n",
            "---\n",
            "\n",
            "Target: 1, Pred: 0.0, Prob: 0.0004778062575496733\n",
            "Text:\n",
            "you can still be\n",
            "\n",
            "---\n",
            "\n",
            "Target: 1, Pred: 0.0, Prob: 0.0004640818515326828\n",
            "Text:\n",
            "note i was just able to pop this zit on my neck that s been there for days i ve beensqueezing it for days\n",
            "\n",
            "---\n",
            "\n",
            "Target: 1, Pred: 0.0, Prob: 0.00019191103638149798\n",
            "Text:\n",
            "this newyearseve may our resolutions b 2 end problems like amp domesticviolence by turning 2 god of love\n",
            "\n",
            "---\n",
            "\n",
            "Target: 1, Pred: 0.0, Prob: 7.872624701121822e-05\n",
            "Text:\n",
            "2 99 2016release ebook book the summer that melted everything a novel by tiffany mcdaniel via\n",
            "\n",
            "---\n",
            "\n",
            "Target: 1, Pred: 0.0, Prob: 4.03911508328747e-05\n",
            "Text:\n",
            "funny can t get rid of 7 1stammendment so many distractions and lousy qb maybe next year probab\n",
            "\n",
            "---\n",
            "\n",
            "Target: 1, Pred: 0.0, Prob: 2.6166002498939633e-05\n",
            "Text:\n",
            "good afternoon sweety send me letter\n",
            "\n",
            "---\n",
            "\n",
            "Target: 1, Pred: 0.0, Prob: 1.3290167544255382e-06\n",
            "Text:\n",
            "i m blessedt iconic lovebeingalegend\n",
            "\n",
            "---\n",
            "\n"
          ]
        }
      ]
    },
    {
      "cell_type": "markdown",
      "metadata": {
        "id": "OoYGv6by2RqK"
      },
      "source": [
        "## Another Option: Using DistilBertTokenizerFast"
      ]
    },
    {
      "cell_type": "code",
      "metadata": {
        "id": "fn5IWf4zhd9Z",
        "colab": {
          "base_uri": "https://localhost:8080/",
          "height": 113,
          "referenced_widgets": [
            "512b6f4e4d164993bf0567bcad567620",
            "89273ab82c6242a6b82c1c09490cc34f",
            "ec133b9f6c29470b9d1ed15d9fa71c35",
            "d2405cd685e04919871509b548e5852f",
            "eb4a9e772341493c9fe0aef1b9bdbafc",
            "0a108a888d4f4e778ebcf98cc8f6dcd7",
            "82910bfa865b495c892ab896fa0ee234",
            "cee18fd5b6794731b5a3ff0fcb20f5e5",
            "63c54273b008484692716c059cd6e4ae",
            "e71ae4f0172a4b5499bf34c25e418bba",
            "a4cf600d5bfc4bbbaddc839c5e356faa",
            "1f09d90db1b2405788034c6b07788ebe",
            "a6ab44cb4bf448b5b44476a1664a0362",
            "bc3b729030814438a4f0d5698fe3c1ef",
            "37f1e36b3b204279bf9e437b949f4090",
            "5516b5e56f0c46d8a5c4380801d0764c",
            "99bd02094a4f4a22b971a06fcc1c0579",
            "4fe616557c33422eae0d6cb5aaf9d281",
            "eba8d7ce80f84aa28e97b3942e7cf8a5",
            "d41dba09023b48ffac0dba4cf3dc6368",
            "0058372e906042d293d215051a4b3e9b",
            "12ae13e52700485aa036bc408dd4c534",
            "696aa81adadf4a8b921bc055f9b70cb8",
            "142e0ac2e19c4aef94cf72e49211f05b",
            "d90089c5b1884f7a82f31cdcca384589",
            "c6f3a70e9103421ba99a28efee04f434",
            "5f020320ccd444329f8b9a5b8e3d684f",
            "f613e8ddd8564811ba27c424ef4cd6a6",
            "8cda33dcc51f4403827c1b4852f26c7e",
            "dcded68e924e4ec2b8c52f13b9013d2c",
            "aeb26c96cced49018e39720d8d74ede6",
            "0eee604a18d549bab265d99247a1ab12",
            "8f9e57a1d21b46a79de04409017f1618"
          ]
        },
        "outputId": "0833499c-f23a-4cf9-9cc1-8dbc11547cbe"
      },
      "source": [
        "tokenizer = DistilBertTokenizerFast.from_pretrained('distilbert-base-uncased')"
      ],
      "execution_count": null,
      "outputs": [
        {
          "output_type": "display_data",
          "data": {
            "application/vnd.jupyter.widget-view+json": {
              "model_id": "512b6f4e4d164993bf0567bcad567620",
              "version_minor": 0,
              "version_major": 2
            },
            "text/plain": [
              "Downloading:   0%|          | 0.00/232k [00:00<?, ?B/s]"
            ]
          },
          "metadata": {}
        },
        {
          "output_type": "display_data",
          "data": {
            "application/vnd.jupyter.widget-view+json": {
              "model_id": "1f09d90db1b2405788034c6b07788ebe",
              "version_minor": 0,
              "version_major": 2
            },
            "text/plain": [
              "Downloading:   0%|          | 0.00/466k [00:00<?, ?B/s]"
            ]
          },
          "metadata": {}
        },
        {
          "output_type": "display_data",
          "data": {
            "application/vnd.jupyter.widget-view+json": {
              "model_id": "696aa81adadf4a8b921bc055f9b70cb8",
              "version_minor": 0,
              "version_major": 2
            },
            "text/plain": [
              "Downloading:   0%|          | 0.00/28.0 [00:00<?, ?B/s]"
            ]
          },
          "metadata": {}
        }
      ]
    },
    {
      "cell_type": "code",
      "metadata": {
        "id": "8TpESMJOhjMY"
      },
      "source": [
        "train_encodings = tokenizer(train_sentences, truncation=True, padding=True)\n",
        "val_encodings = tokenizer(val_sentences, truncation=True, padding=True)"
      ],
      "execution_count": null,
      "outputs": []
    },
    {
      "cell_type": "code",
      "metadata": {
        "id": "Vu5oqVtViRqV"
      },
      "source": [
        "train_dataset = tf.data.Dataset.from_tensor_slices((\n",
        "    dict(train_encodings),\n",
        "    train_labels\n",
        "))\n",
        "val_dataset = tf.data.Dataset.from_tensor_slices((\n",
        "    dict(val_encodings),\n",
        "    val_labels\n",
        "))"
      ],
      "execution_count": null,
      "outputs": []
    },
    {
      "cell_type": "code",
      "metadata": {
        "colab": {
          "base_uri": "https://localhost:8080/"
        },
        "id": "YTyeUn2aLXSt",
        "outputId": "ab3e0917-61e6-47dc-b3ab-bc46bf13c8d4"
      },
      "source": [
        "train_dataset"
      ],
      "execution_count": null,
      "outputs": [
        {
          "output_type": "execute_result",
          "data": {
            "text/plain": [
              "<TensorSliceDataset shapes: ({input_ids: (46,), attention_mask: (46,)}, ()), types: ({input_ids: tf.int32, attention_mask: tf.int32}, tf.int32)>"
            ]
          },
          "metadata": {},
          "execution_count": 85
        }
      ]
    },
    {
      "cell_type": "code",
      "metadata": {
        "colab": {
          "base_uri": "https://localhost:8080/"
        },
        "id": "A7edVwKQmJrt",
        "outputId": "f1194bab-ec6e-40ab-c059-8e41b1d63315"
      },
      "source": [
        "len(val_labels)"
      ],
      "execution_count": null,
      "outputs": [
        {
          "output_type": "execute_result",
          "data": {
            "text/plain": [
              "6393"
            ]
          },
          "metadata": {},
          "execution_count": 86
        }
      ]
    },
    {
      "cell_type": "code",
      "metadata": {
        "colab": {
          "base_uri": "https://localhost:8080/",
          "height": 679,
          "referenced_widgets": [
            "5922babf2cec4562ad4a4d9624ab7c65",
            "b11d64f5301241a7a8bdde4ac39432c3",
            "605c5bf2275b458ea422650fb0f48b10",
            "84b9b82099764c71a15a16ef93303c74",
            "cbdce107cfd8457eb8709cfe0e3e4b66",
            "bfbfb1b280e848c6b6d43bf710f4027e",
            "45534070c9ce444eb907115db8862c66",
            "e6bae191d96f47938447fde3b0f4e019",
            "2facd4b37ac746cd8fc3a0a7d44caf8f",
            "45e2758e25eb4a37a2034566fc308144",
            "fb136f5981864332b1ae4cde4017cb89",
            "1ef445343a1f4f79885991440e1f5fb5",
            "bfec43ec30d3423495de28a113521ba9",
            "e2f5aa5c4fbc45ea954dd43a2e663d7c",
            "e1f54280bb364f809fbbee9543552131",
            "6ce76bebd322443f84bd89183aaf09a1",
            "dd2da62af9ba402f9e1613e36f11898b",
            "06fb744dc5ca4f7d863ecc25accca442",
            "1e0f94a05dd5405da00830ebbe78eea8",
            "9ed6bd3462884d679557133792fe0b66",
            "eb168dbe366741ee982f32a887aacf59",
            "cd62bfcf2e0a48d69756e69da236fe45"
          ]
        },
        "id": "McUocuVhakK2",
        "outputId": "650a70d7-b760-4508-f9bc-45835deebd0e"
      },
      "source": [
        "training_args = TFTrainingArguments(\n",
        "    output_dir='./results',          # output directory\n",
        "    num_train_epochs=3,              # total number of training epochs\n",
        "    per_device_train_batch_size=16,  # batch size per device during training\n",
        "    per_device_eval_batch_size=64,   # batch size for evaluation\n",
        "    warmup_steps=500,                # number of warmup steps for learning rate scheduler\n",
        "    weight_decay=0.01,               # strength of weight decay\n",
        "    logging_dir='./logs',            # directory for storing logs\n",
        "    logging_steps=10,\n",
        ")\n",
        "\n",
        "with training_args.strategy.scope():\n",
        "    model_6 = TFDistilBertForSequenceClassification.from_pretrained(\"distilbert-base-uncased\")\n",
        "\n",
        "trainer = TFTrainer(\n",
        "    model=model_6,                       # the instantiated 🤗 Transformers model to be trained\n",
        "    args=training_args,                  # training arguments, defined above\n",
        "    train_dataset=train_dataset,         # training dataset\n",
        "    eval_dataset=val_dataset             # evaluation dataset\n",
        ")\n",
        "\n",
        "trainer.train()"
      ],
      "execution_count": null,
      "outputs": [
        {
          "output_type": "display_data",
          "data": {
            "application/vnd.jupyter.widget-view+json": {
              "model_id": "5922babf2cec4562ad4a4d9624ab7c65",
              "version_minor": 0,
              "version_major": 2
            },
            "text/plain": [
              "Downloading:   0%|          | 0.00/483 [00:00<?, ?B/s]"
            ]
          },
          "metadata": {}
        },
        {
          "output_type": "display_data",
          "data": {
            "application/vnd.jupyter.widget-view+json": {
              "model_id": "1ef445343a1f4f79885991440e1f5fb5",
              "version_minor": 0,
              "version_major": 2
            },
            "text/plain": [
              "Downloading:   0%|          | 0.00/363M [00:00<?, ?B/s]"
            ]
          },
          "metadata": {}
        },
        {
          "output_type": "stream",
          "name": "stderr",
          "text": [
            "Some layers from the model checkpoint at distilbert-base-uncased were not used when initializing TFDistilBertForSequenceClassification: ['activation_13', 'vocab_layer_norm', 'vocab_transform', 'vocab_projector']\n",
            "- This IS expected if you are initializing TFDistilBertForSequenceClassification from the checkpoint of a model trained on another task or with another architecture (e.g. initializing a BertForSequenceClassification model from a BertForPreTraining model).\n",
            "- This IS NOT expected if you are initializing TFDistilBertForSequenceClassification from the checkpoint of a model that you expect to be exactly identical (initializing a BertForSequenceClassification model from a BertForSequenceClassification model).\n",
            "Some layers of TFDistilBertForSequenceClassification were not initialized from the model checkpoint at distilbert-base-uncased and are newly initialized: ['classifier', 'dropout_19', 'pre_classifier']\n",
            "You should probably TRAIN this model on a down-stream task to be able to use it for predictions and inference.\n"
          ]
        },
        {
          "output_type": "stream",
          "name": "stdout",
          "text": [
            "WARNING:tensorflow:The parameters `output_attentions`, `output_hidden_states` and `use_cache` cannot be updated when calling a model.They have to be set to True/False in the config object (i.e.: `config=XConfig.from_pretrained('name', output_attentions=True)`).\n",
            "WARNING:tensorflow:AutoGraph could not transform <bound method Socket.send of <zmq.Socket(zmq.PUSH) at 0x7fe558ec6910>> and will run it as-is.\n",
            "Please report this to the TensorFlow team. When filing the bug, set the verbosity to 10 (on Linux, `export AUTOGRAPH_VERBOSITY=10`) and attach the full output.\n",
            "Cause: module, class, method, function, traceback, frame, or code object was expected, got cython_function_or_method\n",
            "To silence this warning, decorate the function with @tf.autograph.experimental.do_not_convert\n"
          ]
        },
        {
          "output_type": "stream",
          "name": "stderr",
          "text": [
            "WARNING:tensorflow:AutoGraph could not transform <bound method Socket.send of <zmq.Socket(zmq.PUSH) at 0x7fe558ec6910>> and will run it as-is.\n",
            "Please report this to the TensorFlow team. When filing the bug, set the verbosity to 10 (on Linux, `export AUTOGRAPH_VERBOSITY=10`) and attach the full output.\n",
            "Cause: module, class, method, function, traceback, frame, or code object was expected, got cython_function_or_method\n",
            "To silence this warning, decorate the function with @tf.autograph.experimental.do_not_convert\n"
          ]
        },
        {
          "output_type": "stream",
          "name": "stdout",
          "text": [
            "WARNING: AutoGraph could not transform <bound method Socket.send of <zmq.Socket(zmq.PUSH) at 0x7fe558ec6910>> and will run it as-is.\n",
            "Please report this to the TensorFlow team. When filing the bug, set the verbosity to 10 (on Linux, `export AUTOGRAPH_VERBOSITY=10`) and attach the full output.\n",
            "Cause: module, class, method, function, traceback, frame, or code object was expected, got cython_function_or_method\n",
            "To silence this warning, decorate the function with @tf.autograph.experimental.do_not_convert\n"
          ]
        },
        {
          "output_type": "stream",
          "name": "stderr",
          "text": [
            "WARNING:tensorflow:The parameters `output_attentions`, `output_hidden_states` and `use_cache` cannot be updated when calling a model.They have to be set to True/False in the config object (i.e.: `config=XConfig.from_pretrained('name', output_attentions=True)`).\n"
          ]
        },
        {
          "output_type": "stream",
          "name": "stdout",
          "text": [
            "WARNING:tensorflow:AutoGraph could not transform <function wrap at 0x7fe5741b0c20> and will run it as-is.\n",
            "Cause: while/else statement not yet supported\n",
            "To silence this warning, decorate the function with @tf.autograph.experimental.do_not_convert\n"
          ]
        },
        {
          "output_type": "stream",
          "name": "stderr",
          "text": [
            "WARNING:tensorflow:AutoGraph could not transform <function wrap at 0x7fe5741b0c20> and will run it as-is.\n",
            "Cause: while/else statement not yet supported\n",
            "To silence this warning, decorate the function with @tf.autograph.experimental.do_not_convert\n"
          ]
        },
        {
          "output_type": "stream",
          "name": "stdout",
          "text": [
            "WARNING:tensorflow:The parameter `return_dict` cannot be set in graph mode and will always be set to `True`.\n",
            "WARNING: AutoGraph could not transform <function wrap at 0x7fe5741b0c20> and will run it as-is.\n",
            "Cause: while/else statement not yet supported\n",
            "To silence this warning, decorate the function with @tf.autograph.experimental.do_not_convert\n"
          ]
        },
        {
          "output_type": "stream",
          "name": "stderr",
          "text": [
            "WARNING:tensorflow:The parameter `return_dict` cannot be set in graph mode and will always be set to `True`.\n"
          ]
        },
        {
          "output_type": "stream",
          "name": "stdout",
          "text": [
            "WARNING:tensorflow:The parameters `output_attentions`, `output_hidden_states` and `use_cache` cannot be updated when calling a model.They have to be set to True/False in the config object (i.e.: `config=XConfig.from_pretrained('name', output_attentions=True)`).\n"
          ]
        },
        {
          "output_type": "stream",
          "name": "stderr",
          "text": [
            "WARNING:tensorflow:The parameters `output_attentions`, `output_hidden_states` and `use_cache` cannot be updated when calling a model.They have to be set to True/False in the config object (i.e.: `config=XConfig.from_pretrained('name', output_attentions=True)`).\n"
          ]
        },
        {
          "output_type": "stream",
          "name": "stdout",
          "text": [
            "WARNING:tensorflow:The parameter `return_dict` cannot be set in graph mode and will always be set to `True`.\n"
          ]
        },
        {
          "output_type": "stream",
          "name": "stderr",
          "text": [
            "WARNING:tensorflow:The parameter `return_dict` cannot be set in graph mode and will always be set to `True`.\n"
          ]
        }
      ]
    },
    {
      "cell_type": "code",
      "metadata": {
        "colab": {
          "base_uri": "https://localhost:8080/"
        },
        "id": "DXNWyhQ-naGR",
        "outputId": "717483ca-f762-4984-f190-8d9aa75e4c9f"
      },
      "source": [
        "score_6 = trainer.evaluate(val_dataset)\n",
        "score_6"
      ],
      "execution_count": null,
      "outputs": [
        {
          "output_type": "stream",
          "name": "stdout",
          "text": [
            "WARNING:tensorflow:The parameters `output_attentions`, `output_hidden_states` and `use_cache` cannot be updated when calling a model.They have to be set to True/False in the config object (i.e.: `config=XConfig.from_pretrained('name', output_attentions=True)`).\n"
          ]
        },
        {
          "output_type": "stream",
          "name": "stderr",
          "text": [
            "WARNING:tensorflow:The parameters `output_attentions`, `output_hidden_states` and `use_cache` cannot be updated when calling a model.They have to be set to True/False in the config object (i.e.: `config=XConfig.from_pretrained('name', output_attentions=True)`).\n"
          ]
        },
        {
          "output_type": "stream",
          "name": "stdout",
          "text": [
            "WARNING:tensorflow:The parameter `return_dict` cannot be set in graph mode and will always be set to `True`.\n"
          ]
        },
        {
          "output_type": "stream",
          "name": "stderr",
          "text": [
            "WARNING:tensorflow:The parameter `return_dict` cannot be set in graph mode and will always be set to `True`.\n"
          ]
        },
        {
          "output_type": "execute_result",
          "data": {
            "text/plain": [
              "{'eval_loss': 0.12932125091552735}"
            ]
          },
          "metadata": {},
          "execution_count": 88
        }
      ]
    },
    {
      "cell_type": "code",
      "metadata": {
        "colab": {
          "base_uri": "https://localhost:8080/"
        },
        "id": "Vh75iT-vpBlu",
        "outputId": "c41b058d-a3c7-41b8-871e-7c6995d2f6d9"
      },
      "source": [
        "trainer.predict(val_dataset)"
      ],
      "execution_count": null,
      "outputs": [
        {
          "output_type": "stream",
          "name": "stdout",
          "text": [
            "WARNING:tensorflow:The parameters `output_attentions`, `output_hidden_states` and `use_cache` cannot be updated when calling a model.They have to be set to True/False in the config object (i.e.: `config=XConfig.from_pretrained('name', output_attentions=True)`).\n"
          ]
        },
        {
          "output_type": "stream",
          "name": "stderr",
          "text": [
            "WARNING:tensorflow:The parameters `output_attentions`, `output_hidden_states` and `use_cache` cannot be updated when calling a model.They have to be set to True/False in the config object (i.e.: `config=XConfig.from_pretrained('name', output_attentions=True)`).\n"
          ]
        },
        {
          "output_type": "stream",
          "name": "stdout",
          "text": [
            "WARNING:tensorflow:The parameter `return_dict` cannot be set in graph mode and will always be set to `True`.\n"
          ]
        },
        {
          "output_type": "stream",
          "name": "stderr",
          "text": [
            "WARNING:tensorflow:The parameter `return_dict` cannot be set in graph mode and will always be set to `True`.\n"
          ]
        },
        {
          "output_type": "execute_result",
          "data": {
            "text/plain": [
              "PredictionOutput(predictions=array([[ 3.2038417, -3.2720242],\n",
              "       [ 4.1385026, -4.1992965],\n",
              "       [ 3.5704398, -3.624197 ],\n",
              "       ...,\n",
              "       [ 4.1603084, -4.2755566],\n",
              "       [ 4.133188 , -4.2293296],\n",
              "       [ 4.1415644, -4.2415414]], dtype=float32), label_ids=array([0, 0, 0, ..., 0, 0, 0], dtype=int32), metrics={'eval_loss': 0.1284922504425049})"
            ]
          },
          "metadata": {},
          "execution_count": 89
        }
      ]
    },
    {
      "cell_type": "code",
      "metadata": {
        "id": "ZRvjGM2nxMJZ"
      },
      "source": [
        "y6_predict=trainer.predict(val_dataset)[1]"
      ],
      "execution_count": null,
      "outputs": []
    },
    {
      "cell_type": "code",
      "metadata": {
        "id": "YIwoc8aYv22M",
        "colab": {
          "base_uri": "https://localhost:8080/"
        },
        "outputId": "aae0905e-d9b5-46e0-899e-5574808010fb"
      },
      "source": [
        "# Get model_6 results \n",
        "model_6_results = calculate_results(y_true=val_labels,\n",
        "                                    y_pred= y6_predict)\n",
        "model_6_results"
      ],
      "execution_count": null,
      "outputs": [
        {
          "output_type": "execute_result",
          "data": {
            "text/plain": [
              "{'accuracy': 100.0, 'f1': 1.0, 'precision': 1.0, 'recall': 1.0}"
            ]
          },
          "metadata": {},
          "execution_count": 91
        }
      ]
    },
    {
      "cell_type": "code",
      "metadata": {
        "colab": {
          "base_uri": "https://localhost:8080/",
          "height": 439
        },
        "id": "jjDdMe9YkuTJ",
        "outputId": "d24d9e55-80f8-48f6-95f9-e992afec7a67"
      },
      "source": [
        "model_6_results_df=pd.DataFrame(data={'model_6 (DistilBertTokenizerFast)': model_6_results}).transpose()\n",
        "# Reduce the accuracy to the same scale as other metrics \n",
        "model_6_results_df[\"accuracy\"]= model_6_results_df[\"accuracy\"]/100\n",
        "model_6_results_df.plot(kind=\"bar\", figsize=(10, 7))\n",
        "plt.xticks(rotation='horizontal');"
      ],
      "execution_count": null,
      "outputs": [
        {
          "output_type": "display_data",
          "data": {
            "image/png": "[encoded data removed]",
            "text/plain": [
              "<Figure size 720x504 with 1 Axes>"
            ]
          },
          "metadata": {}
        }
      ]
    },
    {
      "cell_type": "code",
      "metadata": {
        "colab": {
          "base_uri": "https://localhost:8080/"
        },
        "id": "hrvZFV27xiE6",
        "outputId": "16e4a7f7-c61d-43b4-d05a-b806a1d3d95f"
      },
      "source": [
        "np.unique(val_labels,return_counts=True)"
      ],
      "execution_count": null,
      "outputs": [
        {
          "output_type": "execute_result",
          "data": {
            "text/plain": [
              "(array([0, 1]), array([5928,  465]))"
            ]
          },
          "metadata": {},
          "execution_count": 92
        }
      ]
    },
    {
      "cell_type": "code",
      "metadata": {
        "id": "lskqC3bZoYBw",
        "colab": {
          "base_uri": "https://localhost:8080/"
        },
        "outputId": "463a84af-803a-4199-a957-b026b07b2fbe"
      },
      "source": [
        "cm_6 = confusion_matrix(val_labels, y6_predict)\n",
        "cm_6"
      ],
      "execution_count": null,
      "outputs": [
        {
          "output_type": "execute_result",
          "data": {
            "text/plain": [
              "array([[5928,    0],\n",
              "       [   0,  465]])"
            ]
          },
          "metadata": {},
          "execution_count": 93
        }
      ]
    },
    {
      "cell_type": "code",
      "metadata": {
        "colab": {
          "base_uri": "https://localhost:8080/",
          "height": 427
        },
        "id": "Qm-P7JfHZdBx",
        "outputId": "feaf2ae0-a8d3-48eb-af01-15476360ba66"
      },
      "source": [
        "# Plot the confusion matrix for model_6\n",
        "plt.figure(figsize=(6,6))\n",
        "sns.heatmap(confusion_matrix(val_labels, y6_predict),\n",
        "                  annot=True,\n",
        "                  cbar=False,\n",
        "                  fmt='d',\n",
        "                  cmap='Blues'\n",
        "                     )\n",
        "plt.title('model_6 (DistilBertTokenizerFast)')\n",
        "plt.xlabel('True label')\n",
        "plt.ylabel('Predicted label'); "
      ],
      "execution_count": null,
      "outputs": [
        {
          "output_type": "display_data",
          "data": {
            "image/png": "[encoded data removed]",
            "text/plain": [
              "<Figure size 432x432 with 1 Axes>"
            ]
          },
          "metadata": {}
        }
      ]
    },
    {
      "cell_type": "code",
      "metadata": {
        "id": "sT4XrmpeooUS"
      },
      "source": [
        "trainer.save_model(\"distilbert_model\")"
      ],
      "execution_count": null,
      "outputs": []
    }
  ]
}