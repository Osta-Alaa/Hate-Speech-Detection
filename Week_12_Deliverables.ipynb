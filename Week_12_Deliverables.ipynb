{
  "cells": [
    {
      "cell_type": "markdown",
      "metadata": {
        "id": "WtUz7-VARmvb"
      },
      "source": [
        "## Importing Modules"
      ]
    },
    {
      "cell_type": "code",
      "execution_count": null,
      "metadata": {
        "id": "JCTTfKOSNYPn"
      },
      "outputs": [],
      "source": [
        "%%capture\n",
        "!pip install 'transformers == 4.6.0'"
      ]
    },
    {
      "cell_type": "code",
      "execution_count": null,
      "metadata": {
        "id": "YkqnnVxiNlRh"
      },
      "outputs": [],
      "source": [
        "import zipfile\n",
        "import pandas as pd \n",
        "import numpy as np\n",
        "import re\n",
        "import random \n",
        "import matplotlib.pyplot as plt \n",
        "from wordcloud import WordCloud\n",
        "import seaborn as sns\n",
        "from sklearn.feature_extraction import text\n",
        "from sklearn.model_selection import train_test_split\n",
        "from sklearn.metrics import f1_score, accuracy_score\n",
        "import xgboost as xgb\n",
        "import numpy as np\n",
        "import tensorflow_hub as hub\n",
        "import tensorflow as tf\n",
        "from sklearn.feature_extraction.text import TfidfVectorizer\n",
        "from sklearn.pipeline import Pipeline\n",
        "from sklearn.naive_bayes import MultinomialNB\n",
        "from sklearn.ensemble import RandomForestClassifier\n",
        "from sklearn.linear_model import LogisticRegression\n",
        "from sklearn.linear_model import SGDClassifier\n",
        "from tensorflow.keras import layers \n",
        "from sklearn.metrics import accuracy_score, precision_recall_fscore_support \n",
        "from sklearn.metrics import confusion_matrix\n",
        "from transformers import DistilBertTokenizerFast\n",
        "from transformers import TFDistilBertForSequenceClassification, TFTrainer, TFTrainingArguments"
      ]
    },
    {
      "cell_type": "markdown",
      "metadata": {
        "id": "cnPCA_wrRpiK"
      },
      "source": [
        "## Loading Data"
      ]
    },
    {
      "cell_type": "code",
      "execution_count": null,
      "metadata": {
        "id": "8ybrZ1y-Nn60"
      },
      "outputs": [],
      "source": [
        "zip_path= \"/content/drive/MyDrive/Hate Speech Detection Data/train_E6oV3lV.csv.zip\""
      ]
    },
    {
      "cell_type": "code",
      "execution_count": null,
      "metadata": {
        "id": "eIOmQ7odNr7e"
      },
      "outputs": [],
      "source": [
        "# Create function to unzip a zipfile into current working directory \n",
        "def unzip_data(filename):\n",
        "  \"\"\"\n",
        "  Unzips filename into the current working directory.\n",
        "\n",
        "  Args:\n",
        "    filename (str): a filepath to a target zip folder to be unzipped.\n",
        "  \"\"\"\n",
        "  zip_ref = zipfile.ZipFile(filename, \"r\")\n",
        "  zip_ref.extractall()\n",
        "  zip_ref.close()\n",
        "unzip_data(zip_path)"
      ]
    },
    {
      "cell_type": "code",
      "execution_count": null,
      "metadata": {
        "id": "iy_Af5PYNt1a"
      },
      "outputs": [],
      "source": [
        "# Read csv file\n",
        "df = pd.read_csv(\"/content/train_E6oV3lV.csv\")"
      ]
    },
    {
      "cell_type": "code",
      "execution_count": null,
      "metadata": {
        "colab": {
          "base_uri": "https://localhost:8080/",
          "height": 419
        },
        "id": "gydSZjSoN3TF",
        "outputId": "1daf12fe-2f9f-498b-bc87-02cad94074a2"
      },
      "outputs": [
        {
          "data": {
            "text/html": [
              "<div>\n",
              "<style scoped>\n",
              "    .dataframe tbody tr th:only-of-type {\n",
              "        vertical-align: middle;\n",
              "    }\n",
              "\n",
              "    .dataframe tbody tr th {\n",
              "        vertical-align: top;\n",
              "    }\n",
              "\n",
              "    .dataframe thead th {\n",
              "        text-align: right;\n",
              "    }\n",
              "</style>\n",
              "<table border=\"1\" class=\"dataframe\">\n",
              "  <thead>\n",
              "    <tr style=\"text-align: right;\">\n",
              "      <th></th>\n",
              "      <th>id</th>\n",
              "      <th>label</th>\n",
              "      <th>tweet</th>\n",
              "    </tr>\n",
              "  </thead>\n",
              "  <tbody>\n",
              "    <tr>\n",
              "      <th>0</th>\n",
              "      <td>1</td>\n",
              "      <td>0</td>\n",
              "      <td>@user when a father is dysfunctional and is s...</td>\n",
              "    </tr>\n",
              "    <tr>\n",
              "      <th>1</th>\n",
              "      <td>2</td>\n",
              "      <td>0</td>\n",
              "      <td>@user @user thanks for #lyft credit i can't us...</td>\n",
              "    </tr>\n",
              "    <tr>\n",
              "      <th>2</th>\n",
              "      <td>3</td>\n",
              "      <td>0</td>\n",
              "      <td>bihday your majesty</td>\n",
              "    </tr>\n",
              "    <tr>\n",
              "      <th>3</th>\n",
              "      <td>4</td>\n",
              "      <td>0</td>\n",
              "      <td>#model   i love u take with u all the time in ...</td>\n",
              "    </tr>\n",
              "    <tr>\n",
              "      <th>4</th>\n",
              "      <td>5</td>\n",
              "      <td>0</td>\n",
              "      <td>factsguide: society now    #motivation</td>\n",
              "    </tr>\n",
              "    <tr>\n",
              "      <th>...</th>\n",
              "      <td>...</td>\n",
              "      <td>...</td>\n",
              "      <td>...</td>\n",
              "    </tr>\n",
              "    <tr>\n",
              "      <th>31957</th>\n",
              "      <td>31958</td>\n",
              "      <td>0</td>\n",
              "      <td>ate @user isz that youuu?ðððððð...</td>\n",
              "    </tr>\n",
              "    <tr>\n",
              "      <th>31958</th>\n",
              "      <td>31959</td>\n",
              "      <td>0</td>\n",
              "      <td>to see nina turner on the airwaves trying to...</td>\n",
              "    </tr>\n",
              "    <tr>\n",
              "      <th>31959</th>\n",
              "      <td>31960</td>\n",
              "      <td>0</td>\n",
              "      <td>listening to sad songs on a monday morning otw...</td>\n",
              "    </tr>\n",
              "    <tr>\n",
              "      <th>31960</th>\n",
              "      <td>31961</td>\n",
              "      <td>1</td>\n",
              "      <td>@user #sikh #temple vandalised in in #calgary,...</td>\n",
              "    </tr>\n",
              "    <tr>\n",
              "      <th>31961</th>\n",
              "      <td>31962</td>\n",
              "      <td>0</td>\n",
              "      <td>thank you @user for you follow</td>\n",
              "    </tr>\n",
              "  </tbody>\n",
              "</table>\n",
              "<p>31962 rows × 3 columns</p>\n",
              "</div>"
            ],
            "text/plain": [
              "          id  label                                              tweet\n",
              "0          1      0   @user when a father is dysfunctional and is s...\n",
              "1          2      0  @user @user thanks for #lyft credit i can't us...\n",
              "2          3      0                                bihday your majesty\n",
              "3          4      0  #model   i love u take with u all the time in ...\n",
              "4          5      0             factsguide: society now    #motivation\n",
              "...      ...    ...                                                ...\n",
              "31957  31958      0  ate @user isz that youuu?ðððððð...\n",
              "31958  31959      0    to see nina turner on the airwaves trying to...\n",
              "31959  31960      0  listening to sad songs on a monday morning otw...\n",
              "31960  31961      1  @user #sikh #temple vandalised in in #calgary,...\n",
              "31961  31962      0                   thank you @user for you follow  \n",
              "\n",
              "[31962 rows x 3 columns]"
            ]
          },
          "execution_count": 6,
          "metadata": {},
          "output_type": "execute_result"
        }
      ],
      "source": [
        "# Check data\n",
        "df"
      ]
    },
    {
      "cell_type": "code",
      "execution_count": null,
      "metadata": {
        "colab": {
          "base_uri": "https://localhost:8080/"
        },
        "id": "uc164fpwN_F5",
        "outputId": "224c3ff3-49fd-4873-ca75-0a1df72772c0"
      },
      "outputs": [
        {
          "name": "stdout",
          "output_type": "stream",
          "text": [
            "<class 'pandas.core.frame.DataFrame'>\n",
            "RangeIndex: 31962 entries, 0 to 31961\n",
            "Data columns (total 3 columns):\n",
            " #   Column  Non-Null Count  Dtype \n",
            "---  ------  --------------  ----- \n",
            " 0   id      31962 non-null  int64 \n",
            " 1   label   31962 non-null  int64 \n",
            " 2   tweet   31962 non-null  object\n",
            "dtypes: int64(2), object(1)\n",
            "memory usage: 749.2+ KB\n"
          ]
        }
      ],
      "source": [
        "df.info()"
      ]
    },
    {
      "cell_type": "code",
      "execution_count": null,
      "metadata": {
        "colab": {
          "base_uri": "https://localhost:8080/",
          "height": 204
        },
        "id": "XYEZdgo9OBLt",
        "outputId": "2827e201-4436-4c6a-c065-aee3435de310"
      },
      "outputs": [
        {
          "data": {
            "text/html": [
              "<div>\n",
              "<style scoped>\n",
              "    .dataframe tbody tr th:only-of-type {\n",
              "        vertical-align: middle;\n",
              "    }\n",
              "\n",
              "    .dataframe tbody tr th {\n",
              "        vertical-align: top;\n",
              "    }\n",
              "\n",
              "    .dataframe thead th {\n",
              "        text-align: right;\n",
              "    }\n",
              "</style>\n",
              "<table border=\"1\" class=\"dataframe\">\n",
              "  <thead>\n",
              "    <tr style=\"text-align: right;\">\n",
              "      <th></th>\n",
              "      <th>label</th>\n",
              "      <th>tweet</th>\n",
              "    </tr>\n",
              "  </thead>\n",
              "  <tbody>\n",
              "    <tr>\n",
              "      <th>0</th>\n",
              "      <td>0</td>\n",
              "      <td>@user when a father is dysfunctional and is s...</td>\n",
              "    </tr>\n",
              "    <tr>\n",
              "      <th>1</th>\n",
              "      <td>0</td>\n",
              "      <td>@user @user thanks for #lyft credit i can't us...</td>\n",
              "    </tr>\n",
              "    <tr>\n",
              "      <th>2</th>\n",
              "      <td>0</td>\n",
              "      <td>bihday your majesty</td>\n",
              "    </tr>\n",
              "    <tr>\n",
              "      <th>3</th>\n",
              "      <td>0</td>\n",
              "      <td>#model   i love u take with u all the time in ...</td>\n",
              "    </tr>\n",
              "    <tr>\n",
              "      <th>4</th>\n",
              "      <td>0</td>\n",
              "      <td>factsguide: society now    #motivation</td>\n",
              "    </tr>\n",
              "  </tbody>\n",
              "</table>\n",
              "</div>"
            ],
            "text/plain": [
              "   label                                              tweet\n",
              "0      0   @user when a father is dysfunctional and is s...\n",
              "1      0  @user @user thanks for #lyft credit i can't us...\n",
              "2      0                                bihday your majesty\n",
              "3      0  #model   i love u take with u all the time in ...\n",
              "4      0             factsguide: society now    #motivation"
            ]
          },
          "execution_count": 8,
          "metadata": {},
          "output_type": "execute_result"
        }
      ],
      "source": [
        "# Drop the id column\n",
        "df = df.drop('id',axis=1)\n",
        "df.head()"
      ]
    },
    {
      "cell_type": "code",
      "execution_count": null,
      "metadata": {
        "colab": {
          "base_uri": "https://localhost:8080/",
          "height": 204
        },
        "id": "Fplq3fyFOC75",
        "outputId": "86f09e5a-8e5e-4b84-f931-cdbb641b38a5"
      },
      "outputs": [
        {
          "data": {
            "text/html": [
              "<div>\n",
              "<style scoped>\n",
              "    .dataframe tbody tr th:only-of-type {\n",
              "        vertical-align: middle;\n",
              "    }\n",
              "\n",
              "    .dataframe tbody tr th {\n",
              "        vertical-align: top;\n",
              "    }\n",
              "\n",
              "    .dataframe thead th {\n",
              "        text-align: right;\n",
              "    }\n",
              "</style>\n",
              "<table border=\"1\" class=\"dataframe\">\n",
              "  <thead>\n",
              "    <tr style=\"text-align: right;\">\n",
              "      <th></th>\n",
              "      <th>label</th>\n",
              "      <th>tweet</th>\n",
              "    </tr>\n",
              "  </thead>\n",
              "  <tbody>\n",
              "    <tr>\n",
              "      <th>12227</th>\n",
              "      <td>0</td>\n",
              "      <td>@user âmy mom says my smile is captivatingâ...</td>\n",
              "    </tr>\n",
              "    <tr>\n",
              "      <th>14709</th>\n",
              "      <td>0</td>\n",
              "      <td>in 3 days i will be meeting my sis-n-law, coun...</td>\n",
              "    </tr>\n",
              "    <tr>\n",
              "      <th>19319</th>\n",
              "      <td>0</td>\n",
              "      <td>hating the conservative homophobes using this ...</td>\n",
              "    </tr>\n",
              "    <tr>\n",
              "      <th>4308</th>\n",
              "      <td>0</td>\n",
              "      <td>awee if this doesn't  #scream   #friday #acewe...</td>\n",
              "    </tr>\n",
              "    <tr>\n",
              "      <th>24055</th>\n",
              "      <td>0</td>\n",
              "      <td>fathersday  #fatherÃ¢ÂÂs #day #god! #ÃÂ« #...</td>\n",
              "    </tr>\n",
              "  </tbody>\n",
              "</table>\n",
              "</div>"
            ],
            "text/plain": [
              "       label                                              tweet\n",
              "12227      0   @user âmy mom says my smile is captivatingâ...\n",
              "14709      0  in 3 days i will be meeting my sis-n-law, coun...\n",
              "19319      0  hating the conservative homophobes using this ...\n",
              "4308       0  awee if this doesn't  #scream   #friday #acewe...\n",
              "24055      0   fathersday  #fatherÃ¢ÂÂs #day #god! #ÃÂ« #..."
            ]
          },
          "execution_count": 9,
          "metadata": {},
          "output_type": "execute_result"
        }
      ],
      "source": [
        "# Shuffle the data \n",
        "df_shuffled = df.sample(frac=1, random_state=42)\n",
        "df_shuffled.head()"
      ]
    },
    {
      "cell_type": "markdown",
      "metadata": {
        "id": "gzoeTYNKSDbe"
      },
      "source": [
        "## Processing Data"
      ]
    },
    {
      "cell_type": "code",
      "execution_count": null,
      "metadata": {
        "id": "6cMKn0_xOFiF"
      },
      "outputs": [],
      "source": [
        "# Remove symbols from tweets and lower case all characters\n",
        "def process_tweet(tweet):\n",
        "    return \" \".join(re.sub(\"(@[A-Za-z0-9]+)|([^0-9A-Za-z \\t])\", \" \",tweet.lower()).split())"
      ]
    },
    {
      "cell_type": "code",
      "execution_count": null,
      "metadata": {
        "colab": {
          "base_uri": "https://localhost:8080/",
          "height": 297
        },
        "id": "HcqlIrdxOIO2",
        "outputId": "9ddfb9f9-812c-4700-bedd-d36b2a0403a2"
      },
      "outputs": [
        {
          "data": {
            "text/html": [
              "<div>\n",
              "<style scoped>\n",
              "    .dataframe tbody tr th:only-of-type {\n",
              "        vertical-align: middle;\n",
              "    }\n",
              "\n",
              "    .dataframe tbody tr th {\n",
              "        vertical-align: top;\n",
              "    }\n",
              "\n",
              "    .dataframe thead th {\n",
              "        text-align: right;\n",
              "    }\n",
              "</style>\n",
              "<table border=\"1\" class=\"dataframe\">\n",
              "  <thead>\n",
              "    <tr style=\"text-align: right;\">\n",
              "      <th></th>\n",
              "      <th>label</th>\n",
              "      <th>tweet</th>\n",
              "      <th>processed_tweets</th>\n",
              "    </tr>\n",
              "  </thead>\n",
              "  <tbody>\n",
              "    <tr>\n",
              "      <th>12227</th>\n",
              "      <td>0</td>\n",
              "      <td>@user âmy mom says my smile is captivatingâ...</td>\n",
              "      <td>my mom says my smile is captivating i says hap...</td>\n",
              "    </tr>\n",
              "    <tr>\n",
              "      <th>14709</th>\n",
              "      <td>0</td>\n",
              "      <td>in 3 days i will be meeting my sis-n-law, coun...</td>\n",
              "      <td>in 3 days i will be meeting my sis n law coune...</td>\n",
              "    </tr>\n",
              "    <tr>\n",
              "      <th>19319</th>\n",
              "      <td>0</td>\n",
              "      <td>hating the conservative homophobes using this ...</td>\n",
              "      <td>hating the conservative homophobes using this ...</td>\n",
              "    </tr>\n",
              "    <tr>\n",
              "      <th>4308</th>\n",
              "      <td>0</td>\n",
              "      <td>awee if this doesn't  #scream   #friday #acewe...</td>\n",
              "      <td>awee if this doesn t scream friday acewellstuc...</td>\n",
              "    </tr>\n",
              "    <tr>\n",
              "      <th>24055</th>\n",
              "      <td>0</td>\n",
              "      <td>fathersday  #fatherÃ¢ÂÂs #day #god! #ÃÂ« #...</td>\n",
              "      <td>fathersday father s day god tony a smith buy t...</td>\n",
              "    </tr>\n",
              "    <tr>\n",
              "      <th>2275</th>\n",
              "      <td>0</td>\n",
              "      <td>grooving fuuuunn nightâ¨â¨â¨  #bangkok #las...</td>\n",
              "      <td>grooving fuuuunn night bangkok lastnight w tha...</td>\n",
              "    </tr>\n",
              "    <tr>\n",
              "      <th>22304</th>\n",
              "      <td>0</td>\n",
              "      <td>a very   #koala bear</td>\n",
              "      <td>a very koala bear</td>\n",
              "    </tr>\n",
              "    <tr>\n",
              "      <th>15297</th>\n",
              "      <td>0</td>\n",
              "      <td>treat people the way you want to be treated. #...</td>\n",
              "      <td>treat people the way you want to be treated be...</td>\n",
              "    </tr>\n",
              "  </tbody>\n",
              "</table>\n",
              "</div>"
            ],
            "text/plain": [
              "       label  ...                                   processed_tweets\n",
              "12227      0  ...  my mom says my smile is captivating i says hap...\n",
              "14709      0  ...  in 3 days i will be meeting my sis n law coune...\n",
              "19319      0  ...  hating the conservative homophobes using this ...\n",
              "4308       0  ...  awee if this doesn t scream friday acewellstuc...\n",
              "24055      0  ...  fathersday father s day god tony a smith buy t...\n",
              "2275       0  ...  grooving fuuuunn night bangkok lastnight w tha...\n",
              "22304      0  ...                                  a very koala bear\n",
              "15297      0  ...  treat people the way you want to be treated be...\n",
              "\n",
              "[8 rows x 3 columns]"
            ]
          },
          "execution_count": 11,
          "metadata": {},
          "output_type": "execute_result"
        }
      ],
      "source": [
        "df_shuffled['processed_tweets'] = df_shuffled['tweet'].apply(process_tweet)\n",
        "df_shuffled.head(8)"
      ]
    },
    {
      "cell_type": "markdown",
      "metadata": {
        "id": "RX7gqy7RR7Zf"
      },
      "source": [
        "## Splitting Data into Training and Validation Sets"
      ]
    },
    {
      "cell_type": "code",
      "execution_count": null,
      "metadata": {
        "id": "jDcnjq3rOKNJ"
      },
      "outputs": [],
      "source": [
        "# Use train_test_split to split training data into training and validation sets \n",
        "train_sentences, val_sentences, train_labels, val_labels = train_test_split(list(df_shuffled[\"processed_tweets\"]),\n",
        "                                                                           list(df_shuffled[\"label\"]),\n",
        "                                                                           test_size=0.2, # use 20% of training data for validation\n",
        "                                                                           random_state=42)"
      ]
    },
    {
      "cell_type": "code",
      "execution_count": null,
      "metadata": {
        "colab": {
          "base_uri": "https://localhost:8080/"
        },
        "id": "EGrjm1RXOP30",
        "outputId": "f2775696-252b-433f-fe0b-068a538272f1"
      },
      "outputs": [
        {
          "data": {
            "text/plain": [
              "(13, 13)"
            ]
          },
          "execution_count": 13,
          "metadata": {},
          "output_type": "execute_result"
        }
      ],
      "source": [
        "# Find the average number of tokens (words) in the training and validation tweets \n",
        "round (sum([len(i.split()) for i in train_sentences])/len(train_sentences)), round (sum([len(i.split()) for i in val_sentences])/len(val_sentences))"
      ]
    },
    {
      "cell_type": "markdown",
      "metadata": {
        "id": "maEdXXyZOQdk"
      },
      "source": [
        "## Running a Series of Modeling Experiments"
      ]
    },
    {
      "cell_type": "code",
      "execution_count": null,
      "metadata": {
        "colab": {
          "base_uri": "https://localhost:8080/"
        },
        "id": "LD56ZaOjOV5v",
        "outputId": "9386164d-7d19-4087-cc1d-d0213661409a"
      },
      "outputs": [
        {
          "name": "stdout",
          "output_type": "stream",
          "text": [
            "Our model_0 (XGBClassifier) achieves an accuracy of:94.17%\n",
            "Our model_1 (MultinomialNB) achieves an accuracy of:93.52%\n",
            "Our model_2 (RandomForestClassifier) achieves an accuracy of:96.15%\n",
            "Our model_3 (LogisticRegression) achieves an accuracy of:94.81%\n",
            "Our model_4 (SGDClassifier) achieves an accuracy of:95.07%\n"
          ]
        }
      ],
      "source": [
        "# Create tokenization and modeling pipeline \n",
        "\n",
        "\n",
        "# XGBClassifier\n",
        "pipeline_xgb = Pipeline([\n",
        "    ('tfidf', TfidfVectorizer()),\n",
        "    ('model', xgb.XGBClassifier(use_label =False)),])\n",
        "\n",
        "model_0 = pipeline_xgb.fit(train_sentences, train_labels)\n",
        "\n",
        "model_0_score = model_0.score(val_sentences, val_labels)\n",
        "\n",
        "print(f\"Our model_0 (XGBClassifier) achieves an accuracy of:{model_0_score*100:.2f}%\")\n",
        "\n",
        "\n",
        "# MultinomialNB\n",
        "model_1 = Pipeline([\n",
        "                    (\"tfidf\", TfidfVectorizer()), # Convert words to numbers using tfidf \n",
        "                    (\"clf\", MultinomialNB()) # model the text\n",
        "])\n",
        "\n",
        "model_1.fit(train_sentences, train_labels)\n",
        "score_1 = model_1.score(val_sentences, val_labels)\n",
        "print(f\"Our model_1 (MultinomialNB) achieves an accuracy of:{score_1*100:.2f}%\")\n",
        "\n",
        "\n",
        "# RandomForestClassifier\n",
        "model_2 = Pipeline([\n",
        "                    (\"tfidf\", TfidfVectorizer()), # Convert words to numbers using tfidf \n",
        "                    (\"clf\", RandomForestClassifier()) # model the text\n",
        "])\n",
        "\n",
        "model_2.fit(train_sentences, train_labels)\n",
        "score_2 = model_2.score(val_sentences, val_labels)\n",
        "print(f\"Our model_2 (RandomForestClassifier) achieves an accuracy of:{score_2*100:.2f}%\")\n",
        "\n",
        "\n",
        "# LogisticRegression\n",
        "model_3 = Pipeline([\n",
        "                    (\"tfidf\", TfidfVectorizer()), # Convert words to numbers using tfidf \n",
        "                    (\"clf\", LogisticRegression()) # model the text\n",
        "])\n",
        "\n",
        "model_3.fit(train_sentences, train_labels)\n",
        "score_3 = model_3.score(val_sentences, val_labels)\n",
        "print(f\"Our model_3 (LogisticRegression) achieves an accuracy of:{score_3*100:.2f}%\")\n",
        "\n",
        "\n",
        "# SGDClassifier\n",
        "model_4 = Pipeline([\n",
        "                    (\"tfidf\", TfidfVectorizer()), # Convert words to numbers using tfidf \n",
        "                    (\"clf\", SGDClassifier()) # model the text\n",
        "])\n",
        "\n",
        "model_4.fit(train_sentences, train_labels)\n",
        "score_4 = model_4.score(val_sentences, val_labels)\n",
        "print(f\"Our model_4 (SGDClassifier) achieves an accuracy of:{score_4*100:.2f}%\")"
      ]
    },
    {
      "cell_type": "code",
      "execution_count": null,
      "metadata": {
        "colab": {
          "base_uri": "https://localhost:8080/"
        },
        "id": "hpUFQQETOZCv",
        "outputId": "5e620999-c0de-4058-bae7-85c376cff115"
      },
      "outputs": [
        {
          "name": "stderr",
          "output_type": "stream",
          "text": [
            "INFO:absl:Using /tmp/tfhub_modules to cache modules.\n",
            "INFO:absl:Downloading TF-Hub Module 'https://tfhub.dev/google/universal-sentence-encoder/4'.\n",
            "INFO:absl:Downloaded https://tfhub.dev/google/universal-sentence-encoder/4, Total size: 987.47MB\n",
            "INFO:absl:Downloaded TF-Hub Module 'https://tfhub.dev/google/universal-sentence-encoder/4'.\n"
          ]
        },
        {
          "name": "stdout",
          "output_type": "stream",
          "text": [
            "Model: \"model_5_USE\"\n",
            "_________________________________________________________________\n",
            " Layer (type)                Output Shape              Param #   \n",
            "=================================================================\n",
            " USE (KerasLayer)            (None, 512)               256797824 \n",
            "                                                                 \n",
            " dense (Dense)               (None, 64)                32832     \n",
            "                                                                 \n",
            " dense_1 (Dense)             (None, 1)                 65        \n",
            "                                                                 \n",
            "=================================================================\n",
            "Total params: 256,830,721\n",
            "Trainable params: 32,897\n",
            "Non-trainable params: 256,797,824\n",
            "_________________________________________________________________\n"
          ]
        }
      ],
      "source": [
        "# Create a Keras Layer using the USE pretrained layer from tensorflow hub \n",
        "sentence_encoder_layer = hub.KerasLayer(\"https://tfhub.dev/google/universal-sentence-encoder/4\",\n",
        "                                        input_shape=[],\n",
        "                                        dtype=tf.string,\n",
        "                                        trainable=False,\n",
        "                                        name=\"USE\"\n",
        "                                        )\n",
        "# Create model using the Sequential API \n",
        "model_5 = tf.keras.Sequential([\n",
        "  sentence_encoder_layer,\n",
        "  layers.Dense(64, activation=\"relu\"),\n",
        "  layers.Dense(1, activation=\"sigmoid\")\n",
        "], name = \"model_5_USE\")\n",
        "\n",
        "# Compile \n",
        "model_5.compile(loss=\"binary_crossentropy\",\n",
        "                optimizer=tf.keras.optimizers.Adam(),\n",
        "                metrics=[\"accuracy\"])\n",
        "model_5.summary()"
      ]
    },
    {
      "cell_type": "code",
      "execution_count": null,
      "metadata": {
        "colab": {
          "base_uri": "https://localhost:8080/"
        },
        "id": "a6dYiS6tOcr7",
        "outputId": "c00b4d4e-45fe-486e-b361-9fe7dab3580d"
      },
      "outputs": [
        {
          "name": "stdout",
          "output_type": "stream",
          "text": [
            "Epoch 1/15\n",
            "800/800 [==============================] - 23s 23ms/step - loss: 0.1742 - accuracy: 0.9433 - val_loss: 0.1369 - val_accuracy: 0.9478\n",
            "Epoch 2/15\n",
            "800/800 [==============================] - 18s 22ms/step - loss: 0.1223 - accuracy: 0.9561 - val_loss: 0.1316 - val_accuracy: 0.9518\n",
            "Epoch 3/15\n",
            "800/800 [==============================] - 18s 22ms/step - loss: 0.1124 - accuracy: 0.9591 - val_loss: 0.1242 - val_accuracy: 0.9529\n",
            "Epoch 4/15\n",
            "800/800 [==============================] - 18s 22ms/step - loss: 0.1025 - accuracy: 0.9621 - val_loss: 0.1222 - val_accuracy: 0.9534\n",
            "Epoch 5/15\n",
            "800/800 [==============================] - 17s 22ms/step - loss: 0.0938 - accuracy: 0.9660 - val_loss: 0.1171 - val_accuracy: 0.9571\n",
            "Epoch 6/15\n",
            "800/800 [==============================] - 17s 22ms/step - loss: 0.0856 - accuracy: 0.9688 - val_loss: 0.1131 - val_accuracy: 0.9582\n",
            "Epoch 7/15\n",
            "800/800 [==============================] - 17s 22ms/step - loss: 0.0783 - accuracy: 0.9715 - val_loss: 0.1126 - val_accuracy: 0.9589\n",
            "Epoch 8/15\n",
            "800/800 [==============================] - 17s 21ms/step - loss: 0.0711 - accuracy: 0.9748 - val_loss: 0.1110 - val_accuracy: 0.9589\n",
            "Epoch 9/15\n",
            "800/800 [==============================] - 17s 22ms/step - loss: 0.0644 - accuracy: 0.9777 - val_loss: 0.1106 - val_accuracy: 0.9595\n",
            "Epoch 10/15\n",
            "800/800 [==============================] - 17s 22ms/step - loss: 0.0585 - accuracy: 0.9797 - val_loss: 0.1101 - val_accuracy: 0.9589\n",
            "Epoch 11/15\n",
            "800/800 [==============================] - 17s 22ms/step - loss: 0.0532 - accuracy: 0.9822 - val_loss: 0.1104 - val_accuracy: 0.9604\n",
            "Epoch 12/15\n",
            "800/800 [==============================] - 17s 22ms/step - loss: 0.0477 - accuracy: 0.9845 - val_loss: 0.1132 - val_accuracy: 0.9623\n",
            "Epoch 13/15\n",
            "800/800 [==============================] - 17s 22ms/step - loss: 0.0427 - accuracy: 0.9873 - val_loss: 0.1132 - val_accuracy: 0.9604\n",
            "Epoch 14/15\n",
            "800/800 [==============================] - 18s 22ms/step - loss: 0.0382 - accuracy: 0.9893 - val_loss: 0.1155 - val_accuracy: 0.9611\n",
            "Epoch 15/15\n",
            "800/800 [==============================] - 17s 22ms/step - loss: 0.0340 - accuracy: 0.9907 - val_loss: 0.1155 - val_accuracy: 0.9612\n"
          ]
        }
      ],
      "source": [
        "# Train a classifier on top of USE pretrained embeddings \n",
        "model_5_history = model_5.fit(train_sentences,\n",
        "                              train_labels,\n",
        "                              epochs=15,\n",
        "                              validation_data=(val_sentences, val_labels)\n",
        "                              )"
      ]
    },
    {
      "cell_type": "code",
      "execution_count": null,
      "metadata": {
        "id": "aGyHRfDtOepD"
      },
      "outputs": [],
      "source": [
        "# Make predictions with USE TF Hub Model\n",
        "model_5_pred_probs = model_5.predict(val_sentences)"
      ]
    },
    {
      "cell_type": "code",
      "execution_count": null,
      "metadata": {
        "id": "5M3uYTqwOgcr"
      },
      "outputs": [],
      "source": [
        "# Making predictions on validation data \n",
        "y0_predict = model_0.predict(val_sentences)\n",
        "y1_predict = model_1.predict(val_sentences)\n",
        "y2_predict = model_2.predict(val_sentences)\n",
        "y3_predict = model_3.predict(val_sentences)\n",
        "y4_predict = model_4.predict(val_sentences)\n",
        "y5_predict = tf.squeeze(tf.round(model_5_pred_probs))"
      ]
    },
    {
      "cell_type": "markdown",
      "metadata": {
        "id": "cUbll4c7Oiwc"
      },
      "source": [
        "## Creating an Evaluation Function for Model Experiments"
      ]
    },
    {
      "cell_type": "code",
      "execution_count": null,
      "metadata": {
        "id": "dljhLC8vOnRx"
      },
      "outputs": [],
      "source": [
        "# Function to evaluate: accuracy, precision, recall, f1-score\n",
        "def calculate_results(y_true,y_pred):\n",
        "  \"\"\"\n",
        "  Calculates model accuracy, precision, recall and f1 score of a binary classification model \n",
        "  \"\"\"\n",
        "  # Calculate model accuracy \n",
        "  model_accuracy = accuracy_score(y_true, y_pred) * 100\n",
        "  # Calculate model precision, recall and f1-score using \"weighted\" average \n",
        "  model_precision, model_recall, model_f1, _ = precision_recall_fscore_support(y_true, y_pred, average=\"weighted\")\n",
        "  model_results = {\"accuracy\": model_accuracy,\n",
        "                  \"precision\": model_precision,\n",
        "                  \"recall\": model_recall,\n",
        "                  \"f1\": model_f1}\n",
        "  return model_results"
      ]
    },
    {
      "cell_type": "code",
      "execution_count": null,
      "metadata": {
        "colab": {
          "base_uri": "https://localhost:8080/"
        },
        "id": "JQpdNDJ9OpTz",
        "outputId": "b7de4489-eeb4-4d55-dd88-c89fc5111976"
      },
      "outputs": [
        {
          "data": {
            "text/plain": [
              "{'accuracy': 94.16549350852495,\n",
              " 'f1': 0.9240085458148133,\n",
              " 'precision': 0.9416924045330635,\n",
              " 'recall': 0.9416549350852494}"
            ]
          },
          "execution_count": 20,
          "metadata": {},
          "output_type": "execute_result"
        }
      ],
      "source": [
        "# Get baseline results \n",
        "model_0_results = calculate_results(y_true=val_labels,\n",
        "                                     y_pred= y0_predict)\n",
        "model_0_results"
      ]
    },
    {
      "cell_type": "code",
      "execution_count": null,
      "metadata": {
        "colab": {
          "base_uri": "https://localhost:8080/"
        },
        "id": "Ooh-NzRqOq-m",
        "outputId": "fa03f716-3a42-411f-97a2-cead7144287f"
      },
      "outputs": [
        {
          "data": {
            "text/plain": [
              "{'accuracy': 93.52416705771938,\n",
              " 'f1': 0.9103555383590493,\n",
              " 'precision': 0.9394690355064025,\n",
              " 'recall': 0.9352416705771938}"
            ]
          },
          "execution_count": 21,
          "metadata": {},
          "output_type": "execute_result"
        }
      ],
      "source": [
        "# Get model_1 results \n",
        "model_1_results = calculate_results(y_true=val_labels,\n",
        "                                     y_pred= y1_predict)\n",
        "model_1_results"
      ]
    },
    {
      "cell_type": "code",
      "execution_count": null,
      "metadata": {
        "colab": {
          "base_uri": "https://localhost:8080/"
        },
        "id": "Z2qlJz5IOsja",
        "outputId": "d3b6b3d2-598f-47b8-d241-01a73f10c5eb"
      },
      "outputs": [
        {
          "data": {
            "text/plain": [
              "{'accuracy': 96.15204129516658,\n",
              " 'f1': 0.9561775703067548,\n",
              " 'precision': 0.9605289818711626,\n",
              " 'recall': 0.9615204129516659}"
            ]
          },
          "execution_count": 22,
          "metadata": {},
          "output_type": "execute_result"
        }
      ],
      "source": [
        "# Get model_2 results \n",
        "model_2_results = calculate_results(y_true=val_labels,\n",
        "                                     y_pred= y2_predict)\n",
        "model_2_results"
      ]
    },
    {
      "cell_type": "code",
      "execution_count": null,
      "metadata": {
        "colab": {
          "base_uri": "https://localhost:8080/"
        },
        "id": "xSCK9kN2Ot6b",
        "outputId": "33dd8264-db3a-4176-8dc3-fb90d8f114db"
      },
      "outputs": [
        {
          "data": {
            "text/plain": [
              "{'accuracy': 94.80681995933051,\n",
              " 'f1': 0.9359882323688977,\n",
              " 'precision': 0.9466040133565261,\n",
              " 'recall': 0.9480681995933051}"
            ]
          },
          "execution_count": 23,
          "metadata": {},
          "output_type": "execute_result"
        }
      ],
      "source": [
        "# Get model_3 results \n",
        "model_3_results = calculate_results(y_true=val_labels,\n",
        "                                     y_pred= y3_predict)\n",
        "model_3_results"
      ]
    },
    {
      "cell_type": "code",
      "execution_count": null,
      "metadata": {
        "colab": {
          "base_uri": "https://localhost:8080/"
        },
        "id": "0uH3kjQrOvd4",
        "outputId": "a55caf32-2c7f-4db5-d5c4-e511aa232e8b"
      },
      "outputs": [
        {
          "data": {
            "text/plain": [
              "{'accuracy': 95.07273580478649,\n",
              " 'f1': 0.9396594391222164,\n",
              " 'precision': 0.9507792098849407,\n",
              " 'recall': 0.9507273580478649}"
            ]
          },
          "execution_count": 24,
          "metadata": {},
          "output_type": "execute_result"
        }
      ],
      "source": [
        "# Get model_4 results \n",
        "model_4_results = calculate_results(y_true=val_labels,\n",
        "                                     y_pred= y4_predict)\n",
        "model_4_results"
      ]
    },
    {
      "cell_type": "code",
      "execution_count": null,
      "metadata": {
        "colab": {
          "base_uri": "https://localhost:8080/"
        },
        "id": "-raLePL4OxZj",
        "outputId": "81e32e15-5227-4e33-e8d4-9a8999c55c09"
      },
      "outputs": [
        {
          "data": {
            "text/plain": [
              "{'accuracy': 96.12075707805413,\n",
              " 'f1': 0.9583718317085882,\n",
              " 'precision': 0.9582698898604834,\n",
              " 'recall': 0.9612075707805412}"
            ]
          },
          "execution_count": 25,
          "metadata": {},
          "output_type": "execute_result"
        }
      ],
      "source": [
        "# Get model_5 results \n",
        "model_5_results = calculate_results(y_true = val_labels,\n",
        "                                    y_pred = y5_predict)\n",
        "model_5_results"
      ]
    },
    {
      "cell_type": "markdown",
      "metadata": {
        "id": "q07He9hrOy5G"
      },
      "source": [
        "## Comparing the Performance of the Models"
      ]
    },
    {
      "cell_type": "code",
      "execution_count": null,
      "metadata": {
        "colab": {
          "base_uri": "https://localhost:8080/",
          "height": 235
        },
        "id": "ATPIxRVjO1YH",
        "outputId": "e0e6982b-319c-4799-eadc-934a367e59bc"
      },
      "outputs": [
        {
          "data": {
            "text/html": [
              "<div>\n",
              "<style scoped>\n",
              "    .dataframe tbody tr th:only-of-type {\n",
              "        vertical-align: middle;\n",
              "    }\n",
              "\n",
              "    .dataframe tbody tr th {\n",
              "        vertical-align: top;\n",
              "    }\n",
              "\n",
              "    .dataframe thead th {\n",
              "        text-align: right;\n",
              "    }\n",
              "</style>\n",
              "<table border=\"1\" class=\"dataframe\">\n",
              "  <thead>\n",
              "    <tr style=\"text-align: right;\">\n",
              "      <th></th>\n",
              "      <th>accuracy</th>\n",
              "      <th>precision</th>\n",
              "      <th>recall</th>\n",
              "      <th>f1</th>\n",
              "    </tr>\n",
              "  </thead>\n",
              "  <tbody>\n",
              "    <tr>\n",
              "      <th>model_0 (XGBClassifier)</th>\n",
              "      <td>94.165494</td>\n",
              "      <td>0.941692</td>\n",
              "      <td>0.941655</td>\n",
              "      <td>0.924009</td>\n",
              "    </tr>\n",
              "    <tr>\n",
              "      <th>model_1 (MultinomialNB)</th>\n",
              "      <td>93.524167</td>\n",
              "      <td>0.939469</td>\n",
              "      <td>0.935242</td>\n",
              "      <td>0.910356</td>\n",
              "    </tr>\n",
              "    <tr>\n",
              "      <th>model_2 (RandomForestClassifier)</th>\n",
              "      <td>96.152041</td>\n",
              "      <td>0.960529</td>\n",
              "      <td>0.961520</td>\n",
              "      <td>0.956178</td>\n",
              "    </tr>\n",
              "    <tr>\n",
              "      <th>model_3 (LogisticRegression)</th>\n",
              "      <td>94.806820</td>\n",
              "      <td>0.946604</td>\n",
              "      <td>0.948068</td>\n",
              "      <td>0.935988</td>\n",
              "    </tr>\n",
              "    <tr>\n",
              "      <th>model_4 (SGDClassifier)</th>\n",
              "      <td>95.072736</td>\n",
              "      <td>0.950779</td>\n",
              "      <td>0.950727</td>\n",
              "      <td>0.939659</td>\n",
              "    </tr>\n",
              "    <tr>\n",
              "      <th>model_5 (TFhub_USE_Encoder)</th>\n",
              "      <td>96.120757</td>\n",
              "      <td>0.958270</td>\n",
              "      <td>0.961208</td>\n",
              "      <td>0.958372</td>\n",
              "    </tr>\n",
              "  </tbody>\n",
              "</table>\n",
              "</div>"
            ],
            "text/plain": [
              "                                   accuracy  precision    recall        f1\n",
              "model_0 (XGBClassifier)           94.165494   0.941692  0.941655  0.924009\n",
              "model_1 (MultinomialNB)           93.524167   0.939469  0.935242  0.910356\n",
              "model_2 (RandomForestClassifier)  96.152041   0.960529  0.961520  0.956178\n",
              "model_3 (LogisticRegression)      94.806820   0.946604  0.948068  0.935988\n",
              "model_4 (SGDClassifier)           95.072736   0.950779  0.950727  0.939659\n",
              "model_5 (TFhub_USE_Encoder)       96.120757   0.958270  0.961208  0.958372"
            ]
          },
          "execution_count": 26,
          "metadata": {},
          "output_type": "execute_result"
        }
      ],
      "source": [
        "models_results_df = pd.DataFrame(data={'model_0 (XGBClassifier)': model_0_results,\n",
        "                                       'model_1 (MultinomialNB)': model_1_results,\n",
        "                                       'model_2 (RandomForestClassifier)' : model_2_results,\n",
        "                                       'model_3 (LogisticRegression)': model_3_results,\n",
        "                                       'model_4 (SGDClassifier)' : model_4_results,\n",
        "                                       'model_5 (TFhub_USE_Encoder)' : model_5_results}).transpose()\n",
        "models_results_df"
      ]
    },
    {
      "cell_type": "code",
      "execution_count": null,
      "metadata": {
        "id": "OATpztVKO3CJ"
      },
      "outputs": [],
      "source": [
        "# Reduce the accuracy to the same scale as other metrics \n",
        "models_results_df[\"accuracy\"]= models_results_df[\"accuracy\"]/100"
      ]
    },
    {
      "cell_type": "code",
      "execution_count": null,
      "metadata": {
        "colab": {
          "base_uri": "https://localhost:8080/",
          "height": 707
        },
        "id": "zDGMo9zIO4j9",
        "outputId": "80672565-3f27-44d8-981f-37c06b01474a"
      },
      "outputs": [
        {
          "data": {
            "image/png": "[encoded data removed]",
            "text/plain": [
              "<Figure size 720x504 with 1 Axes>"
            ]
          },
          "metadata": {},
          "output_type": "display_data"
        }
      ],
      "source": [
        "# Plot and compare all of the model results\n",
        "models_results_df.plot(kind=\"bar\", figsize=(10,7)).legend(bbox_to_anchor=(1.0,1.0));"
      ]
    },
    {
      "cell_type": "code",
      "execution_count": null,
      "metadata": {
        "colab": {
          "base_uri": "https://localhost:8080/",
          "height": 708
        },
        "id": "dCZuv9h_O6Go",
        "outputId": "a95f6055-b306-45ab-f724-d5d6c9377698"
      },
      "outputs": [
        {
          "data": {
            "image/png": "[encoded data removed]",
            "text/plain": [
              "<Figure size 720x504 with 1 Axes>"
            ]
          },
          "metadata": {},
          "output_type": "display_data"
        }
      ],
      "source": [
        "# Sort model results by f1-score\n",
        "models_results_df.sort_values(\"f1\", ascending=False)[\"f1\"].plot(kind=\"bar\", figsize=(10, 7));"
      ]
    },
    {
      "cell_type": "code",
      "execution_count": null,
      "metadata": {
        "colab": {
          "base_uri": "https://localhost:8080/"
        },
        "id": "o9QhVdGpO7p0",
        "outputId": "9c1028cc-368f-4561-b791-676d0652cea5"
      },
      "outputs": [
        {
          "data": {
            "text/plain": [
              "array([[5922,    6],\n",
              "       [ 367,   98]])"
            ]
          },
          "execution_count": 30,
          "metadata": {},
          "output_type": "execute_result"
        }
      ],
      "source": [
        "# Confusion matrix\n",
        "cm_0 = confusion_matrix(val_labels, y0_predict)\n",
        "cm_0"
      ]
    },
    {
      "cell_type": "code",
      "execution_count": null,
      "metadata": {
        "colab": {
          "base_uri": "https://localhost:8080/"
        },
        "id": "ZpoBujgpO9aF",
        "outputId": "177ee8a1-a830-421f-88bb-6c3011e15915"
      },
      "outputs": [
        {
          "data": {
            "text/plain": [
              "array([[5928,    0],\n",
              "       [ 414,   51]])"
            ]
          },
          "execution_count": 31,
          "metadata": {},
          "output_type": "execute_result"
        }
      ],
      "source": [
        "cm_1 = confusion_matrix(val_labels, y1_predict)\n",
        "cm_1"
      ]
    },
    {
      "cell_type": "code",
      "execution_count": null,
      "metadata": {
        "colab": {
          "base_uri": "https://localhost:8080/"
        },
        "id": "Rz5aaRAZO_DZ",
        "outputId": "a25d4455-ebdc-4e0c-e7f0-4337c94f549f"
      },
      "outputs": [
        {
          "data": {
            "text/plain": [
              "array([[5911,   17],\n",
              "       [ 229,  236]])"
            ]
          },
          "execution_count": 32,
          "metadata": {},
          "output_type": "execute_result"
        }
      ],
      "source": [
        "cm_2 = confusion_matrix(val_labels, y2_predict)\n",
        "cm_2"
      ]
    },
    {
      "cell_type": "code",
      "execution_count": null,
      "metadata": {
        "colab": {
          "base_uri": "https://localhost:8080/"
        },
        "id": "BNCoJ0qiPAao",
        "outputId": "09b3cd05-865e-4d74-825b-f81bf0f69b21"
      },
      "outputs": [
        {
          "data": {
            "text/plain": [
              "array([[5915,   13],\n",
              "       [ 319,  146]])"
            ]
          },
          "execution_count": 33,
          "metadata": {},
          "output_type": "execute_result"
        }
      ],
      "source": [
        "cm_3 = confusion_matrix(val_labels, y3_predict)\n",
        "cm_3"
      ]
    },
    {
      "cell_type": "code",
      "execution_count": null,
      "metadata": {
        "colab": {
          "base_uri": "https://localhost:8080/"
        },
        "id": "Zg5mkAvRPBlX",
        "outputId": "3f2ac046-5150-424e-96dd-1c29a3b4f79d"
      },
      "outputs": [
        {
          "data": {
            "text/plain": [
              "array([[5920,    8],\n",
              "       [ 307,  158]])"
            ]
          },
          "execution_count": 34,
          "metadata": {},
          "output_type": "execute_result"
        }
      ],
      "source": [
        "cm_4 = confusion_matrix(val_labels, y4_predict)\n",
        "cm_4"
      ]
    },
    {
      "cell_type": "code",
      "execution_count": null,
      "metadata": {
        "colab": {
          "base_uri": "https://localhost:8080/"
        },
        "id": "fs93iP2_PC1C",
        "outputId": "89c6143c-b156-4954-81b9-f64a9a9b4d5f"
      },
      "outputs": [
        {
          "data": {
            "text/plain": [
              "array([[5867,   61],\n",
              "       [ 187,  278]])"
            ]
          },
          "execution_count": 35,
          "metadata": {},
          "output_type": "execute_result"
        }
      ],
      "source": [
        "cm_5 = confusion_matrix(val_labels, y5_predict)\n",
        "cm_5"
      ]
    },
    {
      "cell_type": "code",
      "execution_count": null,
      "metadata": {
        "colab": {
          "base_uri": "https://localhost:8080/",
          "height": 1000
        },
        "id": "yL3sXIfqPEef",
        "outputId": "a4d97eb2-f997-4836-ede3-139a22d74df6"
      },
      "outputs": [
        {
          "data": {
            "image/png": "[encoded data removed]",
            "text/plain": [
              "<Figure size 720x1008 with 6 Axes>"
            ]
          },
          "metadata": {},
          "output_type": "display_data"
        }
      ],
      "source": [
        "sns.set(font_scale=1.5)\n",
        "# Plot the confusion matrix for each model\n",
        "fig, axs = plt.subplots(3, 2,figsize=(10, 14))\n",
        "sns.heatmap(confusion_matrix(val_labels, y0_predict),\n",
        "                  annot=True,\n",
        "                  cbar=False,\n",
        "                  fmt='d',\n",
        "                  ax=axs[0, 0],\n",
        "                  cmap= 'Purples'\n",
        "                     )\n",
        "axs[0, 0].set_title('model_0 (XGBClassifier)')\n",
        "axs[0, 0].set_xlabel(\"True label\")\n",
        "axs[0, 0].set_ylabel(\"Predicted label\")\n",
        "\n",
        "sns.heatmap(confusion_matrix(val_labels, y1_predict),\n",
        "                  annot=True,\n",
        "                  cbar=False,\n",
        "                  fmt='d',\n",
        "                  ax=axs[0, 1],\n",
        "                  cmap='PuRd'\n",
        "                     )\n",
        "axs[0, 1].set_title('model_1 (MultinomialNB)')\n",
        "axs[0, 1].set_xlabel(\"True label\")\n",
        "axs[0, 1].set_ylabel(\"Predicted label\")\n",
        "\n",
        "\n",
        "sns.heatmap(confusion_matrix(val_labels, y2_predict),\n",
        "                  annot=True,\n",
        "                  cbar=False,\n",
        "                  fmt='d',\n",
        "                  ax=axs[1, 0],\n",
        "                  cmap='Reds'\n",
        "                     )\n",
        "axs[1, 0].set_title('model_2 (RandomForestClassifier)')\n",
        "axs[1, 0].set_xlabel(\"True label\")\n",
        "axs[1, 0].set_ylabel(\"Predicted label\")\n",
        "\n",
        "\n",
        "sns.heatmap(confusion_matrix(val_labels, y3_predict),\n",
        "                  annot=True,\n",
        "                  cbar=False,\n",
        "                  fmt='d',\n",
        "                  ax=axs[1, 1],\n",
        "                  cmap='Greens'\n",
        "                     )\n",
        "axs[1, 1].set_title('model_3 (LogisticRegression)')\n",
        "axs[1, 1].set_xlabel(\"True label\")\n",
        "axs[1, 1].set_ylabel(\"Predicted label\")\n",
        "\n",
        "\n",
        "\n",
        "sns.heatmap(confusion_matrix(val_labels, y4_predict),\n",
        "                  annot=True,\n",
        "                  cbar=False,\n",
        "                  fmt='d',\n",
        "                  ax=axs[2, 0],\n",
        "                  cmap='Oranges'\n",
        "                     )\n",
        "axs[2, 0].set_title('model_4 (SGDClassifier)')\n",
        "axs[2, 0].set_xlabel(\"True label\")\n",
        "axs[2, 0].set_ylabel(\"Predicted label\")\n",
        "\n",
        "\n",
        "sns.heatmap(confusion_matrix(val_labels, y5_predict),\n",
        "                  annot=True,\n",
        "                  cbar=False,\n",
        "                  fmt='d',\n",
        "                  ax=axs[2, 1],\n",
        "                  cmap='Blues'\n",
        "                     )\n",
        "axs[2, 1].set_title('model_5 (TFhub_USE_Encoder)')\n",
        "axs[2, 1].set_xlabel(\"True label\")\n",
        "axs[2, 1].set_ylabel(\"Predicted label\")\n",
        "plt.tight_layout(); "
      ]
    },
    {
      "cell_type": "markdown",
      "metadata": {
        "id": "46yUKCwGPHQS"
      },
      "source": [
        "## Another Option: Using DistilBertTokenizerFast"
      ]
    },
    {
      "cell_type": "code",
      "execution_count": null,
      "metadata": {
        "colab": {
          "base_uri": "https://localhost:8080/",
          "height": 113,
          "referenced_widgets": [
            "978f683869ef40c7a5d16c54c268a231",
            "ee3bea2b8b4641018011448a7d7bd213",
            "c17cdfb3f15848adaff692d7a290df2c",
            "1246099ad4864c1fb23f44eefa648f84",
            "daad2a1a513043db8f1f47a0b7de6b88",
            "39b6872b8ebd4f0a95f101e294f60124",
            "e5f7ce13900146ce862184ad64d97539",
            "e2e039cdb5c245a698f168fadc9479aa",
            "4e3016f22aa74df99e790c8f00a0336f",
            "935227494d4b4f3b9a33135e00466557",
            "83dd25e3290f4efbb223f306ec3dea38",
            "878148339b4b49dd89387fab5cb16690",
            "7bd8cc0aa9d14e2782e71da9689ca601",
            "8bb1cadac68a45f8bc3704a82ed8953e",
            "6f380d71c29343e2a74ddf9d0439a84f",
            "3b9e9c1bb89a47d28b714eb3a1b31733",
            "32c7b94cc7674aa5995a9033cb51b91b",
            "ef6b59faf4a34862b7ba16095397a1c7",
            "b4c33941569441388589114ad20ba0a9",
            "30d38b76ddec4ee78aa62d5056ed4ad8",
            "928493c695d447bdbd75c5b8d314060e",
            "580c96eee0154a65a8f5e88a10971b3c",
            "738527ab3f094521af3f5a3354aaeef6",
            "5b24f786201d45a4b9bd5eb7a242b03d",
            "a191033894a84879afe783e5f39fa558",
            "82ab8cc68a18451f9e1ef0953976eaba",
            "f5cde7c3dc544819bce64e9f8942f7dd",
            "b072c5f021aa4389ab7fb4fedd836330",
            "2f0afd7524a047c4afc3b78cac46d42e",
            "238f9c918efe425fb99cef92d57d70cc",
            "c35a60a9fc2a4b788981a181eb58fd19",
            "33fb38542f1e409dbe9681fdbfcc7205",
            "46b5d55bfbe342669595dc0a62bb24a8"
          ]
        },
        "id": "mXBpLbDXPSkI",
        "outputId": "6e5eed6a-a8ab-4199-a802-7af33a57a131"
      },
      "outputs": [
        {
          "data": {
            "application/vnd.jupyter.widget-view+json": {
              "model_id": "978f683869ef40c7a5d16c54c268a231",
              "version_major": 2,
              "version_minor": 0
            },
            "text/plain": [
              "Downloading:   0%|          | 0.00/232k [00:00<?, ?B/s]"
            ]
          },
          "metadata": {},
          "output_type": "display_data"
        },
        {
          "data": {
            "application/vnd.jupyter.widget-view+json": {
              "model_id": "878148339b4b49dd89387fab5cb16690",
              "version_major": 2,
              "version_minor": 0
            },
            "text/plain": [
              "Downloading:   0%|          | 0.00/466k [00:00<?, ?B/s]"
            ]
          },
          "metadata": {},
          "output_type": "display_data"
        },
        {
          "data": {
            "application/vnd.jupyter.widget-view+json": {
              "model_id": "738527ab3f094521af3f5a3354aaeef6",
              "version_major": 2,
              "version_minor": 0
            },
            "text/plain": [
              "Downloading:   0%|          | 0.00/28.0 [00:00<?, ?B/s]"
            ]
          },
          "metadata": {},
          "output_type": "display_data"
        }
      ],
      "source": [
        "tokenizer = DistilBertTokenizerFast.from_pretrained('distilbert-base-uncased')"
      ]
    },
    {
      "cell_type": "code",
      "execution_count": null,
      "metadata": {
        "id": "gn3oaNvpPVBd"
      },
      "outputs": [],
      "source": [
        "train_encodings = tokenizer(train_sentences, truncation=True, padding=True)\n",
        "val_encodings = tokenizer(val_sentences, truncation=True, padding=True)"
      ]
    },
    {
      "cell_type": "code",
      "execution_count": null,
      "metadata": {
        "id": "2v94onu0PXL_"
      },
      "outputs": [],
      "source": [
        "train_dataset = tf.data.Dataset.from_tensor_slices((\n",
        "    dict(train_encodings),\n",
        "    train_labels\n",
        "))\n",
        "val_dataset = tf.data.Dataset.from_tensor_slices((\n",
        "    dict(val_encodings),\n",
        "    val_labels\n",
        "))"
      ]
    },
    {
      "cell_type": "code",
      "execution_count": null,
      "metadata": {
        "colab": {
          "base_uri": "https://localhost:8080/"
        },
        "id": "WFneeiVlPY6t",
        "outputId": "a3666016-4ea8-47bf-dbf4-b69cb716210f"
      },
      "outputs": [
        {
          "data": {
            "text/plain": [
              "<TensorSliceDataset shapes: ({input_ids: (46,), attention_mask: (46,)}, ()), types: ({input_ids: tf.int32, attention_mask: tf.int32}, tf.int32)>"
            ]
          },
          "execution_count": 40,
          "metadata": {},
          "output_type": "execute_result"
        }
      ],
      "source": [
        "train_dataset"
      ]
    },
    {
      "cell_type": "code",
      "execution_count": null,
      "metadata": {
        "colab": {
          "base_uri": "https://localhost:8080/"
        },
        "id": "evSRAdTNPa_Y",
        "outputId": "bb38c1e3-dd26-4432-9326-b79514b42326"
      },
      "outputs": [
        {
          "data": {
            "text/plain": [
              "6393"
            ]
          },
          "execution_count": 41,
          "metadata": {},
          "output_type": "execute_result"
        }
      ],
      "source": [
        "len(val_labels)"
      ]
    },
    {
      "cell_type": "code",
      "execution_count": null,
      "metadata": {
        "colab": {
          "background_save": true,
          "base_uri": "https://localhost:8080/",
          "height": 679,
          "referenced_widgets": [
            "ea1f1db218744eaa9f3225127b21cfe1",
            "3d1f0f1104fd4aefb6a7821b9f3c958e",
            "3cc682faaeba44e59e6a7d9f4b946603",
            "0aa3b3e4c4224a6ca1b299b634eb8b2c",
            "c7ed57b80ad24cc68a3bb73d7f0147bc",
            "19aab29388fb4f59952095c61c37a522",
            "0ffc0edc371242e9989071ef7ef40a3d",
            "79978a0566e8464491b0d1fb83b445fd",
            "9ad8338c07eb4b66beb0050d25b6d106",
            "ba6f33592aeb4837b38306453187152d",
            "046e0d0da66d4f04b278ddf79c3d39ee",
            "499b9167dde141e6832960fcfcb84fb7",
            "868d62fe744d41b78fed5082f8b3327d",
            "4dc59263664a4c7ca828c6989c1a3818",
            "4489288255f44224be2130af74d1f22b",
            "8ab7be23a89a4ef895fbdb56bb8ee5e2",
            "1095098ec87646d28472aa7d586fcef9",
            "7b42e47f581041a391bf456e31eef630",
            "fcbea45ea43349b99bc4a0d40150abe4",
            "589339959fa24669a7f78d68ac7b93cb",
            "854cf075c116433693082d8b5bd0e386",
            "984f035700c34bffb2d75efa59287d17"
          ]
        },
        "id": "vIk_L-84PczT",
        "outputId": "327fef04-92f7-4a87-ec2a-bc99f50a8f43"
      },
      "outputs": [
        {
          "data": {
            "application/vnd.jupyter.widget-view+json": {
              "model_id": "ea1f1db218744eaa9f3225127b21cfe1",
              "version_major": 2,
              "version_minor": 0
            },
            "text/plain": [
              "Downloading:   0%|          | 0.00/483 [00:00<?, ?B/s]"
            ]
          },
          "metadata": {},
          "output_type": "display_data"
        },
        {
          "data": {
            "application/vnd.jupyter.widget-view+json": {
              "model_id": "499b9167dde141e6832960fcfcb84fb7",
              "version_major": 2,
              "version_minor": 0
            },
            "text/plain": [
              "Downloading:   0%|          | 0.00/363M [00:00<?, ?B/s]"
            ]
          },
          "metadata": {},
          "output_type": "display_data"
        },
        {
          "name": "stderr",
          "output_type": "stream",
          "text": [
            "Some layers from the model checkpoint at distilbert-base-uncased were not used when initializing TFDistilBertForSequenceClassification: ['vocab_projector', 'vocab_transform', 'activation_13', 'vocab_layer_norm']\n",
            "- This IS expected if you are initializing TFDistilBertForSequenceClassification from the checkpoint of a model trained on another task or with another architecture (e.g. initializing a BertForSequenceClassification model from a BertForPreTraining model).\n",
            "- This IS NOT expected if you are initializing TFDistilBertForSequenceClassification from the checkpoint of a model that you expect to be exactly identical (initializing a BertForSequenceClassification model from a BertForSequenceClassification model).\n",
            "Some layers of TFDistilBertForSequenceClassification were not initialized from the model checkpoint at distilbert-base-uncased and are newly initialized: ['dropout_19', 'pre_classifier', 'classifier']\n",
            "You should probably TRAIN this model on a down-stream task to be able to use it for predictions and inference.\n"
          ]
        },
        {
          "name": "stdout",
          "output_type": "stream",
          "text": [
            "WARNING:tensorflow:The parameters `output_attentions`, `output_hidden_states` and `use_cache` cannot be updated when calling a model.They have to be set to True/False in the config object (i.e.: `config=XConfig.from_pretrained('name', output_attentions=True)`).\n",
            "WARNING:tensorflow:AutoGraph could not transform <bound method Socket.send of <zmq.Socket(zmq.PUSH) at 0x7f215b7e5910>> and will run it as-is.\n",
            "Please report this to the TensorFlow team. When filing the bug, set the verbosity to 10 (on Linux, `export AUTOGRAPH_VERBOSITY=10`) and attach the full output.\n",
            "Cause: module, class, method, function, traceback, frame, or code object was expected, got cython_function_or_method\n",
            "To silence this warning, decorate the function with @tf.autograph.experimental.do_not_convert\n"
          ]
        },
        {
          "name": "stderr",
          "output_type": "stream",
          "text": [
            "WARNING:tensorflow:AutoGraph could not transform <bound method Socket.send of <zmq.Socket(zmq.PUSH) at 0x7f215b7e5910>> and will run it as-is.\n",
            "Please report this to the TensorFlow team. When filing the bug, set the verbosity to 10 (on Linux, `export AUTOGRAPH_VERBOSITY=10`) and attach the full output.\n",
            "Cause: module, class, method, function, traceback, frame, or code object was expected, got cython_function_or_method\n",
            "To silence this warning, decorate the function with @tf.autograph.experimental.do_not_convert\n"
          ]
        },
        {
          "name": "stdout",
          "output_type": "stream",
          "text": [
            "WARNING: AutoGraph could not transform <bound method Socket.send of <zmq.Socket(zmq.PUSH) at 0x7f215b7e5910>> and will run it as-is.\n",
            "Please report this to the TensorFlow team. When filing the bug, set the verbosity to 10 (on Linux, `export AUTOGRAPH_VERBOSITY=10`) and attach the full output.\n",
            "Cause: module, class, method, function, traceback, frame, or code object was expected, got cython_function_or_method\n",
            "To silence this warning, decorate the function with @tf.autograph.experimental.do_not_convert\n"
          ]
        },
        {
          "name": "stderr",
          "output_type": "stream",
          "text": [
            "WARNING:tensorflow:The parameters `output_attentions`, `output_hidden_states` and `use_cache` cannot be updated when calling a model.They have to be set to True/False in the config object (i.e.: `config=XConfig.from_pretrained('name', output_attentions=True)`).\n"
          ]
        },
        {
          "name": "stdout",
          "output_type": "stream",
          "text": [
            "WARNING:tensorflow:AutoGraph could not transform <function wrap at 0x7f2176ad2c20> and will run it as-is.\n",
            "Cause: while/else statement not yet supported\n",
            "To silence this warning, decorate the function with @tf.autograph.experimental.do_not_convert\n"
          ]
        },
        {
          "name": "stderr",
          "output_type": "stream",
          "text": [
            "WARNING:tensorflow:AutoGraph could not transform <function wrap at 0x7f2176ad2c20> and will run it as-is.\n",
            "Cause: while/else statement not yet supported\n",
            "To silence this warning, decorate the function with @tf.autograph.experimental.do_not_convert\n"
          ]
        },
        {
          "name": "stdout",
          "output_type": "stream",
          "text": [
            "WARNING:tensorflow:The parameter `return_dict` cannot be set in graph mode and will always be set to `True`.\n",
            "WARNING: AutoGraph could not transform <function wrap at 0x7f2176ad2c20> and will run it as-is.\n",
            "Cause: while/else statement not yet supported\n",
            "To silence this warning, decorate the function with @tf.autograph.experimental.do_not_convert\n"
          ]
        },
        {
          "name": "stderr",
          "output_type": "stream",
          "text": [
            "WARNING:tensorflow:The parameter `return_dict` cannot be set in graph mode and will always be set to `True`.\n"
          ]
        },
        {
          "name": "stdout",
          "output_type": "stream",
          "text": [
            "WARNING:tensorflow:The parameters `output_attentions`, `output_hidden_states` and `use_cache` cannot be updated when calling a model.They have to be set to True/False in the config object (i.e.: `config=XConfig.from_pretrained('name', output_attentions=True)`).\n"
          ]
        },
        {
          "name": "stderr",
          "output_type": "stream",
          "text": [
            "WARNING:tensorflow:The parameters `output_attentions`, `output_hidden_states` and `use_cache` cannot be updated when calling a model.They have to be set to True/False in the config object (i.e.: `config=XConfig.from_pretrained('name', output_attentions=True)`).\n"
          ]
        },
        {
          "name": "stdout",
          "output_type": "stream",
          "text": [
            "WARNING:tensorflow:The parameter `return_dict` cannot be set in graph mode and will always be set to `True`.\n"
          ]
        },
        {
          "name": "stderr",
          "output_type": "stream",
          "text": [
            "WARNING:tensorflow:The parameter `return_dict` cannot be set in graph mode and will always be set to `True`.\n"
          ]
        }
      ],
      "source": [
        "training_args = TFTrainingArguments(\n",
        "    output_dir='./results',          # output directory\n",
        "    num_train_epochs=3,              # total number of training epochs\n",
        "    per_device_train_batch_size=16,  # batch size per device during training\n",
        "    per_device_eval_batch_size=64,   # batch size for evaluation\n",
        "    warmup_steps=500,                # number of warmup steps for learning rate scheduler\n",
        "    weight_decay=0.01,               # strength of weight decay\n",
        "    logging_dir='./logs',            # directory for storing logs\n",
        "    logging_steps=10,\n",
        ")\n",
        "\n",
        "with training_args.strategy.scope():\n",
        "    model_6 = TFDistilBertForSequenceClassification.from_pretrained(\"distilbert-base-uncased\")\n",
        "\n",
        "trainer = TFTrainer(\n",
        "    model=model_6,                       # the instantiated 🤗 Transformers model to be trained\n",
        "    args=training_args,                  # training arguments, defined above\n",
        "    train_dataset=train_dataset,         # training dataset\n",
        "    eval_dataset=val_dataset             # evaluation dataset\n",
        ")\n",
        "\n",
        "trainer.train()"
      ]
    },
    {
      "cell_type": "code",
      "execution_count": null,
      "metadata": {
        "colab": {
          "base_uri": "https://localhost:8080/"
        },
        "id": "Q3uJrV27Pehi",
        "outputId": "07ae73dd-3518-431c-a124-fed782059e4f"
      },
      "outputs": [
        {
          "name": "stdout",
          "output_type": "stream",
          "text": [
            "WARNING:tensorflow:The parameters `output_attentions`, `output_hidden_states` and `use_cache` cannot be updated when calling a model.They have to be set to True/False in the config object (i.e.: `config=XConfig.from_pretrained('name', output_attentions=True)`).\n"
          ]
        },
        {
          "name": "stderr",
          "output_type": "stream",
          "text": [
            "WARNING:tensorflow:The parameters `output_attentions`, `output_hidden_states` and `use_cache` cannot be updated when calling a model.They have to be set to True/False in the config object (i.e.: `config=XConfig.from_pretrained('name', output_attentions=True)`).\n"
          ]
        },
        {
          "name": "stdout",
          "output_type": "stream",
          "text": [
            "WARNING:tensorflow:The parameter `return_dict` cannot be set in graph mode and will always be set to `True`.\n"
          ]
        },
        {
          "name": "stderr",
          "output_type": "stream",
          "text": [
            "WARNING:tensorflow:The parameter `return_dict` cannot be set in graph mode and will always be set to `True`.\n"
          ]
        },
        {
          "data": {
            "text/plain": [
              "{'eval_loss': 0.13659814834594727}"
            ]
          },
          "execution_count": 43,
          "metadata": {},
          "output_type": "execute_result"
        }
      ],
      "source": [
        "score_6 = trainer.evaluate(val_dataset)\n",
        "score_6"
      ]
    },
    {
      "cell_type": "code",
      "execution_count": null,
      "metadata": {
        "colab": {
          "base_uri": "https://localhost:8080/"
        },
        "id": "RpvTVd8XPg99",
        "outputId": "e58e1cac-4732-40af-ed63-86e5180a77e0"
      },
      "outputs": [
        {
          "name": "stdout",
          "output_type": "stream",
          "text": [
            "WARNING:tensorflow:The parameters `output_attentions`, `output_hidden_states` and `use_cache` cannot be updated when calling a model.They have to be set to True/False in the config object (i.e.: `config=XConfig.from_pretrained('name', output_attentions=True)`).\n"
          ]
        },
        {
          "name": "stderr",
          "output_type": "stream",
          "text": [
            "WARNING:tensorflow:The parameters `output_attentions`, `output_hidden_states` and `use_cache` cannot be updated when calling a model.They have to be set to True/False in the config object (i.e.: `config=XConfig.from_pretrained('name', output_attentions=True)`).\n"
          ]
        },
        {
          "name": "stdout",
          "output_type": "stream",
          "text": [
            "WARNING:tensorflow:The parameter `return_dict` cannot be set in graph mode and will always be set to `True`.\n"
          ]
        },
        {
          "name": "stderr",
          "output_type": "stream",
          "text": [
            "WARNING:tensorflow:The parameter `return_dict` cannot be set in graph mode and will always be set to `True`.\n"
          ]
        },
        {
          "data": {
            "text/plain": [
              "PredictionOutput(predictions=array([[ 3.5337665, -4.4153895],\n",
              "       [ 3.551695 , -4.464211 ],\n",
              "       [ 3.5490026, -4.427049 ],\n",
              "       ...,\n",
              "       [ 3.606403 , -4.5114074],\n",
              "       [ 3.576659 , -4.4398513],\n",
              "       [ 3.6108634, -4.5201077]], dtype=float32), label_ids=array([0, 0, 0, ..., 0, 0, 0], dtype=int32), metrics={'eval_loss': 0.1356007480621338})"
            ]
          },
          "execution_count": 44,
          "metadata": {},
          "output_type": "execute_result"
        }
      ],
      "source": [
        "trainer.predict(val_dataset)"
      ]
    },
    {
      "cell_type": "code",
      "execution_count": null,
      "metadata": {
        "id": "2mJXPicNPjEb"
      },
      "outputs": [],
      "source": [
        "y6_predict_proba=trainer.predict(val_dataset)[0] \n",
        "\n",
        "y6_predict=np.argmax(y6_predict_proba,axis=-1)"
      ]
    },
    {
      "cell_type": "code",
      "execution_count": null,
      "metadata": {
        "colab": {
          "base_uri": "https://localhost:8080/"
        },
        "id": "CVkx8hUwPksp",
        "outputId": "258f63e3-b635-4b5b-aace-4bc89b1a5fa9"
      },
      "outputs": [
        {
          "data": {
            "text/plain": [
              "{'accuracy': 96.57437822618489,\n",
              " 'f1': 0.9647849014040064,\n",
              " 'precision': 0.9642621562919613,\n",
              " 'recall': 0.9657437822618489}"
            ]
          },
          "execution_count": 46,
          "metadata": {},
          "output_type": "execute_result"
        }
      ],
      "source": [
        "# Get model_6 results \n",
        "model_6_results = calculate_results(y_true=val_labels,\n",
        "                                    y_pred= y6_predict)\n",
        "model_6_results"
      ]
    },
    {
      "cell_type": "code",
      "execution_count": null,
      "metadata": {
        "colab": {
          "base_uri": "https://localhost:8080/",
          "height": 80
        },
        "id": "iFdbIWKsPmQU",
        "outputId": "f71d79b4-d70b-4e41-e603-c96fa6145989"
      },
      "outputs": [
        {
          "data": {
            "text/html": [
              "<div>\n",
              "<style scoped>\n",
              "    .dataframe tbody tr th:only-of-type {\n",
              "        vertical-align: middle;\n",
              "    }\n",
              "\n",
              "    .dataframe tbody tr th {\n",
              "        vertical-align: top;\n",
              "    }\n",
              "\n",
              "    .dataframe thead th {\n",
              "        text-align: right;\n",
              "    }\n",
              "</style>\n",
              "<table border=\"1\" class=\"dataframe\">\n",
              "  <thead>\n",
              "    <tr style=\"text-align: right;\">\n",
              "      <th></th>\n",
              "      <th>accuracy</th>\n",
              "      <th>f1</th>\n",
              "      <th>precision</th>\n",
              "      <th>recall</th>\n",
              "    </tr>\n",
              "  </thead>\n",
              "  <tbody>\n",
              "    <tr>\n",
              "      <th>model_6 (DistilBertTokenizerFast)</th>\n",
              "      <td>96.574378</td>\n",
              "      <td>0.964785</td>\n",
              "      <td>0.964262</td>\n",
              "      <td>0.965744</td>\n",
              "    </tr>\n",
              "  </tbody>\n",
              "</table>\n",
              "</div>"
            ],
            "text/plain": [
              "                                    accuracy        f1  precision    recall\n",
              "model_6 (DistilBertTokenizerFast)  96.574378  0.964785   0.964262  0.965744"
            ]
          },
          "execution_count": 47,
          "metadata": {},
          "output_type": "execute_result"
        }
      ],
      "source": [
        "model_6_results_df=pd.DataFrame(data={'model_6 (DistilBertTokenizerFast)': model_6_results}).transpose()\n",
        "model_6_results_df"
      ]
    },
    {
      "cell_type": "code",
      "execution_count": null,
      "metadata": {
        "colab": {
          "base_uri": "https://localhost:8080/",
          "height": 441
        },
        "id": "qEcgRWqzPno5",
        "outputId": "d66e5c1c-a875-4e7d-97e7-7ca425597082"
      },
      "outputs": [
        {
          "data": {
            "image/png": "[encoded data removed]",
            "text/plain": [
              "<Figure size 720x504 with 1 Axes>"
            ]
          },
          "metadata": {},
          "output_type": "display_data"
        }
      ],
      "source": [
        "# Reduce the accuracy to the same scale as other metrics \n",
        "model_6_results_df[\"accuracy\"]= model_6_results_df[\"accuracy\"]/100\n",
        "model_6_results_df.plot(kind=\"bar\", figsize=(10, 7))\n",
        "plt.xticks(rotation='horizontal');"
      ]
    },
    {
      "cell_type": "code",
      "execution_count": null,
      "metadata": {
        "colab": {
          "base_uri": "https://localhost:8080/"
        },
        "id": "2dJUa3hfPpW4",
        "outputId": "67f9e42b-4779-4896-aff2-f3b4105c6adf"
      },
      "outputs": [
        {
          "data": {
            "text/plain": [
              "(array([0, 1]), array([5928,  465]))"
            ]
          },
          "execution_count": 49,
          "metadata": {},
          "output_type": "execute_result"
        }
      ],
      "source": [
        "np.unique(val_labels,return_counts=True)"
      ]
    },
    {
      "cell_type": "code",
      "execution_count": null,
      "metadata": {
        "colab": {
          "base_uri": "https://localhost:8080/"
        },
        "id": "nCwCxsDCPquh",
        "outputId": "060496f0-d188-4719-a73e-93bf97e19ac5"
      },
      "outputs": [
        {
          "data": {
            "text/plain": [
              "array([[5845,   83],\n",
              "       [ 136,  329]])"
            ]
          },
          "execution_count": 50,
          "metadata": {},
          "output_type": "execute_result"
        }
      ],
      "source": [
        "cm_6 = confusion_matrix(val_labels, y6_predict)\n",
        "cm_6"
      ]
    },
    {
      "cell_type": "code",
      "execution_count": null,
      "metadata": {
        "colab": {
          "base_uri": "https://localhost:8080/",
          "height": 427
        },
        "id": "5TCovUa4PsJ3",
        "outputId": "c86038f7-0d48-470d-e8ea-f43850ccbe29"
      },
      "outputs": [
        {
          "data": {
            "image/png": "[encoded data removed]",
            "text/plain": [
              "<Figure size 432x432 with 1 Axes>"
            ]
          },
          "metadata": {},
          "output_type": "display_data"
        }
      ],
      "source": [
        "# Plot the confusion matrix for model_6\n",
        "plt.figure(figsize=(6,6))\n",
        "sns.heatmap(confusion_matrix(val_labels, y6_predict),\n",
        "                  annot=True,\n",
        "                  cbar=False,\n",
        "                  fmt='d',\n",
        "                  cmap='Blues'\n",
        "                     )\n",
        "plt.title('model_6 (DistilBertTokenizerFast)')\n",
        "plt.xlabel('True label')\n",
        "plt.ylabel('Predicted label'); "
      ]
    },
    {
      "cell_type": "code",
      "execution_count": null,
      "metadata": {
        "colab": {
          "base_uri": "https://localhost:8080/",
          "height": 266
        },
        "id": "0UBEgFRwg-a2",
        "outputId": "3d44eb32-e86b-47ef-8b0f-4489f35ccf02"
      },
      "outputs": [
        {
          "data": {
            "text/html": [
              "<div>\n",
              "<style scoped>\n",
              "    .dataframe tbody tr th:only-of-type {\n",
              "        vertical-align: middle;\n",
              "    }\n",
              "\n",
              "    .dataframe tbody tr th {\n",
              "        vertical-align: top;\n",
              "    }\n",
              "\n",
              "    .dataframe thead th {\n",
              "        text-align: right;\n",
              "    }\n",
              "</style>\n",
              "<table border=\"1\" class=\"dataframe\">\n",
              "  <thead>\n",
              "    <tr style=\"text-align: right;\">\n",
              "      <th></th>\n",
              "      <th>accuracy</th>\n",
              "      <th>precision</th>\n",
              "      <th>recall</th>\n",
              "      <th>f1</th>\n",
              "    </tr>\n",
              "  </thead>\n",
              "  <tbody>\n",
              "    <tr>\n",
              "      <th>model_0 (XGBClassifier)</th>\n",
              "      <td>0.941655</td>\n",
              "      <td>0.941692</td>\n",
              "      <td>0.941655</td>\n",
              "      <td>0.924009</td>\n",
              "    </tr>\n",
              "    <tr>\n",
              "      <th>model_1 (MultinomialNB)</th>\n",
              "      <td>0.935242</td>\n",
              "      <td>0.939469</td>\n",
              "      <td>0.935242</td>\n",
              "      <td>0.910356</td>\n",
              "    </tr>\n",
              "    <tr>\n",
              "      <th>model_2 (RandomForestClassifier)</th>\n",
              "      <td>0.961520</td>\n",
              "      <td>0.960529</td>\n",
              "      <td>0.961520</td>\n",
              "      <td>0.956178</td>\n",
              "    </tr>\n",
              "    <tr>\n",
              "      <th>model_3 (LogisticRegression)</th>\n",
              "      <td>0.948068</td>\n",
              "      <td>0.946604</td>\n",
              "      <td>0.948068</td>\n",
              "      <td>0.935988</td>\n",
              "    </tr>\n",
              "    <tr>\n",
              "      <th>model_4 (SGDClassifier)</th>\n",
              "      <td>0.950727</td>\n",
              "      <td>0.950779</td>\n",
              "      <td>0.950727</td>\n",
              "      <td>0.939659</td>\n",
              "    </tr>\n",
              "    <tr>\n",
              "      <th>model_5 (TFhub_USE_Encoder)</th>\n",
              "      <td>0.961208</td>\n",
              "      <td>0.958270</td>\n",
              "      <td>0.961208</td>\n",
              "      <td>0.958372</td>\n",
              "    </tr>\n",
              "    <tr>\n",
              "      <th>model_6 (DistilBertTokenizerFast)</th>\n",
              "      <td>0.965744</td>\n",
              "      <td>0.964262</td>\n",
              "      <td>0.965744</td>\n",
              "      <td>0.964785</td>\n",
              "    </tr>\n",
              "  </tbody>\n",
              "</table>\n",
              "</div>"
            ],
            "text/plain": [
              "                                   accuracy  precision    recall        f1\n",
              "model_0 (XGBClassifier)            0.941655   0.941692  0.941655  0.924009\n",
              "model_1 (MultinomialNB)            0.935242   0.939469  0.935242  0.910356\n",
              "model_2 (RandomForestClassifier)   0.961520   0.960529  0.961520  0.956178\n",
              "model_3 (LogisticRegression)       0.948068   0.946604  0.948068  0.935988\n",
              "model_4 (SGDClassifier)            0.950727   0.950779  0.950727  0.939659\n",
              "model_5 (TFhub_USE_Encoder)        0.961208   0.958270  0.961208  0.958372\n",
              "model_6 (DistilBertTokenizerFast)  0.965744   0.964262  0.965744  0.964785"
            ]
          },
          "execution_count": 56,
          "metadata": {},
          "output_type": "execute_result"
        }
      ],
      "source": [
        "pd.concat([models_results_df, model_6_results_df], axis = 0)"
      ]
    },
    {
      "cell_type": "code",
      "execution_count": null,
      "metadata": {
        "id": "Ly46fHQuPuRC"
      },
      "outputs": [],
      "source": [
        "# Save the best model\n",
        "trainer.save_model(\"distilbert_model\")"
      ]
    }
  ],
  "metadata": {
    "colab": {
      "collapsed_sections": [],
      "name": "Week 12 Deliverables.ipynb",
      "provenance": []
    },
    "kernelspec": {
      "display_name": "Python 3",
      "name": "python3"
    },
    "language_info": {
      "name": "python"
    },
    "widgets": {
      "application/vnd.jupyter.widget-state+json": {
        "046e0d0da66d4f04b278ddf79c3d39ee": {
          "model_module": "@jupyter-widgets/controls",
          "model_module_version": "1.5.0",
          "model_name": "DescriptionStyleModel",
          "state": {
            "_model_module": "@jupyter-widgets/controls",
            "_model_module_version": "1.5.0",
            "_model_name": "DescriptionStyleModel",
            "_view_count": null,
            "_view_module": "@jupyter-widgets/base",
            "_view_module_version": "1.2.0",
            "_view_name": "StyleView",
            "description_width": ""
          }
        },
        "0aa3b3e4c4224a6ca1b299b634eb8b2c": {
          "model_module": "@jupyter-widgets/controls",
          "model_module_version": "1.5.0",
          "model_name": "HTMLModel",
          "state": {
            "_dom_classes": [],
            "_model_module": "@jupyter-widgets/controls",
            "_model_module_version": "1.5.0",
            "_model_name": "HTMLModel",
            "_view_count": null,
            "_view_module": "@jupyter-widgets/controls",
            "_view_module_version": "1.5.0",
            "_view_name": "HTMLView",
            "description": "",
            "description_tooltip": null,
            "layout": "IPY_MODEL_ba6f33592aeb4837b38306453187152d",
            "placeholder": "​",
            "style": "IPY_MODEL_046e0d0da66d4f04b278ddf79c3d39ee",
            "value": " 483/483 [00:00&lt;00:00, 13.8kB/s]"
          }
        },
        "0ffc0edc371242e9989071ef7ef40a3d": {
          "model_module": "@jupyter-widgets/controls",
          "model_module_version": "1.5.0",
          "model_name": "DescriptionStyleModel",
          "state": {
            "_model_module": "@jupyter-widgets/controls",
            "_model_module_version": "1.5.0",
            "_model_name": "DescriptionStyleModel",
            "_view_count": null,
            "_view_module": "@jupyter-widgets/base",
            "_view_module_version": "1.2.0",
            "_view_name": "StyleView",
            "description_width": ""
          }
        },
        "1095098ec87646d28472aa7d586fcef9": {
          "model_module": "@jupyter-widgets/base",
          "model_module_version": "1.2.0",
          "model_name": "LayoutModel",
          "state": {
            "_model_module": "@jupyter-widgets/base",
            "_model_module_version": "1.2.0",
            "_model_name": "LayoutModel",
            "_view_count": null,
            "_view_module": "@jupyter-widgets/base",
            "_view_module_version": "1.2.0",
            "_view_name": "LayoutView",
            "align_content": null,
            "align_items": null,
            "align_self": null,
            "border": null,
            "bottom": null,
            "display": null,
            "flex": null,
            "flex_flow": null,
            "grid_area": null,
            "grid_auto_columns": null,
            "grid_auto_flow": null,
            "grid_auto_rows": null,
            "grid_column": null,
            "grid_gap": null,
            "grid_row": null,
            "grid_template_areas": null,
            "grid_template_columns": null,
            "grid_template_rows": null,
            "height": null,
            "justify_content": null,
            "justify_items": null,
            "left": null,
            "margin": null,
            "max_height": null,
            "max_width": null,
            "min_height": null,
            "min_width": null,
            "object_fit": null,
            "object_position": null,
            "order": null,
            "overflow": null,
            "overflow_x": null,
            "overflow_y": null,
            "padding": null,
            "right": null,
            "top": null,
            "visibility": null,
            "width": null
          }
        },
        "1246099ad4864c1fb23f44eefa648f84": {
          "model_module": "@jupyter-widgets/controls",
          "model_module_version": "1.5.0",
          "model_name": "HTMLModel",
          "state": {
            "_dom_classes": [],
            "_model_module": "@jupyter-widgets/controls",
            "_model_module_version": "1.5.0",
            "_model_name": "HTMLModel",
            "_view_count": null,
            "_view_module": "@jupyter-widgets/controls",
            "_view_module_version": "1.5.0",
            "_view_name": "HTMLView",
            "description": "",
            "description_tooltip": null,
            "layout": "IPY_MODEL_935227494d4b4f3b9a33135e00466557",
            "placeholder": "​",
            "style": "IPY_MODEL_83dd25e3290f4efbb223f306ec3dea38",
            "value": " 232k/232k [00:00&lt;00:00, 1.04MB/s]"
          }
        },
        "19aab29388fb4f59952095c61c37a522": {
          "model_module": "@jupyter-widgets/base",
          "model_module_version": "1.2.0",
          "model_name": "LayoutModel",
          "state": {
            "_model_module": "@jupyter-widgets/base",
            "_model_module_version": "1.2.0",
            "_model_name": "LayoutModel",
            "_view_count": null,
            "_view_module": "@jupyter-widgets/base",
            "_view_module_version": "1.2.0",
            "_view_name": "LayoutView",
            "align_content": null,
            "align_items": null,
            "align_self": null,
            "border": null,
            "bottom": null,
            "display": null,
            "flex": null,
            "flex_flow": null,
            "grid_area": null,
            "grid_auto_columns": null,
            "grid_auto_flow": null,
            "grid_auto_rows": null,
            "grid_column": null,
            "grid_gap": null,
            "grid_row": null,
            "grid_template_areas": null,
            "grid_template_columns": null,
            "grid_template_rows": null,
            "height": null,
            "justify_content": null,
            "justify_items": null,
            "left": null,
            "margin": null,
            "max_height": null,
            "max_width": null,
            "min_height": null,
            "min_width": null,
            "object_fit": null,
            "object_position": null,
            "order": null,
            "overflow": null,
            "overflow_x": null,
            "overflow_y": null,
            "padding": null,
            "right": null,
            "top": null,
            "visibility": null,
            "width": null
          }
        },
        "238f9c918efe425fb99cef92d57d70cc": {
          "model_module": "@jupyter-widgets/base",
          "model_module_version": "1.2.0",
          "model_name": "LayoutModel",
          "state": {
            "_model_module": "@jupyter-widgets/base",
            "_model_module_version": "1.2.0",
            "_model_name": "LayoutModel",
            "_view_count": null,
            "_view_module": "@jupyter-widgets/base",
            "_view_module_version": "1.2.0",
            "_view_name": "LayoutView",
            "align_content": null,
            "align_items": null,
            "align_self": null,
            "border": null,
            "bottom": null,
            "display": null,
            "flex": null,
            "flex_flow": null,
            "grid_area": null,
            "grid_auto_columns": null,
            "grid_auto_flow": null,
            "grid_auto_rows": null,
            "grid_column": null,
            "grid_gap": null,
            "grid_row": null,
            "grid_template_areas": null,
            "grid_template_columns": null,
            "grid_template_rows": null,
            "height": null,
            "justify_content": null,
            "justify_items": null,
            "left": null,
            "margin": null,
            "max_height": null,
            "max_width": null,
            "min_height": null,
            "min_width": null,
            "object_fit": null,
            "object_position": null,
            "order": null,
            "overflow": null,
            "overflow_x": null,
            "overflow_y": null,
            "padding": null,
            "right": null,
            "top": null,
            "visibility": null,
            "width": null
          }
        },
        "2f0afd7524a047c4afc3b78cac46d42e": {
          "model_module": "@jupyter-widgets/controls",
          "model_module_version": "1.5.0",
          "model_name": "DescriptionStyleModel",
          "state": {
            "_model_module": "@jupyter-widgets/controls",
            "_model_module_version": "1.5.0",
            "_model_name": "DescriptionStyleModel",
            "_view_count": null,
            "_view_module": "@jupyter-widgets/base",
            "_view_module_version": "1.2.0",
            "_view_name": "StyleView",
            "description_width": ""
          }
        },
        "30d38b76ddec4ee78aa62d5056ed4ad8": {
          "model_module": "@jupyter-widgets/controls",
          "model_module_version": "1.5.0",
          "model_name": "ProgressStyleModel",
          "state": {
            "_model_module": "@jupyter-widgets/controls",
            "_model_module_version": "1.5.0",
            "_model_name": "ProgressStyleModel",
            "_view_count": null,
            "_view_module": "@jupyter-widgets/base",
            "_view_module_version": "1.2.0",
            "_view_name": "StyleView",
            "bar_color": null,
            "description_width": ""
          }
        },
        "32c7b94cc7674aa5995a9033cb51b91b": {
          "model_module": "@jupyter-widgets/base",
          "model_module_version": "1.2.0",
          "model_name": "LayoutModel",
          "state": {
            "_model_module": "@jupyter-widgets/base",
            "_model_module_version": "1.2.0",
            "_model_name": "LayoutModel",
            "_view_count": null,
            "_view_module": "@jupyter-widgets/base",
            "_view_module_version": "1.2.0",
            "_view_name": "LayoutView",
            "align_content": null,
            "align_items": null,
            "align_self": null,
            "border": null,
            "bottom": null,
            "display": null,
            "flex": null,
            "flex_flow": null,
            "grid_area": null,
            "grid_auto_columns": null,
            "grid_auto_flow": null,
            "grid_auto_rows": null,
            "grid_column": null,
            "grid_gap": null,
            "grid_row": null,
            "grid_template_areas": null,
            "grid_template_columns": null,
            "grid_template_rows": null,
            "height": null,
            "justify_content": null,
            "justify_items": null,
            "left": null,
            "margin": null,
            "max_height": null,
            "max_width": null,
            "min_height": null,
            "min_width": null,
            "object_fit": null,
            "object_position": null,
            "order": null,
            "overflow": null,
            "overflow_x": null,
            "overflow_y": null,
            "padding": null,
            "right": null,
            "top": null,
            "visibility": null,
            "width": null
          }
        },
        "33fb38542f1e409dbe9681fdbfcc7205": {
          "model_module": "@jupyter-widgets/base",
          "model_module_version": "1.2.0",
          "model_name": "LayoutModel",
          "state": {
            "_model_module": "@jupyter-widgets/base",
            "_model_module_version": "1.2.0",
            "_model_name": "LayoutModel",
            "_view_count": null,
            "_view_module": "@jupyter-widgets/base",
            "_view_module_version": "1.2.0",
            "_view_name": "LayoutView",
            "align_content": null,
            "align_items": null,
            "align_self": null,
            "border": null,
            "bottom": null,
            "display": null,
            "flex": null,
            "flex_flow": null,
            "grid_area": null,
            "grid_auto_columns": null,
            "grid_auto_flow": null,
            "grid_auto_rows": null,
            "grid_column": null,
            "grid_gap": null,
            "grid_row": null,
            "grid_template_areas": null,
            "grid_template_columns": null,
            "grid_template_rows": null,
            "height": null,
            "justify_content": null,
            "justify_items": null,
            "left": null,
            "margin": null,
            "max_height": null,
            "max_width": null,
            "min_height": null,
            "min_width": null,
            "object_fit": null,
            "object_position": null,
            "order": null,
            "overflow": null,
            "overflow_x": null,
            "overflow_y": null,
            "padding": null,
            "right": null,
            "top": null,
            "visibility": null,
            "width": null
          }
        },
        "39b6872b8ebd4f0a95f101e294f60124": {
          "model_module": "@jupyter-widgets/base",
          "model_module_version": "1.2.0",
          "model_name": "LayoutModel",
          "state": {
            "_model_module": "@jupyter-widgets/base",
            "_model_module_version": "1.2.0",
            "_model_name": "LayoutModel",
            "_view_count": null,
            "_view_module": "@jupyter-widgets/base",
            "_view_module_version": "1.2.0",
            "_view_name": "LayoutView",
            "align_content": null,
            "align_items": null,
            "align_self": null,
            "border": null,
            "bottom": null,
            "display": null,
            "flex": null,
            "flex_flow": null,
            "grid_area": null,
            "grid_auto_columns": null,
            "grid_auto_flow": null,
            "grid_auto_rows": null,
            "grid_column": null,
            "grid_gap": null,
            "grid_row": null,
            "grid_template_areas": null,
            "grid_template_columns": null,
            "grid_template_rows": null,
            "height": null,
            "justify_content": null,
            "justify_items": null,
            "left": null,
            "margin": null,
            "max_height": null,
            "max_width": null,
            "min_height": null,
            "min_width": null,
            "object_fit": null,
            "object_position": null,
            "order": null,
            "overflow": null,
            "overflow_x": null,
            "overflow_y": null,
            "padding": null,
            "right": null,
            "top": null,
            "visibility": null,
            "width": null
          }
        },
        "3b9e9c1bb89a47d28b714eb3a1b31733": {
          "model_module": "@jupyter-widgets/base",
          "model_module_version": "1.2.0",
          "model_name": "LayoutModel",
          "state": {
            "_model_module": "@jupyter-widgets/base",
            "_model_module_version": "1.2.0",
            "_model_name": "LayoutModel",
            "_view_count": null,
            "_view_module": "@jupyter-widgets/base",
            "_view_module_version": "1.2.0",
            "_view_name": "LayoutView",
            "align_content": null,
            "align_items": null,
            "align_self": null,
            "border": null,
            "bottom": null,
            "display": null,
            "flex": null,
            "flex_flow": null,
            "grid_area": null,
            "grid_auto_columns": null,
            "grid_auto_flow": null,
            "grid_auto_rows": null,
            "grid_column": null,
            "grid_gap": null,
            "grid_row": null,
            "grid_template_areas": null,
            "grid_template_columns": null,
            "grid_template_rows": null,
            "height": null,
            "justify_content": null,
            "justify_items": null,
            "left": null,
            "margin": null,
            "max_height": null,
            "max_width": null,
            "min_height": null,
            "min_width": null,
            "object_fit": null,
            "object_position": null,
            "order": null,
            "overflow": null,
            "overflow_x": null,
            "overflow_y": null,
            "padding": null,
            "right": null,
            "top": null,
            "visibility": null,
            "width": null
          }
        },
        "3cc682faaeba44e59e6a7d9f4b946603": {
          "model_module": "@jupyter-widgets/controls",
          "model_module_version": "1.5.0",
          "model_name": "FloatProgressModel",
          "state": {
            "_dom_classes": [],
            "_model_module": "@jupyter-widgets/controls",
            "_model_module_version": "1.5.0",
            "_model_name": "FloatProgressModel",
            "_view_count": null,
            "_view_module": "@jupyter-widgets/controls",
            "_view_module_version": "1.5.0",
            "_view_name": "ProgressView",
            "bar_style": "success",
            "description": "",
            "description_tooltip": null,
            "layout": "IPY_MODEL_79978a0566e8464491b0d1fb83b445fd",
            "max": 483,
            "min": 0,
            "orientation": "horizontal",
            "style": "IPY_MODEL_9ad8338c07eb4b66beb0050d25b6d106",
            "value": 483
          }
        },
        "3d1f0f1104fd4aefb6a7821b9f3c958e": {
          "model_module": "@jupyter-widgets/controls",
          "model_module_version": "1.5.0",
          "model_name": "HTMLModel",
          "state": {
            "_dom_classes": [],
            "_model_module": "@jupyter-widgets/controls",
            "_model_module_version": "1.5.0",
            "_model_name": "HTMLModel",
            "_view_count": null,
            "_view_module": "@jupyter-widgets/controls",
            "_view_module_version": "1.5.0",
            "_view_name": "HTMLView",
            "description": "",
            "description_tooltip": null,
            "layout": "IPY_MODEL_19aab29388fb4f59952095c61c37a522",
            "placeholder": "​",
            "style": "IPY_MODEL_0ffc0edc371242e9989071ef7ef40a3d",
            "value": "Downloading: 100%"
          }
        },
        "4489288255f44224be2130af74d1f22b": {
          "model_module": "@jupyter-widgets/controls",
          "model_module_version": "1.5.0",
          "model_name": "HTMLModel",
          "state": {
            "_dom_classes": [],
            "_model_module": "@jupyter-widgets/controls",
            "_model_module_version": "1.5.0",
            "_model_name": "HTMLModel",
            "_view_count": null,
            "_view_module": "@jupyter-widgets/controls",
            "_view_module_version": "1.5.0",
            "_view_name": "HTMLView",
            "description": "",
            "description_tooltip": null,
            "layout": "IPY_MODEL_854cf075c116433693082d8b5bd0e386",
            "placeholder": "​",
            "style": "IPY_MODEL_984f035700c34bffb2d75efa59287d17",
            "value": " 363M/363M [00:09&lt;00:00, 42.8MB/s]"
          }
        },
        "46b5d55bfbe342669595dc0a62bb24a8": {
          "model_module": "@jupyter-widgets/controls",
          "model_module_version": "1.5.0",
          "model_name": "DescriptionStyleModel",
          "state": {
            "_model_module": "@jupyter-widgets/controls",
            "_model_module_version": "1.5.0",
            "_model_name": "DescriptionStyleModel",
            "_view_count": null,
            "_view_module": "@jupyter-widgets/base",
            "_view_module_version": "1.2.0",
            "_view_name": "StyleView",
            "description_width": ""
          }
        },
        "499b9167dde141e6832960fcfcb84fb7": {
          "model_module": "@jupyter-widgets/controls",
          "model_module_version": "1.5.0",
          "model_name": "HBoxModel",
          "state": {
            "_dom_classes": [],
            "_model_module": "@jupyter-widgets/controls",
            "_model_module_version": "1.5.0",
            "_model_name": "HBoxModel",
            "_view_count": null,
            "_view_module": "@jupyter-widgets/controls",
            "_view_module_version": "1.5.0",
            "_view_name": "HBoxView",
            "box_style": "",
            "children": [
              "IPY_MODEL_868d62fe744d41b78fed5082f8b3327d",
              "IPY_MODEL_4dc59263664a4c7ca828c6989c1a3818",
              "IPY_MODEL_4489288255f44224be2130af74d1f22b"
            ],
            "layout": "IPY_MODEL_8ab7be23a89a4ef895fbdb56bb8ee5e2"
          }
        },
        "4dc59263664a4c7ca828c6989c1a3818": {
          "model_module": "@jupyter-widgets/controls",
          "model_module_version": "1.5.0",
          "model_name": "FloatProgressModel",
          "state": {
            "_dom_classes": [],
            "_model_module": "@jupyter-widgets/controls",
            "_model_module_version": "1.5.0",
            "_model_name": "FloatProgressModel",
            "_view_count": null,
            "_view_module": "@jupyter-widgets/controls",
            "_view_module_version": "1.5.0",
            "_view_name": "ProgressView",
            "bar_style": "success",
            "description": "",
            "description_tooltip": null,
            "layout": "IPY_MODEL_fcbea45ea43349b99bc4a0d40150abe4",
            "max": 363423424,
            "min": 0,
            "orientation": "horizontal",
            "style": "IPY_MODEL_589339959fa24669a7f78d68ac7b93cb",
            "value": 363423424
          }
        },
        "4e3016f22aa74df99e790c8f00a0336f": {
          "model_module": "@jupyter-widgets/controls",
          "model_module_version": "1.5.0",
          "model_name": "ProgressStyleModel",
          "state": {
            "_model_module": "@jupyter-widgets/controls",
            "_model_module_version": "1.5.0",
            "_model_name": "ProgressStyleModel",
            "_view_count": null,
            "_view_module": "@jupyter-widgets/base",
            "_view_module_version": "1.2.0",
            "_view_name": "StyleView",
            "bar_color": null,
            "description_width": ""
          }
        },
        "580c96eee0154a65a8f5e88a10971b3c": {
          "model_module": "@jupyter-widgets/controls",
          "model_module_version": "1.5.0",
          "model_name": "DescriptionStyleModel",
          "state": {
            "_model_module": "@jupyter-widgets/controls",
            "_model_module_version": "1.5.0",
            "_model_name": "DescriptionStyleModel",
            "_view_count": null,
            "_view_module": "@jupyter-widgets/base",
            "_view_module_version": "1.2.0",
            "_view_name": "StyleView",
            "description_width": ""
          }
        },
        "589339959fa24669a7f78d68ac7b93cb": {
          "model_module": "@jupyter-widgets/controls",
          "model_module_version": "1.5.0",
          "model_name": "ProgressStyleModel",
          "state": {
            "_model_module": "@jupyter-widgets/controls",
            "_model_module_version": "1.5.0",
            "_model_name": "ProgressStyleModel",
            "_view_count": null,
            "_view_module": "@jupyter-widgets/base",
            "_view_module_version": "1.2.0",
            "_view_name": "StyleView",
            "bar_color": null,
            "description_width": ""
          }
        },
        "5b24f786201d45a4b9bd5eb7a242b03d": {
          "model_module": "@jupyter-widgets/controls",
          "model_module_version": "1.5.0",
          "model_name": "HTMLModel",
          "state": {
            "_dom_classes": [],
            "_model_module": "@jupyter-widgets/controls",
            "_model_module_version": "1.5.0",
            "_model_name": "HTMLModel",
            "_view_count": null,
            "_view_module": "@jupyter-widgets/controls",
            "_view_module_version": "1.5.0",
            "_view_name": "HTMLView",
            "description": "",
            "description_tooltip": null,
            "layout": "IPY_MODEL_b072c5f021aa4389ab7fb4fedd836330",
            "placeholder": "​",
            "style": "IPY_MODEL_2f0afd7524a047c4afc3b78cac46d42e",
            "value": "Downloading: 100%"
          }
        },
        "6f380d71c29343e2a74ddf9d0439a84f": {
          "model_module": "@jupyter-widgets/controls",
          "model_module_version": "1.5.0",
          "model_name": "HTMLModel",
          "state": {
            "_dom_classes": [],
            "_model_module": "@jupyter-widgets/controls",
            "_model_module_version": "1.5.0",
            "_model_name": "HTMLModel",
            "_view_count": null,
            "_view_module": "@jupyter-widgets/controls",
            "_view_module_version": "1.5.0",
            "_view_name": "HTMLView",
            "description": "",
            "description_tooltip": null,
            "layout": "IPY_MODEL_928493c695d447bdbd75c5b8d314060e",
            "placeholder": "​",
            "style": "IPY_MODEL_580c96eee0154a65a8f5e88a10971b3c",
            "value": " 466k/466k [00:00&lt;00:00, 838kB/s]"
          }
        },
        "738527ab3f094521af3f5a3354aaeef6": {
          "model_module": "@jupyter-widgets/controls",
          "model_module_version": "1.5.0",
          "model_name": "HBoxModel",
          "state": {
            "_dom_classes": [],
            "_model_module": "@jupyter-widgets/controls",
            "_model_module_version": "1.5.0",
            "_model_name": "HBoxModel",
            "_view_count": null,
            "_view_module": "@jupyter-widgets/controls",
            "_view_module_version": "1.5.0",
            "_view_name": "HBoxView",
            "box_style": "",
            "children": [
              "IPY_MODEL_5b24f786201d45a4b9bd5eb7a242b03d",
              "IPY_MODEL_a191033894a84879afe783e5f39fa558",
              "IPY_MODEL_82ab8cc68a18451f9e1ef0953976eaba"
            ],
            "layout": "IPY_MODEL_f5cde7c3dc544819bce64e9f8942f7dd"
          }
        },
        "79978a0566e8464491b0d1fb83b445fd": {
          "model_module": "@jupyter-widgets/base",
          "model_module_version": "1.2.0",
          "model_name": "LayoutModel",
          "state": {
            "_model_module": "@jupyter-widgets/base",
            "_model_module_version": "1.2.0",
            "_model_name": "LayoutModel",
            "_view_count": null,
            "_view_module": "@jupyter-widgets/base",
            "_view_module_version": "1.2.0",
            "_view_name": "LayoutView",
            "align_content": null,
            "align_items": null,
            "align_self": null,
            "border": null,
            "bottom": null,
            "display": null,
            "flex": null,
            "flex_flow": null,
            "grid_area": null,
            "grid_auto_columns": null,
            "grid_auto_flow": null,
            "grid_auto_rows": null,
            "grid_column": null,
            "grid_gap": null,
            "grid_row": null,
            "grid_template_areas": null,
            "grid_template_columns": null,
            "grid_template_rows": null,
            "height": null,
            "justify_content": null,
            "justify_items": null,
            "left": null,
            "margin": null,
            "max_height": null,
            "max_width": null,
            "min_height": null,
            "min_width": null,
            "object_fit": null,
            "object_position": null,
            "order": null,
            "overflow": null,
            "overflow_x": null,
            "overflow_y": null,
            "padding": null,
            "right": null,
            "top": null,
            "visibility": null,
            "width": null
          }
        },
        "7b42e47f581041a391bf456e31eef630": {
          "model_module": "@jupyter-widgets/controls",
          "model_module_version": "1.5.0",
          "model_name": "DescriptionStyleModel",
          "state": {
            "_model_module": "@jupyter-widgets/controls",
            "_model_module_version": "1.5.0",
            "_model_name": "DescriptionStyleModel",
            "_view_count": null,
            "_view_module": "@jupyter-widgets/base",
            "_view_module_version": "1.2.0",
            "_view_name": "StyleView",
            "description_width": ""
          }
        },
        "7bd8cc0aa9d14e2782e71da9689ca601": {
          "model_module": "@jupyter-widgets/controls",
          "model_module_version": "1.5.0",
          "model_name": "HTMLModel",
          "state": {
            "_dom_classes": [],
            "_model_module": "@jupyter-widgets/controls",
            "_model_module_version": "1.5.0",
            "_model_name": "HTMLModel",
            "_view_count": null,
            "_view_module": "@jupyter-widgets/controls",
            "_view_module_version": "1.5.0",
            "_view_name": "HTMLView",
            "description": "",
            "description_tooltip": null,
            "layout": "IPY_MODEL_32c7b94cc7674aa5995a9033cb51b91b",
            "placeholder": "​",
            "style": "IPY_MODEL_ef6b59faf4a34862b7ba16095397a1c7",
            "value": "Downloading: 100%"
          }
        },
        "82ab8cc68a18451f9e1ef0953976eaba": {
          "model_module": "@jupyter-widgets/controls",
          "model_module_version": "1.5.0",
          "model_name": "HTMLModel",
          "state": {
            "_dom_classes": [],
            "_model_module": "@jupyter-widgets/controls",
            "_model_module_version": "1.5.0",
            "_model_name": "HTMLModel",
            "_view_count": null,
            "_view_module": "@jupyter-widgets/controls",
            "_view_module_version": "1.5.0",
            "_view_name": "HTMLView",
            "description": "",
            "description_tooltip": null,
            "layout": "IPY_MODEL_33fb38542f1e409dbe9681fdbfcc7205",
            "placeholder": "​",
            "style": "IPY_MODEL_46b5d55bfbe342669595dc0a62bb24a8",
            "value": " 28.0/28.0 [00:00&lt;00:00, 691B/s]"
          }
        },
        "83dd25e3290f4efbb223f306ec3dea38": {
          "model_module": "@jupyter-widgets/controls",
          "model_module_version": "1.5.0",
          "model_name": "DescriptionStyleModel",
          "state": {
            "_model_module": "@jupyter-widgets/controls",
            "_model_module_version": "1.5.0",
            "_model_name": "DescriptionStyleModel",
            "_view_count": null,
            "_view_module": "@jupyter-widgets/base",
            "_view_module_version": "1.2.0",
            "_view_name": "StyleView",
            "description_width": ""
          }
        },
        "854cf075c116433693082d8b5bd0e386": {
          "model_module": "@jupyter-widgets/base",
          "model_module_version": "1.2.0",
          "model_name": "LayoutModel",
          "state": {
            "_model_module": "@jupyter-widgets/base",
            "_model_module_version": "1.2.0",
            "_model_name": "LayoutModel",
            "_view_count": null,
            "_view_module": "@jupyter-widgets/base",
            "_view_module_version": "1.2.0",
            "_view_name": "LayoutView",
            "align_content": null,
            "align_items": null,
            "align_self": null,
            "border": null,
            "bottom": null,
            "display": null,
            "flex": null,
            "flex_flow": null,
            "grid_area": null,
            "grid_auto_columns": null,
            "grid_auto_flow": null,
            "grid_auto_rows": null,
            "grid_column": null,
            "grid_gap": null,
            "grid_row": null,
            "grid_template_areas": null,
            "grid_template_columns": null,
            "grid_template_rows": null,
            "height": null,
            "justify_content": null,
            "justify_items": null,
            "left": null,
            "margin": null,
            "max_height": null,
            "max_width": null,
            "min_height": null,
            "min_width": null,
            "object_fit": null,
            "object_position": null,
            "order": null,
            "overflow": null,
            "overflow_x": null,
            "overflow_y": null,
            "padding": null,
            "right": null,
            "top": null,
            "visibility": null,
            "width": null
          }
        },
        "868d62fe744d41b78fed5082f8b3327d": {
          "model_module": "@jupyter-widgets/controls",
          "model_module_version": "1.5.0",
          "model_name": "HTMLModel",
          "state": {
            "_dom_classes": [],
            "_model_module": "@jupyter-widgets/controls",
            "_model_module_version": "1.5.0",
            "_model_name": "HTMLModel",
            "_view_count": null,
            "_view_module": "@jupyter-widgets/controls",
            "_view_module_version": "1.5.0",
            "_view_name": "HTMLView",
            "description": "",
            "description_tooltip": null,
            "layout": "IPY_MODEL_1095098ec87646d28472aa7d586fcef9",
            "placeholder": "​",
            "style": "IPY_MODEL_7b42e47f581041a391bf456e31eef630",
            "value": "Downloading: 100%"
          }
        },
        "878148339b4b49dd89387fab5cb16690": {
          "model_module": "@jupyter-widgets/controls",
          "model_module_version": "1.5.0",
          "model_name": "HBoxModel",
          "state": {
            "_dom_classes": [],
            "_model_module": "@jupyter-widgets/controls",
            "_model_module_version": "1.5.0",
            "_model_name": "HBoxModel",
            "_view_count": null,
            "_view_module": "@jupyter-widgets/controls",
            "_view_module_version": "1.5.0",
            "_view_name": "HBoxView",
            "box_style": "",
            "children": [
              "IPY_MODEL_7bd8cc0aa9d14e2782e71da9689ca601",
              "IPY_MODEL_8bb1cadac68a45f8bc3704a82ed8953e",
              "IPY_MODEL_6f380d71c29343e2a74ddf9d0439a84f"
            ],
            "layout": "IPY_MODEL_3b9e9c1bb89a47d28b714eb3a1b31733"
          }
        },
        "8ab7be23a89a4ef895fbdb56bb8ee5e2": {
          "model_module": "@jupyter-widgets/base",
          "model_module_version": "1.2.0",
          "model_name": "LayoutModel",
          "state": {
            "_model_module": "@jupyter-widgets/base",
            "_model_module_version": "1.2.0",
            "_model_name": "LayoutModel",
            "_view_count": null,
            "_view_module": "@jupyter-widgets/base",
            "_view_module_version": "1.2.0",
            "_view_name": "LayoutView",
            "align_content": null,
            "align_items": null,
            "align_self": null,
            "border": null,
            "bottom": null,
            "display": null,
            "flex": null,
            "flex_flow": null,
            "grid_area": null,
            "grid_auto_columns": null,
            "grid_auto_flow": null,
            "grid_auto_rows": null,
            "grid_column": null,
            "grid_gap": null,
            "grid_row": null,
            "grid_template_areas": null,
            "grid_template_columns": null,
            "grid_template_rows": null,
            "height": null,
            "justify_content": null,
            "justify_items": null,
            "left": null,
            "margin": null,
            "max_height": null,
            "max_width": null,
            "min_height": null,
            "min_width": null,
            "object_fit": null,
            "object_position": null,
            "order": null,
            "overflow": null,
            "overflow_x": null,
            "overflow_y": null,
            "padding": null,
            "right": null,
            "top": null,
            "visibility": null,
            "width": null
          }
        },
        "8bb1cadac68a45f8bc3704a82ed8953e": {
          "model_module": "@jupyter-widgets/controls",
          "model_module_version": "1.5.0",
          "model_name": "FloatProgressModel",
          "state": {
            "_dom_classes": [],
            "_model_module": "@jupyter-widgets/controls",
            "_model_module_version": "1.5.0",
            "_model_name": "FloatProgressModel",
            "_view_count": null,
            "_view_module": "@jupyter-widgets/controls",
            "_view_module_version": "1.5.0",
            "_view_name": "ProgressView",
            "bar_style": "success",
            "description": "",
            "description_tooltip": null,
            "layout": "IPY_MODEL_b4c33941569441388589114ad20ba0a9",
            "max": 466062,
            "min": 0,
            "orientation": "horizontal",
            "style": "IPY_MODEL_30d38b76ddec4ee78aa62d5056ed4ad8",
            "value": 466062
          }
        },
        "928493c695d447bdbd75c5b8d314060e": {
          "model_module": "@jupyter-widgets/base",
          "model_module_version": "1.2.0",
          "model_name": "LayoutModel",
          "state": {
            "_model_module": "@jupyter-widgets/base",
            "_model_module_version": "1.2.0",
            "_model_name": "LayoutModel",
            "_view_count": null,
            "_view_module": "@jupyter-widgets/base",
            "_view_module_version": "1.2.0",
            "_view_name": "LayoutView",
            "align_content": null,
            "align_items": null,
            "align_self": null,
            "border": null,
            "bottom": null,
            "display": null,
            "flex": null,
            "flex_flow": null,
            "grid_area": null,
            "grid_auto_columns": null,
            "grid_auto_flow": null,
            "grid_auto_rows": null,
            "grid_column": null,
            "grid_gap": null,
            "grid_row": null,
            "grid_template_areas": null,
            "grid_template_columns": null,
            "grid_template_rows": null,
            "height": null,
            "justify_content": null,
            "justify_items": null,
            "left": null,
            "margin": null,
            "max_height": null,
            "max_width": null,
            "min_height": null,
            "min_width": null,
            "object_fit": null,
            "object_position": null,
            "order": null,
            "overflow": null,
            "overflow_x": null,
            "overflow_y": null,
            "padding": null,
            "right": null,
            "top": null,
            "visibility": null,
            "width": null
          }
        },
        "935227494d4b4f3b9a33135e00466557": {
          "model_module": "@jupyter-widgets/base",
          "model_module_version": "1.2.0",
          "model_name": "LayoutModel",
          "state": {
            "_model_module": "@jupyter-widgets/base",
            "_model_module_version": "1.2.0",
            "_model_name": "LayoutModel",
            "_view_count": null,
            "_view_module": "@jupyter-widgets/base",
            "_view_module_version": "1.2.0",
            "_view_name": "LayoutView",
            "align_content": null,
            "align_items": null,
            "align_self": null,
            "border": null,
            "bottom": null,
            "display": null,
            "flex": null,
            "flex_flow": null,
            "grid_area": null,
            "grid_auto_columns": null,
            "grid_auto_flow": null,
            "grid_auto_rows": null,
            "grid_column": null,
            "grid_gap": null,
            "grid_row": null,
            "grid_template_areas": null,
            "grid_template_columns": null,
            "grid_template_rows": null,
            "height": null,
            "justify_content": null,
            "justify_items": null,
            "left": null,
            "margin": null,
            "max_height": null,
            "max_width": null,
            "min_height": null,
            "min_width": null,
            "object_fit": null,
            "object_position": null,
            "order": null,
            "overflow": null,
            "overflow_x": null,
            "overflow_y": null,
            "padding": null,
            "right": null,
            "top": null,
            "visibility": null,
            "width": null
          }
        },
        "978f683869ef40c7a5d16c54c268a231": {
          "model_module": "@jupyter-widgets/controls",
          "model_module_version": "1.5.0",
          "model_name": "HBoxModel",
          "state": {
            "_dom_classes": [],
            "_model_module": "@jupyter-widgets/controls",
            "_model_module_version": "1.5.0",
            "_model_name": "HBoxModel",
            "_view_count": null,
            "_view_module": "@jupyter-widgets/controls",
            "_view_module_version": "1.5.0",
            "_view_name": "HBoxView",
            "box_style": "",
            "children": [
              "IPY_MODEL_ee3bea2b8b4641018011448a7d7bd213",
              "IPY_MODEL_c17cdfb3f15848adaff692d7a290df2c",
              "IPY_MODEL_1246099ad4864c1fb23f44eefa648f84"
            ],
            "layout": "IPY_MODEL_daad2a1a513043db8f1f47a0b7de6b88"
          }
        },
        "984f035700c34bffb2d75efa59287d17": {
          "model_module": "@jupyter-widgets/controls",
          "model_module_version": "1.5.0",
          "model_name": "DescriptionStyleModel",
          "state": {
            "_model_module": "@jupyter-widgets/controls",
            "_model_module_version": "1.5.0",
            "_model_name": "DescriptionStyleModel",
            "_view_count": null,
            "_view_module": "@jupyter-widgets/base",
            "_view_module_version": "1.2.0",
            "_view_name": "StyleView",
            "description_width": ""
          }
        },
        "9ad8338c07eb4b66beb0050d25b6d106": {
          "model_module": "@jupyter-widgets/controls",
          "model_module_version": "1.5.0",
          "model_name": "ProgressStyleModel",
          "state": {
            "_model_module": "@jupyter-widgets/controls",
            "_model_module_version": "1.5.0",
            "_model_name": "ProgressStyleModel",
            "_view_count": null,
            "_view_module": "@jupyter-widgets/base",
            "_view_module_version": "1.2.0",
            "_view_name": "StyleView",
            "bar_color": null,
            "description_width": ""
          }
        },
        "a191033894a84879afe783e5f39fa558": {
          "model_module": "@jupyter-widgets/controls",
          "model_module_version": "1.5.0",
          "model_name": "FloatProgressModel",
          "state": {
            "_dom_classes": [],
            "_model_module": "@jupyter-widgets/controls",
            "_model_module_version": "1.5.0",
            "_model_name": "FloatProgressModel",
            "_view_count": null,
            "_view_module": "@jupyter-widgets/controls",
            "_view_module_version": "1.5.0",
            "_view_name": "ProgressView",
            "bar_style": "success",
            "description": "",
            "description_tooltip": null,
            "layout": "IPY_MODEL_238f9c918efe425fb99cef92d57d70cc",
            "max": 28,
            "min": 0,
            "orientation": "horizontal",
            "style": "IPY_MODEL_c35a60a9fc2a4b788981a181eb58fd19",
            "value": 28
          }
        },
        "b072c5f021aa4389ab7fb4fedd836330": {
          "model_module": "@jupyter-widgets/base",
          "model_module_version": "1.2.0",
          "model_name": "LayoutModel",
          "state": {
            "_model_module": "@jupyter-widgets/base",
            "_model_module_version": "1.2.0",
            "_model_name": "LayoutModel",
            "_view_count": null,
            "_view_module": "@jupyter-widgets/base",
            "_view_module_version": "1.2.0",
            "_view_name": "LayoutView",
            "align_content": null,
            "align_items": null,
            "align_self": null,
            "border": null,
            "bottom": null,
            "display": null,
            "flex": null,
            "flex_flow": null,
            "grid_area": null,
            "grid_auto_columns": null,
            "grid_auto_flow": null,
            "grid_auto_rows": null,
            "grid_column": null,
            "grid_gap": null,
            "grid_row": null,
            "grid_template_areas": null,
            "grid_template_columns": null,
            "grid_template_rows": null,
            "height": null,
            "justify_content": null,
            "justify_items": null,
            "left": null,
            "margin": null,
            "max_height": null,
            "max_width": null,
            "min_height": null,
            "min_width": null,
            "object_fit": null,
            "object_position": null,
            "order": null,
            "overflow": null,
            "overflow_x": null,
            "overflow_y": null,
            "padding": null,
            "right": null,
            "top": null,
            "visibility": null,
            "width": null
          }
        },
        "b4c33941569441388589114ad20ba0a9": {
          "model_module": "@jupyter-widgets/base",
          "model_module_version": "1.2.0",
          "model_name": "LayoutModel",
          "state": {
            "_model_module": "@jupyter-widgets/base",
            "_model_module_version": "1.2.0",
            "_model_name": "LayoutModel",
            "_view_count": null,
            "_view_module": "@jupyter-widgets/base",
            "_view_module_version": "1.2.0",
            "_view_name": "LayoutView",
            "align_content": null,
            "align_items": null,
            "align_self": null,
            "border": null,
            "bottom": null,
            "display": null,
            "flex": null,
            "flex_flow": null,
            "grid_area": null,
            "grid_auto_columns": null,
            "grid_auto_flow": null,
            "grid_auto_rows": null,
            "grid_column": null,
            "grid_gap": null,
            "grid_row": null,
            "grid_template_areas": null,
            "grid_template_columns": null,
            "grid_template_rows": null,
            "height": null,
            "justify_content": null,
            "justify_items": null,
            "left": null,
            "margin": null,
            "max_height": null,
            "max_width": null,
            "min_height": null,
            "min_width": null,
            "object_fit": null,
            "object_position": null,
            "order": null,
            "overflow": null,
            "overflow_x": null,
            "overflow_y": null,
            "padding": null,
            "right": null,
            "top": null,
            "visibility": null,
            "width": null
          }
        },
        "ba6f33592aeb4837b38306453187152d": {
          "model_module": "@jupyter-widgets/base",
          "model_module_version": "1.2.0",
          "model_name": "LayoutModel",
          "state": {
            "_model_module": "@jupyter-widgets/base",
            "_model_module_version": "1.2.0",
            "_model_name": "LayoutModel",
            "_view_count": null,
            "_view_module": "@jupyter-widgets/base",
            "_view_module_version": "1.2.0",
            "_view_name": "LayoutView",
            "align_content": null,
            "align_items": null,
            "align_self": null,
            "border": null,
            "bottom": null,
            "display": null,
            "flex": null,
            "flex_flow": null,
            "grid_area": null,
            "grid_auto_columns": null,
            "grid_auto_flow": null,
            "grid_auto_rows": null,
            "grid_column": null,
            "grid_gap": null,
            "grid_row": null,
            "grid_template_areas": null,
            "grid_template_columns": null,
            "grid_template_rows": null,
            "height": null,
            "justify_content": null,
            "justify_items": null,
            "left": null,
            "margin": null,
            "max_height": null,
            "max_width": null,
            "min_height": null,
            "min_width": null,
            "object_fit": null,
            "object_position": null,
            "order": null,
            "overflow": null,
            "overflow_x": null,
            "overflow_y": null,
            "padding": null,
            "right": null,
            "top": null,
            "visibility": null,
            "width": null
          }
        },
        "c17cdfb3f15848adaff692d7a290df2c": {
          "model_module": "@jupyter-widgets/controls",
          "model_module_version": "1.5.0",
          "model_name": "FloatProgressModel",
          "state": {
            "_dom_classes": [],
            "_model_module": "@jupyter-widgets/controls",
            "_model_module_version": "1.5.0",
            "_model_name": "FloatProgressModel",
            "_view_count": null,
            "_view_module": "@jupyter-widgets/controls",
            "_view_module_version": "1.5.0",
            "_view_name": "ProgressView",
            "bar_style": "success",
            "description": "",
            "description_tooltip": null,
            "layout": "IPY_MODEL_e2e039cdb5c245a698f168fadc9479aa",
            "max": 231508,
            "min": 0,
            "orientation": "horizontal",
            "style": "IPY_MODEL_4e3016f22aa74df99e790c8f00a0336f",
            "value": 231508
          }
        },
        "c35a60a9fc2a4b788981a181eb58fd19": {
          "model_module": "@jupyter-widgets/controls",
          "model_module_version": "1.5.0",
          "model_name": "ProgressStyleModel",
          "state": {
            "_model_module": "@jupyter-widgets/controls",
            "_model_module_version": "1.5.0",
            "_model_name": "ProgressStyleModel",
            "_view_count": null,
            "_view_module": "@jupyter-widgets/base",
            "_view_module_version": "1.2.0",
            "_view_name": "StyleView",
            "bar_color": null,
            "description_width": ""
          }
        },
        "c7ed57b80ad24cc68a3bb73d7f0147bc": {
          "model_module": "@jupyter-widgets/base",
          "model_module_version": "1.2.0",
          "model_name": "LayoutModel",
          "state": {
            "_model_module": "@jupyter-widgets/base",
            "_model_module_version": "1.2.0",
            "_model_name": "LayoutModel",
            "_view_count": null,
            "_view_module": "@jupyter-widgets/base",
            "_view_module_version": "1.2.0",
            "_view_name": "LayoutView",
            "align_content": null,
            "align_items": null,
            "align_self": null,
            "border": null,
            "bottom": null,
            "display": null,
            "flex": null,
            "flex_flow": null,
            "grid_area": null,
            "grid_auto_columns": null,
            "grid_auto_flow": null,
            "grid_auto_rows": null,
            "grid_column": null,
            "grid_gap": null,
            "grid_row": null,
            "grid_template_areas": null,
            "grid_template_columns": null,
            "grid_template_rows": null,
            "height": null,
            "justify_content": null,
            "justify_items": null,
            "left": null,
            "margin": null,
            "max_height": null,
            "max_width": null,
            "min_height": null,
            "min_width": null,
            "object_fit": null,
            "object_position": null,
            "order": null,
            "overflow": null,
            "overflow_x": null,
            "overflow_y": null,
            "padding": null,
            "right": null,
            "top": null,
            "visibility": null,
            "width": null
          }
        },
        "daad2a1a513043db8f1f47a0b7de6b88": {
          "model_module": "@jupyter-widgets/base",
          "model_module_version": "1.2.0",
          "model_name": "LayoutModel",
          "state": {
            "_model_module": "@jupyter-widgets/base",
            "_model_module_version": "1.2.0",
            "_model_name": "LayoutModel",
            "_view_count": null,
            "_view_module": "@jupyter-widgets/base",
            "_view_module_version": "1.2.0",
            "_view_name": "LayoutView",
            "align_content": null,
            "align_items": null,
            "align_self": null,
            "border": null,
            "bottom": null,
            "display": null,
            "flex": null,
            "flex_flow": null,
            "grid_area": null,
            "grid_auto_columns": null,
            "grid_auto_flow": null,
            "grid_auto_rows": null,
            "grid_column": null,
            "grid_gap": null,
            "grid_row": null,
            "grid_template_areas": null,
            "grid_template_columns": null,
            "grid_template_rows": null,
            "height": null,
            "justify_content": null,
            "justify_items": null,
            "left": null,
            "margin": null,
            "max_height": null,
            "max_width": null,
            "min_height": null,
            "min_width": null,
            "object_fit": null,
            "object_position": null,
            "order": null,
            "overflow": null,
            "overflow_x": null,
            "overflow_y": null,
            "padding": null,
            "right": null,
            "top": null,
            "visibility": null,
            "width": null
          }
        },
        "e2e039cdb5c245a698f168fadc9479aa": {
          "model_module": "@jupyter-widgets/base",
          "model_module_version": "1.2.0",
          "model_name": "LayoutModel",
          "state": {
            "_model_module": "@jupyter-widgets/base",
            "_model_module_version": "1.2.0",
            "_model_name": "LayoutModel",
            "_view_count": null,
            "_view_module": "@jupyter-widgets/base",
            "_view_module_version": "1.2.0",
            "_view_name": "LayoutView",
            "align_content": null,
            "align_items": null,
            "align_self": null,
            "border": null,
            "bottom": null,
            "display": null,
            "flex": null,
            "flex_flow": null,
            "grid_area": null,
            "grid_auto_columns": null,
            "grid_auto_flow": null,
            "grid_auto_rows": null,
            "grid_column": null,
            "grid_gap": null,
            "grid_row": null,
            "grid_template_areas": null,
            "grid_template_columns": null,
            "grid_template_rows": null,
            "height": null,
            "justify_content": null,
            "justify_items": null,
            "left": null,
            "margin": null,
            "max_height": null,
            "max_width": null,
            "min_height": null,
            "min_width": null,
            "object_fit": null,
            "object_position": null,
            "order": null,
            "overflow": null,
            "overflow_x": null,
            "overflow_y": null,
            "padding": null,
            "right": null,
            "top": null,
            "visibility": null,
            "width": null
          }
        },
        "e5f7ce13900146ce862184ad64d97539": {
          "model_module": "@jupyter-widgets/controls",
          "model_module_version": "1.5.0",
          "model_name": "DescriptionStyleModel",
          "state": {
            "_model_module": "@jupyter-widgets/controls",
            "_model_module_version": "1.5.0",
            "_model_name": "DescriptionStyleModel",
            "_view_count": null,
            "_view_module": "@jupyter-widgets/base",
            "_view_module_version": "1.2.0",
            "_view_name": "StyleView",
            "description_width": ""
          }
        },
        "ea1f1db218744eaa9f3225127b21cfe1": {
          "model_module": "@jupyter-widgets/controls",
          "model_module_version": "1.5.0",
          "model_name": "HBoxModel",
          "state": {
            "_dom_classes": [],
            "_model_module": "@jupyter-widgets/controls",
            "_model_module_version": "1.5.0",
            "_model_name": "HBoxModel",
            "_view_count": null,
            "_view_module": "@jupyter-widgets/controls",
            "_view_module_version": "1.5.0",
            "_view_name": "HBoxView",
            "box_style": "",
            "children": [
              "IPY_MODEL_3d1f0f1104fd4aefb6a7821b9f3c958e",
              "IPY_MODEL_3cc682faaeba44e59e6a7d9f4b946603",
              "IPY_MODEL_0aa3b3e4c4224a6ca1b299b634eb8b2c"
            ],
            "layout": "IPY_MODEL_c7ed57b80ad24cc68a3bb73d7f0147bc"
          }
        },
        "ee3bea2b8b4641018011448a7d7bd213": {
          "model_module": "@jupyter-widgets/controls",
          "model_module_version": "1.5.0",
          "model_name": "HTMLModel",
          "state": {
            "_dom_classes": [],
            "_model_module": "@jupyter-widgets/controls",
            "_model_module_version": "1.5.0",
            "_model_name": "HTMLModel",
            "_view_count": null,
            "_view_module": "@jupyter-widgets/controls",
            "_view_module_version": "1.5.0",
            "_view_name": "HTMLView",
            "description": "",
            "description_tooltip": null,
            "layout": "IPY_MODEL_39b6872b8ebd4f0a95f101e294f60124",
            "placeholder": "​",
            "style": "IPY_MODEL_e5f7ce13900146ce862184ad64d97539",
            "value": "Downloading: 100%"
          }
        },
        "ef6b59faf4a34862b7ba16095397a1c7": {
          "model_module": "@jupyter-widgets/controls",
          "model_module_version": "1.5.0",
          "model_name": "DescriptionStyleModel",
          "state": {
            "_model_module": "@jupyter-widgets/controls",
            "_model_module_version": "1.5.0",
            "_model_name": "DescriptionStyleModel",
            "_view_count": null,
            "_view_module": "@jupyter-widgets/base",
            "_view_module_version": "1.2.0",
            "_view_name": "StyleView",
            "description_width": ""
          }
        },
        "f5cde7c3dc544819bce64e9f8942f7dd": {
          "model_module": "@jupyter-widgets/base",
          "model_module_version": "1.2.0",
          "model_name": "LayoutModel",
          "state": {
            "_model_module": "@jupyter-widgets/base",
            "_model_module_version": "1.2.0",
            "_model_name": "LayoutModel",
            "_view_count": null,
            "_view_module": "@jupyter-widgets/base",
            "_view_module_version": "1.2.0",
            "_view_name": "LayoutView",
            "align_content": null,
            "align_items": null,
            "align_self": null,
            "border": null,
            "bottom": null,
            "display": null,
            "flex": null,
            "flex_flow": null,
            "grid_area": null,
            "grid_auto_columns": null,
            "grid_auto_flow": null,
            "grid_auto_rows": null,
            "grid_column": null,
            "grid_gap": null,
            "grid_row": null,
            "grid_template_areas": null,
            "grid_template_columns": null,
            "grid_template_rows": null,
            "height": null,
            "justify_content": null,
            "justify_items": null,
            "left": null,
            "margin": null,
            "max_height": null,
            "max_width": null,
            "min_height": null,
            "min_width": null,
            "object_fit": null,
            "object_position": null,
            "order": null,
            "overflow": null,
            "overflow_x": null,
            "overflow_y": null,
            "padding": null,
            "right": null,
            "top": null,
            "visibility": null,
            "width": null
          }
        },
        "fcbea45ea43349b99bc4a0d40150abe4": {
          "model_module": "@jupyter-widgets/base",
          "model_module_version": "1.2.0",
          "model_name": "LayoutModel",
          "state": {
            "_model_module": "@jupyter-widgets/base",
            "_model_module_version": "1.2.0",
            "_model_name": "LayoutModel",
            "_view_count": null,
            "_view_module": "@jupyter-widgets/base",
            "_view_module_version": "1.2.0",
            "_view_name": "LayoutView",
            "align_content": null,
            "align_items": null,
            "align_self": null,
            "border": null,
            "bottom": null,
            "display": null,
            "flex": null,
            "flex_flow": null,
            "grid_area": null,
            "grid_auto_columns": null,
            "grid_auto_flow": null,
            "grid_auto_rows": null,
            "grid_column": null,
            "grid_gap": null,
            "grid_row": null,
            "grid_template_areas": null,
            "grid_template_columns": null,
            "grid_template_rows": null,
            "height": null,
            "justify_content": null,
            "justify_items": null,
            "left": null,
            "margin": null,
            "max_height": null,
            "max_width": null,
            "min_height": null,
            "min_width": null,
            "object_fit": null,
            "object_position": null,
            "order": null,
            "overflow": null,
            "overflow_x": null,
            "overflow_y": null,
            "padding": null,
            "right": null,
            "top": null,
            "visibility": null,
            "width": null
          }
        }
      }
    }
  },
  "nbformat": 4,
  "nbformat_minor": 0
}